{
 "cells": [
  {
   "cell_type": "code",
   "execution_count": 66,
   "metadata": {
    "collapsed": true,
    "pycharm": {
     "name": "#%%\n"
    }
   },
   "outputs": [],
   "source": [
    "import time\n",
    "import faker\n",
    "\n",
    "import pandas as pd\n",
    "import numpy as np\n",
    "\n",
    "import seaborn as sns\n",
    "from plotly.subplots import make_subplots\n",
    "import plotly.express as px\n",
    "import plotly.graph_objects as go\n",
    "import matplotlib.pyplot as plt\n",
    "\n",
    "from tqdm import tqdm\n",
    "import glob\n",
    "import requests\n",
    "from collections import Counter\n",
    "from concurrent.futures import ThreadPoolExecutor\n",
    "from multiprocessing import  Pool"
   ]
  },
  {
   "cell_type": "code",
   "execution_count": 67,
   "outputs": [],
   "source": [
    "import re\n",
    "import gcld3"
   ],
   "metadata": {
    "collapsed": false,
    "pycharm": {
     "name": "#%%\n"
    }
   }
  },
  {
   "cell_type": "code",
   "execution_count": 198,
   "outputs": [],
   "source": [
    "from googletrans import Translator\n",
    "from googletrans.client import Timeout"
   ],
   "metadata": {
    "collapsed": false,
    "pycharm": {
     "name": "#%%\n"
    }
   }
  },
  {
   "cell_type": "code",
   "execution_count": 250,
   "outputs": [],
   "source": [
    "tqdm.pandas()"
   ],
   "metadata": {
    "collapsed": false,
    "pycharm": {
     "name": "#%%\n"
    }
   }
  },
  {
   "cell_type": "code",
   "execution_count": 69,
   "outputs": [],
   "source": [
    "fake = faker.Faker(locale='en')"
   ],
   "metadata": {
    "collapsed": false,
    "pycharm": {
     "name": "#%%\n"
    }
   }
  },
  {
   "cell_type": "code",
   "execution_count": 70,
   "outputs": [],
   "source": [
    "lang_detector = gcld3.NNetLanguageIdentifier(min_num_bytes=0, max_num_bytes=800)"
   ],
   "metadata": {
    "collapsed": false,
    "pycharm": {
     "name": "#%%\n"
    }
   }
  },
  {
   "cell_type": "markdown",
   "source": [
    "## Clearing of all csv's, drop duplicates and full nans"
   ],
   "metadata": {
    "collapsed": false,
    "pycharm": {
     "name": "#%% md\n"
    }
   }
  },
  {
   "cell_type": "code",
   "execution_count": 166,
   "outputs": [],
   "source": [
    "clear_string = lambda x: re.sub(' +', ' ',\n",
    "                                re.sub('https?:\\/\\/.+\\s', ' [URL] ',\n",
    "                                       re.sub('<.*?>', ' ', str(x))\n",
    "                                       .replace(\"&nbsp;\", \"\")\n",
    "                                       .replace(\"&rsquo;\", \"'\")\n",
    "                                       .replace(\"&amp;\", \"&\")\n",
    "                                       .replace(\"\\u202f\", \" \")\n",
    "                                       .replace(\"\\xa0\", \" \")\n",
    "                                       .replace(\"&mdash;\", \"-\")\n",
    "                                       .replace('.', '. ')\n",
    "                                       .replace('\\t', ' ')\n",
    "                                       .replace(\"•\", \"-\")\n",
    "                                       .replace(\"·\", \"-\")\n",
    "                                       .replace(\"●\", \"-\")\n",
    "                                       .replace('\\n', ' ')\n",
    "                                       ).replace('/', ' / ').replace('\\\\', ' \\ ').replace('|', ' | ')\n",
    "                                ).strip()"
   ],
   "metadata": {
    "collapsed": false,
    "pycharm": {
     "name": "#%%\n"
    }
   }
  },
  {
   "cell_type": "code",
   "execution_count": 167,
   "outputs": [
    {
     "data": {
      "text/plain": "12"
     },
     "execution_count": 167,
     "metadata": {},
     "output_type": "execute_result"
    }
   ],
   "source": [
    "csv_files = glob.glob('../data/*/*.csv')\n",
    "len(csv_files)"
   ],
   "metadata": {
    "collapsed": false,
    "pycharm": {
     "name": "#%%\n"
    }
   }
  },
  {
   "cell_type": "code",
   "execution_count": 168,
   "outputs": [
    {
     "name": "stderr",
     "output_type": "stream",
     "text": [
      "100%|██████████| 12/12 [00:20<00:00,  1.73s/it]\n"
     ]
    }
   ],
   "source": [
    "for file in tqdm(csv_files):\n",
    "       file_name = file.rsplit('.', 1)[0]\n",
    "       compnany_name = file.split('/')[2]\n",
    "       df = pd.read_csv(file, index_col=0, lineterminator='\\n')\n",
    "\n",
    "       df['title'] = df['title'].apply(clear_string)\n",
    "       df['description'] = df['description'].fillna('N/A').apply(clear_string)\n",
    "       df['responsibilities'] = df['responsibilities'].fillna('N/A').apply(clear_string)\n",
    "       df['qualifications'] = df['qualifications'].fillna('N/A').apply(clear_string)\n",
    "\n",
    "       df.replace('N / A', None, inplace=True)\n",
    "       df.drop_duplicates(subset=['title', 'description', 'responsibilities', 'qualifications'], inplace=True)\n",
    "       df.dropna(subset=['description', 'responsibilities', 'qualifications'], how='all', inplace=True)\n",
    "\n",
    "       df.to_csv(file_name + '.csv', line_terminator='\\n')\n",
    "       df.to_excel(file_name + '.xlsx', engine='xlsxwriter')"
   ],
   "metadata": {
    "collapsed": false,
    "pycharm": {
     "name": "#%%\n"
    }
   }
  },
  {
   "cell_type": "markdown",
   "source": [
    "## Merging in one DF"
   ],
   "metadata": {
    "collapsed": false,
    "pycharm": {
     "name": "#%% md\n"
    }
   }
  },
  {
   "cell_type": "code",
   "execution_count": 169,
   "outputs": [],
   "source": [
    "skip_companies_for_erge = ['alibaba']"
   ],
   "metadata": {
    "collapsed": false,
    "pycharm": {
     "name": "#%%\n"
    }
   }
  },
  {
   "cell_type": "code",
   "execution_count": 170,
   "outputs": [
    {
     "name": "stderr",
     "output_type": "stream",
     "text": [
      "100%|██████████| 12/12 [00:00<00:00, 12.04it/s]\n"
     ]
    },
    {
     "name": "stdout",
     "output_type": "stream",
     "text": [
      "<class 'pandas.core.frame.DataFrame'>\n",
      "Int64Index: 38767 entries, 0 to 9042\n",
      "Data columns (total 6 columns):\n",
      " #   Column            Non-Null Count  Dtype \n",
      "---  ------            --------------  ----- \n",
      " 0   title             38767 non-null  object\n",
      " 1   description       35989 non-null  object\n",
      " 2   responsibilities  30618 non-null  object\n",
      " 3   qualifications    38750 non-null  object\n",
      " 4   company           38767 non-null  object\n",
      " 5   publish_date      37983 non-null  object\n",
      "dtypes: object(6)\n",
      "memory usage: 2.1+ MB\n"
     ]
    }
   ],
   "source": [
    "data_frames = []\n",
    "for file in tqdm(csv_files):\n",
    "    file_name = file.rsplit('.', 1)[0]\n",
    "    compnany_name = file.split('/')[2]\n",
    "\n",
    "    df = pd.read_csv(file, index_col=0, lineterminator='\\n')\n",
    "\n",
    "    if compnany_name not in skip_companies_for_erge:\n",
    "        data_frames.append(df[['title', 'description', 'responsibilities', 'qualifications', 'company' ,'publish_date']])\n",
    "\n",
    "merged_dataset = pd.concat(data_frames)\n",
    "merged_dataset.info()"
   ],
   "metadata": {
    "collapsed": false,
    "pycharm": {
     "name": "#%%\n"
    }
   }
  },
  {
   "cell_type": "code",
   "execution_count": 173,
   "outputs": [
    {
     "data": {
      "text/plain": "Amazon          8061\nApple           7799\nMicrosoft       7386\nIBM             6455\nGoogle          4566\nTencent         1839\nYandex           784\nSber             767\nHuawei           594\nYouTube          230\nTinkoff          154\nFitbit            91\nDeepMind          40\nGoogle Fiber       1\nName: company, dtype: int64"
     },
     "execution_count": 173,
     "metadata": {},
     "output_type": "execute_result"
    }
   ],
   "source": [
    "merged_dataset['company'].value_counts()"
   ],
   "metadata": {
    "collapsed": false,
    "pycharm": {
     "name": "#%%\n"
    }
   }
  },
  {
   "cell_type": "code",
   "execution_count": 174,
   "outputs": [],
   "source": [
    "nan_replaced = merged_dataset.fillna('')\n",
    "merged_dataset['merged_info'] = nan_replaced['title']+ ' ; ' + nan_replaced['description'] + ' ; ' + nan_replaced['responsibilities'] + ' | ' + nan_replaced['qualifications']"
   ],
   "metadata": {
    "collapsed": false,
    "pycharm": {
     "name": "#%%\n"
    }
   }
  },
  {
   "cell_type": "code",
   "execution_count": 175,
   "outputs": [
    {
     "data": {
      "text/plain": "                                                  title  \\\n5021                     Graphics Verification Engineer   \n8124  Software Development Engineer, Customer Engage...   \n795                              Data Center Technician   \n488   Account Manager, Mid-Market Sales, Google Cust...   \n3966  ISE, Special Projects - Incubation Designer (C...   \n\n                                            description  \\\n5021  Do you love creating elegant solutions to high...   \n8124  Job summary Do you want to be a part of the te...   \n795   Google isn't just a software company. The Hard...   \n488   Businesses that partner with Google come in al...   \n3966  Are you passionate about user experience? Do y...   \n\n                                       responsibilities  \\\n5021  Develop verification plans in coordination wit...   \n8124                                                NaN   \n795   Contribute to and lead efforts / projects in t...   \n488   Manage a portfolio of Google Ads accounts by u...   \n3966  We are looking for an extraordinary hands-on d...   \n\n                                         qualifications company  \\\n5021  Proficiency in C++ and / or SystemVerilog in a...   Apple   \n8124  Programming experience with at least one moder...  Amazon   \n795   Minimum qualifications: Experience working wit...  Google   \n488   Minimum qualifications: Bachelor's degree or e...  Google   \n3966  5+ years of professional work experienceAn exc...   Apple   \n\n                          publish_date  \\\n5021                        2022-04-25   \n8124                        2022-06-21   \n795   2022-06-27 15:31:47.271000+00:00   \n488   2022-06-29 16:32:04.797000+00:00   \n3966                        2022-05-16   \n\n                                            merged_info  \n5021  Graphics Verification Engineer ; Do you love c...  \n8124  Software Development Engineer, Customer Engage...  \n795   Data Center Technician ; Google isn't just a s...  \n488   Account Manager, Mid-Market Sales, Google Cust...  \n3966  ISE, Special Projects - Incubation Designer (C...  ",
      "text/html": "<div>\n<style scoped>\n    .dataframe tbody tr th:only-of-type {\n        vertical-align: middle;\n    }\n\n    .dataframe tbody tr th {\n        vertical-align: top;\n    }\n\n    .dataframe thead th {\n        text-align: right;\n    }\n</style>\n<table border=\"1\" class=\"dataframe\">\n  <thead>\n    <tr style=\"text-align: right;\">\n      <th></th>\n      <th>title</th>\n      <th>description</th>\n      <th>responsibilities</th>\n      <th>qualifications</th>\n      <th>company</th>\n      <th>publish_date</th>\n      <th>merged_info</th>\n    </tr>\n  </thead>\n  <tbody>\n    <tr>\n      <th>5021</th>\n      <td>Graphics Verification Engineer</td>\n      <td>Do you love creating elegant solutions to high...</td>\n      <td>Develop verification plans in coordination wit...</td>\n      <td>Proficiency in C++ and / or SystemVerilog in a...</td>\n      <td>Apple</td>\n      <td>2022-04-25</td>\n      <td>Graphics Verification Engineer ; Do you love c...</td>\n    </tr>\n    <tr>\n      <th>8124</th>\n      <td>Software Development Engineer, Customer Engage...</td>\n      <td>Job summary Do you want to be a part of the te...</td>\n      <td>NaN</td>\n      <td>Programming experience with at least one moder...</td>\n      <td>Amazon</td>\n      <td>2022-06-21</td>\n      <td>Software Development Engineer, Customer Engage...</td>\n    </tr>\n    <tr>\n      <th>795</th>\n      <td>Data Center Technician</td>\n      <td>Google isn't just a software company. The Hard...</td>\n      <td>Contribute to and lead efforts / projects in t...</td>\n      <td>Minimum qualifications: Experience working wit...</td>\n      <td>Google</td>\n      <td>2022-06-27 15:31:47.271000+00:00</td>\n      <td>Data Center Technician ; Google isn't just a s...</td>\n    </tr>\n    <tr>\n      <th>488</th>\n      <td>Account Manager, Mid-Market Sales, Google Cust...</td>\n      <td>Businesses that partner with Google come in al...</td>\n      <td>Manage a portfolio of Google Ads accounts by u...</td>\n      <td>Minimum qualifications: Bachelor's degree or e...</td>\n      <td>Google</td>\n      <td>2022-06-29 16:32:04.797000+00:00</td>\n      <td>Account Manager, Mid-Market Sales, Google Cust...</td>\n    </tr>\n    <tr>\n      <th>3966</th>\n      <td>ISE, Special Projects - Incubation Designer (C...</td>\n      <td>Are you passionate about user experience? Do y...</td>\n      <td>We are looking for an extraordinary hands-on d...</td>\n      <td>5+ years of professional work experienceAn exc...</td>\n      <td>Apple</td>\n      <td>2022-05-16</td>\n      <td>ISE, Special Projects - Incubation Designer (C...</td>\n    </tr>\n  </tbody>\n</table>\n</div>"
     },
     "execution_count": 175,
     "metadata": {},
     "output_type": "execute_result"
    }
   ],
   "source": [
    "merged_dataset.sample(5)"
   ],
   "metadata": {
    "collapsed": false,
    "pycharm": {
     "name": "#%%\n"
    }
   }
  },
  {
   "cell_type": "markdown",
   "source": [
    "## Translating to english of merged_info"
   ],
   "metadata": {
    "collapsed": false,
    "pycharm": {
     "name": "#%% md\n"
    }
   }
  },
  {
   "cell_type": "markdown",
   "source": [
    "### Google API"
   ],
   "metadata": {
    "collapsed": false,
    "pycharm": {
     "name": "#%% md\n"
    }
   }
  },
  {
   "cell_type": "code",
   "execution_count": 258,
   "outputs": [],
   "source": [
    "def google_translate_text(text: str, from_lang='auto', g_translator=Translator(user_agent=fake.chrome(), timeout=Timeout(10)), char_limit=5000):\n",
    "    try:\n",
    "        text = g_translator.translate(text[:char_limit], dest='en', src=from_lang).text\n",
    "    except Exception as e:\n",
    "        print(e)\n",
    "    time.sleep(0.2) # 200 ms wait\n",
    "    return text"
   ],
   "metadata": {
    "collapsed": false,
    "pycharm": {
     "name": "#%%\n"
    }
   }
  },
  {
   "cell_type": "markdown",
   "source": [
    "### LibriTranslate API"
   ],
   "metadata": {
    "collapsed": false,
    "pycharm": {
     "name": "#%% md\n"
    }
   }
  },
  {
   "cell_type": "code",
   "execution_count": 260,
   "outputs": [],
   "source": [
    "LIBRE_TRANSLATE_API_KEY = \"8fbcf6c1-5e6d-4391-956c-c854da647f9e\"\n",
    "LIBRE_API_URL = \"https://libretranslate.com/translate\"\n",
    "# LIBRE_TRANSLATE_API_KEY = \"\"\n",
    "# LIBRE_API_URL = \"http://84.38.185.155:5000/translate\""
   ],
   "metadata": {
    "collapsed": false,
    "pycharm": {
     "name": "#%%\n"
    }
   }
  },
  {
   "cell_type": "code",
   "execution_count": 270,
   "outputs": [],
   "source": [
    "def libri_translate_text(text: str, from_lang='auto', timeout=20, char_limit=5000):\n",
    "    payload = {\n",
    "        'q': text[:char_limit],\n",
    "        'source': from_lang,\n",
    "        'target': 'en',\n",
    "        'format': 'text',\n",
    "        'api_key': LIBRE_TRANSLATE_API_KEY\n",
    "    }\n",
    "    libre_headers = {\n",
    "        'user-agent': fake.chrome(),\n",
    "    }\n",
    "    try:\n",
    "        result = requests.post(LIBRE_API_URL, data=payload, headers=libre_headers, timeout=timeout).json()\n",
    "        # print(result)\n",
    "        return result['translatedText']\n",
    "    except Exception as e:\n",
    "        # print(e)\n",
    "        return text"
   ],
   "metadata": {
    "collapsed": false,
    "pycharm": {
     "name": "#%%\n"
    }
   }
  },
  {
   "cell_type": "markdown",
   "source": [
    "### Support methods"
   ],
   "metadata": {
    "collapsed": false,
    "pycharm": {
     "name": "#%% md\n"
    }
   }
  },
  {
   "cell_type": "code",
   "execution_count": 269,
   "outputs": [],
   "source": [
    "def translate_df_row(row: pd.Series, nan_symbol='N / A'):\n",
    "    original_lang = lang_detector.FindLanguage(row['merged_info'][:200]).language\n",
    "    # original_lang = lang_detector.FindLanguage(row['title']).language\n",
    "    if original_lang != 'en':\n",
    "        row['merged_info'] = google_translate_text(row['merged_info'], from_lang='auto')\n",
    "        row['title'] = row['merged_info'].split(';', maxsplit=1)[0]\n",
    "        # row['merged_info'] = libri_translate_text(row['merged_info'], from_lang=original_lang, timeout=35)\n",
    "        # row['title'] = libri_translate_text(row['title'], from_lang=original_lang)\n",
    "        # if row['description'] != nan_symbol:\n",
    "        #     row['description'] = libri_translate_text(row['description'], from_lang=original_lang)\n",
    "        # if row['responsibilities'] != nan_symbol:\n",
    "        #     row['responsibilities'] = libri_translate_text(row['responsibilities'], from_lang=original_lang)\n",
    "        # if row['qualifications'] != nan_symbol:\n",
    "        #     row['qualifications'] = libri_translate_text(row['qualifications'], from_lang=original_lang)\n",
    "    return row"
   ],
   "metadata": {
    "collapsed": false,
    "pycharm": {
     "name": "#%%\n"
    }
   }
  },
  {
   "cell_type": "code",
   "execution_count": 266,
   "outputs": [],
   "source": [
    "def df_parallel_apply(df, func, n_cores=4, axis=1):\n",
    "    df_split = np.array_split(df, n_cores)\n",
    "    with ThreadPoolExecutor(max_workers=n_cores) as executor:\n",
    "        futures = [executor.submit(lambda: part.apply(func, axis=axis)) for part in df_split]\n",
    "        executor.shutdown(wait=True)\n",
    "    transformed_parts = [f.result() for f in futures]\n",
    "    return pd.concat(transformed_parts)"
   ],
   "metadata": {
    "collapsed": false,
    "pycharm": {
     "name": "#%%\n"
    }
   }
  },
  {
   "cell_type": "code",
   "execution_count": 276,
   "outputs": [
    {
     "name": "stdout",
     "output_type": "stream",
     "text": [
      "971 766\n",
      "CPU times: user 1.45 s, sys: 396 ms, total: 1.85 s\n",
      "Wall time: 1.39 s\n"
     ]
    },
    {
     "data": {
      "text/plain": "991"
     },
     "execution_count": 276,
     "metadata": {},
     "output_type": "execute_result"
    }
   ],
   "source": [
    "%%time\n",
    "test_text = 'Первые впечатления Переночевав в гостинице в Гуаякиле, мы сели к агенту в машину и поехали на судно в Пуэрто Боливар. Доехали вопреки ожиданиям быстро, примерно за 3-4 часа. Погода была пасмурная и даже не смотря на то, что мы находимся недалеко от экватора, было прохладно. Почти все время, пока мы ехали, по обе стороны дороги были банановые плантации, но все равно в голове не укладывается: эти бананы грузят на суда в нескольких портах Эквадора десятками тысяч тонн каждый день, круглый год. Это ж несчастные бананы должны расти быстрее чем грибы. Дороги. Дороги в Эквадоре практически идеальные, хотя населенные пункты выглядят очень бедно. На дорогах много интересных машин, например очень много грузовиков - древних Фордов, которые я никогда раньше не видел. А еще несколько раз на глаза попадались старенькие Жигули :) А еще если кого-то обгоняешь и есть встречная машина, она обязательно включает фары. На больших машинах - грузовиках и автобусах, обязательно красуется местный тюнинг: машины разукрашенные, либо в наклейках, и обязательно везде огромное множество светодиодов, как будто новогодние елки едут и переливаются всеми цветами. Судно. На первый взгляд судно неплохое, в относительно хорошем состоянии, хотя и 92 года постройки. Экипаж 19 человек - 11 русских и 8 филиппинцев, включая повара. Говорят, периодически становится тоскливо от егошних кулинарных изысков. Филиппинцы здесь рядовой состав, за ними постоянно нужно следить чтобы не натворили чего, среди них только один матрос по-настоящему ответственный и с руками из нужного места, все понимает с полуслова. Остальные - типичные Равшаны да Джамшуты. А еще один из них - гомосек О___о, в добавок к этому он опасный человек, в том плане, что легко впадает в состояние ступора и отключает мозг: был случай как он закрыл одного матроса в трюме, тот орал и тарабанил внутри, это заметил боцман, начал орать на этого персонажа, который, в свою очередь испуганно выпучив глаза, трясущимися руками продолжал закручивать барашки. В итоге боцман его отодвинул и выпустил матроса из трюма. Общение на английском языке, но из-за акцента не всегда с первого раз понятно что филиппинцы говорят, особенно по рации. Напимер, говорит он тебе: Бикарпуль! Бикарпуль! А потом, когда уже поздно, выясняется что это было \"Be careful!\" Работа. Сразу, как только мы заселились, я не успел разложить вещи, как в мою голову ворвался такой поток информации, что ни в сказке сказать, ни топором не вырубить. Во-первых, на судне абсолютно все бумаги - мануалы, журналы, и так далее - все на английском языке. Даже блокнотик, в который записываются отчеты по грузовым операциям - и тот на английском. Бумаги... ооооо... Их тысячи, лежат в сотнях папок, плюс огромное количество документов на компьютерах. Это мне просто разорвало мозг в клочья, потому что с этим объемом информации надо ознакомиться и научиться работать в кротчайшие сроки. Постоянная беготня, постоянная суета, совсем не легко. А также надо как можно быстрее разобраться со всем оборудованием на мостике, а там его мама не горюй. В общем, пока что, свободного времени нет вообще. Абсолютно. Только ночью с 00:00 до 06:00 можно поспать. Но это продлится не долго, буквально 1-2 недели, потом океанский переход до Европы, можно будет уже спокойно стоять вахты, а в свободное время читать книги компании Seatrade, на случай если в Европе придет проверка и будет задавать вопросы. Ну и немного о приятном. Неплохая одноместная каюта. Внутри несколько шкафов и полок, удобная кровать, койка напередохнуть, стол, стул, умывальник и внутрисудовой телефон. Также выдали 2 белых офицерских комбинезона с символикой компании, каску и персональную рацию. В моем распоряжении офицерский душ со стиральной машинкой и офицерская столовая. Во время швартовых операций мое место на мостике. Хотя и матросы на палубе не сильно напрягаются - там установлены гидравлические лебедки, не надо швартовные концы тягать вручную. На этом пока все, фоток пока что нет, потому что просто некогда этим заниматься. Даже этот текст я пишу потому что просто появилось свободных 2 часа, отпустили отдохнуть, так как впереди 6-часовая вахта, а сразу после нее отшвартовка и идем в Гуаякиль, а во время отшвартовки и пока лоцман на судне - мое место на мостике. Так что, предстоит основательно заколебаться. Возле входа в канал находится якорная стоянка, где куча судов стоит и ждет своей очереди на проход. Но, нам дали добро на проход практически без ожидания и постояв на якоре всего три часа, приехал лоцман, скомандовал \"dead slow ahead\" (самый малый вперед), я перевел ручку машинного телеграфа, похожую на автомобильный рычаг автоматической коробки передач в указанное положение, на что телеграф отозвался громким сигналом. Стрелка тахометра поползла вверх, судно слегка задрожало и мы медленно но верно начали набирать скорость и двигаться в сторону канала. Вход в канал со стороны океана выделен буями - десятки буев, выстроенные в две линии показывают единственный верный путь, выгладит грандиозно. А справа, за пальмами и дорогими виллами со стоящими рядом с ними роскошными яхтами, простирется огромный город небоскребов - Панама. А через десять минут открылось еще одно не менее грандиозное зрелище - строительство новых шлюзов, которые будут пропускать суда бОльших размеров, чем нынешние шлюзы. Но тут впереди из-за поворота показалась огромная стена, которая двигалась в нашу сторону. Навстречу нам шло судно-автомобилевоз Green Cove и так как канал - место совсем не широкое, автомобилевоз прошел от нас всего в 50 метрах, непривычно было стоя на мостике наблюдать столь близкое расхождение. А вот и буксиры. Это значит что мы подходим к шлюзам. Только мы подошли к шлюзу, как тут же нас привязали к резвым локомотивам - Мулам. Дальше все зависело только от них. 4 Мула держали нас с разных сторон и уже они руководили процессом, они нас резво разгоняли и останавливали в нужном месте и терпеливо ждали пока шлюз не наполнится водой. Так как наше судно не очень широкое, проблем с заходом в шлюз не было, а по длине получилось так, что за нами сзади поместилось еще одно небольшое судно. Правда мы оказались более быстроходными и пока мы шли от тихоокеанских до атлантических шлюзов по каналу и озеру Гатун, это судно безнадежно отстало, но нам пришлось его ждать :('\n",
    "print(test_text.split(' ').__len__(), test_text[:5000].split(' ').__len__())\n",
    "google_translate_text(test_text, from_lang='auto').split(' ').__len__()"
   ],
   "metadata": {
    "collapsed": false,
    "pycharm": {
     "name": "#%%\n"
    }
   }
  },
  {
   "cell_type": "code",
   "execution_count": 241,
   "outputs": [
    {
     "name": "stdout",
     "output_type": "stream",
     "text": [
      "[SSL: SSLV3_ALERT_BAD_RECORD_MAC] sslv3 alert bad record mac (_ssl.c:2635)\n"
     ]
    },
    {
     "ename": "KeyboardInterrupt",
     "evalue": "",
     "output_type": "error",
     "traceback": [
      "\u001B[0;31m---------------------------------------------------------------------------\u001B[0m",
      "\u001B[0;31mKeyboardInterrupt\u001B[0m                         Traceback (most recent call last)",
      "\u001B[0;32m<timed exec>\u001B[0m in \u001B[0;36m<module>\u001B[0;34m\u001B[0m\n",
      "\u001B[0;32m~/miniconda3/envs/text/lib/python3.8/concurrent/futures/thread.py\u001B[0m in \u001B[0;36mshutdown\u001B[0;34m(self, wait)\u001B[0m\n\u001B[1;32m    235\u001B[0m             \u001B[0;32mfor\u001B[0m \u001B[0mt\u001B[0m \u001B[0;32min\u001B[0m \u001B[0mself\u001B[0m\u001B[0;34m.\u001B[0m\u001B[0m_threads\u001B[0m\u001B[0;34m:\u001B[0m\u001B[0;34m\u001B[0m\u001B[0;34m\u001B[0m\u001B[0m\n\u001B[0;32m--> 236\u001B[0;31m                 \u001B[0mt\u001B[0m\u001B[0;34m.\u001B[0m\u001B[0mjoin\u001B[0m\u001B[0;34m(\u001B[0m\u001B[0;34m)\u001B[0m\u001B[0;34m\u001B[0m\u001B[0;34m\u001B[0m\u001B[0m\n\u001B[0m\u001B[1;32m    237\u001B[0m     \u001B[0mshutdown\u001B[0m\u001B[0;34m.\u001B[0m\u001B[0m__doc__\u001B[0m \u001B[0;34m=\u001B[0m \u001B[0m_base\u001B[0m\u001B[0;34m.\u001B[0m\u001B[0mExecutor\u001B[0m\u001B[0;34m.\u001B[0m\u001B[0mshutdown\u001B[0m\u001B[0;34m.\u001B[0m\u001B[0m__doc__\u001B[0m\u001B[0;34m\u001B[0m\u001B[0;34m\u001B[0m\u001B[0m\n",
      "\u001B[0;32m~/miniconda3/envs/text/lib/python3.8/threading.py\u001B[0m in \u001B[0;36mjoin\u001B[0;34m(self, timeout)\u001B[0m\n\u001B[1;32m   1010\u001B[0m         \u001B[0;32mif\u001B[0m \u001B[0mtimeout\u001B[0m \u001B[0;32mis\u001B[0m \u001B[0;32mNone\u001B[0m\u001B[0;34m:\u001B[0m\u001B[0;34m\u001B[0m\u001B[0;34m\u001B[0m\u001B[0m\n\u001B[0;32m-> 1011\u001B[0;31m             \u001B[0mself\u001B[0m\u001B[0;34m.\u001B[0m\u001B[0m_wait_for_tstate_lock\u001B[0m\u001B[0;34m(\u001B[0m\u001B[0;34m)\u001B[0m\u001B[0;34m\u001B[0m\u001B[0;34m\u001B[0m\u001B[0m\n\u001B[0m\u001B[1;32m   1012\u001B[0m         \u001B[0;32melse\u001B[0m\u001B[0;34m:\u001B[0m\u001B[0;34m\u001B[0m\u001B[0;34m\u001B[0m\u001B[0m\n",
      "\u001B[0;32m~/miniconda3/envs/text/lib/python3.8/threading.py\u001B[0m in \u001B[0;36m_wait_for_tstate_lock\u001B[0;34m(self, block, timeout)\u001B[0m\n\u001B[1;32m   1026\u001B[0m             \u001B[0;32massert\u001B[0m \u001B[0mself\u001B[0m\u001B[0;34m.\u001B[0m\u001B[0m_is_stopped\u001B[0m\u001B[0;34m\u001B[0m\u001B[0;34m\u001B[0m\u001B[0m\n\u001B[0;32m-> 1027\u001B[0;31m         \u001B[0;32melif\u001B[0m \u001B[0mlock\u001B[0m\u001B[0;34m.\u001B[0m\u001B[0macquire\u001B[0m\u001B[0;34m(\u001B[0m\u001B[0mblock\u001B[0m\u001B[0;34m,\u001B[0m \u001B[0mtimeout\u001B[0m\u001B[0;34m)\u001B[0m\u001B[0;34m:\u001B[0m\u001B[0;34m\u001B[0m\u001B[0;34m\u001B[0m\u001B[0m\n\u001B[0m\u001B[1;32m   1028\u001B[0m             \u001B[0mlock\u001B[0m\u001B[0;34m.\u001B[0m\u001B[0mrelease\u001B[0m\u001B[0;34m(\u001B[0m\u001B[0;34m)\u001B[0m\u001B[0;34m\u001B[0m\u001B[0;34m\u001B[0m\u001B[0m\n",
      "\u001B[0;31mKeyboardInterrupt\u001B[0m: ",
      "\nDuring handling of the above exception, another exception occurred:\n",
      "\u001B[0;31mKeyboardInterrupt\u001B[0m                         Traceback (most recent call last)",
      "\u001B[0;32m<timed exec>\u001B[0m in \u001B[0;36m<module>\u001B[0;34m\u001B[0m\n",
      "\u001B[0;32m~/miniconda3/envs/text/lib/python3.8/concurrent/futures/_base.py\u001B[0m in \u001B[0;36m__exit__\u001B[0;34m(self, exc_type, exc_val, exc_tb)\u001B[0m\n\u001B[1;32m    642\u001B[0m \u001B[0;34m\u001B[0m\u001B[0m\n\u001B[1;32m    643\u001B[0m     \u001B[0;32mdef\u001B[0m \u001B[0m__exit__\u001B[0m\u001B[0;34m(\u001B[0m\u001B[0mself\u001B[0m\u001B[0;34m,\u001B[0m \u001B[0mexc_type\u001B[0m\u001B[0;34m,\u001B[0m \u001B[0mexc_val\u001B[0m\u001B[0;34m,\u001B[0m \u001B[0mexc_tb\u001B[0m\u001B[0;34m)\u001B[0m\u001B[0;34m:\u001B[0m\u001B[0;34m\u001B[0m\u001B[0;34m\u001B[0m\u001B[0m\n\u001B[0;32m--> 644\u001B[0;31m         \u001B[0mself\u001B[0m\u001B[0;34m.\u001B[0m\u001B[0mshutdown\u001B[0m\u001B[0;34m(\u001B[0m\u001B[0mwait\u001B[0m\u001B[0;34m=\u001B[0m\u001B[0;32mTrue\u001B[0m\u001B[0;34m)\u001B[0m\u001B[0;34m\u001B[0m\u001B[0;34m\u001B[0m\u001B[0m\n\u001B[0m\u001B[1;32m    645\u001B[0m         \u001B[0;32mreturn\u001B[0m \u001B[0;32mFalse\u001B[0m\u001B[0;34m\u001B[0m\u001B[0;34m\u001B[0m\u001B[0m\n\u001B[1;32m    646\u001B[0m \u001B[0;34m\u001B[0m\u001B[0m\n",
      "\u001B[0;32m~/miniconda3/envs/text/lib/python3.8/concurrent/futures/thread.py\u001B[0m in \u001B[0;36mshutdown\u001B[0;34m(self, wait)\u001B[0m\n\u001B[1;32m    234\u001B[0m         \u001B[0;32mif\u001B[0m \u001B[0mwait\u001B[0m\u001B[0;34m:\u001B[0m\u001B[0;34m\u001B[0m\u001B[0;34m\u001B[0m\u001B[0m\n\u001B[1;32m    235\u001B[0m             \u001B[0;32mfor\u001B[0m \u001B[0mt\u001B[0m \u001B[0;32min\u001B[0m \u001B[0mself\u001B[0m\u001B[0;34m.\u001B[0m\u001B[0m_threads\u001B[0m\u001B[0;34m:\u001B[0m\u001B[0;34m\u001B[0m\u001B[0;34m\u001B[0m\u001B[0m\n\u001B[0;32m--> 236\u001B[0;31m                 \u001B[0mt\u001B[0m\u001B[0;34m.\u001B[0m\u001B[0mjoin\u001B[0m\u001B[0;34m(\u001B[0m\u001B[0;34m)\u001B[0m\u001B[0;34m\u001B[0m\u001B[0;34m\u001B[0m\u001B[0m\n\u001B[0m\u001B[1;32m    237\u001B[0m     \u001B[0mshutdown\u001B[0m\u001B[0;34m.\u001B[0m\u001B[0m__doc__\u001B[0m \u001B[0;34m=\u001B[0m \u001B[0m_base\u001B[0m\u001B[0;34m.\u001B[0m\u001B[0mExecutor\u001B[0m\u001B[0;34m.\u001B[0m\u001B[0mshutdown\u001B[0m\u001B[0;34m.\u001B[0m\u001B[0m__doc__\u001B[0m\u001B[0;34m\u001B[0m\u001B[0;34m\u001B[0m\u001B[0m\n",
      "\u001B[0;32m~/miniconda3/envs/text/lib/python3.8/threading.py\u001B[0m in \u001B[0;36mjoin\u001B[0;34m(self, timeout)\u001B[0m\n\u001B[1;32m   1009\u001B[0m \u001B[0;34m\u001B[0m\u001B[0m\n\u001B[1;32m   1010\u001B[0m         \u001B[0;32mif\u001B[0m \u001B[0mtimeout\u001B[0m \u001B[0;32mis\u001B[0m \u001B[0;32mNone\u001B[0m\u001B[0;34m:\u001B[0m\u001B[0;34m\u001B[0m\u001B[0;34m\u001B[0m\u001B[0m\n\u001B[0;32m-> 1011\u001B[0;31m             \u001B[0mself\u001B[0m\u001B[0;34m.\u001B[0m\u001B[0m_wait_for_tstate_lock\u001B[0m\u001B[0;34m(\u001B[0m\u001B[0;34m)\u001B[0m\u001B[0;34m\u001B[0m\u001B[0;34m\u001B[0m\u001B[0m\n\u001B[0m\u001B[1;32m   1012\u001B[0m         \u001B[0;32melse\u001B[0m\u001B[0;34m:\u001B[0m\u001B[0;34m\u001B[0m\u001B[0;34m\u001B[0m\u001B[0m\n\u001B[1;32m   1013\u001B[0m             \u001B[0;31m# the behavior of a negative timeout isn't documented, but\u001B[0m\u001B[0;34m\u001B[0m\u001B[0;34m\u001B[0m\u001B[0;34m\u001B[0m\u001B[0m\n",
      "\u001B[0;32m~/miniconda3/envs/text/lib/python3.8/threading.py\u001B[0m in \u001B[0;36m_wait_for_tstate_lock\u001B[0;34m(self, block, timeout)\u001B[0m\n\u001B[1;32m   1025\u001B[0m         \u001B[0;32mif\u001B[0m \u001B[0mlock\u001B[0m \u001B[0;32mis\u001B[0m \u001B[0;32mNone\u001B[0m\u001B[0;34m:\u001B[0m  \u001B[0;31m# already determined that the C code is done\u001B[0m\u001B[0;34m\u001B[0m\u001B[0;34m\u001B[0m\u001B[0m\n\u001B[1;32m   1026\u001B[0m             \u001B[0;32massert\u001B[0m \u001B[0mself\u001B[0m\u001B[0;34m.\u001B[0m\u001B[0m_is_stopped\u001B[0m\u001B[0;34m\u001B[0m\u001B[0;34m\u001B[0m\u001B[0m\n\u001B[0;32m-> 1027\u001B[0;31m         \u001B[0;32melif\u001B[0m \u001B[0mlock\u001B[0m\u001B[0;34m.\u001B[0m\u001B[0macquire\u001B[0m\u001B[0;34m(\u001B[0m\u001B[0mblock\u001B[0m\u001B[0;34m,\u001B[0m \u001B[0mtimeout\u001B[0m\u001B[0;34m)\u001B[0m\u001B[0;34m:\u001B[0m\u001B[0;34m\u001B[0m\u001B[0;34m\u001B[0m\u001B[0m\n\u001B[0m\u001B[1;32m   1028\u001B[0m             \u001B[0mlock\u001B[0m\u001B[0;34m.\u001B[0m\u001B[0mrelease\u001B[0m\u001B[0;34m(\u001B[0m\u001B[0;34m)\u001B[0m\u001B[0;34m\u001B[0m\u001B[0;34m\u001B[0m\u001B[0m\n\u001B[1;32m   1029\u001B[0m             \u001B[0mself\u001B[0m\u001B[0;34m.\u001B[0m\u001B[0m_stop\u001B[0m\u001B[0;34m(\u001B[0m\u001B[0;34m)\u001B[0m\u001B[0;34m\u001B[0m\u001B[0;34m\u001B[0m\u001B[0m\n",
      "\u001B[0;31mKeyboardInterrupt\u001B[0m: "
     ]
    }
   ],
   "source": [
    "%%time\n",
    "with ThreadPoolExecutor(max_workers=4) as executor:\n",
    "    futures = [executor.submit(lambda: google_translate_text(test_text[:5000], from_lang='ru')) for i in range(2)]\n",
    "    executor.shutdown(wait=True)\n",
    "transformed_parts = [f.result() for f in futures]\n",
    "[x.split(' ').__len__() for x in transformed_parts]"
   ],
   "metadata": {
    "collapsed": false,
    "pycharm": {
     "name": "#%%\n"
    }
   }
  },
  {
   "cell_type": "markdown",
   "source": [
    "### Transalting & cleaning process"
   ],
   "metadata": {
    "collapsed": false,
    "pycharm": {
     "name": "#%% md\n"
    }
   }
  },
  {
   "cell_type": "code",
   "execution_count": 272,
   "outputs": [
    {
     "name": "stderr",
     "output_type": "stream",
     "text": [
      "100%|██████████| 5/5 [00:02<00:00,  2.36it/s]"
     ]
    },
    {
     "name": "stdout",
     "output_type": "stream",
     "text": [
      "CPU times: user 2.13 s, sys: 617 ms, total: 2.75 s\n",
      "Wall time: 2.15 s\n"
     ]
    },
    {
     "name": "stderr",
     "output_type": "stream",
     "text": [
      "\n"
     ]
    },
    {
     "data": {
      "text/plain": "                                               title  \\\n0  Финансовый консультант (Доставка банковских пр...   \n1  Руководитель направления / Лидер кластера Дого...   \n2                Стажер автотестировщик (Инвестиции)   \n3                    Сетевой эксперт (Remote Access)   \n4         QA automation engineer (проект MLStorageр)   \n\n                                         description  \\\n0                                                NaN   \n1                                                NaN   \n2  Сбер - это крупнейшая цифровая экосистема. Тех...   \n3                                                NaN   \n4  О компании: АО «Сбербанк-Технологии» - российс...   \n\n                                    responsibilities  \\\n0  Финансовый консультант – это новая перспективн...   \n1  определение видения развития сервисов: digital...   \n2  Тестирование веб приложений, мобильных приложе...   \n3  Развитие сервиса Remote access в банке; Админи...   \n4  Мы ценим: Готовность работать самостоятельно и...   \n\n                                      qualifications company  \\\n0  Ты нам подходишь, если: - Ранее занимался дост...    Sber   \n1  высшее (экономическое) образование; наличие оп...    Sber   \n2  Практический опыт функционального, интеграцион...    Sber   \n3  Высшее техническое образование; Опыт работы в ...    Sber   \n4  Мы ищем человека, который: Имеет опыт работы т...    Sber   \n\n          publish_date                                        merged_info  \n0  2022-01-12 00:00:00  Financial consultant (delivery of banking prod...  \n1  2021-12-03 00:00:00  Head of the Direct / Cluster Leader Contract S...  \n2  2021-12-09 00:00:00  Traineer traineer (investment); Sber is the la...  \n3  2022-02-22 00:00:00  Network expert (Remote Access); ; Development ...  \n4  2022-02-28 00:00:00  QA Automation Engineer (project mlstorager); A...  ",
      "text/html": "<div>\n<style scoped>\n    .dataframe tbody tr th:only-of-type {\n        vertical-align: middle;\n    }\n\n    .dataframe tbody tr th {\n        vertical-align: top;\n    }\n\n    .dataframe thead th {\n        text-align: right;\n    }\n</style>\n<table border=\"1\" class=\"dataframe\">\n  <thead>\n    <tr style=\"text-align: right;\">\n      <th></th>\n      <th>title</th>\n      <th>description</th>\n      <th>responsibilities</th>\n      <th>qualifications</th>\n      <th>company</th>\n      <th>publish_date</th>\n      <th>merged_info</th>\n    </tr>\n  </thead>\n  <tbody>\n    <tr>\n      <th>0</th>\n      <td>Финансовый консультант (Доставка банковских пр...</td>\n      <td>NaN</td>\n      <td>Финансовый консультант – это новая перспективн...</td>\n      <td>Ты нам подходишь, если: - Ранее занимался дост...</td>\n      <td>Sber</td>\n      <td>2022-01-12 00:00:00</td>\n      <td>Financial consultant (delivery of banking prod...</td>\n    </tr>\n    <tr>\n      <th>1</th>\n      <td>Руководитель направления / Лидер кластера Дого...</td>\n      <td>NaN</td>\n      <td>определение видения развития сервисов: digital...</td>\n      <td>высшее (экономическое) образование; наличие оп...</td>\n      <td>Sber</td>\n      <td>2021-12-03 00:00:00</td>\n      <td>Head of the Direct / Cluster Leader Contract S...</td>\n    </tr>\n    <tr>\n      <th>2</th>\n      <td>Стажер автотестировщик (Инвестиции)</td>\n      <td>Сбер - это крупнейшая цифровая экосистема. Тех...</td>\n      <td>Тестирование веб приложений, мобильных приложе...</td>\n      <td>Практический опыт функционального, интеграцион...</td>\n      <td>Sber</td>\n      <td>2021-12-09 00:00:00</td>\n      <td>Traineer traineer (investment); Sber is the la...</td>\n    </tr>\n    <tr>\n      <th>3</th>\n      <td>Сетевой эксперт (Remote Access)</td>\n      <td>NaN</td>\n      <td>Развитие сервиса Remote access в банке; Админи...</td>\n      <td>Высшее техническое образование; Опыт работы в ...</td>\n      <td>Sber</td>\n      <td>2022-02-22 00:00:00</td>\n      <td>Network expert (Remote Access); ; Development ...</td>\n    </tr>\n    <tr>\n      <th>4</th>\n      <td>QA automation engineer (проект MLStorageр)</td>\n      <td>О компании: АО «Сбербанк-Технологии» - российс...</td>\n      <td>Мы ценим: Готовность работать самостоятельно и...</td>\n      <td>Мы ищем человека, который: Имеет опыт работы т...</td>\n      <td>Sber</td>\n      <td>2022-02-28 00:00:00</td>\n      <td>QA Automation Engineer (project mlstorager); A...</td>\n    </tr>\n  </tbody>\n</table>\n</div>"
     },
     "execution_count": 272,
     "metadata": {},
     "output_type": "execute_result"
    }
   ],
   "source": [
    "%%time\n",
    "merged_dataset[merged_dataset['company'] == 'Sber'][:5].progress_apply(translate_df_row, axis=1)"
   ],
   "metadata": {
    "collapsed": false,
    "pycharm": {
     "name": "#%%\n"
    }
   }
  },
  {
   "cell_type": "code",
   "execution_count": 273,
   "outputs": [
    {
     "name": "stderr",
     "output_type": "stream",
     "text": [
      " 43%|████▎     | 16491/38767 [53:06<6:51:29,  1.11s/it] "
     ]
    },
    {
     "name": "stdout",
     "output_type": "stream",
     "text": [
      "The read operation timed out\n"
     ]
    },
    {
     "name": "stderr",
     "output_type": "stream",
     "text": [
      "100%|██████████| 38767/38767 [2:24:43<00:00,  4.46it/s]      "
     ]
    },
    {
     "name": "stdout",
     "output_type": "stream",
     "text": [
      "CPU times: user 1h 38min 23s, sys: 30min 57s, total: 2h 9min 20s\n",
      "Wall time: 2h 24min 43s\n"
     ]
    },
    {
     "name": "stderr",
     "output_type": "stream",
     "text": [
      "\n"
     ]
    }
   ],
   "source": [
    "%%time\n",
    "translated_merged_dataset = merged_dataset.progress_apply(translate_df_row, axis=1)"
   ],
   "metadata": {
    "collapsed": false,
    "pycharm": {
     "name": "#%%\n"
    }
   }
  },
  {
   "cell_type": "code",
   "execution_count": 275,
   "outputs": [
    {
     "name": "stdout",
     "output_type": "stream",
     "text": [
      "<class 'pandas.core.frame.DataFrame'>\n",
      "Int64Index: 38767 entries, 0 to 9042\n",
      "Data columns (total 7 columns):\n",
      " #   Column            Non-Null Count  Dtype \n",
      "---  ------            --------------  ----- \n",
      " 0   title             38767 non-null  object\n",
      " 1   description       35989 non-null  object\n",
      " 2   responsibilities  30618 non-null  object\n",
      " 3   qualifications    38750 non-null  object\n",
      " 4   company           38767 non-null  object\n",
      " 5   publish_date      37983 non-null  object\n",
      " 6   merged_info       38767 non-null  object\n",
      "dtypes: object(7)\n",
      "memory usage: 2.4+ MB\n"
     ]
    }
   ],
   "source": [
    "translated_merged_dataset.info()"
   ],
   "metadata": {
    "collapsed": false,
    "pycharm": {
     "name": "#%%\n"
    }
   }
  },
  {
   "cell_type": "code",
   "execution_count": 291,
   "outputs": [
    {
     "name": "stderr",
     "output_type": "stream",
     "text": [
      "100%|██████████| 38767/38767 [00:18<00:00, 2058.99it/s]\n"
     ]
    },
    {
     "data": {
      "text/plain": "en         38500\nxh            38\nzu            34\nja            28\nmg            28\nno            11\nfi            11\nlb            11\nda            11\nga             8\nzh             7\nfr             6\nde             6\ncy             4\net             4\nso             4\naf             4\nla             4\nit             4\npt             3\nko             3\nky             3\nsv             3\nmr             2\nzh-Latn        2\nsn             2\nnl             2\nca             2\nvi             2\nfil            2\nmt             2\nel-Latn        1\nmi             1\nsu             1\nes             1\nsr             1\ngd             1\nhaw            1\nis             1\ngl             1\nco             1\nru             1\nru-Latn        1\nne             1\njv             1\ncs             1\nsm             1\nName: merged_info, dtype: int64"
     },
     "execution_count": 291,
     "metadata": {},
     "output_type": "execute_result"
    }
   ],
   "source": [
    "translated_merged_dataset['merged_info'].progress_apply(lambda x: lang_detector.FindLanguage(x[:200]).language).value_counts()"
   ],
   "metadata": {
    "collapsed": false,
    "pycharm": {
     "name": "#%%\n"
    }
   }
  },
  {
   "cell_type": "code",
   "execution_count": 295,
   "outputs": [
    {
     "data": {
      "text/plain": "                                               title description  \\\n767                                      行业云计算解决方案专家         NaN   \n40                                            渠道销售专员         NaN   \n690                                        云数据中心站点经理         NaN   \n375                                         金融解决方案专家         NaN   \n419                                        生产计划高级工程师         NaN   \n369                                          订单管理工程师         NaN   \n342                                             物流专员         NaN   \n231                                     【专业类】质量控制工程师         NaN   \n564  基建项目管理专家（建筑设计 / 精装 / 土建 / 机电 / 幕墙 / 园林 / 项目管理等）         NaN   \n98                                       高级产品经理（专业类）         NaN   \n\n                                      responsibilities  \\\n767  \"1. 研究政务、税务、医疗、交通、教育等政企行业客户对大数据咨询、管理和分析等服务的需求，...   \n40   参与所属领域的合作伙伴规划，在指导下负责某个领域合作伙伴拓展、合作伙伴联合营销活动，实现所负...   \n690  全面负责国内或海外数据中心站点的运营管理、项目运作支持、机房服务、数据中心经营等职责，保障云...   \n375  1、深入洞察金融行业ICT技术趋势，负责金融行业解决方案销售策略制定； 2、负责技术层的hi...   \n419  1、负责与所覆盖区域做好供需协同，根据区域需求组织制定和实施供应中心计划，管理供需风 险，确...   \n369  标准职责 供应中心面向区域中大型代表处 / 国家端到端订单履行方案的执行人，为所负责国家 /...   \n342  标准职责 面向区域 / BG / 项目提供物流服务，适配物流解决方案，协调解决业务异常，协同...   \n231  1、基于产品早期质量策划，通过新产品试制导入验证，进行新产品质量验证，达成新产品上市质量目标...   \n564  清晰理解项目定位和要求，理解用户需求并转换为设计语言。 面向中小型项目，从可运维、可管理和业...   \n98   1、负责数据分析、数字化作战和跨产品拓展支持，对洞察营销数据及跨产品项目运作负责。 2、依据...   \n\n                                        qualifications company  \\\n767  业务技能要求： \"1. 精通大数据分布式系统（Hadoop、Spark、MPPDB等）的架构...  Huawei   \n40   业务技能要求： 了解、执行业务范围内MPR、OTO等流程；具有伙伴合作能力、团队管理能力、营...  Huawei   \n690  业务技能要求： 1、具备数据中心运营服务的管理能力，能结合实际情况均衡考虑机房服务质量、效率...  Huawei   \n375  业务技能要求： 1、英语可作为工作语言； 2、成就导向，冲劲足，接受海外出差； 3、Base...  Huawei   \n419  业务技能要求： 1、具备较强的逻辑思维能力、数据分析能力、沟通能力和跨部门协调能力。 2、具...  Huawei   \n369  业务技能要求： 技能： 1、订单需求管理：备发货条件管理；订单计划制定与变更管理；订单状态管...  Huawei   \n342  业务技能要求： 熟练运用业务系统和管理工具，熟悉数据分析和挖掘工具、方法；具备物流履行与业务...  Huawei   \n231  知识： 1、熟悉产品知识、产品工艺知识、新产品导入流程，质量问题处理及闭环，质量控制等。 技...  Huawei   \n564  业务技能要求： 1、具有扎实的专业管理能力（建筑 / 土建结构 / 幕墙 / 强电 / 弱电...  Huawei   \n98   业务技能要求： 熟练掌握ICT行业市场分析、运营商客户需求洞察、产品解决方案宣讲、项目投标和...  Huawei   \n\n                  publish_date  \\\n767  2020-09-28 00:00:00+08:00   \n40   2022-06-25 00:00:00+08:00   \n690  2022-01-24 00:00:00+08:00   \n375  2022-05-12 00:00:00+08:00   \n419  2022-04-29 00:00:00+08:00   \n369  2022-05-13 00:00:00+08:00   \n342  2022-05-19 00:00:00+08:00   \n231  2022-06-04 00:00:00+08:00   \n564  2022-04-11 00:00:00+08:00   \n98   2022-06-15 00:00:00+08:00   \n\n                                           merged_info  \n767  Industry cloud computing solutions experts; \"1...  \n40   Channel sales commissioner;; partnership plann...  \n690  Cloud data center site manager;; comprehensive...  \n375  Financial solution experts; 1. In -depth insig...  \n419  Senior engineer of production plan; 1. Respons...  \n369  Order management engineer;; Standard responsib...  \n342  Logistics commissioner;; standard responsibili...  \n231  [Professional Category] Quality Control Engine...  \n564  Infrastructure project management experts (arc...  \n98   Senior product manager (professional category)...  ",
      "text/html": "<div>\n<style scoped>\n    .dataframe tbody tr th:only-of-type {\n        vertical-align: middle;\n    }\n\n    .dataframe tbody tr th {\n        vertical-align: top;\n    }\n\n    .dataframe thead th {\n        text-align: right;\n    }\n</style>\n<table border=\"1\" class=\"dataframe\">\n  <thead>\n    <tr style=\"text-align: right;\">\n      <th></th>\n      <th>title</th>\n      <th>description</th>\n      <th>responsibilities</th>\n      <th>qualifications</th>\n      <th>company</th>\n      <th>publish_date</th>\n      <th>merged_info</th>\n    </tr>\n  </thead>\n  <tbody>\n    <tr>\n      <th>767</th>\n      <td>行业云计算解决方案专家</td>\n      <td>NaN</td>\n      <td>\"1. 研究政务、税务、医疗、交通、教育等政企行业客户对大数据咨询、管理和分析等服务的需求，...</td>\n      <td>业务技能要求： \"1. 精通大数据分布式系统（Hadoop、Spark、MPPDB等）的架构...</td>\n      <td>Huawei</td>\n      <td>2020-09-28 00:00:00+08:00</td>\n      <td>Industry cloud computing solutions experts; \"1...</td>\n    </tr>\n    <tr>\n      <th>40</th>\n      <td>渠道销售专员</td>\n      <td>NaN</td>\n      <td>参与所属领域的合作伙伴规划，在指导下负责某个领域合作伙伴拓展、合作伙伴联合营销活动，实现所负...</td>\n      <td>业务技能要求： 了解、执行业务范围内MPR、OTO等流程；具有伙伴合作能力、团队管理能力、营...</td>\n      <td>Huawei</td>\n      <td>2022-06-25 00:00:00+08:00</td>\n      <td>Channel sales commissioner;; partnership plann...</td>\n    </tr>\n    <tr>\n      <th>690</th>\n      <td>云数据中心站点经理</td>\n      <td>NaN</td>\n      <td>全面负责国内或海外数据中心站点的运营管理、项目运作支持、机房服务、数据中心经营等职责，保障云...</td>\n      <td>业务技能要求： 1、具备数据中心运营服务的管理能力，能结合实际情况均衡考虑机房服务质量、效率...</td>\n      <td>Huawei</td>\n      <td>2022-01-24 00:00:00+08:00</td>\n      <td>Cloud data center site manager;; comprehensive...</td>\n    </tr>\n    <tr>\n      <th>375</th>\n      <td>金融解决方案专家</td>\n      <td>NaN</td>\n      <td>1、深入洞察金融行业ICT技术趋势，负责金融行业解决方案销售策略制定； 2、负责技术层的hi...</td>\n      <td>业务技能要求： 1、英语可作为工作语言； 2、成就导向，冲劲足，接受海外出差； 3、Base...</td>\n      <td>Huawei</td>\n      <td>2022-05-12 00:00:00+08:00</td>\n      <td>Financial solution experts; 1. In -depth insig...</td>\n    </tr>\n    <tr>\n      <th>419</th>\n      <td>生产计划高级工程师</td>\n      <td>NaN</td>\n      <td>1、负责与所覆盖区域做好供需协同，根据区域需求组织制定和实施供应中心计划，管理供需风 险，确...</td>\n      <td>业务技能要求： 1、具备较强的逻辑思维能力、数据分析能力、沟通能力和跨部门协调能力。 2、具...</td>\n      <td>Huawei</td>\n      <td>2022-04-29 00:00:00+08:00</td>\n      <td>Senior engineer of production plan; 1. Respons...</td>\n    </tr>\n    <tr>\n      <th>369</th>\n      <td>订单管理工程师</td>\n      <td>NaN</td>\n      <td>标准职责 供应中心面向区域中大型代表处 / 国家端到端订单履行方案的执行人，为所负责国家 /...</td>\n      <td>业务技能要求： 技能： 1、订单需求管理：备发货条件管理；订单计划制定与变更管理；订单状态管...</td>\n      <td>Huawei</td>\n      <td>2022-05-13 00:00:00+08:00</td>\n      <td>Order management engineer;; Standard responsib...</td>\n    </tr>\n    <tr>\n      <th>342</th>\n      <td>物流专员</td>\n      <td>NaN</td>\n      <td>标准职责 面向区域 / BG / 项目提供物流服务，适配物流解决方案，协调解决业务异常，协同...</td>\n      <td>业务技能要求： 熟练运用业务系统和管理工具，熟悉数据分析和挖掘工具、方法；具备物流履行与业务...</td>\n      <td>Huawei</td>\n      <td>2022-05-19 00:00:00+08:00</td>\n      <td>Logistics commissioner;; standard responsibili...</td>\n    </tr>\n    <tr>\n      <th>231</th>\n      <td>【专业类】质量控制工程师</td>\n      <td>NaN</td>\n      <td>1、基于产品早期质量策划，通过新产品试制导入验证，进行新产品质量验证，达成新产品上市质量目标...</td>\n      <td>知识： 1、熟悉产品知识、产品工艺知识、新产品导入流程，质量问题处理及闭环，质量控制等。 技...</td>\n      <td>Huawei</td>\n      <td>2022-06-04 00:00:00+08:00</td>\n      <td>[Professional Category] Quality Control Engine...</td>\n    </tr>\n    <tr>\n      <th>564</th>\n      <td>基建项目管理专家（建筑设计 / 精装 / 土建 / 机电 / 幕墙 / 园林 / 项目管理等）</td>\n      <td>NaN</td>\n      <td>清晰理解项目定位和要求，理解用户需求并转换为设计语言。 面向中小型项目，从可运维、可管理和业...</td>\n      <td>业务技能要求： 1、具有扎实的专业管理能力（建筑 / 土建结构 / 幕墙 / 强电 / 弱电...</td>\n      <td>Huawei</td>\n      <td>2022-04-11 00:00:00+08:00</td>\n      <td>Infrastructure project management experts (arc...</td>\n    </tr>\n    <tr>\n      <th>98</th>\n      <td>高级产品经理（专业类）</td>\n      <td>NaN</td>\n      <td>1、负责数据分析、数字化作战和跨产品拓展支持，对洞察营销数据及跨产品项目运作负责。 2、依据...</td>\n      <td>业务技能要求： 熟练掌握ICT行业市场分析、运营商客户需求洞察、产品解决方案宣讲、项目投标和...</td>\n      <td>Huawei</td>\n      <td>2022-06-15 00:00:00+08:00</td>\n      <td>Senior product manager (professional category)...</td>\n    </tr>\n  </tbody>\n</table>\n</div>"
     },
     "execution_count": 295,
     "metadata": {},
     "output_type": "execute_result"
    }
   ],
   "source": [
    "translated_merged_dataset[translated_merged_dataset['company'] == 'Huawei'].sample(10)"
   ],
   "metadata": {
    "collapsed": false,
    "pycharm": {
     "name": "#%%\n"
    }
   }
  },
  {
   "cell_type": "code",
   "execution_count": 296,
   "outputs": [],
   "source": [
    "remove_non_lat = lambda x: re.sub(' +', ' ', re.sub(r'[^a-zA-Z\\d\\s\\',.:!?()\\[\\]&{};-]', ' ', x)).strip()"
   ],
   "metadata": {
    "collapsed": false,
    "pycharm": {
     "name": "#%%\n"
    }
   }
  },
  {
   "cell_type": "code",
   "execution_count": 297,
   "outputs": [
    {
     "name": "stderr",
     "output_type": "stream",
     "text": [
      "100%|██████████| 38767/38767 [00:10<00:00, 3719.52it/s]\n"
     ]
    }
   ],
   "source": [
    "translated_merged_dataset['merged_info'] = translated_merged_dataset['merged_info'].progress_apply(remove_non_lat)"
   ],
   "metadata": {
    "collapsed": false,
    "pycharm": {
     "name": "#%%\n"
    }
   }
  },
  {
   "cell_type": "code",
   "execution_count": 322,
   "outputs": [],
   "source": [
    "translated_merged_dataset.to_csv('../results/translated_merged_dataset.csv', line_terminator='\\n')\n",
    "translated_merged_dataset.to_excel('../results/translated_merged_dataset.xlsx', engine='xlsxwriter')"
   ],
   "metadata": {
    "collapsed": false,
    "pycharm": {
     "name": "#%%\n"
    }
   }
  }
 ],
 "metadata": {
  "kernelspec": {
   "display_name": "Python 3",
   "language": "python",
   "name": "python3"
  },
  "language_info": {
   "codemirror_mode": {
    "name": "ipython",
    "version": 2
   },
   "file_extension": ".py",
   "mimetype": "text/x-python",
   "name": "python",
   "nbconvert_exporter": "python",
   "pygments_lexer": "ipython2",
   "version": "2.7.6"
  }
 },
 "nbformat": 4,
 "nbformat_minor": 0
}