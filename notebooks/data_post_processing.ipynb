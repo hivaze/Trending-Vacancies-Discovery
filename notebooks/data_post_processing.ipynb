{
 "cells": [
  {
   "cell_type": "code",
   "execution_count": 10,
   "metadata": {
    "collapsed": true,
    "pycharm": {
     "name": "#%%\n"
    }
   },
   "outputs": [],
   "source": [
    "import os\n",
    "import time\n",
    "import faker\n",
    "\n",
    "import pandas as pd\n",
    "import numpy as np\n",
    "\n",
    "from tqdm import tqdm\n",
    "import glob\n",
    "import requests\n",
    "from collections import Counter\n",
    "from concurrent.futures import ThreadPoolExecutor"
   ]
  },
  {
   "cell_type": "code",
   "execution_count": 11,
   "outputs": [],
   "source": [
    "import re\n",
    "import gcld3"
   ],
   "metadata": {
    "collapsed": false,
    "pycharm": {
     "name": "#%%\n"
    }
   }
  },
  {
   "cell_type": "code",
   "execution_count": 12,
   "outputs": [],
   "source": [
    "from googletrans import Translator\n",
    "from googletrans.client import Timeout"
   ],
   "metadata": {
    "collapsed": false,
    "pycharm": {
     "name": "#%%\n"
    }
   }
  },
  {
   "cell_type": "code",
   "execution_count": 13,
   "outputs": [],
   "source": [
    "tqdm.pandas()"
   ],
   "metadata": {
    "collapsed": false,
    "pycharm": {
     "name": "#%%\n"
    }
   }
  },
  {
   "cell_type": "code",
   "execution_count": 14,
   "outputs": [],
   "source": [
    "fake = faker.Faker(locale='en')"
   ],
   "metadata": {
    "collapsed": false,
    "pycharm": {
     "name": "#%%\n"
    }
   }
  },
  {
   "cell_type": "code",
   "execution_count": 15,
   "outputs": [],
   "source": [
    "lang_detector = gcld3.NNetLanguageIdentifier(min_num_bytes=0, max_num_bytes=800)"
   ],
   "metadata": {
    "collapsed": false,
    "pycharm": {
     "name": "#%%\n"
    }
   }
  },
  {
   "cell_type": "markdown",
   "source": [
    "## Clearing of all csv's, drop duplicates and full nans"
   ],
   "metadata": {
    "collapsed": false,
    "pycharm": {
     "name": "#%% md\n"
    }
   }
  },
  {
   "cell_type": "code",
   "execution_count": 72,
   "outputs": [],
   "source": [
    "clear_string = lambda x: re.sub(' +', ' ',\n",
    "                                re.sub('https?:\\/\\/.+\\s', ' [URL] ',\n",
    "                                       re.sub('<.*?>', ' ', str(x))\n",
    "                                       .replace(\"&nbsp;\", \"\")\n",
    "                                       .replace(\"&rsquo;\", \"'\")\n",
    "                                       .replace(\"&amp;\", \"&\")\n",
    "                                       .replace(\"\\u202f\", \" \")\n",
    "                                       .replace(\"\\xa0\", \" \")\n",
    "                                       .replace(\"&mdash;\", \"-\")\n",
    "                                       .replace('.', '. ')\n",
    "                                       .replace('\\t', ' ')\n",
    "                                       .replace(\"•\", \"-\")\n",
    "                                       .replace(\"·\", \"-\")\n",
    "                                       .replace(\"•\", \"-\")\n",
    "                                       .replace(\"●\", \"-\")\n",
    "                                       .replace('\\n', ' ')\n",
    "                                       ).replace('/', ' / ').replace('\\\\', ' \\ ').replace('|', ' | ')\n",
    "                                ).strip()"
   ],
   "metadata": {
    "collapsed": false,
    "pycharm": {
     "name": "#%%\n"
    }
   }
  },
  {
   "cell_type": "code",
   "execution_count": 73,
   "outputs": [
    {
     "data": {
      "text/plain": "31"
     },
     "execution_count": 73,
     "metadata": {},
     "output_type": "execute_result"
    }
   ],
   "source": [
    "csv_files = glob.glob('../data/*/*.csv')\n",
    "len(csv_files)"
   ],
   "metadata": {
    "collapsed": false,
    "pycharm": {
     "name": "#%%\n"
    }
   }
  },
  {
   "cell_type": "code",
   "execution_count": 74,
   "outputs": [],
   "source": [
    "def get_last_modified(file_paths) -> list:\n",
    "    file_paths = [x[0] for x in sorted([(x, os.stat(x).st_mtime) for x in file_paths], key=lambda x: x[1], reverse=True)]\n",
    "    result_list = []\n",
    "    company_counter = Counter()\n",
    "    for x in file_paths:\n",
    "        company = x.split('/')[2]\n",
    "        if company_counter[company] == 0:\n",
    "            company_counter[company] += 1\n",
    "            result_list.append(x)\n",
    "    return result_list"
   ],
   "metadata": {
    "collapsed": false,
    "pycharm": {
     "name": "#%%\n"
    }
   }
  },
  {
   "cell_type": "code",
   "execution_count": 90,
   "outputs": [],
   "source": [
    "csv_files = get_last_modified(csv_files)"
   ],
   "metadata": {
    "collapsed": false,
    "pycharm": {
     "name": "#%%\n"
    }
   }
  },
  {
   "cell_type": "code",
   "execution_count": 91,
   "outputs": [
    {
     "data": {
      "text/plain": "Empty DataFrame\nColumns: [title, internal_id, url, description, responsibilities, qualifications, location, category, company, publish_date]\nIndex: []",
      "text/html": "<div>\n<style scoped>\n    .dataframe tbody tr th:only-of-type {\n        vertical-align: middle;\n    }\n\n    .dataframe tbody tr th {\n        vertical-align: top;\n    }\n\n    .dataframe thead th {\n        text-align: right;\n    }\n</style>\n<table border=\"1\" class=\"dataframe\">\n  <thead>\n    <tr style=\"text-align: right;\">\n      <th></th>\n      <th>title</th>\n      <th>internal_id</th>\n      <th>url</th>\n      <th>description</th>\n      <th>responsibilities</th>\n      <th>qualifications</th>\n      <th>location</th>\n      <th>category</th>\n      <th>company</th>\n      <th>publish_date</th>\n    </tr>\n  </thead>\n  <tbody>\n  </tbody>\n</table>\n</div>"
     },
     "execution_count": 91,
     "metadata": {},
     "output_type": "execute_result"
    }
   ],
   "source": [
    "_test = pd.read_csv(csv_files[5], index_col=0, lineterminator='\\n')\n",
    "_test[_test.duplicated(['company', 'title', 'internal_id'], keep=False)].sort_values('internal_id')"
   ],
   "metadata": {
    "collapsed": false,
    "pycharm": {
     "name": "#%%\n"
    }
   }
  },
  {
   "cell_type": "code",
   "execution_count": 79,
   "outputs": [
    {
     "name": "stderr",
     "output_type": "stream",
     "text": [
      "100%|██████████| 14/14 [00:20<00:00,  1.44s/it]\n"
     ]
    }
   ],
   "source": [
    "for file in tqdm(csv_files):\n",
    "    file_name = file.rsplit('.', 1)[0]\n",
    "    compnany_name = file.split('/')[2]\n",
    "    df = pd.read_csv(file, index_col=0, lineterminator='\\n')\n",
    "\n",
    "    df['title'] = df['title'].apply(clear_string)\n",
    "    df['description'] = df['description'].fillna('N/A').apply(clear_string)\n",
    "    df['responsibilities'] = df['responsibilities'].fillna('N/A').apply(clear_string)\n",
    "    df['qualifications'] = df['qualifications'].fillna('N/A').apply(clear_string)\n",
    "\n",
    "    df.replace('N / A', None, inplace=True)\n",
    "    df.drop_duplicates(subset=['company', 'title', 'internal_id'], inplace=True) # drop by company and id duplication\n",
    "    df.dropna(subset=['description', 'responsibilities', 'qualifications'], how='all', inplace=True)\n",
    "\n",
    "    df.to_csv(file_name + '.csv', line_terminator='\\n')\n",
    "    df.to_excel(file_name + '.xlsx', engine='xlsxwriter')"
   ],
   "metadata": {
    "collapsed": false,
    "pycharm": {
     "name": "#%%\n"
    }
   }
  },
  {
   "cell_type": "markdown",
   "source": [
    "## Merging in one DF"
   ],
   "metadata": {
    "collapsed": false,
    "pycharm": {
     "name": "#%% md\n"
    }
   }
  },
  {
   "cell_type": "code",
   "execution_count": 92,
   "outputs": [
    {
     "name": "stderr",
     "output_type": "stream",
     "text": [
      "100%|██████████| 14/14 [00:01<00:00, 12.84it/s]"
     ]
    },
    {
     "name": "stdout",
     "output_type": "stream",
     "text": [
      "<class 'pandas.core.frame.DataFrame'>\n",
      "Int64Index: 42019 entries, 4 to 1286\n",
      "Data columns (total 6 columns):\n",
      " #   Column            Non-Null Count  Dtype \n",
      "---  ------            --------------  ----- \n",
      " 0   title             42019 non-null  object\n",
      " 1   description       38891 non-null  object\n",
      " 2   responsibilities  30850 non-null  object\n",
      " 3   qualifications    40602 non-null  object\n",
      " 4   company           42019 non-null  object\n",
      " 5   publish_date      41165 non-null  object\n",
      "dtypes: object(6)\n",
      "memory usage: 2.2+ MB\n"
     ]
    },
    {
     "name": "stderr",
     "output_type": "stream",
     "text": [
      "\n"
     ]
    }
   ],
   "source": [
    "data_frames = []\n",
    "for file in tqdm(csv_files):\n",
    "    file_name = file.rsplit('.', 1)[0]\n",
    "    compnany_name = file.split('/')[2]\n",
    "\n",
    "    df = pd.read_csv(file, index_col=0, lineterminator='\\n')\n",
    "    data_frames.append(df[['title', 'description', 'responsibilities', 'qualifications', 'company' ,'publish_date']])\n",
    "\n",
    "merged_dataset = pd.concat(data_frames)\n",
    "merged_dataset.info()"
   ],
   "metadata": {
    "collapsed": false,
    "pycharm": {
     "name": "#%%\n"
    }
   }
  },
  {
   "cell_type": "code",
   "execution_count": 101,
   "outputs": [
    {
     "data": {
      "text/plain": "Amazon       10000\nIBM           8598\nApple         8073\nMicrosoft     5124\nGoogle        3900\nTencent       1801\nSber          1286\nYandex         854\nHuawei         773\nMTS            678\nOzon           411\nAlibaba        310\nTinkoff        164\nDeepMind        47\nName: company, dtype: int64"
     },
     "execution_count": 101,
     "metadata": {},
     "output_type": "execute_result"
    }
   ],
   "source": [
    "merged_dataset['company'].value_counts()"
   ],
   "metadata": {
    "collapsed": false,
    "pycharm": {
     "name": "#%%\n"
    }
   }
  },
  {
   "cell_type": "code",
   "execution_count": 104,
   "outputs": [],
   "source": [
    "nan_replaced = merged_dataset.fillna('')\n",
    "merged_dataset['merged_info'] = nan_replaced['title']+ ' ; ' + nan_replaced['description'] + ' ; ' + nan_replaced['responsibilities'] + ' ; ' + nan_replaced['qualifications']"
   ],
   "metadata": {
    "collapsed": false,
    "pycharm": {
     "name": "#%%\n"
    }
   }
  },
  {
   "cell_type": "code",
   "execution_count": 105,
   "outputs": [
    {
     "data": {
      "text/plain": "                                                  title  \\\n500      Program Manager II, Supply and Demand Planning   \n2866    Application Developer: Adobe Experience Manager   \n1017                           Senior Software Engineer   \n368        Инженер по автоматизации тестирования, Склад   \n4679  Software Development Engineer, Fulfillment Tra...   \n\n                                            description  \\\n500   A problem isn’t truly solved until it’s solved...   \n2866  As an Application Developer, you will lead IBM...   \n1017  Do you enjoy solving business problems through...   \n368   Вам предстоит заняться тестированием одной из ...   \n4679  Job summary Amazon operates one of the world's...   \n\n                                       responsibilities  \\\n500   Develop short and long-term supply and demand ...   \n2866  You will translate complex functional, technic...   \n1017  Collaborate with delivery teams and customers'...   \n368                                                 NaN   \n4679                                                NaN   \n\n                                         qualifications    company  \\\n500   Minimum qualifications: Bachelor's degree or e...     Google   \n2866  Minimum 4+ years in development using DevOps a...        IBM   \n1017  Required Qualifications: At least 5 years of c...  Microsoft   \n368                                                 NaN       Ozon   \n4679  1+ years of experience contributing to the sys...     Amazon   \n\n                 publish_date  \\\n500   2022-07-18 19:01:33.841   \n2866      2022-07-27 14:44:11   \n1017      2022-07-29 21:24:00   \n368       2022-07-18 10:02:24   \n4679               2022-08-01   \n\n                                            merged_info  \n500   Program Manager II, Supply and Demand Planning...  \n2866  Application Developer: Adobe Experience Manage...  \n1017  Senior Software Engineer ; Do you enjoy solvin...  \n368   Инженер по автоматизации тестирования, Склад ;...  \n4679  Software Development Engineer, Fulfillment Tra...  ",
      "text/html": "<div>\n<style scoped>\n    .dataframe tbody tr th:only-of-type {\n        vertical-align: middle;\n    }\n\n    .dataframe tbody tr th {\n        vertical-align: top;\n    }\n\n    .dataframe thead th {\n        text-align: right;\n    }\n</style>\n<table border=\"1\" class=\"dataframe\">\n  <thead>\n    <tr style=\"text-align: right;\">\n      <th></th>\n      <th>title</th>\n      <th>description</th>\n      <th>responsibilities</th>\n      <th>qualifications</th>\n      <th>company</th>\n      <th>publish_date</th>\n      <th>merged_info</th>\n    </tr>\n  </thead>\n  <tbody>\n    <tr>\n      <th>500</th>\n      <td>Program Manager II, Supply and Demand Planning</td>\n      <td>A problem isn’t truly solved until it’s solved...</td>\n      <td>Develop short and long-term supply and demand ...</td>\n      <td>Minimum qualifications: Bachelor's degree or e...</td>\n      <td>Google</td>\n      <td>2022-07-18 19:01:33.841</td>\n      <td>Program Manager II, Supply and Demand Planning...</td>\n    </tr>\n    <tr>\n      <th>2866</th>\n      <td>Application Developer: Adobe Experience Manager</td>\n      <td>As an Application Developer, you will lead IBM...</td>\n      <td>You will translate complex functional, technic...</td>\n      <td>Minimum 4+ years in development using DevOps a...</td>\n      <td>IBM</td>\n      <td>2022-07-27 14:44:11</td>\n      <td>Application Developer: Adobe Experience Manage...</td>\n    </tr>\n    <tr>\n      <th>1017</th>\n      <td>Senior Software Engineer</td>\n      <td>Do you enjoy solving business problems through...</td>\n      <td>Collaborate with delivery teams and customers'...</td>\n      <td>Required Qualifications: At least 5 years of c...</td>\n      <td>Microsoft</td>\n      <td>2022-07-29 21:24:00</td>\n      <td>Senior Software Engineer ; Do you enjoy solvin...</td>\n    </tr>\n    <tr>\n      <th>368</th>\n      <td>Инженер по автоматизации тестирования, Склад</td>\n      <td>Вам предстоит заняться тестированием одной из ...</td>\n      <td>NaN</td>\n      <td>NaN</td>\n      <td>Ozon</td>\n      <td>2022-07-18 10:02:24</td>\n      <td>Инженер по автоматизации тестирования, Склад ;...</td>\n    </tr>\n    <tr>\n      <th>4679</th>\n      <td>Software Development Engineer, Fulfillment Tra...</td>\n      <td>Job summary Amazon operates one of the world's...</td>\n      <td>NaN</td>\n      <td>1+ years of experience contributing to the sys...</td>\n      <td>Amazon</td>\n      <td>2022-08-01</td>\n      <td>Software Development Engineer, Fulfillment Tra...</td>\n    </tr>\n  </tbody>\n</table>\n</div>"
     },
     "execution_count": 105,
     "metadata": {},
     "output_type": "execute_result"
    }
   ],
   "source": [
    "merged_dataset.sample(5)"
   ],
   "metadata": {
    "collapsed": false,
    "pycharm": {
     "name": "#%%\n"
    }
   }
  },
  {
   "cell_type": "markdown",
   "source": [
    "## Translating to english of merged_info"
   ],
   "metadata": {
    "collapsed": false,
    "pycharm": {
     "name": "#%% md\n"
    }
   }
  },
  {
   "cell_type": "markdown",
   "source": [
    "### Google API"
   ],
   "metadata": {
    "collapsed": false,
    "pycharm": {
     "name": "#%% md\n"
    }
   }
  },
  {
   "cell_type": "code",
   "execution_count": 106,
   "outputs": [],
   "source": [
    "def google_translate_text(text: str, from_lang='auto', g_translator=Translator(user_agent=fake.chrome(), timeout=Timeout(10)), char_limit=5000):\n",
    "    try:\n",
    "        text = g_translator.translate(text[:char_limit], dest='en', src=from_lang).text\n",
    "    except Exception as e:\n",
    "        print(e)\n",
    "    time.sleep(0.2) # 200 ms wait\n",
    "    return text"
   ],
   "metadata": {
    "collapsed": false,
    "pycharm": {
     "name": "#%%\n"
    }
   }
  },
  {
   "cell_type": "markdown",
   "source": [
    "### LibriTranslate API"
   ],
   "metadata": {
    "collapsed": false,
    "pycharm": {
     "name": "#%% md\n"
    }
   }
  },
  {
   "cell_type": "code",
   "execution_count": 95,
   "outputs": [],
   "source": [
    "LIBRE_TRANSLATE_API_KEY = \"8fbcf6c1-5e6d-4391-956c-c854da647f9e\"\n",
    "LIBRE_API_URL = \"https://libretranslate.com/translate\"\n",
    "# LIBRE_TRANSLATE_API_KEY = \"\"\n",
    "# LIBRE_API_URL = \"http://84.38.185.155:5000/translate\""
   ],
   "metadata": {
    "collapsed": false,
    "pycharm": {
     "name": "#%%\n"
    }
   }
  },
  {
   "cell_type": "code",
   "execution_count": 96,
   "outputs": [],
   "source": [
    "def libri_translate_text(text: str, from_lang='auto', timeout=20, char_limit=5000):\n",
    "    payload = {\n",
    "        'q': text[:char_limit],\n",
    "        'source': from_lang,\n",
    "        'target': 'en',\n",
    "        'format': 'text',\n",
    "        'api_key': LIBRE_TRANSLATE_API_KEY\n",
    "    }\n",
    "    libre_headers = {\n",
    "        'user-agent': fake.chrome(),\n",
    "    }\n",
    "    try:\n",
    "        result = requests.post(LIBRE_API_URL, data=payload, headers=libre_headers, timeout=timeout).json()\n",
    "        # print(result)\n",
    "        return result['translatedText']\n",
    "    except Exception as e:\n",
    "        # print(e)\n",
    "        return text"
   ],
   "metadata": {
    "collapsed": false,
    "pycharm": {
     "name": "#%%\n"
    }
   }
  },
  {
   "cell_type": "markdown",
   "source": [
    "### Support methods"
   ],
   "metadata": {
    "collapsed": false,
    "pycharm": {
     "name": "#%% md\n"
    }
   }
  },
  {
   "cell_type": "code",
   "execution_count": 108,
   "outputs": [],
   "source": [
    "def translate_df_row(row: pd.Series, nan_symbol='N / A'):\n",
    "    original_lang = lang_detector.FindLanguage(row['merged_info'][:200]).language\n",
    "    if original_lang != 'en':\n",
    "        row['merged_info'] = google_translate_text(row['merged_info'], from_lang='auto')\n",
    "        row['title'] = row['merged_info'].split(';', maxsplit=1)[0]\n",
    "\n",
    "        # row['merged_info'] = libri_translate_text(row['merged_info'], from_lang=original_lang, timeout=35)\n",
    "        # row['title'] = libri_translate_text(row['title'], from_lang=original_lang)\n",
    "\n",
    "        # if row['description'] != nan_symbol:\n",
    "        #     row['description'] = libri_translate_text(row['description'], from_lang=original_lang)\n",
    "        # if row['responsibilities'] != nan_symbol:\n",
    "        #     row['responsibilities'] = libri_translate_text(row['responsibilities'], from_lang=original_lang)\n",
    "        # if row['qualifications'] != nan_symbol:\n",
    "        #     row['qualifications'] = libri_translate_text(row['qualifications'], from_lang=original_lang)\n",
    "\n",
    "    return row"
   ],
   "metadata": {
    "collapsed": false,
    "pycharm": {
     "name": "#%%\n"
    }
   }
  },
  {
   "cell_type": "code",
   "execution_count": 109,
   "outputs": [],
   "source": [
    "def df_parallel_apply(df, func, n_cores=4, axis=1):\n",
    "    df_split = np.array_split(df, n_cores)\n",
    "    with ThreadPoolExecutor(max_workers=n_cores) as executor:\n",
    "        futures = [executor.submit(lambda: part.apply(func, axis=axis)) for part in df_split]\n",
    "        executor.shutdown(wait=True)\n",
    "    transformed_parts = [f.result() for f in futures]\n",
    "    return pd.concat(transformed_parts)"
   ],
   "metadata": {
    "collapsed": false,
    "pycharm": {
     "name": "#%%\n"
    }
   }
  },
  {
   "cell_type": "code",
   "execution_count": 115,
   "outputs": [
    {
     "name": "stdout",
     "output_type": "stream",
     "text": [
      "971 766\n",
      "CPU times: user 17.7 ms, sys: 0 ns, total: 17.7 ms\n",
      "Wall time: 327 ms\n"
     ]
    },
    {
     "data": {
      "text/plain": "991"
     },
     "execution_count": 115,
     "metadata": {},
     "output_type": "execute_result"
    }
   ],
   "source": [
    "%%time\n",
    "test_text = 'Первые впечатления Переночевав в гостинице в Гуаякиле, мы сели к агенту в машину и поехали на судно в Пуэрто Боливар. Доехали вопреки ожиданиям быстро, примерно за 3-4 часа. Погода была пасмурная и даже не смотря на то, что мы находимся недалеко от экватора, было прохладно. Почти все время, пока мы ехали, по обе стороны дороги были банановые плантации, но все равно в голове не укладывается: эти бананы грузят на суда в нескольких портах Эквадора десятками тысяч тонн каждый день, круглый год. Это ж несчастные бананы должны расти быстрее чем грибы. Дороги. Дороги в Эквадоре практически идеальные, хотя населенные пункты выглядят очень бедно. На дорогах много интересных машин, например очень много грузовиков - древних Фордов, которые я никогда раньше не видел. А еще несколько раз на глаза попадались старенькие Жигули :) А еще если кого-то обгоняешь и есть встречная машина, она обязательно включает фары. На больших машинах - грузовиках и автобусах, обязательно красуется местный тюнинг: машины разукрашенные, либо в наклейках, и обязательно везде огромное множество светодиодов, как будто новогодние елки едут и переливаются всеми цветами. Судно. На первый взгляд судно неплохое, в относительно хорошем состоянии, хотя и 92 года постройки. Экипаж 19 человек - 11 русских и 8 филиппинцев, включая повара. Говорят, периодически становится тоскливо от егошних кулинарных изысков. Филиппинцы здесь рядовой состав, за ними постоянно нужно следить чтобы не натворили чего, среди них только один матрос по-настоящему ответственный и с руками из нужного места, все понимает с полуслова. Остальные - типичные Равшаны да Джамшуты. А еще один из них - О___о, в добавок к этому он опасный человек, в том плане, что легко впадает в состояние ступора и отключает мозг: был случай как он закрыл одного матроса в трюме, тот орал и тарабанил внутри, это заметил боцман, начал орать на этого персонажа, который, в свою очередь испуганно выпучив глаза, трясущимися руками продолжал закручивать барашки. В итоге боцман его отодвинул и выпустил матроса из трюма. Общение на английском языке, но из-за акцента не всегда с первого раз понятно что филиппинцы говорят, особенно по рации. Напимер, говорит он тебе: Бикарпуль! Бикарпуль! А потом, когда уже поздно, выясняется что это было \"Be careful!\" Работа. Сразу, как только мы заселились, я не успел разложить вещи, как в мою голову ворвался такой поток информации, что ни в сказке сказать, ни топором не вырубить. Во-первых, на судне абсолютно все бумаги - мануалы, журналы, и так далее - все на английском языке. Даже блокнотик, в который записываются отчеты по грузовым операциям - и тот на английском. Бумаги... ооооо... Их тысячи, лежат в сотнях папок, плюс огромное количество документов на компьютерах. Это мне просто разорвало мозг в клочья, потому что с этим объемом информации надо ознакомиться и научиться работать в кротчайшие сроки. Постоянная беготня, постоянная суета, совсем не легко. А также надо как можно быстрее разобраться со всем оборудованием на мостике, а там его мама не горюй. В общем, пока что, свободного времени нет вообще. Абсолютно. Только ночью с 00:00 до 06:00 можно поспать. Но это продлится не долго, буквально 1-2 недели, потом океанский переход до Европы, можно будет уже спокойно стоять вахты, а в свободное время читать книги компании Seatrade, на случай если в Европе придет проверка и будет задавать вопросы. Ну и немного о приятном. Неплохая одноместная каюта. Внутри несколько шкафов и полок, удобная кровать, койка напередохнуть, стол, стул, умывальник и внутрисудовой телефон. Также выдали 2 белых офицерских комбинезона с символикой компании, каску и персональную рацию. В моем распоряжении офицерский душ со стиральной машинкой и офицерская столовая. Во время швартовых операций мое место на мостике. Хотя и матросы на палубе не сильно напрягаются - там установлены гидравлические лебедки, не надо швартовные концы тягать вручную. На этом пока все, фоток пока что нет, потому что просто некогда этим заниматься. Даже этот текст я пишу потому что просто появилось свободных 2 часа, отпустили отдохнуть, так как впереди 6-часовая вахта, а сразу после нее отшвартовка и идем в Гуаякиль, а во время отшвартовки и пока лоцман на судне - мое место на мостике. Так что, предстоит основательно заколебаться. Возле входа в канал находится якорная стоянка, где куча судов стоит и ждет своей очереди на проход. Но, нам дали добро на проход практически без ожидания и постояв на якоре всего три часа, приехал лоцман, скомандовал \"dead slow ahead\" (самый малый вперед), я перевел ручку машинного телеграфа, похожую на автомобильный рычаг автоматической коробки передач в указанное положение, на что телеграф отозвался громким сигналом. Стрелка тахометра поползла вверх, судно слегка задрожало и мы медленно но верно начали набирать скорость и двигаться в сторону канала. Вход в канал со стороны океана выделен буями - десятки буев, выстроенные в две линии показывают единственный верный путь, выгладит грандиозно. А справа, за пальмами и дорогими виллами со стоящими рядом с ними роскошными яхтами, простирется огромный город небоскребов - Панама. А через десять минут открылось еще одно не менее грандиозное зрелище - строительство новых шлюзов, которые будут пропускать суда бОльших размеров, чем нынешние шлюзы. Но тут впереди из-за поворота показалась огромная стена, которая двигалась в нашу сторону. Навстречу нам шло судно-автомобилевоз Green Cove и так как канал - место совсем не широкое, автомобилевоз прошел от нас всего в 50 метрах, непривычно было стоя на мостике наблюдать столь близкое расхождение. А вот и буксиры. Это значит что мы подходим к шлюзам. Только мы подошли к шлюзу, как тут же нас привязали к резвым локомотивам - Мулам. Дальше все зависело только от них. 4 Мула держали нас с разных сторон и уже они руководили процессом, они нас резво разгоняли и останавливали в нужном месте и терпеливо ждали пока шлюз не наполнится водой. Так как наше судно не очень широкое, проблем с заходом в шлюз не было, а по длине получилось так, что за нами сзади поместилось еще одно небольшое судно. Правда мы оказались более быстроходными и пока мы шли от тихоокеанских до атлантических шлюзов по каналу и озеру Гатун, это судно безнадежно отстало, но нам пришлось его ждать :('\n",
    "print(test_text.split(' ').__len__(), test_text[:5000].split(' ').__len__())\n",
    "google_translate_text(test_text, from_lang='auto').split(' ').__len__()"
   ],
   "metadata": {
    "collapsed": false,
    "pycharm": {
     "name": "#%%\n"
    }
   }
  },
  {
   "cell_type": "code",
   "execution_count": 114,
   "outputs": [
    {
     "name": "stdout",
     "output_type": "stream",
     "text": [
      "CPU times: user 74.9 ms, sys: 4.16 ms, total: 79 ms\n",
      "Wall time: 460 ms\n"
     ]
    },
    {
     "data": {
      "text/plain": "[991, 991, 991, 991]"
     },
     "execution_count": 114,
     "metadata": {},
     "output_type": "execute_result"
    }
   ],
   "source": [
    "%%time\n",
    "with ThreadPoolExecutor(max_workers=4) as executor:\n",
    "    futures = [executor.submit(lambda: google_translate_text(test_text[:5000], from_lang='ru')) for i in range(4)]\n",
    "    executor.shutdown(wait=True)\n",
    "transformed_parts = [f.result() for f in futures]\n",
    "[x.split(' ').__len__() for x in transformed_parts]"
   ],
   "metadata": {
    "collapsed": false,
    "pycharm": {
     "name": "#%%\n"
    }
   }
  },
  {
   "cell_type": "markdown",
   "source": [
    "### Transalting & cleaning process"
   ],
   "metadata": {
    "collapsed": false,
    "pycharm": {
     "name": "#%% md\n"
    }
   }
  },
  {
   "cell_type": "code",
   "execution_count": 116,
   "outputs": [
    {
     "name": "stderr",
     "output_type": "stream",
     "text": [
      "100%|██████████| 5/5 [00:21<00:00,  4.21s/it]"
     ]
    },
    {
     "name": "stdout",
     "output_type": "stream",
     "text": [
      "CPU times: user 104 ms, sys: 16.5 ms, total: 121 ms\n",
      "Wall time: 21 s\n"
     ]
    },
    {
     "name": "stderr",
     "output_type": "stream",
     "text": [
      "\n"
     ]
    },
    {
     "data": {
      "text/plain": "                                               title  \\\n0  Financial consultant (delivery of banking prod...   \n1                     Traineer traineer (investment)   \n2                     Network expert (Remote Access)   \n3        QA Automation Engineer (project mlstorager)   \n4                                   Icassator driver   \n\n                                         description  \\\n0                                                NaN   \n1  Сбер - это крупнейшая цифровая экосистема. Тех...   \n2                                                NaN   \n3  О компании: АО «Сбербанк-Технологии» - российс...   \n4  Водители-инкассаторы— это настоящие профессион...   \n\n                                    responsibilities  \\\n0  Финансовый консультант – это новая перспективн...   \n1  Тестирование веб приложений, мобильных приложе...   \n2  Развитие сервиса Remote access в банке; Админи...   \n3  Мы ценим: Готовность работать самостоятельно и...   \n4  Тебе предстоит: перевозить денежные средства, ...   \n\n                                      qualifications company  \\\n0  Ты нам подходишь, если: - Ранее занимался дост...    Sber   \n1  Практический опыт функционального, интеграцион...    Sber   \n2  Высшее техническое образование; Опыт работы в ...    Sber   \n3  Мы ищем человека, который: Имеет опыт работы т...    Sber   \n4  Мы ждем от тебя: готовность работать на маршру...    Sber   \n\n          publish_date                                        merged_info  \n0  2022-01-12 00:00:00  Financial consultant (delivery of banking prod...  \n1  2021-12-09 00:00:00  Traineer traineer (investment); Sber is the la...  \n2  2022-02-22 00:00:00  Network expert (Remote Access); ; Development ...  \n3  2022-02-28 00:00:00  QA Automation Engineer (project mlstorager); A...  \n4  2022-02-28 00:00:00  Icassator driver; INCASSITA drivers are real p...  ",
      "text/html": "<div>\n<style scoped>\n    .dataframe tbody tr th:only-of-type {\n        vertical-align: middle;\n    }\n\n    .dataframe tbody tr th {\n        vertical-align: top;\n    }\n\n    .dataframe thead th {\n        text-align: right;\n    }\n</style>\n<table border=\"1\" class=\"dataframe\">\n  <thead>\n    <tr style=\"text-align: right;\">\n      <th></th>\n      <th>title</th>\n      <th>description</th>\n      <th>responsibilities</th>\n      <th>qualifications</th>\n      <th>company</th>\n      <th>publish_date</th>\n      <th>merged_info</th>\n    </tr>\n  </thead>\n  <tbody>\n    <tr>\n      <th>0</th>\n      <td>Financial consultant (delivery of banking prod...</td>\n      <td>NaN</td>\n      <td>Финансовый консультант – это новая перспективн...</td>\n      <td>Ты нам подходишь, если: - Ранее занимался дост...</td>\n      <td>Sber</td>\n      <td>2022-01-12 00:00:00</td>\n      <td>Financial consultant (delivery of banking prod...</td>\n    </tr>\n    <tr>\n      <th>1</th>\n      <td>Traineer traineer (investment)</td>\n      <td>Сбер - это крупнейшая цифровая экосистема. Тех...</td>\n      <td>Тестирование веб приложений, мобильных приложе...</td>\n      <td>Практический опыт функционального, интеграцион...</td>\n      <td>Sber</td>\n      <td>2021-12-09 00:00:00</td>\n      <td>Traineer traineer (investment); Sber is the la...</td>\n    </tr>\n    <tr>\n      <th>2</th>\n      <td>Network expert (Remote Access)</td>\n      <td>NaN</td>\n      <td>Развитие сервиса Remote access в банке; Админи...</td>\n      <td>Высшее техническое образование; Опыт работы в ...</td>\n      <td>Sber</td>\n      <td>2022-02-22 00:00:00</td>\n      <td>Network expert (Remote Access); ; Development ...</td>\n    </tr>\n    <tr>\n      <th>3</th>\n      <td>QA Automation Engineer (project mlstorager)</td>\n      <td>О компании: АО «Сбербанк-Технологии» - российс...</td>\n      <td>Мы ценим: Готовность работать самостоятельно и...</td>\n      <td>Мы ищем человека, который: Имеет опыт работы т...</td>\n      <td>Sber</td>\n      <td>2022-02-28 00:00:00</td>\n      <td>QA Automation Engineer (project mlstorager); A...</td>\n    </tr>\n    <tr>\n      <th>4</th>\n      <td>Icassator driver</td>\n      <td>Водители-инкассаторы— это настоящие профессион...</td>\n      <td>Тебе предстоит: перевозить денежные средства, ...</td>\n      <td>Мы ждем от тебя: готовность работать на маршру...</td>\n      <td>Sber</td>\n      <td>2022-02-28 00:00:00</td>\n      <td>Icassator driver; INCASSITA drivers are real p...</td>\n    </tr>\n  </tbody>\n</table>\n</div>"
     },
     "execution_count": 116,
     "metadata": {},
     "output_type": "execute_result"
    }
   ],
   "source": [
    "%%time\n",
    "merged_dataset[merged_dataset['company'] == 'Sber'][:5].progress_apply(translate_df_row, axis=1)"
   ],
   "metadata": {
    "collapsed": false,
    "pycharm": {
     "name": "#%%\n"
    }
   }
  },
  {
   "cell_type": "code",
   "execution_count": 117,
   "outputs": [
    {
     "name": "stderr",
     "output_type": "stream",
     "text": [
      " 98%|█████████▊| 41194/42019 [2:05:27<15:30,  1.13s/it]   "
     ]
    },
    {
     "name": "stdout",
     "output_type": "stream",
     "text": [
      "The read operation timed out\n"
     ]
    },
    {
     "name": "stderr",
     "output_type": "stream",
     "text": [
      "100%|██████████| 42019/42019 [2:24:15<00:00,  4.85it/s]"
     ]
    },
    {
     "name": "stdout",
     "output_type": "stream",
     "text": [
      "CPU times: user 2min 19s, sys: 7.37 s, total: 2min 27s\n",
      "Wall time: 2h 24min 15s\n"
     ]
    },
    {
     "name": "stderr",
     "output_type": "stream",
     "text": [
      "\n"
     ]
    }
   ],
   "source": [
    "%%time\n",
    "translated_merged_dataset = merged_dataset.progress_apply(translate_df_row, axis=1)"
   ],
   "metadata": {
    "collapsed": false,
    "pycharm": {
     "name": "#%%\n"
    }
   }
  },
  {
   "cell_type": "code",
   "execution_count": 118,
   "outputs": [
    {
     "name": "stdout",
     "output_type": "stream",
     "text": [
      "<class 'pandas.core.frame.DataFrame'>\n",
      "Int64Index: 42019 entries, 4 to 1286\n",
      "Data columns (total 7 columns):\n",
      " #   Column            Non-Null Count  Dtype \n",
      "---  ------            --------------  ----- \n",
      " 0   title             42019 non-null  object\n",
      " 1   description       38891 non-null  object\n",
      " 2   responsibilities  30850 non-null  object\n",
      " 3   qualifications    40602 non-null  object\n",
      " 4   company           42019 non-null  object\n",
      " 5   publish_date      41165 non-null  object\n",
      " 6   merged_info       42019 non-null  object\n",
      "dtypes: object(7)\n",
      "memory usage: 2.6+ MB\n"
     ]
    }
   ],
   "source": [
    "translated_merged_dataset.info()"
   ],
   "metadata": {
    "collapsed": false,
    "pycharm": {
     "name": "#%%\n"
    }
   }
  },
  {
   "cell_type": "code",
   "execution_count": 120,
   "outputs": [
    {
     "name": "stderr",
     "output_type": "stream",
     "text": [
      "100%|██████████| 42019/42019 [00:31<00:00, 1331.52it/s]\n"
     ]
    },
    {
     "data": {
      "text/plain": "en    41930\nja       73\nfr        5\nky        3\nla        2\nsv        2\nzh        1\nsm        1\nmg        1\nru        1\nName: merged_info, dtype: int64"
     },
     "execution_count": 120,
     "metadata": {},
     "output_type": "execute_result"
    }
   ],
   "source": [
    "translated_merged_dataset['merged_info'].progress_apply(lambda x: lang_detector.FindLanguage(x[:400]).language).value_counts()"
   ],
   "metadata": {
    "collapsed": false,
    "pycharm": {
     "name": "#%%\n"
    }
   }
  },
  {
   "cell_type": "code",
   "execution_count": 124,
   "outputs": [
    {
     "data": {
      "text/plain": "                                                 title description  \\\n337  Professional category] Manufacturing and adjus...         NaN   \n374  [Professional Category] Material Quality Contr...         NaN   \n226                                 Assistant engineer         NaN   \n636                 BI product manager/ demand analyst         NaN   \n676                          Door lock service manager         NaN   \n505                                             主任工程师          NaN   \n616                         Channel sales commissioner         NaN   \n408                  Senior fund manager (e -commerce)         NaN   \n3                          Assistant product engineers         NaN   \n112  Intelligent driving perception algorithm engineer         NaN   \n\n                                      responsibilities  \\\n337  1、基于制造交付策略，制定产品制造计划，及时、高效满足产品生产交付需求。 2、负责管理供需平...   \n374  1、依据成熟业务的流程及质量控制标准，负责成熟品类物料的试制导入、来料检测、量产质量控制及问...   \n226  负责各类合作伙伴业务的日常运营工作，如Program日常运营管理、合作伙伴能力提升支持、大型...   \n636  1、 负责产品规划及设计，规划产品发展路线，打造完善的BI产品支撑分析决策; 2、 负责数据...   \n676  1、 深刻洞察消费者的需求和行业趋势，制定全球领先的产品服务策略； 2、 负责终端产品服务领...   \n505  - Collect forecast plan(include inbound plan, ...   \n616  参与所属领域的合作伙伴规划，在指导下负责某个领域合作伙伴拓展、合作伙伴联合营销活动，实现所负...   \n408  1、电商支付核心系统规划及建设。 2、资金通道、清结算日常运营。 3、第三方支付公司相关政策...   \n3    1、代表处存量产品销售责任人，依托存量格局及集采份额 / 价格，对单场景 / 产品 / 区域...   \n112  1. 针对自动驾驶感知算法业务，研发相应的深度学习算法，保持技术的先进性，用于计算机视觉，激...   \n\n                                        qualifications company publish_date  \\\n337  知识：熟练掌握生产计划基础知识、产品知识，供应链端到端流程。 技能：熟练掌握供需平衡管理、生...  Huawei   2022-06-06   \n374  知识： 1、精通物料失效分析和可靠性评估相关知识； 2、熟悉生产质量问题处理流程； 3、熟练...  Huawei   2022-06-04   \n226  业务技能要求： 能够参与制定多领域（行业、区域、类型）的伙伴政策架构或主导政策在本领域的有效...  Huawei   2022-06-15   \n636  业务技能要求： 1、3年及以上数据类产品IT工作经历，主导或参与过企业数据分析产品的方案设计...  Huawei   2022-03-07   \n676  业务技能要求： 1、具体优秀的沟通推动能力、项目管理能力、自学能力； 2、有终端可服务性以及...  Huawei   2022-02-08   \n505  业务技能要求： - Good organization skills and good te...  Huawei   2022-05-10   \n616  业务技能要求： 了解、执行业务范围内MPR、OTO等流程；具有伙伴合作能力、团队管理能力、营...  Huawei   2022-03-11   \n408  业务技能要求： 1、学习能力和适应性强，具有较好的分析和逻辑思维能力，良好的沟通和跨部门协作...  Huawei   2022-05-27   \n3    业务技能要求： 掌握运营商市场分析、营销策划、项目投标和拓展等工具和方法 专业知识要求： 1...  Huawei   2022-08-09   \n112  业务技能要求： 1. 熟练掌握基于深度学习的图像检测，语义分割，结构化特征提取等常见任务 2...  Huawei   2022-07-07   \n\n                                           merged_info  \n337  Professional category] Manufacturing and adjus...  \n374  [Professional Category] Material Quality Contr...  \n226  Assistant engineer;; responsible for daily ope...  \n636  BI product manager/ demand analyst; 1. Respons...  \n676  Door lock service manager; 1. In -depth insigh...  \n505  主任工程师 ;  ; - Collect forecast plan(include inb...  \n616  Channel sales commissioner;; partnership plann...  \n408  Senior fund manager (e -commerce); 1.; 1. E -c...  \n3    Assistant product engineers; 1. Responsible pe...  \n112  Intelligent driving perception algorithm engin...  ",
      "text/html": "<div>\n<style scoped>\n    .dataframe tbody tr th:only-of-type {\n        vertical-align: middle;\n    }\n\n    .dataframe tbody tr th {\n        vertical-align: top;\n    }\n\n    .dataframe thead th {\n        text-align: right;\n    }\n</style>\n<table border=\"1\" class=\"dataframe\">\n  <thead>\n    <tr style=\"text-align: right;\">\n      <th></th>\n      <th>title</th>\n      <th>description</th>\n      <th>responsibilities</th>\n      <th>qualifications</th>\n      <th>company</th>\n      <th>publish_date</th>\n      <th>merged_info</th>\n    </tr>\n  </thead>\n  <tbody>\n    <tr>\n      <th>337</th>\n      <td>Professional category] Manufacturing and adjus...</td>\n      <td>NaN</td>\n      <td>1、基于制造交付策略，制定产品制造计划，及时、高效满足产品生产交付需求。 2、负责管理供需平...</td>\n      <td>知识：熟练掌握生产计划基础知识、产品知识，供应链端到端流程。 技能：熟练掌握供需平衡管理、生...</td>\n      <td>Huawei</td>\n      <td>2022-06-06</td>\n      <td>Professional category] Manufacturing and adjus...</td>\n    </tr>\n    <tr>\n      <th>374</th>\n      <td>[Professional Category] Material Quality Contr...</td>\n      <td>NaN</td>\n      <td>1、依据成熟业务的流程及质量控制标准，负责成熟品类物料的试制导入、来料检测、量产质量控制及问...</td>\n      <td>知识： 1、精通物料失效分析和可靠性评估相关知识； 2、熟悉生产质量问题处理流程； 3、熟练...</td>\n      <td>Huawei</td>\n      <td>2022-06-04</td>\n      <td>[Professional Category] Material Quality Contr...</td>\n    </tr>\n    <tr>\n      <th>226</th>\n      <td>Assistant engineer</td>\n      <td>NaN</td>\n      <td>负责各类合作伙伴业务的日常运营工作，如Program日常运营管理、合作伙伴能力提升支持、大型...</td>\n      <td>业务技能要求： 能够参与制定多领域（行业、区域、类型）的伙伴政策架构或主导政策在本领域的有效...</td>\n      <td>Huawei</td>\n      <td>2022-06-15</td>\n      <td>Assistant engineer;; responsible for daily ope...</td>\n    </tr>\n    <tr>\n      <th>636</th>\n      <td>BI product manager/ demand analyst</td>\n      <td>NaN</td>\n      <td>1、 负责产品规划及设计，规划产品发展路线，打造完善的BI产品支撑分析决策; 2、 负责数据...</td>\n      <td>业务技能要求： 1、3年及以上数据类产品IT工作经历，主导或参与过企业数据分析产品的方案设计...</td>\n      <td>Huawei</td>\n      <td>2022-03-07</td>\n      <td>BI product manager/ demand analyst; 1. Respons...</td>\n    </tr>\n    <tr>\n      <th>676</th>\n      <td>Door lock service manager</td>\n      <td>NaN</td>\n      <td>1、 深刻洞察消费者的需求和行业趋势，制定全球领先的产品服务策略； 2、 负责终端产品服务领...</td>\n      <td>业务技能要求： 1、具体优秀的沟通推动能力、项目管理能力、自学能力； 2、有终端可服务性以及...</td>\n      <td>Huawei</td>\n      <td>2022-02-08</td>\n      <td>Door lock service manager; 1. In -depth insigh...</td>\n    </tr>\n    <tr>\n      <th>505</th>\n      <td>主任工程师</td>\n      <td>NaN</td>\n      <td>- Collect forecast plan(include inbound plan, ...</td>\n      <td>业务技能要求： - Good organization skills and good te...</td>\n      <td>Huawei</td>\n      <td>2022-05-10</td>\n      <td>主任工程师 ;  ; - Collect forecast plan(include inb...</td>\n    </tr>\n    <tr>\n      <th>616</th>\n      <td>Channel sales commissioner</td>\n      <td>NaN</td>\n      <td>参与所属领域的合作伙伴规划，在指导下负责某个领域合作伙伴拓展、合作伙伴联合营销活动，实现所负...</td>\n      <td>业务技能要求： 了解、执行业务范围内MPR、OTO等流程；具有伙伴合作能力、团队管理能力、营...</td>\n      <td>Huawei</td>\n      <td>2022-03-11</td>\n      <td>Channel sales commissioner;; partnership plann...</td>\n    </tr>\n    <tr>\n      <th>408</th>\n      <td>Senior fund manager (e -commerce)</td>\n      <td>NaN</td>\n      <td>1、电商支付核心系统规划及建设。 2、资金通道、清结算日常运营。 3、第三方支付公司相关政策...</td>\n      <td>业务技能要求： 1、学习能力和适应性强，具有较好的分析和逻辑思维能力，良好的沟通和跨部门协作...</td>\n      <td>Huawei</td>\n      <td>2022-05-27</td>\n      <td>Senior fund manager (e -commerce); 1.; 1. E -c...</td>\n    </tr>\n    <tr>\n      <th>3</th>\n      <td>Assistant product engineers</td>\n      <td>NaN</td>\n      <td>1、代表处存量产品销售责任人，依托存量格局及集采份额 / 价格，对单场景 / 产品 / 区域...</td>\n      <td>业务技能要求： 掌握运营商市场分析、营销策划、项目投标和拓展等工具和方法 专业知识要求： 1...</td>\n      <td>Huawei</td>\n      <td>2022-08-09</td>\n      <td>Assistant product engineers; 1. Responsible pe...</td>\n    </tr>\n    <tr>\n      <th>112</th>\n      <td>Intelligent driving perception algorithm engineer</td>\n      <td>NaN</td>\n      <td>1. 针对自动驾驶感知算法业务，研发相应的深度学习算法，保持技术的先进性，用于计算机视觉，激...</td>\n      <td>业务技能要求： 1. 熟练掌握基于深度学习的图像检测，语义分割，结构化特征提取等常见任务 2...</td>\n      <td>Huawei</td>\n      <td>2022-07-07</td>\n      <td>Intelligent driving perception algorithm engin...</td>\n    </tr>\n  </tbody>\n</table>\n</div>"
     },
     "execution_count": 124,
     "metadata": {},
     "output_type": "execute_result"
    }
   ],
   "source": [
    "translated_merged_dataset[translated_merged_dataset['company'] == 'Huawei'].sample(10)"
   ],
   "metadata": {
    "collapsed": false,
    "pycharm": {
     "name": "#%%\n"
    }
   }
  },
  {
   "cell_type": "code",
   "execution_count": 125,
   "outputs": [],
   "source": [
    "remove_non_lat = lambda x: re.sub(' +', ' ', re.sub(r'[^a-zA-Z\\d\\s\\',.:!?()\\[\\]&{};-]', ' ', x)).strip()"
   ],
   "metadata": {
    "collapsed": false,
    "pycharm": {
     "name": "#%%\n"
    }
   }
  },
  {
   "cell_type": "code",
   "execution_count": 126,
   "outputs": [
    {
     "name": "stderr",
     "output_type": "stream",
     "text": [
      "100%|██████████| 42019/42019 [00:04<00:00, 8921.72it/s] \n"
     ]
    }
   ],
   "source": [
    "translated_merged_dataset['merged_info'] = translated_merged_dataset['merged_info'].progress_apply(remove_non_lat)"
   ],
   "metadata": {
    "collapsed": false,
    "pycharm": {
     "name": "#%%\n"
    }
   }
  },
  {
   "cell_type": "code",
   "execution_count": 127,
   "outputs": [],
   "source": [
    "translated_merged_dataset.to_csv('../results/translated_merged_dataset.csv', line_terminator='\\n')\n",
    "translated_merged_dataset.to_excel('../results/translated_merged_dataset.xlsx', engine='xlsxwriter')"
   ],
   "metadata": {
    "collapsed": false,
    "pycharm": {
     "name": "#%%\n"
    }
   }
  },
  {
   "cell_type": "code",
   "execution_count": null,
   "outputs": [],
   "source": [],
   "metadata": {
    "collapsed": false,
    "pycharm": {
     "name": "#%%\n"
    }
   }
  },
  {
   "cell_type": "code",
   "execution_count": 132,
   "outputs": [
    {
     "data": {
      "text/plain": "                                                  title  \\\n7302  IBM Hybrid Cloud Modernization Architect - Wes...   \n218   Software Developer Intern, Bachelor's, Winter ...   \n3260             Analyst (SQL), Retail Efficiency (RBS)   \n4766  Practitioner - Finance and Administration Deli...   \n2787             Cellular Software Development Engineer   \n2549         Digital Solution Area Specialist _ Surface   \n4173  Senior Software Engineer - M365 Network Isolation   \n1479                     Package Consultant: SAP FIN FI   \n7510                       Penetration Testing Engineer   \n59    Expert on analysis and quality control of the ...   \n2506  Digital Technical Specialist - Security - SCI ...   \n8720                               P02241, Global Store   \n67                              MX-Technical Specialist   \n7673                          SOC Verification Engineer   \n3736  Senior Technology Architect - Modern Work (Mic...   \n3689       Technical Support Advisor - Spanish Language   \n51    Head of the Center for Competencies of Portal ...   \n400   40163- \"Glory of the King-World\" engine tool d...   \n7996           Senior SerDes System Validation Engineer   \n480   Senior Python developer in the traffic managem...   \n\n                                            description  \\\n7302  As an IBM Application Architect, you directly ...   \n218   Please complete your application before August...   \n3260  Job summary About Amazon: Work hard. Have fun....   \n4766  The Finance & Admin Business Analyst is essent...   \n2787  Join the Wireless Technology and Ecosystems te...   \n2549  Microsoft is on a mission to empower every per...   \n4173  Office 365 is at the center of Microsoft's clo...   \n1479  As a Package Consultant at IBM, get ready to t...   \n7510  Job summary Do you enjoy finding unique securi...   \n59    МТС — это мультисервисная цифровая экосистема....   \n2506  Microsoft is on a mission to empower every per...   \n8720  Job summary - 通过电话、聊天和邮件等沟通方式帮助客户解决业务相关问题 - 负责...   \n67    After customers purchase our products, you’re ...   \n7673  Would you like to join Apple’s growing wireles...   \n3736  Microsoft is on a mission to empower every per...   \n3689  You’re a problem solver and easily connect wit...   \n51    Вам предстоит: Добавление и актуализация задач...   \n400                                                 NaN   \n7996  In this highly visible role, you will actively...   \n480   Мы развиваем инфраструктурное (внутреннее) кон...   \n\n                                       responsibilities  \\\n7302  IBM Consulting helps our clients fundamentally...   \n218   Create and support a productive and innovative...   \n3260                                                NaN   \n4766  As Delivery Practitioner, you are responsible ...   \n2787  Apple’s Cellular Software team is seeking tale...   \n2549  As a Digital Sales Surface Specialist you will...   \n4173  Design, implement, test and deliver tools and ...   \n1479  You and IBM India – IBM's Purpose is to be ess...   \n7510                                                NaN   \n59                                                  NaN   \n2506  Help customers make technical decisionsto buil...   \n8720                                                NaN   \n67    As a Technical Specialist, you help new owners...   \n7673  - Understand details of microarchitecture and ...   \n3736  Primary accountabilities for this role include...   \n3689  We expect everything from an Advisor that our ...   \n51                                                  NaN   \n400   1、负责3A游戏in-house工具链研发及管线搭建； 2、负责Unreal引擎编辑器功能开...   \n7996  IN THIS ROLE, THE KEY RESPONSIBILITIES ARE THE...   \n480                                                 NaN   \n\n                                         qualifications    company  \\\n7302  5+ years of consulting experience – Platform e...        IBM   \n218   Minimum qualifications: Currently pursuing a B...     Google   \n3260  Basic Qualifications - Proficient extracting a...     Amazon   \n4766  Minimum 0-1 year work experience in Finance an...        IBM   \n2787  At least 5 years experience with cellular prot...      Apple   \n2549  Required Qualifications: 5-6+ years of experie...  Microsoft   \n4173  5 years of software development experience in ...  Microsoft   \n1479  12+ Years of SAP Functional experience special...        IBM   \n7510  A Bachelor’s degree in Computer Science, Cyber...     Amazon   \n59                                                  NaN        MTS   \n2506  Key Capabilities Bachelor's Degree or equivale...  Microsoft   \n8720  - 1. 具备较强的服务意识以及乐于帮助客户的服务意愿 - 2. 良好的沟通能力,可进行流畅...     Amazon   \n67    Ability to assess customers’ support needs whe...      Apple   \n7673  5+ years of SOC verification experience. Exper...      Apple   \n3736  Growth Mindset. Experience and passion for lea...  Microsoft   \n3689  Verbal and written fluency in Spanish and Engl...      Apple   \n51                                                  NaN        MTS   \n400   1、本科及以上学历，精通C / C++，具备扎实的数据结构和算法基础，熟悉常用设计模式； 2...    Tencent   \n7996  The ideal candidate should have experience in ...      Apple   \n480   Мы ждем, что вы: имеете опыт промышленной разр...     Yandex   \n\n                 publish_date  \\\n7302      2022-08-11 02:40:45   \n218   2022-08-02 16:31:10.110   \n3260               2022-08-03   \n4766      2022-08-06 11:12:02   \n2787               2022-07-04   \n2549      2022-07-12 06:37:00   \n4173      2022-05-19 05:39:00   \n1479      2022-07-18 18:44:41   \n7510               2022-07-25   \n59        2022-08-09 14:16:12   \n2506      2022-07-12 14:09:00   \n8720               2022-07-22   \n67                 2022-08-09   \n7673               2021-06-11   \n3736      2022-06-12 10:44:00   \n3689               2022-06-13   \n51        2022-08-09 14:56:51   \n400                2022-08-03   \n7996               2020-08-27   \n480                       NaN   \n\n                                            merged_info  \n7302  IBM Hybrid Cloud Modernization Architect - Wes...  \n218   Software Developer Intern, Bachelor's, Winter ...  \n3260  Analyst (SQL), Retail Efficiency (RBS) ; Job s...  \n4766  Practitioner - Finance and Administration Deli...  \n2787  Cellular Software Development Engineer ; Join ...  \n2549  Digital Solution Area Specialist Surface ; Mic...  \n4173  Senior Software Engineer - M365 Network Isolat...  \n1479  Package Consultant: SAP FIN FI ; As a Package ...  \n7510  Penetration Testing Engineer ; Job summary Do ...  \n59    Expert on analysis and quality control of the ...  \n2506  Digital Technical Specialist - Security - SCI ...  \n8720  P02241, Global Store; job summer-to help custo...  \n67    MX-Technical Specialist ; After customers purc...  \n7673  SOC Verification Engineer ; Would you like to ...  \n3736  Senior Technology Architect - Modern Work (Mic...  \n3689  Technical Support Advisor - Spanish Language ;...  \n51    Head of the Center for Competencies of Portal ...  \n400   40163- Glory of the King-World engine tool dev...  \n7996  Senior SerDes System Validation Engineer ; In ...  \n480   Senior Python developer in the traffic managem...  ",
      "text/html": "<div>\n<style scoped>\n    .dataframe tbody tr th:only-of-type {\n        vertical-align: middle;\n    }\n\n    .dataframe tbody tr th {\n        vertical-align: top;\n    }\n\n    .dataframe thead th {\n        text-align: right;\n    }\n</style>\n<table border=\"1\" class=\"dataframe\">\n  <thead>\n    <tr style=\"text-align: right;\">\n      <th></th>\n      <th>title</th>\n      <th>description</th>\n      <th>responsibilities</th>\n      <th>qualifications</th>\n      <th>company</th>\n      <th>publish_date</th>\n      <th>merged_info</th>\n    </tr>\n  </thead>\n  <tbody>\n    <tr>\n      <th>7302</th>\n      <td>IBM Hybrid Cloud Modernization Architect - Wes...</td>\n      <td>As an IBM Application Architect, you directly ...</td>\n      <td>IBM Consulting helps our clients fundamentally...</td>\n      <td>5+ years of consulting experience – Platform e...</td>\n      <td>IBM</td>\n      <td>2022-08-11 02:40:45</td>\n      <td>IBM Hybrid Cloud Modernization Architect - Wes...</td>\n    </tr>\n    <tr>\n      <th>218</th>\n      <td>Software Developer Intern, Bachelor's, Winter ...</td>\n      <td>Please complete your application before August...</td>\n      <td>Create and support a productive and innovative...</td>\n      <td>Minimum qualifications: Currently pursuing a B...</td>\n      <td>Google</td>\n      <td>2022-08-02 16:31:10.110</td>\n      <td>Software Developer Intern, Bachelor's, Winter ...</td>\n    </tr>\n    <tr>\n      <th>3260</th>\n      <td>Analyst (SQL), Retail Efficiency (RBS)</td>\n      <td>Job summary About Amazon: Work hard. Have fun....</td>\n      <td>NaN</td>\n      <td>Basic Qualifications - Proficient extracting a...</td>\n      <td>Amazon</td>\n      <td>2022-08-03</td>\n      <td>Analyst (SQL), Retail Efficiency (RBS) ; Job s...</td>\n    </tr>\n    <tr>\n      <th>4766</th>\n      <td>Practitioner - Finance and Administration Deli...</td>\n      <td>The Finance &amp; Admin Business Analyst is essent...</td>\n      <td>As Delivery Practitioner, you are responsible ...</td>\n      <td>Minimum 0-1 year work experience in Finance an...</td>\n      <td>IBM</td>\n      <td>2022-08-06 11:12:02</td>\n      <td>Practitioner - Finance and Administration Deli...</td>\n    </tr>\n    <tr>\n      <th>2787</th>\n      <td>Cellular Software Development Engineer</td>\n      <td>Join the Wireless Technology and Ecosystems te...</td>\n      <td>Apple’s Cellular Software team is seeking tale...</td>\n      <td>At least 5 years experience with cellular prot...</td>\n      <td>Apple</td>\n      <td>2022-07-04</td>\n      <td>Cellular Software Development Engineer ; Join ...</td>\n    </tr>\n    <tr>\n      <th>2549</th>\n      <td>Digital Solution Area Specialist _ Surface</td>\n      <td>Microsoft is on a mission to empower every per...</td>\n      <td>As a Digital Sales Surface Specialist you will...</td>\n      <td>Required Qualifications: 5-6+ years of experie...</td>\n      <td>Microsoft</td>\n      <td>2022-07-12 06:37:00</td>\n      <td>Digital Solution Area Specialist Surface ; Mic...</td>\n    </tr>\n    <tr>\n      <th>4173</th>\n      <td>Senior Software Engineer - M365 Network Isolation</td>\n      <td>Office 365 is at the center of Microsoft's clo...</td>\n      <td>Design, implement, test and deliver tools and ...</td>\n      <td>5 years of software development experience in ...</td>\n      <td>Microsoft</td>\n      <td>2022-05-19 05:39:00</td>\n      <td>Senior Software Engineer - M365 Network Isolat...</td>\n    </tr>\n    <tr>\n      <th>1479</th>\n      <td>Package Consultant: SAP FIN FI</td>\n      <td>As a Package Consultant at IBM, get ready to t...</td>\n      <td>You and IBM India – IBM's Purpose is to be ess...</td>\n      <td>12+ Years of SAP Functional experience special...</td>\n      <td>IBM</td>\n      <td>2022-07-18 18:44:41</td>\n      <td>Package Consultant: SAP FIN FI ; As a Package ...</td>\n    </tr>\n    <tr>\n      <th>7510</th>\n      <td>Penetration Testing Engineer</td>\n      <td>Job summary Do you enjoy finding unique securi...</td>\n      <td>NaN</td>\n      <td>A Bachelor’s degree in Computer Science, Cyber...</td>\n      <td>Amazon</td>\n      <td>2022-07-25</td>\n      <td>Penetration Testing Engineer ; Job summary Do ...</td>\n    </tr>\n    <tr>\n      <th>59</th>\n      <td>Expert on analysis and quality control of the ...</td>\n      <td>МТС — это мультисервисная цифровая экосистема....</td>\n      <td>NaN</td>\n      <td>NaN</td>\n      <td>MTS</td>\n      <td>2022-08-09 14:16:12</td>\n      <td>Expert on analysis and quality control of the ...</td>\n    </tr>\n    <tr>\n      <th>2506</th>\n      <td>Digital Technical Specialist - Security - SCI ...</td>\n      <td>Microsoft is on a mission to empower every per...</td>\n      <td>Help customers make technical decisionsto buil...</td>\n      <td>Key Capabilities Bachelor's Degree or equivale...</td>\n      <td>Microsoft</td>\n      <td>2022-07-12 14:09:00</td>\n      <td>Digital Technical Specialist - Security - SCI ...</td>\n    </tr>\n    <tr>\n      <th>8720</th>\n      <td>P02241, Global Store</td>\n      <td>Job summary - 通过电话、聊天和邮件等沟通方式帮助客户解决业务相关问题 - 负责...</td>\n      <td>NaN</td>\n      <td>- 1. 具备较强的服务意识以及乐于帮助客户的服务意愿 - 2. 良好的沟通能力,可进行流畅...</td>\n      <td>Amazon</td>\n      <td>2022-07-22</td>\n      <td>P02241, Global Store; job summer-to help custo...</td>\n    </tr>\n    <tr>\n      <th>67</th>\n      <td>MX-Technical Specialist</td>\n      <td>After customers purchase our products, you’re ...</td>\n      <td>As a Technical Specialist, you help new owners...</td>\n      <td>Ability to assess customers’ support needs whe...</td>\n      <td>Apple</td>\n      <td>2022-08-09</td>\n      <td>MX-Technical Specialist ; After customers purc...</td>\n    </tr>\n    <tr>\n      <th>7673</th>\n      <td>SOC Verification Engineer</td>\n      <td>Would you like to join Apple’s growing wireles...</td>\n      <td>- Understand details of microarchitecture and ...</td>\n      <td>5+ years of SOC verification experience. Exper...</td>\n      <td>Apple</td>\n      <td>2021-06-11</td>\n      <td>SOC Verification Engineer ; Would you like to ...</td>\n    </tr>\n    <tr>\n      <th>3736</th>\n      <td>Senior Technology Architect - Modern Work (Mic...</td>\n      <td>Microsoft is on a mission to empower every per...</td>\n      <td>Primary accountabilities for this role include...</td>\n      <td>Growth Mindset. Experience and passion for lea...</td>\n      <td>Microsoft</td>\n      <td>2022-06-12 10:44:00</td>\n      <td>Senior Technology Architect - Modern Work (Mic...</td>\n    </tr>\n    <tr>\n      <th>3689</th>\n      <td>Technical Support Advisor - Spanish Language</td>\n      <td>You’re a problem solver and easily connect wit...</td>\n      <td>We expect everything from an Advisor that our ...</td>\n      <td>Verbal and written fluency in Spanish and Engl...</td>\n      <td>Apple</td>\n      <td>2022-06-13</td>\n      <td>Technical Support Advisor - Spanish Language ;...</td>\n    </tr>\n    <tr>\n      <th>51</th>\n      <td>Head of the Center for Competencies of Portal ...</td>\n      <td>Вам предстоит: Добавление и актуализация задач...</td>\n      <td>NaN</td>\n      <td>NaN</td>\n      <td>MTS</td>\n      <td>2022-08-09 14:56:51</td>\n      <td>Head of the Center for Competencies of Portal ...</td>\n    </tr>\n    <tr>\n      <th>400</th>\n      <td>40163- \"Glory of the King-World\" engine tool d...</td>\n      <td>NaN</td>\n      <td>1、负责3A游戏in-house工具链研发及管线搭建； 2、负责Unreal引擎编辑器功能开...</td>\n      <td>1、本科及以上学历，精通C / C++，具备扎实的数据结构和算法基础，熟悉常用设计模式； 2...</td>\n      <td>Tencent</td>\n      <td>2022-08-03</td>\n      <td>40163- Glory of the King-World engine tool dev...</td>\n    </tr>\n    <tr>\n      <th>7996</th>\n      <td>Senior SerDes System Validation Engineer</td>\n      <td>In this highly visible role, you will actively...</td>\n      <td>IN THIS ROLE, THE KEY RESPONSIBILITIES ARE THE...</td>\n      <td>The ideal candidate should have experience in ...</td>\n      <td>Apple</td>\n      <td>2020-08-27</td>\n      <td>Senior SerDes System Validation Engineer ; In ...</td>\n    </tr>\n    <tr>\n      <th>480</th>\n      <td>Senior Python developer in the traffic managem...</td>\n      <td>Мы развиваем инфраструктурное (внутреннее) кон...</td>\n      <td>NaN</td>\n      <td>Мы ждем, что вы: имеете опыт промышленной разр...</td>\n      <td>Yandex</td>\n      <td>NaN</td>\n      <td>Senior Python developer in the traffic managem...</td>\n    </tr>\n  </tbody>\n</table>\n</div>"
     },
     "execution_count": 132,
     "metadata": {},
     "output_type": "execute_result"
    }
   ],
   "source": [
    "translated_merged_dataset.sample(20)"
   ],
   "metadata": {
    "collapsed": false,
    "pycharm": {
     "name": "#%%\n"
    }
   }
  }
 ],
 "metadata": {
  "kernelspec": {
   "display_name": "Python 3",
   "language": "python",
   "name": "python3"
  },
  "language_info": {
   "codemirror_mode": {
    "name": "ipython",
    "version": 2
   },
   "file_extension": ".py",
   "mimetype": "text/x-python",
   "name": "python",
   "nbconvert_exporter": "python",
   "pygments_lexer": "ipython2",
   "version": "2.7.6"
  }
 },
 "nbformat": 4,
 "nbformat_minor": 0
}