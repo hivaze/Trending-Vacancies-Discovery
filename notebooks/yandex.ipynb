{
 "cells": [
  {
   "cell_type": "code",
   "execution_count": 1,
   "outputs": [],
   "source": [
    "import time\n",
    "import requests\n",
    "from bs4 import BeautifulSoup\n",
    "import json\n",
    "import re\n",
    "import time\n",
    "import faker\n",
    "import pandas as pd\n",
    "from tqdm import tqdm\n",
    "from datetime import datetime"
   ],
   "metadata": {
    "collapsed": false,
    "pycharm": {
     "name": "#%%\n"
    }
   }
  },
  {
   "cell_type": "code",
   "execution_count": 2,
   "outputs": [],
   "source": [
    "fake = faker.Faker(locale='ru')"
   ],
   "metadata": {
    "collapsed": false,
    "pycharm": {
     "name": "#%%\n"
    }
   }
  },
  {
   "cell_type": "code",
   "execution_count": 3,
   "outputs": [],
   "source": [
    "yandex_headers = {\n",
    "    'User-Agent': fake.chrome(),\n",
    "    'accept-language': 'en-US,en;q=0.9',\n",
    "    'pragma': 'np-cache',\n",
    "    'content-type': 'application/json',\n",
    "    'referer': 'http://yandex.ru/jobs/vacancies'\n",
    "}"
   ],
   "metadata": {
    "collapsed": false,
    "pycharm": {
     "name": "#%%\n"
    }
   }
  },
  {
   "cell_type": "code",
   "execution_count": 4,
   "outputs": [],
   "source": [
    "API_URL = \"http://yandex.ru/jobs/api/publications/?page_size=1000&text=\"\n",
    "VACANCY_INFO_URL = \"http://yandex.ru/jobs/vacancies/\""
   ],
   "metadata": {
    "collapsed": false,
    "pycharm": {
     "name": "#%%\n"
    }
   }
  },
  {
   "cell_type": "code",
   "execution_count": 5,
   "outputs": [],
   "source": [
    "# proxy = {\n",
    "#     'http': 'http://130.61.236.9:80'\n",
    "# }"
   ],
   "metadata": {
    "collapsed": false,
    "pycharm": {
     "name": "#%%\n"
    }
   }
  },
  {
   "cell_type": "code",
   "execution_count": 6,
   "outputs": [],
   "source": [
    "clear_string = lambda x: re.sub(' +', ' ', x.replace('\\n', '\\n ')).strip()\n",
    "title_to_url = lambda x: \"-\".join(re.sub('\\s+', ' ', re.sub(r'[^\\w\\s-]', '', x.lower())).split(' '))"
   ],
   "metadata": {
    "collapsed": false,
    "pycharm": {
     "name": "#%%\n"
    }
   }
  },
  {
   "cell_type": "code",
   "execution_count": 7,
   "outputs": [
    {
     "data": {
      "text/plain": "<Response [200]>"
     },
     "execution_count": 7,
     "metadata": {},
     "output_type": "execute_result"
    }
   ],
   "source": [
    "result = requests.get(API_URL, headers=yandex_headers)\n",
    "result"
   ],
   "metadata": {
    "collapsed": false,
    "pycharm": {
     "name": "#%%\n"
    }
   }
  },
  {
   "cell_type": "code",
   "execution_count": 8,
   "outputs": [
    {
     "data": {
      "text/plain": "854"
     },
     "execution_count": 8,
     "metadata": {},
     "output_type": "execute_result"
    }
   ],
   "source": [
    "all_jobs = result.json()['results']\n",
    "len(all_jobs)"
   ],
   "metadata": {
    "collapsed": false,
    "pycharm": {
     "name": "#%%\n"
    }
   }
  },
  {
   "cell_type": "code",
   "execution_count": 9,
   "outputs": [
    {
     "data": {
      "text/plain": "datetime.datetime(2022, 8, 10, 6, 46, 30, 182347)"
     },
     "execution_count": 9,
     "metadata": {},
     "output_type": "execute_result"
    }
   ],
   "source": [
    "datetime.now()"
   ],
   "metadata": {
    "collapsed": false,
    "pycharm": {
     "name": "#%%\n"
    }
   }
  },
  {
   "cell_type": "code",
   "execution_count": 10,
   "outputs": [],
   "source": [
    "jobs_info = []\n",
    "for job in all_jobs:\n",
    "    url = VACANCY_INFO_URL + title_to_url(job['title']) + '-' + str(job['id'])\n",
    "    internal_id = job['id']\n",
    "    summary = job['short_summary']\n",
    "    jobs_info.append((url, internal_id, job['title']))"
   ],
   "metadata": {
    "collapsed": false,
    "pycharm": {
     "name": "#%%\n"
    }
   }
  },
  {
   "cell_type": "code",
   "execution_count": 12,
   "outputs": [
    {
     "name": "stderr",
     "output_type": "stream",
     "text": [
      "100%|██████████| 854/854 [15:24<00:00,  1.08s/it]\n"
     ]
    }
   ],
   "source": [
    "yandex_jobs = []\n",
    "for job in tqdm(jobs_info):\n",
    "    result = requests.get(job[0], headers=yandex_headers)\n",
    "\n",
    "    if result.status_code != 200:\n",
    "        print(f'Non 200 for {job[0]}. skipping...')\n",
    "        continue\n",
    "\n",
    "    soup = BeautifulSoup(result.text)\n",
    "\n",
    "    description_div = soup.find('div', {'class': 'lc-jobs-vacancy__section lc-jobs-vacancy__section_type_description_main'})\n",
    "    description = clear_string(description_div.text) if description_div is not None else None\n",
    "\n",
    "    responsibilities_div = soup.find('div', {'class': 'lc-jobs-vacancy__section lc-jobs-vacancy__section_type_duties'})\n",
    "    responsibilities = clear_string(responsibilities_div.text) if responsibilities_div is not None else None\n",
    "\n",
    "    qualifications_div = soup.find('div', {'class': 'lc-jobs-vacancy__section lc-jobs-vacancy__section_type_key_qualifications'})\n",
    "    qualifications = clear_string(qualifications_div.text) if qualifications_div is not None else None\n",
    "\n",
    "    if description is None and responsibilities is None and qualifications is None:\n",
    "        print(f'All None for {job[0]}. skipping...')\n",
    "        continue\n",
    "\n",
    "    job_dict = {\n",
    "        'title': job[2],\n",
    "        'internal_id': job[1],\n",
    "        'url': job[0],\n",
    "        'description': description,\n",
    "        'responsibilities': responsibilities,\n",
    "        'qualifications': qualifications,\n",
    "        'company': 'Yandex',\n",
    "        'publish_date': None\n",
    "    }\n",
    "    yandex_jobs.append(job_dict)\n",
    "\n",
    "    time.sleep(0.2) # sleep for 200 ms"
   ],
   "metadata": {
    "collapsed": false,
    "pycharm": {
     "name": "#%%\n"
    }
   }
  },
  {
   "cell_type": "code",
   "execution_count": 13,
   "outputs": [
    {
     "data": {
      "text/plain": "                                                 title  internal_id  \\\n639  Технический менеджер проектов в группу разрабо...         9137   \n560      Юрист-методолог банковских процессов в Финтех         9287   \n98                                 Дата-инженер в Плюс         9393   \n778  Ночной инженер технической поддержки в Yandex....         7905   \n371                  Разработчик на Python в Яндекс ID         4433   \n\n                                                   url  \\\n639  http://yandex.ru/jobs/vacancies/технический-ме...   \n560  http://yandex.ru/jobs/vacancies/юрист-методоло...   \n98   http://yandex.ru/jobs/vacancies/дата-инженер-в...   \n778  http://yandex.ru/jobs/vacancies/ночной-инженер...   \n371  http://yandex.ru/jobs/vacancies/разработчик-на...   \n\n                                           description  \\\n639  Мы создаём инфраструктуру для переноса всей би...   \n560  Мы создаём платёжные продукты, сервисы и инстр...   \n98   Наша команда строит DWH для Медиасервисов Янде...   \n778  Вашей основной задачей будет решение проблем к...   \n371  Система Яндекс ID — это гораздо больше, чем «д...   \n\n                                      responsibilities  \\\n639  Что нужно делать:\\n помогать бизнес-заказчикам...   \n560  Что нужно делать:\\n готовить внутренние нормат...   \n98   Что нужно делать:\\n анализировать источники да...   \n778  Что нужно делать:\\n консультировать клиентов Y...   \n371                                               None   \n\n                                        qualifications company publish_date  \n639  Мы ждем, что вы:\\n работали с распределёнными ...  Yandex         None  \n560  Мы ждем, что вы:\\n имеете высшее юридическое о...  Yandex         None  \n98   Мы ждем, что вы:\\n занимались промышленной раз...  Yandex         None  \n778  Мы ждем, что вы:\\n грамотно пишете и говорите ...  Yandex         None  \n371  Мы ждем, что вы:\\n разрабатываете на Python не...  Yandex         None  ",
      "text/html": "<div>\n<style scoped>\n    .dataframe tbody tr th:only-of-type {\n        vertical-align: middle;\n    }\n\n    .dataframe tbody tr th {\n        vertical-align: top;\n    }\n\n    .dataframe thead th {\n        text-align: right;\n    }\n</style>\n<table border=\"1\" class=\"dataframe\">\n  <thead>\n    <tr style=\"text-align: right;\">\n      <th></th>\n      <th>title</th>\n      <th>internal_id</th>\n      <th>url</th>\n      <th>description</th>\n      <th>responsibilities</th>\n      <th>qualifications</th>\n      <th>company</th>\n      <th>publish_date</th>\n    </tr>\n  </thead>\n  <tbody>\n    <tr>\n      <th>639</th>\n      <td>Технический менеджер проектов в группу разрабо...</td>\n      <td>9137</td>\n      <td>http://yandex.ru/jobs/vacancies/технический-ме...</td>\n      <td>Мы создаём инфраструктуру для переноса всей би...</td>\n      <td>Что нужно делать:\\n помогать бизнес-заказчикам...</td>\n      <td>Мы ждем, что вы:\\n работали с распределёнными ...</td>\n      <td>Yandex</td>\n      <td>None</td>\n    </tr>\n    <tr>\n      <th>560</th>\n      <td>Юрист-методолог банковских процессов в Финтех</td>\n      <td>9287</td>\n      <td>http://yandex.ru/jobs/vacancies/юрист-методоло...</td>\n      <td>Мы создаём платёжные продукты, сервисы и инстр...</td>\n      <td>Что нужно делать:\\n готовить внутренние нормат...</td>\n      <td>Мы ждем, что вы:\\n имеете высшее юридическое о...</td>\n      <td>Yandex</td>\n      <td>None</td>\n    </tr>\n    <tr>\n      <th>98</th>\n      <td>Дата-инженер в Плюс</td>\n      <td>9393</td>\n      <td>http://yandex.ru/jobs/vacancies/дата-инженер-в...</td>\n      <td>Наша команда строит DWH для Медиасервисов Янде...</td>\n      <td>Что нужно делать:\\n анализировать источники да...</td>\n      <td>Мы ждем, что вы:\\n занимались промышленной раз...</td>\n      <td>Yandex</td>\n      <td>None</td>\n    </tr>\n    <tr>\n      <th>778</th>\n      <td>Ночной инженер технической поддержки в Yandex....</td>\n      <td>7905</td>\n      <td>http://yandex.ru/jobs/vacancies/ночной-инженер...</td>\n      <td>Вашей основной задачей будет решение проблем к...</td>\n      <td>Что нужно делать:\\n консультировать клиентов Y...</td>\n      <td>Мы ждем, что вы:\\n грамотно пишете и говорите ...</td>\n      <td>Yandex</td>\n      <td>None</td>\n    </tr>\n    <tr>\n      <th>371</th>\n      <td>Разработчик на Python в Яндекс ID</td>\n      <td>4433</td>\n      <td>http://yandex.ru/jobs/vacancies/разработчик-на...</td>\n      <td>Система Яндекс ID — это гораздо больше, чем «д...</td>\n      <td>None</td>\n      <td>Мы ждем, что вы:\\n разрабатываете на Python не...</td>\n      <td>Yandex</td>\n      <td>None</td>\n    </tr>\n  </tbody>\n</table>\n</div>"
     },
     "execution_count": 13,
     "metadata": {},
     "output_type": "execute_result"
    }
   ],
   "source": [
    "snapshot = pd.DataFrame(yandex_jobs)\n",
    "snapshot.sample(5)"
   ],
   "metadata": {
    "collapsed": false,
    "pycharm": {
     "name": "#%%\n"
    }
   }
  },
  {
   "cell_type": "code",
   "execution_count": 14,
   "outputs": [
    {
     "name": "stdout",
     "output_type": "stream",
     "text": [
      "<class 'pandas.core.frame.DataFrame'>\n",
      "RangeIndex: 854 entries, 0 to 853\n",
      "Data columns (total 8 columns):\n",
      " #   Column            Non-Null Count  Dtype \n",
      "---  ------            --------------  ----- \n",
      " 0   title             854 non-null    object\n",
      " 1   internal_id       854 non-null    int64 \n",
      " 2   url               854 non-null    object\n",
      " 3   description       815 non-null    object\n",
      " 4   responsibilities  800 non-null    object\n",
      " 5   qualifications    854 non-null    object\n",
      " 6   company           854 non-null    object\n",
      " 7   publish_date      0 non-null      object\n",
      "dtypes: int64(1), object(7)\n",
      "memory usage: 53.5+ KB\n"
     ]
    }
   ],
   "source": [
    "snapshot.info()"
   ],
   "metadata": {
    "collapsed": false,
    "pycharm": {
     "name": "#%%\n"
    }
   }
  },
  {
   "cell_type": "code",
   "execution_count": 15,
   "outputs": [
    {
     "data": {
      "text/plain": "'10-08-2022'"
     },
     "execution_count": 15,
     "metadata": {},
     "output_type": "execute_result"
    }
   ],
   "source": [
    "current_date = datetime.now().strftime('%d-%m-%Y')\n",
    "current_date"
   ],
   "metadata": {
    "collapsed": false,
    "pycharm": {
     "name": "#%%\n"
    }
   }
  },
  {
   "cell_type": "code",
   "execution_count": 16,
   "outputs": [],
   "source": [
    "snapshot.to_csv(f'../data/yandex/{current_date}.csv')\n",
    "snapshot.to_excel(f'../data/yandex/{current_date}.xlsx', engine='xlsxwriter')"
   ],
   "metadata": {
    "collapsed": false,
    "pycharm": {
     "name": "#%%\n"
    }
   }
  },
  {
   "cell_type": "code",
   "execution_count": null,
   "outputs": [],
   "source": [],
   "metadata": {
    "collapsed": false,
    "pycharm": {
     "name": "#%%\n"
    }
   }
  },
  {
   "cell_type": "markdown",
   "source": [
    "#### Проверка на единичной вакансии"
   ],
   "metadata": {
    "collapsed": false,
    "pycharm": {
     "name": "#%% md\n"
    }
   }
  },
  {
   "cell_type": "code",
   "execution_count": 195,
   "outputs": [
    {
     "data": {
      "text/plain": "<Response [200]>"
     },
     "execution_count": 195,
     "metadata": {},
     "output_type": "execute_result"
    }
   ],
   "source": [
    "result = requests.get(jobs_info[19][0], headers=yandex_headers)\n",
    "result"
   ],
   "metadata": {
    "collapsed": false,
    "pycharm": {
     "name": "#%%\n"
    }
   }
  },
  {
   "cell_type": "code",
   "execution_count": 196,
   "outputs": [
    {
     "data": {
      "text/plain": "'https://yandex.ru/jobs/vacancies/python-%D1%80%D0%B0%D0%B7%D1%80%D0%B0%D0%B1%D0%BE%D1%82%D1%87%D0%B8%D0%BA-%D0%B2-wiki-4005'"
     },
     "execution_count": 196,
     "metadata": {},
     "output_type": "execute_result"
    }
   ],
   "source": [
    "result.request.url"
   ],
   "metadata": {
    "collapsed": false,
    "pycharm": {
     "name": "#%%\n"
    }
   }
  },
  {
   "cell_type": "code",
   "execution_count": 197,
   "outputs": [],
   "source": [
    "soup = BeautifulSoup(result.text)"
   ],
   "metadata": {
    "collapsed": false,
    "pycharm": {
     "name": "#%%\n"
    }
   }
  },
  {
   "cell_type": "code",
   "execution_count": 198,
   "outputs": [
    {
     "data": {
      "text/plain": "'Наша команда делает сервисы, которые формируют базу знаний Яндекса. Ежедневно сотрудники Яндекса обращаются за рабочей документацией, совместно редактируют статьи, делятся рабочими материалами, готовят отчеты. Работоспособность всех этих процессов обеспечивается нашими решениями.\\n Исторически большинство крупных проектов написано на Python3 (Django, FastApi).'"
     },
     "execution_count": 198,
     "metadata": {},
     "output_type": "execute_result"
    }
   ],
   "source": [
    "clear_string(soup.find('div', {'class': 'lc-jobs-vacancy__section lc-jobs-vacancy__section_type_description_main'}).text)"
   ],
   "metadata": {
    "collapsed": false,
    "pycharm": {
     "name": "#%%\n"
    }
   }
  },
  {
   "cell_type": "code",
   "execution_count": 199,
   "outputs": [
    {
     "data": {
      "text/plain": "'Что нужно делать:\\n повышать удобство работы с сервисами;\\n улучшать быстродействие;\\n проектировать и внедрять функциональность в ответ на новые потребности пользователей и бизнеса.'"
     },
     "execution_count": 199,
     "metadata": {},
     "output_type": "execute_result"
    }
   ],
   "source": [
    "clear_string(soup.find('div', {'class': 'lc-jobs-vacancy__section lc-jobs-vacancy__section_type_duties'}).text)"
   ],
   "metadata": {
    "collapsed": false,
    "pycharm": {
     "name": "#%%\n"
    }
   }
  },
  {
   "cell_type": "code",
   "execution_count": 200,
   "outputs": [
    {
     "data": {
      "text/plain": "'Мы ждем, что вы:\\n имеете опыт разработки (production-ready) и поддержки веб-сервисов. При этом важен не столько сам язык, сколько умение мыслить, писать эффективный код и обладать собственным видением;\\n любите сложные и крупные сервисы;\\n готовы к тесному взаимодействию с потребителями.'"
     },
     "execution_count": 200,
     "metadata": {},
     "output_type": "execute_result"
    }
   ],
   "source": [
    "clear_string(soup.find('div', {'class': 'lc-jobs-vacancy__section lc-jobs-vacancy__section_type_key_qualifications'}).text)"
   ],
   "metadata": {
    "collapsed": false,
    "pycharm": {
     "name": "#%%\n"
    }
   }
  },
  {
   "cell_type": "code",
   "execution_count": null,
   "outputs": [],
   "source": [],
   "metadata": {
    "collapsed": false,
    "pycharm": {
     "name": "#%%\n"
    }
   }
  }
 ],
 "metadata": {
  "kernelspec": {
   "display_name": "Python 3",
   "language": "python",
   "name": "python3"
  },
  "language_info": {
   "codemirror_mode": {
    "name": "ipython",
    "version": 2
   },
   "file_extension": ".py",
   "mimetype": "text/x-python",
   "name": "python",
   "nbconvert_exporter": "python",
   "pygments_lexer": "ipython2",
   "version": "2.7.6"
  }
 },
 "nbformat": 4,
 "nbformat_minor": 0
}