{
 "cells": [
  {
   "cell_type": "code",
   "execution_count": 16,
   "outputs": [],
   "source": [
    "import time\n",
    "\n",
    "import requests\n",
    "import json\n",
    "import re\n",
    "import time\n",
    "import faker\n",
    "import pandas as pd\n",
    "from tqdm import tqdm\n",
    "from datetime import datetime\n",
    "from dateutil import parser"
   ],
   "metadata": {
    "collapsed": false,
    "pycharm": {
     "name": "#%%\n"
    }
   }
  },
  {
   "cell_type": "code",
   "execution_count": 17,
   "outputs": [],
   "source": [
    "fake = faker.Faker(locale='en')"
   ],
   "metadata": {
    "collapsed": false,
    "pycharm": {
     "name": "#%%\n"
    }
   }
  },
  {
   "cell_type": "code",
   "execution_count": 18,
   "outputs": [],
   "source": [
    "headers = {\n",
    "    'User-Agent': fake.chrome(),\n",
    "    'accept-language': 'en-US,en;q=0.9',\n",
    "    'pragma': 'np-cache',\n",
    "    'referer': 'http://careers.google.com/jobs/results/'\n",
    "}"
   ],
   "metadata": {
    "collapsed": false,
    "pycharm": {
     "name": "#%%\n"
    }
   }
  },
  {
   "cell_type": "code",
   "execution_count": 19,
   "outputs": [],
   "source": [
    "API_URL = \"http://careers.google.com/api/v3/search/\"\n",
    "VACANCY_URL = 'http://careers.google.com/jobs/results/'"
   ],
   "metadata": {
    "collapsed": false,
    "pycharm": {
     "name": "#%%\n"
    }
   }
  },
  {
   "cell_type": "code",
   "execution_count": 20,
   "outputs": [],
   "source": [
    "search_params = {\n",
    "    'page': 1,\n",
    "    # 'company': 'Google', # One of Alphabet holding's company\n",
    "    'q': '',\n",
    "    'sort_by': 'date',\n",
    "    'page_size': 100 # must be 20, 50, 75, 100\n",
    "}"
   ],
   "metadata": {
    "collapsed": false,
    "pycharm": {
     "name": "#%%\n"
    }
   }
  },
  {
   "cell_type": "code",
   "execution_count": 21,
   "outputs": [
    {
     "data": {
      "text/plain": "<Response [200]>"
     },
     "execution_count": 21,
     "metadata": {},
     "output_type": "execute_result"
    }
   ],
   "source": [
    "result = requests.get(API_URL, params=search_params, headers=headers)\n",
    "result"
   ],
   "metadata": {
    "collapsed": false,
    "pycharm": {
     "name": "#%%\n"
    }
   }
  },
  {
   "cell_type": "code",
   "execution_count": 22,
   "outputs": [
    {
     "name": "stdout",
     "output_type": "stream",
     "text": [
      "4026 40\n"
     ]
    }
   ],
   "source": [
    "total_count = result.json()['count']\n",
    "max_pages = total_count // 100\n",
    "print(total_count, max_pages)"
   ],
   "metadata": {
    "collapsed": false,
    "pycharm": {
     "name": "#%%\n"
    }
   }
  },
  {
   "cell_type": "code",
   "execution_count": 23,
   "outputs": [],
   "source": [
    "clear_string = lambda x: re.sub(' +', ' ', re.sub('<.*?>', ' ', x).replace(\"&nbsp;\", \"\").replace(\"&amp;\", \"&\").replace('\\n', '\\n ')).strip()\n",
    "title_to_url = lambda x: \"-\".join(re.sub('\\s+', ' ', re.sub(r'[^a-zA-Z\\s]', '', x.lower())).split(' '))"
   ],
   "metadata": {
    "collapsed": false,
    "pycharm": {
     "name": "#%%\n"
    }
   }
  },
  {
   "cell_type": "code",
   "execution_count": 24,
   "outputs": [
    {
     "name": "stderr",
     "output_type": "stream",
     "text": [
      "100%|██████████| 40/40 [01:19<00:00,  1.98s/it]\n"
     ]
    }
   ],
   "source": [
    "search_results = []\n",
    "null_counter = 0\n",
    "for page in tqdm(range(max_pages)):\n",
    "    search_params['page'] = page\n",
    "\n",
    "    result = requests.get(API_URL, params=search_params, headers=headers).json()\n",
    "    found_jobs = result['jobs']\n",
    "\n",
    "    if len(found_jobs) == 0:\n",
    "        null_counter += 1\n",
    "        if null_counter == 3:\n",
    "            break\n",
    "    else:\n",
    "        null_counter = 0\n",
    "\n",
    "    for job_json in found_jobs:\n",
    "        internal_id = job_json['id'].split('/')[-1]\n",
    "        result_dict = {\n",
    "            'title': job_json['title'],\n",
    "            'internal_id': internal_id,\n",
    "            'url': VACANCY_URL + internal_id + '-' + title_to_url(job_json['title']),\n",
    "            'description': clear_string(job_json['description']),\n",
    "            'responsibilities': clear_string(job_json['responsibilities']),\n",
    "            'qualifications': clear_string(job_json['qualifications']),\n",
    "            'company': 'Google',\n",
    "            # 'country_code': job_json['country_code'],\n",
    "            'publish_date': parser.parse(job_json['publish_date'])\n",
    "        }\n",
    "        search_results.append(result_dict)\n",
    "\n",
    "    time.sleep(0.2) # sleep for 200 ms"
   ],
   "metadata": {
    "collapsed": false,
    "pycharm": {
     "name": "#%%\n"
    }
   }
  },
  {
   "cell_type": "code",
   "execution_count": 30,
   "outputs": [
    {
     "data": {
      "text/plain": "                                                  title         internal_id  \\\n2489  Enterprise Field Sales Representative, Financi...   92861367100285638   \n2877  Electrical Technician, Data Center Facilities ...  119563303065133766   \n3105       Software Engineer, University Graduate, 2022  124750385131725510   \n3324                  Customer Engineer, SAP Specialist   90661397542642374   \n1384   Workplace Services Manager, Occupancy Strategist  104181186957320902   \n\n                                                    url  \\\n2489  http://careers.google.com/jobs/results/9286136...   \n2877  http://careers.google.com/jobs/results/1195633...   \n3105  http://careers.google.com/jobs/results/1247503...   \n3324  http://careers.google.com/jobs/results/9066139...   \n1384  http://careers.google.com/jobs/results/1041811...   \n\n                                            description  \\\n2489  The Google Cloud Platform team helps customers...   \n2877  The Data Center team designs and operates some...   \n3105  Google's software engineers develop the next-g...   \n3324  When leading companies choose Google Cloud it'...   \n1384  The Real Estate and Workplace Services (REWS) ...   \n\n                                       responsibilities  \\\n2489  Build and grow executive relationships with en...   \n2877  Inspect, maintain, and repair various data cen...   \n3105  Build our platforms, systems, and networking i...   \n3324  Work with the team to identify and qualify bus...   \n1384  Plan capacity and space, move coordination, an...   \n\n                                         qualifications company  \\\n2489  Minimum qualifications: \\n Bachelor's degree i...  Google   \n2877  Minimum qualifications: \\n Associate's degree,...  Google   \n3105  Minimum qualifications: \\n Bachelor's degree i...  Google   \n3324  Minimum qualifications: \\n Bachelor's degree i...  Google   \n1384  Minimum qualifications: \\n Bachelors degree or...  Google   \n\n                         publish_date  \n2489 2022-05-11 02:31:50.717000+00:00  \n2877 2022-04-21 13:02:09.457000+00:00  \n3105 2022-04-07 18:31:51.054000+00:00  \n3324 2022-03-22 15:31:59.026000+00:00  \n1384 2022-06-16 16:31:45.805000+00:00  ",
      "text/html": "<div>\n<style scoped>\n    .dataframe tbody tr th:only-of-type {\n        vertical-align: middle;\n    }\n\n    .dataframe tbody tr th {\n        vertical-align: top;\n    }\n\n    .dataframe thead th {\n        text-align: right;\n    }\n</style>\n<table border=\"1\" class=\"dataframe\">\n  <thead>\n    <tr style=\"text-align: right;\">\n      <th></th>\n      <th>title</th>\n      <th>internal_id</th>\n      <th>url</th>\n      <th>description</th>\n      <th>responsibilities</th>\n      <th>qualifications</th>\n      <th>company</th>\n      <th>publish_date</th>\n    </tr>\n  </thead>\n  <tbody>\n    <tr>\n      <th>2489</th>\n      <td>Enterprise Field Sales Representative, Financi...</td>\n      <td>92861367100285638</td>\n      <td>http://careers.google.com/jobs/results/9286136...</td>\n      <td>The Google Cloud Platform team helps customers...</td>\n      <td>Build and grow executive relationships with en...</td>\n      <td>Minimum qualifications: \\n Bachelor's degree i...</td>\n      <td>Google</td>\n      <td>2022-05-11 02:31:50.717000+00:00</td>\n    </tr>\n    <tr>\n      <th>2877</th>\n      <td>Electrical Technician, Data Center Facilities ...</td>\n      <td>119563303065133766</td>\n      <td>http://careers.google.com/jobs/results/1195633...</td>\n      <td>The Data Center team designs and operates some...</td>\n      <td>Inspect, maintain, and repair various data cen...</td>\n      <td>Minimum qualifications: \\n Associate's degree,...</td>\n      <td>Google</td>\n      <td>2022-04-21 13:02:09.457000+00:00</td>\n    </tr>\n    <tr>\n      <th>3105</th>\n      <td>Software Engineer, University Graduate, 2022</td>\n      <td>124750385131725510</td>\n      <td>http://careers.google.com/jobs/results/1247503...</td>\n      <td>Google's software engineers develop the next-g...</td>\n      <td>Build our platforms, systems, and networking i...</td>\n      <td>Minimum qualifications: \\n Bachelor's degree i...</td>\n      <td>Google</td>\n      <td>2022-04-07 18:31:51.054000+00:00</td>\n    </tr>\n    <tr>\n      <th>3324</th>\n      <td>Customer Engineer, SAP Specialist</td>\n      <td>90661397542642374</td>\n      <td>http://careers.google.com/jobs/results/9066139...</td>\n      <td>When leading companies choose Google Cloud it'...</td>\n      <td>Work with the team to identify and qualify bus...</td>\n      <td>Minimum qualifications: \\n Bachelor's degree i...</td>\n      <td>Google</td>\n      <td>2022-03-22 15:31:59.026000+00:00</td>\n    </tr>\n    <tr>\n      <th>1384</th>\n      <td>Workplace Services Manager, Occupancy Strategist</td>\n      <td>104181186957320902</td>\n      <td>http://careers.google.com/jobs/results/1041811...</td>\n      <td>The Real Estate and Workplace Services (REWS) ...</td>\n      <td>Plan capacity and space, move coordination, an...</td>\n      <td>Minimum qualifications: \\n Bachelors degree or...</td>\n      <td>Google</td>\n      <td>2022-06-16 16:31:45.805000+00:00</td>\n    </tr>\n  </tbody>\n</table>\n</div>"
     },
     "execution_count": 30,
     "metadata": {},
     "output_type": "execute_result"
    }
   ],
   "source": [
    "snapshot = pd.DataFrame(search_results)\n",
    "snapshot.sample(5)"
   ],
   "metadata": {
    "collapsed": false,
    "pycharm": {
     "name": "#%%\n"
    }
   }
  },
  {
   "cell_type": "code",
   "execution_count": 31,
   "outputs": [
    {
     "name": "stdout",
     "output_type": "stream",
     "text": [
      "<class 'pandas.core.frame.DataFrame'>\n",
      "RangeIndex: 4000 entries, 0 to 3999\n",
      "Data columns (total 8 columns):\n",
      " #   Column            Non-Null Count  Dtype                  \n",
      "---  ------            --------------  -----                  \n",
      " 0   title             4000 non-null   object                 \n",
      " 1   internal_id       4000 non-null   object                 \n",
      " 2   url               4000 non-null   object                 \n",
      " 3   description       4000 non-null   object                 \n",
      " 4   responsibilities  4000 non-null   object                 \n",
      " 5   qualifications    4000 non-null   object                 \n",
      " 6   company           4000 non-null   object                 \n",
      " 7   publish_date      4000 non-null   datetime64[ns, tzutc()]\n",
      "dtypes: datetime64[ns, tzutc()](1), object(7)\n",
      "memory usage: 250.1+ KB\n"
     ]
    }
   ],
   "source": [
    "snapshot.info()"
   ],
   "metadata": {
    "collapsed": false,
    "pycharm": {
     "name": "#%%\n"
    }
   }
  },
  {
   "cell_type": "code",
   "execution_count": 32,
   "outputs": [
    {
     "name": "stdout",
     "output_type": "stream",
     "text": [
      "<class 'pandas.core.series.Series'>\n",
      "RangeIndex: 4000 entries, 0 to 3999\n",
      "Series name: publish_date\n",
      "Non-Null Count  Dtype         \n",
      "--------------  -----         \n",
      "4000 non-null   datetime64[ns]\n",
      "dtypes: datetime64[ns](1)\n",
      "memory usage: 31.4 KB\n"
     ]
    }
   ],
   "source": [
    "snapshot['publish_date'] = snapshot['publish_date'].apply(lambda x: x.replace(tzinfo=None))\n",
    "snapshot['publish_date'].info()"
   ],
   "metadata": {
    "collapsed": false,
    "pycharm": {
     "name": "#%%\n"
    }
   }
  },
  {
   "cell_type": "code",
   "execution_count": 33,
   "outputs": [
    {
     "data": {
      "text/plain": "'10-08-2022'"
     },
     "execution_count": 33,
     "metadata": {},
     "output_type": "execute_result"
    }
   ],
   "source": [
    "current_date = datetime.now().strftime('%d-%m-%Y')\n",
    "current_date"
   ],
   "metadata": {
    "collapsed": false,
    "pycharm": {
     "name": "#%%\n"
    }
   }
  },
  {
   "cell_type": "code",
   "execution_count": 34,
   "outputs": [],
   "source": [
    "snapshot.to_csv(f'../data/google/{current_date}.csv')\n",
    "snapshot.to_excel(f'../data/google/{current_date}.xlsx', engine='xlsxwriter')"
   ],
   "metadata": {
    "collapsed": false,
    "pycharm": {
     "name": "#%%\n"
    }
   }
  },
  {
   "cell_type": "code",
   "execution_count": null,
   "outputs": [],
   "source": [],
   "metadata": {
    "collapsed": false,
    "pycharm": {
     "name": "#%%\n"
    }
   }
  }
 ],
 "metadata": {
  "kernelspec": {
   "display_name": "Python 3",
   "language": "python",
   "name": "python3"
  },
  "language_info": {
   "codemirror_mode": {
    "name": "ipython",
    "version": 2
   },
   "file_extension": ".py",
   "mimetype": "text/x-python",
   "name": "python",
   "nbconvert_exporter": "python",
   "pygments_lexer": "ipython2",
   "version": "2.7.6"
  }
 },
 "nbformat": 4,
 "nbformat_minor": 0
}