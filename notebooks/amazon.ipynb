{
 "cells": [
  {
   "cell_type": "code",
   "source": [
    "import time\n",
    "import requests\n",
    "from bs4 import BeautifulSoup\n",
    "import json\n",
    "import re\n",
    "import time\n",
    "import faker\n",
    "import pandas as pd\n",
    "from tqdm import tqdm\n",
    "from datetime import datetime\n",
    "from dateutil import parser"
   ],
   "metadata": {
    "id": "ri3TAA8MgAbh",
    "pycharm": {
     "name": "#%%\n"
    }
   },
   "execution_count": 1,
   "outputs": []
  },
  {
   "cell_type": "code",
   "source": [
    "fake = faker.Faker(locale='en')"
   ],
   "metadata": {
    "id": "6FFjXzajgAef",
    "pycharm": {
     "name": "#%%\n"
    }
   },
   "execution_count": 2,
   "outputs": []
  },
  {
   "cell_type": "code",
   "source": [
    "amazon_headers = {\n",
    "    'User-Agent': fake.chrome(),\n",
    "    'accept-language': 'en-US,en;q=0.9',\n",
    "    'pragma': 'np-cache',\n",
    "    'Host': 'www.amazon.jobs',\n",
    "    'content-type': 'application/json',\n",
    "    'referer': 'https://www.amazon.jobs/en/search?base_query=&loc_query='\n",
    "}"
   ],
   "metadata": {
    "id": "96IJYCSZgAhP",
    "pycharm": {
     "name": "#%%\n"
    }
   },
   "execution_count": 3,
   "outputs": []
  },
  {
   "cell_type": "code",
   "execution_count": 4,
   "outputs": [],
   "source": [
    "clear_string = lambda x: re.sub(' +', ' ', re.sub('<.*?>', ' ', x).replace('\\n', '\\n ')).strip()"
   ],
   "metadata": {
    "collapsed": false,
    "pycharm": {
     "name": "#%%\n"
    }
   }
  },
  {
   "cell_type": "markdown",
   "source": [
    "Здесь выбраны только FullTime и Part Time вакансии отсортированные по дате добавления (сначала более новые)"
   ],
   "metadata": {
    "collapsed": false,
    "pycharm": {
     "name": "#%% md\n"
    }
   }
  },
  {
   "cell_type": "code",
   "execution_count": 5,
   "outputs": [],
   "source": [
    "API_URL = \"http://www.amazon.jobs/en/search.json?schedule_type_id[]=Flex-Time (<19 hours)&schedule_type_id[]=Part-Time (20-29 hours)&schedule_type_id[]=Reduced-Time (30-39 hours)&schedule_type_id[]=Flex Time (<19 hours)&schedule_type_id[]=Reduced Time (30-39 hours)&schedule_type_id[]=Full-Time&radius=24km&facets[]=normalized_country_code&facets[]=normalized_state_name&facets[]=normalized_city_name&facets[]=location&facets[]=business_category&facets[]=category&facets[]=schedule_type_id&facets[]=employee_class&facets[]=normalized_location&facets[]=job_function_id&facets[]=is_manager&facets[]=is_intern&sort=recent&latitude=&longitude=&loc_group_id=&loc_query=&base_query=&city=&country=&region=&county=&query_options=&\"\n",
    "MAIN_URL = \"https://www.amazon.jobs\""
   ],
   "metadata": {
    "collapsed": false,
    "pycharm": {
     "name": "#%%\n"
    }
   }
  },
  {
   "cell_type": "markdown",
   "source": [
    "### Тестирование для одной страницы"
   ],
   "metadata": {
    "collapsed": false,
    "pycharm": {
     "name": "#%% md\n"
    }
   }
  },
  {
   "cell_type": "code",
   "execution_count": 6,
   "outputs": [],
   "source": [
    "search_params = {\n",
    "    'offset': 0,\n",
    "    'result_limit': 100\n",
    "}"
   ],
   "metadata": {
    "collapsed": false,
    "pycharm": {
     "name": "#%%\n"
    }
   }
  },
  {
   "cell_type": "code",
   "execution_count": 7,
   "outputs": [
    {
     "data": {
      "text/plain": "<Response [200]>"
     },
     "execution_count": 7,
     "metadata": {},
     "output_type": "execute_result"
    }
   ],
   "source": [
    "result = requests.get(API_URL, headers=amazon_headers, params=search_params)\n",
    "result"
   ],
   "metadata": {
    "collapsed": false,
    "pycharm": {
     "name": "#%%\n"
    }
   }
  },
  {
   "cell_type": "code",
   "execution_count": 8,
   "outputs": [
    {
     "data": {
      "text/plain": "{'basic_qualifications': '<table style=\"width: 203px;\"><colgroup><col></col></colgroup><tbody><tr><td colspan=\"1\" rowspan=\"1\" class=\"xl67\" style=\"height: 18px; width: 203px; white-space: nowrap;\"><span style=\"font-size: 13px;\"><strong><span style=\"\"><span style=\"color: black;\"><span style=\"font-style: normal;\"><span style=\"text-decoration: none;\">Requisitos básicos:</span></span></span></span></strong></span></td></tr><tr><td colspan=\"1\" rowspan=\"1\" class=\"xl66\" style=\"height: 18px; white-space: nowrap;\"><span style=\"font-size: 13px;\"><span style=\"\"><span style=\"color: black;\"><span style=\"font-weight: 400;\"><span style=\"font-style: normal;\"><span style=\"text-decoration: none;\">· Ser mayor de 18 años.</span></span></span></span></span></span></td></tr><tr><td colspan=\"1\" rowspan=\"1\" class=\"xl66\" style=\"height: 18px; white-space: nowrap;\"><span style=\"font-size: 13px;\"><span style=\"\"><span style=\"color: black;\"><span style=\"font-weight: 400;\"><span style=\"font-style: normal;\"><span style=\"text-decoration: none;\">· Certificado de Preparatoria</span></span></span></span></span></span></td></tr><tr><td colspan=\"1\" rowspan=\"1\" class=\"xl66\" style=\"height: 18px; white-space: nowrap;\"><span style=\"font-size: 13px;\"><span style=\"\"><span style=\"color: black;\"><span style=\"font-weight: 400;\"><span style=\"font-style: normal;\"><span style=\"text-decoration: none;\">· Identificación Oficial</span></span></span></span></span></span></td></tr><tr><td colspan=\"1\" rowspan=\"1\" class=\"xl66\" style=\"height: 18px; white-space: nowrap;\"><span style=\"font-size: 13px;\"><span style=\"\"><span style=\"color: black;\"><span style=\"font-weight: 400;\"><span style=\"font-style: normal;\"><span style=\"text-decoration: none;\">· Contar con Carta de No Antecedentes Penales (En los estados donde aplique)</span></span></span></span></span></span></td></tr><tr><td colspan=\"1\" rowspan=\"1\" class=\"xl66\" style=\"height: 18px; white-space: nowrap;\"><span style=\"font-size: 13px;\"><span style=\"\"><span style=\"color: black;\"><span style=\"font-weight: 400;\"><span style=\"font-style: normal;\"><span style=\"text-decoration: none;\">· Experiencia con manejo de Windows y Outlook</span></span></span></span></span></span></td></tr><tr><td colspan=\"1\" rowspan=\"1\" class=\"xl67\" style=\"height: 18px; white-space: nowrap;\"><span style=\"font-size: 13px;\"><strong><span style=\"\"><span style=\"color: black;\"><span style=\"font-style: normal;\"><span style=\"text-decoration: none;\">. Manejar multiples navegadores de internet, ventanas y herramientas de mensajería instantánea</span></span></span></span></strong></span></td></tr><tr><td colspan=\"1\" rowspan=\"1\" class=\"xl66\" style=\"height: 18px; white-space: nowrap;\"><span style=\"font-size: 13px;\"><span style=\"\"><span style=\"color: black;\"><span style=\"font-weight: 400;\"><span style=\"font-style: normal;\"><span style=\"text-decoration: none;\">. Habilidades solidas de comunicación escrita y verbal en español</span></span></span></span></span></span></td></tr><tr><td colspan=\"1\" rowspan=\"1\" class=\"xl66\" style=\"height: 18px; white-space: nowrap;\">\\xa0</td></tr><tr><td colspan=\"1\" rowspan=\"1\" class=\"xl66\" style=\"height: 18px; white-space: nowrap;\"><span style=\"font-size: 13px;\"><span style=\"\"><span style=\"color: black;\"><span style=\"font-weight: 400;\"><span style=\"font-style: normal;\"><span style=\"text-decoration: none;\">Otras características deseadas:</span></span></span></span></span></span></td></tr><tr><td colspan=\"1\" rowspan=\"1\" class=\"xl67\" style=\"height: 18px; white-space: nowrap;\"><span style=\"font-size: 13px;\"><strong><span style=\"\"><span style=\"color: black;\"><span style=\"font-style: normal;\"><span style=\"text-decoration: none;\">· Adaptabilidad a un ambiente rápido, enérgico y de tareas diversas.</span></span></span></span></strong></span></td></tr><tr><td colspan=\"1\" rowspan=\"1\" class=\"xl66\" style=\"height: 18px; white-space: nowrap;\"><span style=\"font-size: 13px;\"><span style=\"\"><span style=\"color: black;\"><span style=\"font-weight: 400;\"><span style=\"font-style: normal;\"><span style=\"text-decoration: none;\">· Resolución problemas de manera creativa y analítica.</span></span></span></span></span></span></td></tr><tr><td colspan=\"1\" rowspan=\"1\" class=\"xl66\" style=\"height: 18px; white-space: nowrap;\"><span style=\"font-size: 13px;\"><span style=\"\"><span style=\"color: black;\"><span style=\"font-weight: 400;\"><span style=\"font-style: normal;\"><span style=\"text-decoration: none;\">· Gran pasión por el servicio al cliente.</span></span></span></span></span></span></td></tr><tr><td colspan=\"1\" rowspan=\"1\" class=\"xl66\" style=\"height: 18px; white-space: nowrap;\"><span style=\"font-size: 13px;\"><span style=\"\"><span style=\"color: black;\"><span style=\"font-weight: 400;\"><span style=\"font-style: normal;\"><span style=\"text-decoration: none;\">. Experiencia previa en Servicio al Cliente</span></span></span></span></span></span></td></tr><tr><td colspan=\"1\" rowspan=\"1\" class=\"xl66\" style=\"height: 18px; white-space: nowrap;\"><span style=\"font-size: 13px;\"><span style=\"\"><span style=\"color: black;\"><span style=\"font-weight: 400;\"><span style=\"font-style: normal;\"><span style=\"text-decoration: none;\">. Habilidad para priorizar las tareas de trabajo asegurando eficiencia</span></span></span></span></span></span></td></tr><tr><td colspan=\"1\" rowspan=\"1\" class=\"xl66\" style=\"height: 18px; white-space: nowrap;\"><span style=\"font-size: 13px;\"><span style=\"\"><span style=\"color: black;\"><span style=\"font-weight: 400;\"><span style=\"font-style: normal;\"><span style=\"text-decoration: none;\">. Experiencia trabajando con equipos de comercialización o embajadores de marca.</span></span></span></span></span></span></td></tr><tr><td colspan=\"1\" rowspan=\"1\" class=\"xl66\" style=\"height: 18px; white-space: nowrap;\">\\xa0</td></tr><tr><td colspan=\"1\" rowspan=\"1\" class=\"xl67\" style=\"height: 18px; white-space: nowrap;\"><span style=\"font-size: 13px;\"><strong><span style=\"\"><span style=\"color: black;\"><span style=\"font-style: normal;\"><span style=\"text-decoration: none;\">Aviso de privacidad:</span></span></span></span></strong></span></td></tr><tr><td colspan=\"1\" rowspan=\"1\" class=\"xl66\" style=\"height: 18px; white-space: nowrap;\">\\xa0</td></tr><tr><td colspan=\"1\" rowspan=\"1\" class=\"xl66\" style=\"height: 18px; white-space: nowrap;\"><span style=\"font-size: 13px;\"><span style=\"\"><span style=\"color: black;\"><span style=\"font-weight: 400;\"><span style=\"font-style: normal;\"><span style=\"text-decoration: none;\">SERVICIOS COMERCIALES AMAZON MÉXICO, S. DE R.L. DE C.V.\\xa0 (“La Empresa”), con domicilio en Juan Salvador Agraz Número 73 Piso 5, Colonia Cruz Manca Santa Fe, Alcaldía Cuajimalpa, C.P. 05348, en la Ciudad de México, está consciente de la importancia del tratamiento legítimo, controlado e informado de los datos personales de sus candidatos a ser contratados. Es así que LA EMPRESA en este acto pone a su disposición el presente Aviso de Privacidad, a fin de que conozca cómo LA EMPRESA obtiene, usa, divulga y almacena sus datos personales.\\xa0\\xa0</span></span></span></span></span></span></td></tr><tr><td colspan=\"1\" rowspan=\"1\" class=\"xl66\" style=\"height: 18px; white-space: nowrap;\">\\xa0</td></tr><tr><td colspan=\"1\" rowspan=\"1\" class=\"xl66\" style=\"height: 18px; white-space: nowrap;\"><span style=\"font-size: 13px;\"><span style=\"\"><span style=\"color: black;\"><span style=\"font-weight: 400;\"><span style=\"font-style: normal;\"><span style=\"text-decoration: none;\">Datos personales que se recaban - Los datos personales que pudieran recabarse durante la relación laboral\\xa0 que nos una con usted, pertenecerán a las siguientes categorías: (i) Datos de Identificación: nombre completo; género; fecha de nacimiento; estado civil; país, ciudadanía y nacionalidad; visas de trabajo y/o permisos para trabajar en México o en el extranjero; clave del Registro Federal de Contribuyentes (RFC); Clave Única de Registro de Población (CURP); número de afiliación al Instituto Mexicano del Seguro Social (IMSS); imágenes; fotografías, identificaciones con fotografía; firma; (ii) Datos de Contacto: domicilio; números telefónicos; números celulares; correo electrónico; (iii) Datos laborales y académicos: curriculum vitae; ocupación; referencias laborales -; referencias personales; información relacionada con empleos anteriores; documentos que acrediten preparación académica y grado de estudios; resultados de estudios de verificación de la información que usted proporcione a LA EMPRESA; desempeño laboral; (iv) Datos de Terceros:\\xa0 datos de dependientes económicos y beneficiarios como nombre; fecha de nacimiento; parentesco; datos de contacto; datos de identificación y contacto de personas designadas para caso de emergencia; (v) Datos fiscales y en materia de seguridad social: declaraciones de impuestos y retenciones de impuestos, número de crédito con el FONACOT (en su caso); (vi) Datos personales de fuentes de acceso público y recibidos vía transferencia consentidas: Datos provenientes de registros públicos, directorios, redes sociales y otras fuentes lícitas disponibles en el mercado; (vii) Datos personales provenientes de redes sociales: datos personales e información que haya compartido públicamente en redes sociales (tales como Facebook, Twitter, LinkedIn, entre otras), incluyendo la información que haya compartido de cualquier otra forma con carácter de pública.</span></span></span></span></span></span></td></tr><tr><td colspan=\"1\" rowspan=\"1\" class=\"xl67\" style=\"height: 18px; white-space: nowrap;\">\\xa0</td></tr><tr><td colspan=\"1\" rowspan=\"1\" class=\"xl66\" style=\"height: 18px; white-space: nowrap;\"><span style=\"font-size: 13px;\"><span style=\"\"><span style=\"color: black;\"><span style=\"font-weight: 400;\"><span style=\"font-style: normal;\"><span style=\"text-decoration: none;\">Además se podrán recabar y/o realizar exámenes y verificación de antecedentes de forma periódica para recabar Datos sensibles (que deberán entenderse incluidos dentro del término “datos personales”) y que requieren de especial protección como resultados de evaluaciones y exámenes psicométricos; resultados de exámenes médicos, incluyendo exámenes de audiometría, exámenes de sangre, radiografías, y pruebas de visión; antecedentes médicos, familiares, penales, laborales; datos de salud; información sobre si es usted fumador e información sobre pertenencia o afiliación a un sindicato; así como Datos financieros o patrimoniales: como salarios, prestaciones laborales y gastos, aportaciones al fondo de ahorro, cuotas obrero-patronales; cuentas bancarias, beneficiarios, resultados de estudios socioeconómicos; otras percepciones que reciba con motivo de su trabajo; datos sobre créditos INFONAVIT; créditos FONACOT.</span></span></span></span></span></span></td></tr><tr><td colspan=\"1\" rowspan=\"1\" class=\"xl66\" style=\"height: 18px; white-space: nowrap;\">\\xa0</td></tr><tr><td colspan=\"1\" rowspan=\"1\" class=\"xl66\" style=\"height: 18px; white-space: nowrap;\"><span style=\"font-size: 13px;\"><span style=\"\"><span style=\"color: black;\"><span style=\"font-weight: 400;\"><span style=\"font-style: normal;\"><span style=\"text-decoration: none;\">Adicionalmente, LA EMPRESA le podrá solicitar que muestre documentación en original y que entregue copia de la misma, como evidencia que respalde la información que haya proporcionado.</span></span></span></span></span></span></td></tr><tr><td colspan=\"1\" rowspan=\"1\" class=\"xl66\" style=\"height: 18px; white-space: nowrap;\">\\xa0</td></tr><tr><td colspan=\"1\" rowspan=\"1\" class=\"xl66\" style=\"height: 18px; white-space: nowrap;\"><span style=\"font-size: 13px;\"><span style=\"\"><span style=\"color: black;\"><span style=\"font-weight: 400;\"><span style=\"font-style: normal;\"><span style=\"text-decoration: none;\">Finalidades y/o usos de los datos personales - Los datos personales que recaba LA EMPRESA pueden ser utilizados para las siguientes finalidades necesarias: (i) para el cumplimiento de cualquier obligación legal relacionada a la información proporcionada (ii) conformar y determinar las divisiones laborales con las que contamos; (iii) determinar cargos laborales; (iv) administración de talento y administración de personal;\\xa0 (v) elaboración y mantenimiento del directorio de LA EMPRESA; (vi) listados para correo electrónico y envío de comunicaciones;\\xa0 (vii) para ser exhibida en caso de juicio nacional e internacional o en cualquier procedimiento administrativo o de cualquier otra naturaleza seguido ante una autoridad competente, ya sea nacional o internacional, y en general para cumplir con obligaciones legales y para la defensa de los intereses y derechos de LA EMPRESA, sus afiliadas, subsidiarias y cualquier persona física o moral con la que LA EMPRESA tenga, haya tenido o pueda tener una relación comercial; (viii) proteger la propiedad y derechos de LA EMPRESA y de empresas relacionadas, así como la confidencialidad de la información de éstas; (ix) (x) contactar a las personas designadas para casos de emergencia, (xi) llevar a cabo encuestas de opinión de candidatos; (xii) llevar a cabo reubicaciones; (xiii) para movilidad internacional; (xiv) Evaluar su experiencia, conocimientos, estado de salud, estado físico, aptitudes y habilidades e identificar perfiles con los cuales es compatible; programar entrevistas con la Empresa; (xv) realizar una verificación de referencias; para sondear las posiciones en el mercado laboral y determinar la posición óptima para el mismo; (xvi) para la elaboración de todo tipo de reportes; (xvii) para realizar investigaciones internas, conformar y determinar las divisiones laborales con las que contamos; (xviii) determinar cargos laborales; administración de talento, bases de datos.</span></span></span></span></span></span></td></tr><tr><td colspan=\"1\" rowspan=\"1\" class=\"xl67\" style=\"height: 18px; white-space: nowrap;\">\\xa0</td></tr><tr><td colspan=\"1\" rowspan=\"1\" class=\"xl66\" style=\"height: 18px; white-space: nowrap;\"><span style=\"font-size: 13px;\"><span style=\"\"><span style=\"color: black;\"><span style=\"font-weight: 400;\"><span style=\"font-style: normal;\"><span style=\"text-decoration: none;\">Asimismo, los datos personales podrán utilizarse para finalidades no necesarias o secundarias tales como (i) comunicaciones (incluyendo correos electrónicos) relativas a LA EMPRESA; (ii) elaborar y mantener una base de datos para futuras oportunidades de empleo con LA EMPRESA; y (iii) proporcionar referencias laborales suyas a prospectos empleadores.</span></span></span></span></span></span></td></tr><tr><td colspan=\"1\" rowspan=\"1\" class=\"xl66\" style=\"height: 18px; white-space: nowrap;\">\\xa0</td></tr><tr><td colspan=\"1\" rowspan=\"1\" class=\"xl66\" style=\"height: 18px; white-space: nowrap;\"><span style=\"font-size: 13px;\"><span style=\"\"><span style=\"color: black;\"><span style=\"font-weight: 400;\"><span style=\"font-style: normal;\"><span style=\"text-decoration: none;\">Para limitar o manifestar su negativa sobre el uso de estos fines no necesarios, puede presentar su solicitud por escrito ante nuestro Oficial de Privacidad en las oficinas de la Empresa, en Juan Salvador Agraz Número 73 Piso 5, Colonia Cruz Manca Santa Fe, Alcaldía Cuajimalpa, C.P. 05348, en la Ciudad de México,\\xa0 o vía electrónica al correo\\xa0mx-jobs@amazon.com\\xa0y su solicitud quedará registrada en la Lista de Exclusión.</span></span></span></span></span></span></td></tr><tr><td colspan=\"1\" rowspan=\"1\" class=\"xl66\" style=\"height: 18px; white-space: nowrap;\">\\xa0</td></tr><tr><td colspan=\"1\" rowspan=\"1\" class=\"xl66\" style=\"height: 18px; white-space: nowrap;\"><span style=\"font-size: 13px;\"><span style=\"\"><span style=\"color: black;\"><span style=\"font-weight: 400;\"><span style=\"font-style: normal;\"><span style=\"text-decoration: none;\">Transferencia de sus datos personales – LA EMPRESA puede transferir a terceros, nacionales o extranjeros, sus datos personales y/o datos personales sensibles y/o financieros con el fin de cumplir con las finalidades descritas; asimismo, en caso de que exista una restructuración corporativa incluyendo la fusión, consolidación, venta o transferencia total o parcial de nuestro negocio o activos, podría ser necesaria la transferencia nacional o internacional de los datos personales. Los terceros a los que LA EMPRESA puede transferir sus datos personales son, por ejemplo: otras compañías afiliadas o subsidiarias que actúen bajo las mismas políticas y procedimientos que LA EMPRESA, asesores profesionales externos que actúen a nombre y por cuenta de LA EMPRESA, prestadores de servicios que son contratados para cumplir con las finalidades descritas y que actúan a nombre y por cuenta de LA EMPRESA, potenciales compradores del negocio o activos de LA EMPRESA.. Además, LA EMPRESA podrá transferir sus datos personales cuando sea necesario para la procuración de justicia y reconocimiento de un derecho en un proceso judicial, así como a autoridades mexicanas o extranjeras que así lo requieran a la EMPRESA o, para ser exhibida como prueba en juicio en México o en cualquier país en el extranjero.</span></span></span></span></span></span></td></tr><tr><td colspan=\"1\" rowspan=\"1\" class=\"xl67\" style=\"height: 18px; white-space: nowrap;\">\\xa0</td></tr><tr><td colspan=\"1\" rowspan=\"1\" class=\"xl66\" style=\"height: 18px; white-space: nowrap;\"><span style=\"font-size: 13px;\"><span style=\"\"><span style=\"color: black;\"><span style=\"font-weight: 400;\"><span style=\"font-style: normal;\"><span style=\"text-decoration: none;\">LA EMPRESA se compromete a transferir solo aquella información que sea absoluta y estrictamente necesaria. Cuando LA EMPRESA comparta sus datos personales con terceros hará su mejor esfuerzo para\\xa0 asegurarse que dichos terceros tomen las medidas necesarias para proteger la confidencialidad y seguridad de sus datos personales. LA EMPRESA requerirá que dichos terceros cumplan con las leyes de protección de datos aplicables, las políticas y el Aviso de Privacidad de LA EMPRESA y les prohibirá utilizar sus datos personales para un fin distinto a aquel para el cual han sido contratados.</span></span></span></span></span></span></td></tr><tr><td colspan=\"1\" rowspan=\"1\" class=\"xl66\" style=\"height: 18px; white-space: nowrap;\">\\xa0</td></tr><tr><td colspan=\"1\" rowspan=\"1\" class=\"xl66\" style=\"height: 18px; white-space: nowrap;\"><span style=\"font-size: 13px;\"><span style=\"\"><span style=\"color: black;\"><span style=\"font-weight: 400;\"><span style=\"font-style: normal;\"><span style=\"text-decoration: none;\">LA EMPRESA se asegurará que dicha información sea resguardada de acuerdo a los principios de protección de datos personales reconocidos por la Ley Federal de Protección de Datos Personales en Posesión de los Particulares y su Reglamento (la “Ley”) y que, en su caso, el receptor de los datos asuma las mismas obligaciones que LA EMPRESA.</span></span></span></span></span></span></td></tr><tr><td colspan=\"1\" rowspan=\"1\" class=\"xl66\" style=\"height: 18px; white-space: nowrap;\">\\xa0</td></tr><tr><td colspan=\"1\" rowspan=\"1\" class=\"xl66\" style=\"height: 18px; white-space: nowrap;\"><span style=\"font-size: 13px;\"><span style=\"\"><span style=\"color: black;\"><span style=\"font-weight: 400;\"><span style=\"font-style: normal;\"><span style=\"text-decoration: none;\">LA EMPRESA jamás vende sus datos personales, ni cede o transfiere sus datos personales a terceros ajenos a LA EMPRESA, sin su consentimiento previo, excepto en los casos antes citados. Sin embargo, LA EMPRESA podrá transferir sus datos personales cuando dicha transferencia esté prevista en la Ley.</span></span></span></span></span></span></td></tr><tr><td colspan=\"1\" rowspan=\"1\" class=\"xl66\" style=\"height: 18px; white-space: nowrap;\">\\xa0</td></tr><tr><td colspan=\"1\" rowspan=\"1\" class=\"xl66\" style=\"height: 18px; white-space: nowrap;\"><span style=\"font-size: 13px;\"><span style=\"\"><span style=\"color: black;\"><span style=\"font-weight: 400;\"><span style=\"font-style: normal;\"><span style=\"text-decoration: none;\">Resguardo de sus datos personales - LA EMPRESA ha adoptado las medidas de seguridad, administrativas, técnicas y físicas, que considera necesarias para proteger sus datos personales.</span></span></span></span></span></span></td></tr><tr><td colspan=\"1\" rowspan=\"1\" class=\"xl66\" style=\"height: 18px; white-space: nowrap;\">\\xa0</td></tr><tr><td colspan=\"1\" rowspan=\"1\" class=\"xl66\" style=\"height: 18px; white-space: nowrap;\"><span style=\"font-size: 13px;\"><span style=\"\"><span style=\"color: black;\"><span style=\"font-weight: 400;\"><span style=\"font-style: normal;\"><span style=\"text-decoration: none;\">El acceso a sus datos personales, en poder de LA EMPRESA, se limitará a las personas que necesiten tener acceso a dicha información, con el propósito de llevar a cabo las finalidades identificadas en este Aviso de Privacidad.</span></span></span></span></span></span></td></tr><tr><td colspan=\"1\" rowspan=\"1\" class=\"xl66\" style=\"height: 18px; white-space: nowrap;\">\\xa0</td></tr><tr><td colspan=\"1\" rowspan=\"1\" class=\"xl66\" style=\"height: 18px; white-space: nowrap;\"><span style=\"font-size: 13px;\"><span style=\"\"><span style=\"color: black;\"><span style=\"font-weight: 400;\"><span style=\"font-style: normal;\"><span style=\"text-decoration: none;\">Protección a menores, personas en estado de interdicción o incapacidad - LA EMPRESA no recolecta ni trata datos personales de menores, personas en estado de interdicción o incapaces, a menos que hayan sido proporcionados por alguno de sus padres, su tutor o representante legal, según corresponda. En caso que LA EMPRESA considere que los datos personales han sido proporcionados por un menor, una persona incapaz o en estado de interdicción, en contravención al presente Aviso, procederemos a eliminar tales datos personales a la brevedad. Si tiene conocimiento que tales datos personales han sido proporcionados por un menor de 18 años, o por una persona incapaz o en estado de interdicción, por favor envíe un correo electrónico a:\\xa0mx-jobs@amazon.com</span></span></span></span></span></span></td></tr><tr><td colspan=\"1\" rowspan=\"1\" class=\"xl66\" style=\"height: 18px; white-space: nowrap;\">\\xa0</td></tr><tr><td colspan=\"1\" rowspan=\"1\" class=\"xl66\" style=\"height: 18px; white-space: nowrap;\"><span style=\"font-size: 13px;\"><span style=\"\"><span style=\"color: black;\"><span style=\"font-weight: 400;\"><span style=\"font-style: normal;\"><span style=\"text-decoration: none;\">Derechos que le corresponden al titular de los datos personales - Usted, como titular de datos personales podrá ejercitar ante el Oficial de Privacidad, el cual es el responsable de Protección de Datos Personales de LA EMPRESA, como más adelante se establece, los derechos de acceso, rectificación, cancelación y oposición (derechos “ARCO”), establecidos en la Ley. Asimismo, podrá revocar, en todo momento, el consentimiento que haya otorgado y que fuere necesario para el tratamiento de sus datos personales.\\xa0 Para revocar su consentimiento para el tratamiento de sus datos personales, deberá presentar su solicitud a la dirección Juan Salvador Agraz Número 73 Piso 5, Colonia Cruz Manca Santa Fe, Alcaldía Cuajimalpa, C.P. 05348, en la Ciudad de México.</span></span></span></span></span></span></td></tr><tr><td colspan=\"1\" rowspan=\"1\" class=\"xl66\" style=\"height: 18px; white-space: nowrap;\">\\xa0</td></tr><tr><td colspan=\"1\" rowspan=\"1\" class=\"xl66\" style=\"height: 18px; white-space: nowrap;\"><span style=\"font-size: 13px;\"><span style=\"\"><span style=\"color: black;\"><span style=\"font-weight: 400;\"><span style=\"font-style: normal;\"><span style=\"text-decoration: none;\">Para ejercer los Derechos ARCO, usted o su representante legal deberán enviar su solicitud de Derechos ARCO a la EMPRESA a la atención de Recursos Humanos, Servicio al Cliente, para su atención y seguimiento.</span></span></span></span></span></span></td></tr><tr><td colspan=\"1\" rowspan=\"1\" class=\"xl66\" style=\"height: 18px; white-space: nowrap;\">\\xa0</td></tr><tr><td colspan=\"1\" rowspan=\"1\" class=\"xl66\" style=\"height: 18px; white-space: nowrap;\"><span style=\"font-size: 13px;\"><span style=\"\"><span style=\"color: black;\"><span style=\"font-weight: 400;\"><span style=\"font-style: normal;\"><span style=\"text-decoration: none;\">Opciones para limitar el uso o divulgación de sus datos personales. Usted podrá limitar el uso o divulgación de sus datos personales para evitar que sean utilizados o divulgados.</span></span></span></span></span></span></td></tr><tr><td colspan=\"1\" rowspan=\"1\" class=\"xl66\" style=\"height: 18px; white-space: nowrap;\">\\xa0</td></tr><tr><td colspan=\"1\" rowspan=\"1\" class=\"xl66\" style=\"height: 18px; white-space: nowrap;\"><span style=\"font-size: 13px;\"><span style=\"\"><span style=\"color: black;\"><span style=\"font-weight: 400;\"><span style=\"font-style: normal;\"><span style=\"text-decoration: none;\">Si desea limitar el uso o divulgación de sus datos personales, deberá presentar su solicitud al correo electrónico\\xa0mx-jobs@amazon.com, en el entendido de que LA EMPRESA no podría cumplir con algunas de sus obligaciones si esto sucede.</span></span></span></span></span></span></td></tr><tr><td colspan=\"1\" rowspan=\"1\" class=\"xl66\" style=\"height: 18px; white-space: nowrap;\">\\xa0</td></tr><tr><td colspan=\"1\" rowspan=\"1\" class=\"xl66\" style=\"height: 18px; white-space: nowrap;\"><span style=\"font-size: 13px;\"><span style=\"\"><span style=\"color: black;\"><span style=\"font-weight: 400;\"><span style=\"font-style: normal;\"><span style=\"text-decoration: none;\">Uso de Cookies y Otras Tecnologías de Rastreo. LA EMPRESA no utiliza directamente cookies u otras tecnologías de rastreo para recabar sus datos personales cuando usted accede al servicio de red interno, portal interno y/o sitio web.</span></span></span></span></span></span></td></tr><tr><td colspan=\"1\" rowspan=\"1\" class=\"xl66\" style=\"height: 18px; white-space: nowrap;\">\\xa0</td></tr><tr><td colspan=\"1\" rowspan=\"1\" class=\"xl66\" style=\"height: 18px; white-space: nowrap;\"><span style=\"font-size: 13px;\"><span style=\"\"><span style=\"color: black;\"><span style=\"font-weight: 400;\"><span style=\"font-style: normal;\"><span style=\"text-decoration: none;\">Cambios al aviso de privacidad - En caso de existir cambios o modificaciones al presente Aviso de Privacidad, se pondrá a su disposición la versión actualizada del mismo a través con nuestro Oficial de Privacidad en las oficinas de LA EMPRESA, en Juan Salvador Agraz Número 73 Piso 5, Colonia Cruz Manca Santa Fe, Alcaldía Cuajimalpa, C.P. 05348, en la Ciudad de México, o en el correo electrónico\\xa0mx-jobs@amazon.com</span></span></span></span></span></span></td></tr><tr><td colspan=\"1\" rowspan=\"1\" class=\"xl66\" style=\"height: 18px; white-space: nowrap;\">\\xa0</td></tr><tr><td colspan=\"1\" rowspan=\"1\" class=\"xl66\" style=\"height: 18px; white-space: nowrap;\"><span style=\"font-size: 13px;\"><span style=\"\"><span style=\"color: black;\"><span style=\"font-weight: 400;\"><span style=\"font-style: normal;\"><span style=\"text-decoration: none;\">Contacto - En caso de tener dudas o comentarios respecto a este Aviso de Privacidad o si quisiera ejercitar cualquiera de los derechos que por la Ley le corresponden, le pedimos contacte al Departamento de Recursos Humanos, a través de la siguiente dirección de correo electrónico:\\xa0mx-jobs@amazon.com\\xa0o de los domicilios ubicados en: Juan Salvador Agraz Número 73 Piso 5, Colonia Cruz Manca Santa Fe, Alcaldía Cuajimalpa, C.P. 05348, en la Ciudad de México.</span></span></span></span></span></span></td></tr><tr><td colspan=\"1\" rowspan=\"1\" class=\"xl66\" style=\"height: 18px; white-space: nowrap;\">\\xa0</td></tr><tr><td colspan=\"1\" rowspan=\"1\" class=\"xl66\" style=\"height: 18px; white-space: nowrap;\">\\xa0</td></tr><tr><td colspan=\"1\" rowspan=\"1\" class=\"xl66\" style=\"height: 18px; white-space: nowrap;\"><span style=\"font-size: 13px;\"><span style=\"\"><span style=\"color: black;\"><span style=\"font-weight: 400;\"><span style=\"font-style: normal;\"><span style=\"text-decoration: none;\">Manifiesto que he leído y entiendo el presente Aviso de Privacidad.</span></span></span></span></span></span></td></tr><tr><td colspan=\"1\" rowspan=\"1\" class=\"xl66\" style=\"height: 18px; white-space: nowrap;\">\\xa0</td></tr><tr><td colspan=\"1\" rowspan=\"1\" class=\"xl66\" style=\"height: 18px; white-space: nowrap;\"><span style=\"font-size: 13px;\"><span style=\"\"><span style=\"color: black;\"><span style=\"font-weight: 400;\"><span style=\"font-style: normal;\"><span style=\"text-decoration: none;\">En términos de la Ley Federal de Protección de Datos Personales en Posesión de los Particulares y su Reglamento, le informamos que, ante la negativa de respuesta a las solicitudes de derechos ARCO o inconformidad con la misma, usted puede presentar ante el Instituto Nacional de Transparencia, Acceso a la Información y Protección de Datos Personales, la correspondiente Solicitud de Protección de Derechos en los plazos y términos fijados por el capítulo VII de la Ley y otros relacionados, así como los correspondientes del Reglamento.</span></span></span></span></span></span></td></tr><tr><td colspan=\"1\" rowspan=\"1\" class=\"xl66\" style=\"height: 18px; white-space: nowrap;\">\\xa0</td></tr><tr><td colspan=\"1\" rowspan=\"1\" class=\"xl67\" style=\"height: 18px; white-space: nowrap;\"><span style=\"font-size: 13px;\"><strong><span style=\"\"><span style=\"color: black;\"><span style=\"font-style: normal;\"><span style=\"text-decoration: none;\">#AmazonVCS\\xa0</span></span></span></span></strong></span></td></tr></tbody></table>',\n 'business_category': 'amazon-customer-service',\n 'city': None,\n 'company_name': 'Servicios Comerciales Amazon México S. de R.L. de C.V.',\n 'country_code': 'MEX',\n 'description': '<table style=\"width: 203px;\"><colgroup><col></col></colgroup><tbody><tr><td colspan=\"1\" rowspan=\"1\" class=\"xl67\" style=\"height: 18px; width: 203px; white-space: nowrap;\"><span style=\"font-size: 13px;\"><strong><span style=\"\"><span style=\"color: black;\"><span style=\"font-style: normal;\"><span style=\"text-decoration: none;\">Asociado DSL</span></span></span></span></strong></span></td></tr><tr><td colspan=\"1\" rowspan=\"1\" class=\"xl66\" style=\"height: 18px; white-space: nowrap;\">\\xa0</td></tr><tr><td colspan=\"1\" rowspan=\"1\" class=\"xl66\" style=\"height: 18px; white-space: nowrap;\"><span style=\"font-size: 13px;\"><span style=\"\"><span style=\"color: black;\"><span style=\"font-weight: 400;\"><span style=\"font-style: normal;\"><span style=\"text-decoration: none;\">Amazon tiene la misión de ser la empresa con mejor servicio al cliente del mundo, para lograr este objetivo, nos esforzamos por superar las expectativas innovando y brindando la mejor atención al cliente de su clase a medida que expandimos nuestros productos y servicios de logística, incluida la mejora de la forma en que cumplimos y entregamos los pedidos de los clientes.</span></span></span></span></span></span></td></tr><tr><td colspan=\"1\" rowspan=\"1\" class=\"xl66\" style=\"height: 18px; white-space: nowrap;\">\\xa0</td></tr><tr><td colspan=\"1\" rowspan=\"1\" class=\"xl66\" style=\"height: 18px; white-space: nowrap;\"><span style=\"font-size: 13px;\"><span style=\"\"><span style=\"color: black;\"><span style=\"font-weight: 400;\"><span style=\"font-style: normal;\"><span style=\"text-decoration: none;\">Como Asociado DSL tu rol será ayudar a mejorar la experiencia de nuestros clientes brindando apoyo en tiempo real para asegurar que nuestros clientes reciban sus paquetes a tiempo, como lo prometimos. En este rol ayudarás a conectar a nuestros clientes con expertos que pueden apoyarles con la información más actualizada con respecto a sus paquetes. El trabajo va más allá de cumplir y entregar los pedidos de los clientes; se trata de asegurarse de que pongamos sonrisas en los rostros de los clientes.</span></span></span></span></span></span></td></tr><tr><td colspan=\"1\" rowspan=\"1\" class=\"xl66\" style=\"height: 18px; white-space: nowrap;\">\\xa0</td></tr><tr><td colspan=\"1\" rowspan=\"1\" class=\"xl66\" style=\"height: 18px; white-space: nowrap;\"><span style=\"font-size: 13px;\"><span style=\"\"><span style=\"color: black;\"><span style=\"font-weight: 400;\"><span style=\"font-style: normal;\"><span style=\"text-decoration: none;\">Como Asociado DSL serás responsable de:</span></span></span></span></span></span></td></tr><tr><td colspan=\"1\" rowspan=\"1\" class=\"xl66\" style=\"height: 18px; white-space: nowrap;\">\\xa0</td></tr><tr><td colspan=\"1\" rowspan=\"1\" class=\"xl66\" style=\"height: 18px; white-space: nowrap;\"><span style=\"font-size: 13px;\"><span style=\"\"><span style=\"color: black;\"><span style=\"font-weight: 400;\"><span style=\"font-style: normal;\"><span style=\"text-decoration: none;\">Comunicarte directamente con nuestros clientes por teléfono o por correo</span></span></span></span></span></span></td></tr><tr><td colspan=\"1\" rowspan=\"1\" class=\"xl66\" style=\"height: 18px; white-space: nowrap;\"><span style=\"font-size: 13px;\"><span style=\"\"><span style=\"color: black;\"><span style=\"font-weight: 400;\"><span style=\"font-style: normal;\"><span style=\"text-decoration: none;\">Empatizar y priorizar con las necesidades de nuestros clientes</span></span></span></span></span></span></td></tr><tr><td colspan=\"1\" rowspan=\"1\" class=\"xl66\" style=\"height: 18px; white-space: nowrap;\"><span style=\"font-size: 13px;\"><span style=\"\"><span style=\"color: black;\"><span style=\"font-weight: 400;\"><span style=\"font-style: normal;\"><span style=\"text-decoration: none;\">Demostrar los valores de la compañía en cada una de tus interacciones con nuestros clientes</span></span></span></span></span></span></td></tr><tr><td colspan=\"1\" rowspan=\"1\" class=\"xl66\" style=\"height: 18px; white-space: nowrap;\"><span style=\"font-size: 13px;\"><span style=\"\"><span style=\"color: black;\"><span style=\"font-weight: 400;\"><span style=\"font-style: normal;\"><span style=\"text-decoration: none;\">Resolver los problemas de nuestros clientes y establecer la expectativa correcta</span></span></span></span></span></span></td></tr><tr><td colspan=\"1\" rowspan=\"1\" class=\"xl66\" style=\"height: 18px; white-space: nowrap;\"><span style=\"font-size: 13px;\"><span style=\"\"><span style=\"color: black;\"><span style=\"font-weight: 400;\"><span style=\"font-style: normal;\"><span style=\"text-decoration: none;\">Entender y responder de manera clara a las situaciones que nuestro cliente presente</span></span></span></span></span></span></td></tr><tr><td colspan=\"1\" rowspan=\"1\" class=\"xl66\" style=\"height: 18px; white-space: nowrap;\"><span style=\"font-size: 13px;\"><span style=\"\"><span style=\"color: black;\"><span style=\"font-weight: 400;\"><span style=\"font-style: normal;\"><span style=\"text-decoration: none;\">Redactar consistentemente una respuesta escrita gramaticalmente correcta, concisa y precisa a los clientes</span></span></span></span></span></span></td></tr><tr><td colspan=\"1\" rowspan=\"1\" class=\"xl66\" style=\"height: 18px; white-space: nowrap;\"><span style=\"font-size: 13px;\"><span style=\"\"><span style=\"color: black;\"><span style=\"font-weight: 400;\"><span style=\"font-style: normal;\"><span style=\"text-decoration: none;\">Afrontar los problemas de una manera lógica y con buen juicio para asegurar que el resultado sea óptimo para nuestro cliente</span></span></span></span></span></span></td></tr><tr><td colspan=\"1\" rowspan=\"1\" class=\"xl66\" style=\"height: 18px; white-space: nowrap;\"><span style=\"font-size: 13px;\"><span style=\"\"><span style=\"color: black;\"><span style=\"font-weight: 400;\"><span style=\"font-style: normal;\"><span style=\"text-decoration: none;\">Tomar decisiones rápidas y efectivas para nuestros clientes</span></span></span></span></span></span></td></tr><tr><td colspan=\"1\" rowspan=\"1\" class=\"xl66\" style=\"height: 18px; white-space: nowrap;\"><span style=\"font-size: 13px;\"><span style=\"\"><span style=\"color: black;\"><span style=\"font-weight: 400;\"><span style=\"font-style: normal;\"><span style=\"text-decoration: none;\">Trabajar dentro de una de nuestras estaciones de entrega (Delivery Station) donde podrás desempeñar alguna de estas actividades:</span></span></span></span></span></span></td></tr><tr><td colspan=\"1\" rowspan=\"1\" class=\"xl66\" style=\"height: 18px; white-space: nowrap;\">\\xa0</td></tr><tr><td colspan=\"1\" rowspan=\"1\" class=\"xl66\" style=\"height: 18px; white-space: nowrap;\"><span style=\"font-size: 13px;\"><span style=\"\"><span style=\"color: black;\"><span style=\"font-weight: 400;\"><span style=\"font-style: normal;\"><span style=\"text-decoration: none;\">Cargar, levantar, empujar o jalar hasta 23 kgs.</span></span></span></span></span></span></td></tr><tr><td colspan=\"1\" rowspan=\"1\" class=\"xl66\" style=\"height: 18px; white-space: nowrap;\"><span style=\"font-size: 13px;\"><span style=\"\"><span style=\"color: black;\"><span style=\"font-weight: 400;\"><span style=\"font-style: normal;\"><span style=\"text-decoration: none;\">Pararse, arrodillarse, agacharse y o estirarse durante turnos de hasta 12 horas</span></span></span></span></span></span></td></tr><tr><td colspan=\"1\" rowspan=\"1\" class=\"xl66\" style=\"height: 18px; white-space: nowrap;\"><span style=\"font-size: 13px;\"><span style=\"\"><span style=\"color: black;\"><span style=\"font-weight: 400;\"><span style=\"font-style: normal;\"><span style=\"text-decoration: none;\">Trabajar en un entorno donde el nivel de ruido varía (equipo de protección personal proporcionado)</span></span></span></span></span></span></td></tr><tr><td colspan=\"1\" rowspan=\"1\" class=\"xl66\" style=\"height: 18px; white-space: nowrap;\"><span style=\"font-size: 13px;\"><span style=\"\"><span style=\"color: black;\"><span style=\"font-weight: 400;\"><span style=\"font-style: normal;\"><span style=\"text-decoration: none;\">Trabajar en un entorno donde la temperatura puede variar.</span></span></span></span></span></span></td></tr></tbody></table>',\n 'department_cost_center': None,\n 'description_short': 'Asociado DSL\\xa0Amazon tiene la misión de ser la empresa con mejor servicio al cliente del mundo, para lograr este objetivo, nos esforzamos por superar las expectativas innovando y brindando la mejor atención al cliente de su clase a medida que expandimos nu',\n 'display_distance': None,\n 'id': 'a0R4U00000HnuHAUAZ',\n 'id_icims': 'SF220093190',\n 'is_intern': None,\n 'is_manager': None,\n 'job_category': 'Customer Service',\n 'job_family': 'Customer Service',\n 'job_function_id': None,\n 'job_path': '/en/jobs/SF220093190/asociado-dsl-jalisco-servicio-a-cliente-en-estacion-de-entrega',\n 'job_schedule_type': 'full-time',\n 'location': 'MEX, Virtual',\n 'normalized_location': None,\n 'optional_search_labels': ['hvh-amazon-customer-service'],\n 'posted_date': 'August 10, 2022',\n 'preferred_qualifications': None,\n 'primary_search_label': None,\n 'source_system': 'HVH',\n 'state': None,\n 'title': 'Asociado DSL - Jalisco - Servicio A Cliente En Estación De Entrega',\n 'university_job': None,\n 'updated_time': 'about 4 hours',\n 'url_next_step': 'https://amazon.force.com/JobDetails?reqid=a0R4U00000HnuHAUAZ&isapply=1',\n 'team': {'id': None,\n  'business_category_id': None,\n  'identifier': None,\n  'label': None,\n  'created_at': None,\n  'updated_at': None,\n  'image_file_name': None,\n  'image_content_type': None,\n  'image_file_size': None,\n  'image_updated_at': None,\n  'thumbnail_file_name': None,\n  'thumbnail_content_type': None,\n  'thumbnail_file_size': None,\n  'thumbnail_updated_at': None,\n  'hide_jobs': None,\n  'title': None,\n  'headline': None,\n  'description': None}}"
     },
     "execution_count": 8,
     "metadata": {},
     "output_type": "execute_result"
    }
   ],
   "source": [
    "result.json()['jobs'][1]"
   ],
   "metadata": {
    "collapsed": false,
    "pycharm": {
     "name": "#%%\n"
    }
   }
  },
  {
   "cell_type": "markdown",
   "source": [
    "### Все страницы"
   ],
   "metadata": {
    "collapsed": false,
    "pycharm": {
     "name": "#%% md\n"
    }
   }
  },
  {
   "cell_type": "code",
   "execution_count": 9,
   "outputs": [
    {
     "name": "stderr",
     "output_type": "stream",
     "text": [
      "100%|██████████| 100/100 [02:54<00:00,  1.75s/it]\n"
     ]
    }
   ],
   "source": [
    "job_dicts = []\n",
    "for page in tqdm(range(0, 100)): # max offset for amazon is 9999 :(\n",
    "    search_params = {\n",
    "        'offset': page * 100,\n",
    "        'result_limit': 100\n",
    "    }\n",
    "    result = requests.get(API_URL, headers=amazon_headers, params=search_params).json()\n",
    "    if result['jobs']:\n",
    "\n",
    "        for job_info in result['jobs']:\n",
    "            try:\n",
    "                job_dict = {\n",
    "                    'title': job_info['title'],\n",
    "                    'internal_id' : job_info['id'],\n",
    "                    'url': MAIN_URL + job_info['job_path'],\n",
    "                    'description': clear_string(job_info['description']),\n",
    "                    'responsibilities': None,\n",
    "                    'qualifications': clear_string(job_info['basic_qualifications']),\n",
    "                    'team': \" \".join(job_info['team']['label'].split('-')) if job_info['team']['label'] else None,\n",
    "                    'company': 'Amazon', #job_info['company_name'],\n",
    "                    'publish_date': parser.parse(job_info['posted_date']),\n",
    "                }\n",
    "                job_dicts.append(job_dict)\n",
    "            except:\n",
    "                print(f'Error while parsing {MAIN_URL + job_info[\"job_path\"]}')\n",
    "\n",
    "    time.sleep(0.2) # sleep for 200 ms"
   ],
   "metadata": {
    "collapsed": false,
    "pycharm": {
     "name": "#%%\n"
    }
   }
  },
  {
   "cell_type": "code",
   "execution_count": 10,
   "outputs": [
    {
     "data": {
      "text/plain": "                                                  title  \\\n3505  Enterprise Account Manager, Enterprise Greenfi...   \n2601  HR Regional Partner, SPS, Selling Partner Serv...   \n6367                       Director, Product Management   \n7192  BD Spec, Disaster Recovery, AWS Disaster Recovery   \n6300            Software Development Engineer , Intech    \n\n                               internal_id  \\\n3505  a714f80e-f79f-44a2-af6f-ee4347d41d1b   \n2601  7400ea74-799e-499a-b8d0-6e3aa1bda139   \n6367  4ea94e13-eb73-4119-bf4f-90891ab33d9f   \n7192  4dc4737c-54fc-4152-b686-2c3d5c283d11   \n6300  1386a99f-d516-4dda-b519-b2513dc7f13f   \n\n                                                    url  \\\n3505  https://www.amazon.jobs/en/jobs/2179992/enterp...   \n2601  https://www.amazon.jobs/en/jobs/2182124/hr-reg...   \n6367  https://www.amazon.jobs/en/jobs/2171442/direct...   \n7192  https://www.amazon.jobs/en/jobs/2169272/bd-spe...   \n6300  https://www.amazon.jobs/en/jobs/2171592/softwa...   \n\n                                            description responsibilities  \\\n3505  Job summary According to an IDC 2021 Report, i...             None   \n2601  Job summary We are looking for a highly motiva...             None   \n6367  Job summary Good storytelling starts with grea...             None   \n7192  Job summary The Go-To-Market Cloud Foundations...             None   \n6300  Job summary Você já se perguntou como a Amazon...             None   \n\n                                         qualifications                 team  \\\n3505  Extensive experience as a quota carrying techn...   team sales primary   \n2601  Bachelor’s degree or higher, in Human Resource...       team hr for hr   \n6367  5+ years of Product Management experience. Exp...  team global audible   \n7192  7+ years of sales experience for DR / Storage ...   team sales primary   \n6300  Proficiência na língua inglesa (nível técnico)...       no team listed   \n\n     company publish_date  \n3505  Amazon   2022-08-03  \n2601  Amazon   2022-08-04  \n6367  Amazon   2022-07-27  \n7192  Amazon   2022-07-26  \n6300  Amazon   2022-07-27  ",
      "text/html": "<div>\n<style scoped>\n    .dataframe tbody tr th:only-of-type {\n        vertical-align: middle;\n    }\n\n    .dataframe tbody tr th {\n        vertical-align: top;\n    }\n\n    .dataframe thead th {\n        text-align: right;\n    }\n</style>\n<table border=\"1\" class=\"dataframe\">\n  <thead>\n    <tr style=\"text-align: right;\">\n      <th></th>\n      <th>title</th>\n      <th>internal_id</th>\n      <th>url</th>\n      <th>description</th>\n      <th>responsibilities</th>\n      <th>qualifications</th>\n      <th>team</th>\n      <th>company</th>\n      <th>publish_date</th>\n    </tr>\n  </thead>\n  <tbody>\n    <tr>\n      <th>3505</th>\n      <td>Enterprise Account Manager, Enterprise Greenfi...</td>\n      <td>a714f80e-f79f-44a2-af6f-ee4347d41d1b</td>\n      <td>https://www.amazon.jobs/en/jobs/2179992/enterp...</td>\n      <td>Job summary According to an IDC 2021 Report, i...</td>\n      <td>None</td>\n      <td>Extensive experience as a quota carrying techn...</td>\n      <td>team sales primary</td>\n      <td>Amazon</td>\n      <td>2022-08-03</td>\n    </tr>\n    <tr>\n      <th>2601</th>\n      <td>HR Regional Partner, SPS, Selling Partner Serv...</td>\n      <td>7400ea74-799e-499a-b8d0-6e3aa1bda139</td>\n      <td>https://www.amazon.jobs/en/jobs/2182124/hr-reg...</td>\n      <td>Job summary We are looking for a highly motiva...</td>\n      <td>None</td>\n      <td>Bachelor’s degree or higher, in Human Resource...</td>\n      <td>team hr for hr</td>\n      <td>Amazon</td>\n      <td>2022-08-04</td>\n    </tr>\n    <tr>\n      <th>6367</th>\n      <td>Director, Product Management</td>\n      <td>4ea94e13-eb73-4119-bf4f-90891ab33d9f</td>\n      <td>https://www.amazon.jobs/en/jobs/2171442/direct...</td>\n      <td>Job summary Good storytelling starts with grea...</td>\n      <td>None</td>\n      <td>5+ years of Product Management experience. Exp...</td>\n      <td>team global audible</td>\n      <td>Amazon</td>\n      <td>2022-07-27</td>\n    </tr>\n    <tr>\n      <th>7192</th>\n      <td>BD Spec, Disaster Recovery, AWS Disaster Recovery</td>\n      <td>4dc4737c-54fc-4152-b686-2c3d5c283d11</td>\n      <td>https://www.amazon.jobs/en/jobs/2169272/bd-spe...</td>\n      <td>Job summary The Go-To-Market Cloud Foundations...</td>\n      <td>None</td>\n      <td>7+ years of sales experience for DR / Storage ...</td>\n      <td>team sales primary</td>\n      <td>Amazon</td>\n      <td>2022-07-26</td>\n    </tr>\n    <tr>\n      <th>6300</th>\n      <td>Software Development Engineer , Intech</td>\n      <td>1386a99f-d516-4dda-b519-b2513dc7f13f</td>\n      <td>https://www.amazon.jobs/en/jobs/2171592/softwa...</td>\n      <td>Job summary Você já se perguntou como a Amazon...</td>\n      <td>None</td>\n      <td>Proficiência na língua inglesa (nível técnico)...</td>\n      <td>no team listed</td>\n      <td>Amazon</td>\n      <td>2022-07-27</td>\n    </tr>\n  </tbody>\n</table>\n</div>"
     },
     "execution_count": 10,
     "metadata": {},
     "output_type": "execute_result"
    }
   ],
   "source": [
    "snapshot = pd.DataFrame(job_dicts)\n",
    "snapshot.sample(5)"
   ],
   "metadata": {
    "collapsed": false,
    "pycharm": {
     "name": "#%%\n"
    }
   }
  },
  {
   "cell_type": "code",
   "execution_count": 11,
   "outputs": [
    {
     "name": "stdout",
     "output_type": "stream",
     "text": [
      "<class 'pandas.core.frame.DataFrame'>\n",
      "RangeIndex: 10000 entries, 0 to 9999\n",
      "Data columns (total 9 columns):\n",
      " #   Column            Non-Null Count  Dtype         \n",
      "---  ------            --------------  -----         \n",
      " 0   title             10000 non-null  object        \n",
      " 1   internal_id       9982 non-null   object        \n",
      " 2   url               10000 non-null  object        \n",
      " 3   description       10000 non-null  object        \n",
      " 4   responsibilities  0 non-null      object        \n",
      " 5   qualifications    10000 non-null  object        \n",
      " 6   team              9958 non-null   object        \n",
      " 7   company           10000 non-null  object        \n",
      " 8   publish_date      10000 non-null  datetime64[ns]\n",
      "dtypes: datetime64[ns](1), object(8)\n",
      "memory usage: 703.2+ KB\n"
     ]
    }
   ],
   "source": [
    "snapshot.info()"
   ],
   "metadata": {
    "collapsed": false,
    "pycharm": {
     "name": "#%%\n"
    }
   }
  },
  {
   "cell_type": "code",
   "execution_count": 13,
   "outputs": [
    {
     "data": {
      "text/plain": "'10-08-2022'"
     },
     "execution_count": 13,
     "metadata": {},
     "output_type": "execute_result"
    }
   ],
   "source": [
    "current_date = datetime.now().strftime('%d-%m-%Y')\n",
    "current_date"
   ],
   "metadata": {
    "collapsed": false,
    "pycharm": {
     "name": "#%%\n"
    }
   }
  },
  {
   "cell_type": "code",
   "execution_count": 14,
   "outputs": [],
   "source": [
    "snapshot.to_csv(f'../data/amazon/{current_date}.csv')\n",
    "snapshot.to_excel(f'../data/amazon/{current_date}.xlsx', engine='xlsxwriter')"
   ],
   "metadata": {
    "collapsed": false,
    "pycharm": {
     "name": "#%%\n"
    }
   }
  },
  {
   "cell_type": "code",
   "execution_count": null,
   "outputs": [],
   "source": [],
   "metadata": {
    "collapsed": false,
    "pycharm": {
     "name": "#%%\n"
    }
   }
  },
  {
   "cell_type": "code",
   "execution_count": null,
   "outputs": [],
   "source": [],
   "metadata": {
    "collapsed": false,
    "pycharm": {
     "name": "#%%\n"
    }
   }
  },
  {
   "cell_type": "code",
   "source": [],
   "metadata": {
    "id": "5J-W-GNrgA8l",
    "pycharm": {
     "name": "#%%\n"
    }
   },
   "execution_count": null,
   "outputs": []
  }
 ],
 "metadata": {
  "colab": {
   "collapsed_sections": [],
   "name": "amazon.ipynb",
   "provenance": []
  },
  "kernelspec": {
   "display_name": "Python 3",
   "name": "python3"
  },
  "language_info": {
   "name": "python"
  }
 },
 "nbformat": 4,
 "nbformat_minor": 0
}