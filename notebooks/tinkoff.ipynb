{
 "nbformat": 4,
 "nbformat_minor": 0,
 "metadata": {
  "colab": {
   "name": "Untitled11.ipynb",
   "provenance": [],
   "collapsed_sections": []
  },
  "kernelspec": {
   "name": "python3",
   "display_name": "Python 3"
  },
  "language_info": {
   "name": "python"
  }
 },
 "cells": [
  {
   "cell_type": "code",
   "source": [
    "import time\n",
    "import requests\n",
    "from bs4 import BeautifulSoup\n",
    "import json\n",
    "import re\n",
    "import time\n",
    "import faker\n",
    "import pandas as pd\n",
    "from tqdm import tqdm\n",
    "from datetime import datetime\n",
    "from dateutil import parser"
   ],
   "metadata": {
    "id": "q4b1qjEhyCLk",
    "pycharm": {
     "name": "#%%\n"
    }
   },
   "execution_count": 1,
   "outputs": []
  },
  {
   "cell_type": "code",
   "source": [
    "# fake = faker.Faker(locale='ru')"
   ],
   "metadata": {
    "id": "3fCwd8h4S6hS",
    "pycharm": {
     "name": "#%%\n"
    }
   },
   "execution_count": 2,
   "outputs": []
  },
  {
   "cell_type": "code",
   "source": [
    "# tinkoff_headers = {\n",
    "#     'User-Agent': fake.chrome(),\n",
    "#     'accept-language': 'en-US,en;q=0.9',\n",
    "#     'pragma': 'no-cache',\n",
    "#     'Host': 'cfg.tinkoff.org',\n",
    "#     'Origin': 'https://www.tinkoff.ru',\n",
    "#     'content-type': 'application/json',\n",
    "#     'referer': 'https://www.tinkoff.ru'\n",
    "# }"
   ],
   "metadata": {
    "id": "krPsDbDlTDxh",
    "pycharm": {
     "name": "#%%\n"
    }
   },
   "execution_count": 3,
   "outputs": []
  },
  {
   "cell_type": "code",
   "source": [
    "API_URL = \"https://cfg.tinkoff.ru/vacancies/public/api/platform/v1/getVacanciesList\"\n",
    "VACANCY_API_URL = \"https://cfg.tinkoff.ru/vacancies/public/api/platform/v2/getVacancy?urlSlug=\""
   ],
   "metadata": {
    "id": "NlxSa6ECTG0T",
    "pycharm": {
     "name": "#%%\n"
    }
   },
   "execution_count": 4,
   "outputs": []
  },
  {
   "cell_type": "code",
   "execution_count": 5,
   "outputs": [],
   "source": [
    "clear_string = lambda x: re.sub(' +', ' ', re.sub('<.*?>', ' ', x).replace('\\n', '\\n ')).strip()"
   ],
   "metadata": {
    "collapsed": false,
    "pycharm": {
     "name": "#%%\n"
    }
   }
  },
  {
   "cell_type": "code",
   "execution_count": 6,
   "outputs": [],
   "source": [
    "def build_job_infos(cat='it'):\n",
    "    search_payload = {\n",
    "        'category': cat,\n",
    "        'filters': {},\n",
    "        'limit': 200\n",
    "    }\n",
    "    result = requests.post(API_URL, data=search_payload)\n",
    "    job_infos = []\n",
    "    for category in result.json()['response']['items']:\n",
    "        for job_info in category['items']:\n",
    "            title = job_info['title']\n",
    "            url = VACANCY_API_URL + job_info['id']\n",
    "            job_infos.append((title, url))\n",
    "    return job_infos"
   ],
   "metadata": {
    "collapsed": false,
    "pycharm": {
     "name": "#%%\n"
    }
   }
  },
  {
   "cell_type": "code",
   "execution_count": 7,
   "outputs": [
    {
     "data": {
      "text/plain": "164"
     },
     "execution_count": 7,
     "metadata": {},
     "output_type": "execute_result"
    }
   ],
   "source": [
    "total_jobs = build_job_infos('it') + build_job_infos('back-office')\n",
    "len(total_jobs)"
   ],
   "metadata": {
    "collapsed": false,
    "pycharm": {
     "name": "#%%\n"
    }
   }
  },
  {
   "cell_type": "code",
   "execution_count": 8,
   "outputs": [
    {
     "name": "stderr",
     "output_type": "stream",
     "text": [
      "100%|██████████| 164/164 [00:44<00:00,  3.65it/s]\n"
     ]
    }
   ],
   "source": [
    "job_dicts = []\n",
    "for title, url in tqdm(total_jobs):\n",
    "    result = requests.get(url).json()['response']\n",
    "\n",
    "    job_dict = {\n",
    "        'title': title,\n",
    "        'internal_id' : result['id'],\n",
    "        'url': url,\n",
    "        'description': clear_string(result['tasks']),\n",
    "        'responsibilities': clear_string(result['responsibilities']),\n",
    "        'qualifications': clear_string(result['requirements']),\n",
    "        'company': 'Tinkoff',\n",
    "        'publish_date': parser.parse(result['specialtyInfo']['createdAt'])\n",
    "    }\n",
    "\n",
    "    job_dicts.append(job_dict)\n",
    "\n",
    "    time.sleep(0.2)  # 200 ms"
   ],
   "metadata": {
    "collapsed": false,
    "pycharm": {
     "name": "#%%\n"
    }
   }
  },
  {
   "cell_type": "code",
   "execution_count": 10,
   "outputs": [
    {
     "data": {
      "text/plain": "                                               title  \\\n49                  Системный аналитик в Страхование   \n121  Специалист сопровождения состоятельных клиентов   \n73      Руководитель направления аналитики (премиум)   \n14                            Business Data Engineer   \n52                 Системный аналитик (Tinkoff Asia)   \n\n                              internal_id  \\\n49   12c26269-1b7e-4f3c-a144-9d5861b03178   \n121  e1938679-4520-4219-b1bb-4827f4594e7b   \n73   d9c86b2c-bfff-42b8-b161-b560535109e6   \n14   8c08b803-47ee-4164-ad7b-da4fd121a13c   \n52   7b4e73fe-951c-4611-b4dd-01ec2ee3cb42   \n\n                                                   url  \\\n49   https://cfg.tinkoff.ru/vacancies/public/api/pl...   \n121  https://cfg.tinkoff.ru/vacancies/public/api/pl...   \n73   https://cfg.tinkoff.ru/vacancies/public/api/pl...   \n14   https://cfg.tinkoff.ru/vacancies/public/api/pl...   \n52   https://cfg.tinkoff.ru/vacancies/public/api/pl...   \n\n                                           description  \\\n49   Миссия Тинькофф - &nbsp;произвести революцию н...   \n121  Тинькофф Инвестиции стремительно расширяется и...   \n73   Тинькофф расширяет команду аналитики и отчетно...   \n14   У нас в DWH очень много данных: 6000 объектов,...   \n52   Тинькофф выходит на международный рынок. И Фил...   \n\n                                      responsibilities  \\\n49   Сбор требований к системе в рамках проектов ил...   \n121  Сопровождать VIP- клиентов по всем вопросам, с...   \n73   Вести полный цикл управления командой аналитик...   \n14   Быть экспертом по данным: помогать аналитикам ...   \n52   Сбор и анализ бизнес требований, взаимодействи...   \n\n                                        qualifications  company  \\\n49   Опыт участия в развитии информационных систем ...  Tinkoff   \n121  Знание основ рынка ценных бумаг Знание принцип...  Tinkoff   \n73   Уверенный пользователь SQL, Python Опыт управл...  Tinkoff   \n14   Высшее техническое образование Опыт работы с б...  Tinkoff   \n52   Опыт работы системным аналитиком от 3 лет Навы...  Tinkoff   \n\n                        publish_date  \n49  2021-07-23 13:56:43.353000+00:00  \n121 2020-01-22 13:06:23.488000+00:00  \n73  2018-03-27 09:05:15.018000+00:00  \n14  2018-03-27 09:04:23.643000+00:00  \n52  2021-07-23 13:56:43.353000+00:00  ",
      "text/html": "<div>\n<style scoped>\n    .dataframe tbody tr th:only-of-type {\n        vertical-align: middle;\n    }\n\n    .dataframe tbody tr th {\n        vertical-align: top;\n    }\n\n    .dataframe thead th {\n        text-align: right;\n    }\n</style>\n<table border=\"1\" class=\"dataframe\">\n  <thead>\n    <tr style=\"text-align: right;\">\n      <th></th>\n      <th>title</th>\n      <th>internal_id</th>\n      <th>url</th>\n      <th>description</th>\n      <th>responsibilities</th>\n      <th>qualifications</th>\n      <th>company</th>\n      <th>publish_date</th>\n    </tr>\n  </thead>\n  <tbody>\n    <tr>\n      <th>49</th>\n      <td>Системный аналитик в Страхование</td>\n      <td>12c26269-1b7e-4f3c-a144-9d5861b03178</td>\n      <td>https://cfg.tinkoff.ru/vacancies/public/api/pl...</td>\n      <td>Миссия Тинькофф - &amp;nbsp;произвести революцию н...</td>\n      <td>Сбор требований к системе в рамках проектов ил...</td>\n      <td>Опыт участия в развитии информационных систем ...</td>\n      <td>Tinkoff</td>\n      <td>2021-07-23 13:56:43.353000+00:00</td>\n    </tr>\n    <tr>\n      <th>121</th>\n      <td>Специалист сопровождения состоятельных клиентов</td>\n      <td>e1938679-4520-4219-b1bb-4827f4594e7b</td>\n      <td>https://cfg.tinkoff.ru/vacancies/public/api/pl...</td>\n      <td>Тинькофф Инвестиции стремительно расширяется и...</td>\n      <td>Сопровождать VIP- клиентов по всем вопросам, с...</td>\n      <td>Знание основ рынка ценных бумаг Знание принцип...</td>\n      <td>Tinkoff</td>\n      <td>2020-01-22 13:06:23.488000+00:00</td>\n    </tr>\n    <tr>\n      <th>73</th>\n      <td>Руководитель направления аналитики (премиум)</td>\n      <td>d9c86b2c-bfff-42b8-b161-b560535109e6</td>\n      <td>https://cfg.tinkoff.ru/vacancies/public/api/pl...</td>\n      <td>Тинькофф расширяет команду аналитики и отчетно...</td>\n      <td>Вести полный цикл управления командой аналитик...</td>\n      <td>Уверенный пользователь SQL, Python Опыт управл...</td>\n      <td>Tinkoff</td>\n      <td>2018-03-27 09:05:15.018000+00:00</td>\n    </tr>\n    <tr>\n      <th>14</th>\n      <td>Business Data Engineer</td>\n      <td>8c08b803-47ee-4164-ad7b-da4fd121a13c</td>\n      <td>https://cfg.tinkoff.ru/vacancies/public/api/pl...</td>\n      <td>У нас в DWH очень много данных: 6000 объектов,...</td>\n      <td>Быть экспертом по данным: помогать аналитикам ...</td>\n      <td>Высшее техническое образование Опыт работы с б...</td>\n      <td>Tinkoff</td>\n      <td>2018-03-27 09:04:23.643000+00:00</td>\n    </tr>\n    <tr>\n      <th>52</th>\n      <td>Системный аналитик (Tinkoff Asia)</td>\n      <td>7b4e73fe-951c-4611-b4dd-01ec2ee3cb42</td>\n      <td>https://cfg.tinkoff.ru/vacancies/public/api/pl...</td>\n      <td>Тинькофф выходит на международный рынок. И Фил...</td>\n      <td>Сбор и анализ бизнес требований, взаимодействи...</td>\n      <td>Опыт работы системным аналитиком от 3 лет Навы...</td>\n      <td>Tinkoff</td>\n      <td>2021-07-23 13:56:43.353000+00:00</td>\n    </tr>\n  </tbody>\n</table>\n</div>"
     },
     "execution_count": 10,
     "metadata": {},
     "output_type": "execute_result"
    }
   ],
   "source": [
    "snapshot = pd.DataFrame(job_dicts)\n",
    "snapshot.sample(5)"
   ],
   "metadata": {
    "collapsed": false,
    "pycharm": {
     "name": "#%%\n"
    }
   }
  },
  {
   "cell_type": "code",
   "execution_count": 14,
   "outputs": [
    {
     "name": "stdout",
     "output_type": "stream",
     "text": [
      "<class 'pandas.core.series.Series'>\n",
      "RangeIndex: 164 entries, 0 to 163\n",
      "Series name: publish_date\n",
      "Non-Null Count  Dtype         \n",
      "--------------  -----         \n",
      "164 non-null    datetime64[ns]\n",
      "dtypes: datetime64[ns](1)\n",
      "memory usage: 1.4 KB\n"
     ]
    }
   ],
   "source": [
    "snapshot['publish_date'] = snapshot['publish_date'].apply(lambda x: x.replace(tzinfo=None))\n",
    "snapshot['publish_date'].info()"
   ],
   "metadata": {
    "collapsed": false,
    "pycharm": {
     "name": "#%%\n"
    }
   }
  },
  {
   "cell_type": "code",
   "execution_count": 15,
   "outputs": [
    {
     "name": "stdout",
     "output_type": "stream",
     "text": [
      "<class 'pandas.core.frame.DataFrame'>\n",
      "RangeIndex: 164 entries, 0 to 163\n",
      "Data columns (total 8 columns):\n",
      " #   Column            Non-Null Count  Dtype         \n",
      "---  ------            --------------  -----         \n",
      " 0   title             164 non-null    object        \n",
      " 1   internal_id       164 non-null    object        \n",
      " 2   url               164 non-null    object        \n",
      " 3   description       164 non-null    object        \n",
      " 4   responsibilities  164 non-null    object        \n",
      " 5   qualifications    164 non-null    object        \n",
      " 6   company           164 non-null    object        \n",
      " 7   publish_date      164 non-null    datetime64[ns]\n",
      "dtypes: datetime64[ns](1), object(7)\n",
      "memory usage: 10.4+ KB\n"
     ]
    }
   ],
   "source": [
    "snapshot.info()"
   ],
   "metadata": {
    "collapsed": false,
    "pycharm": {
     "name": "#%%\n"
    }
   }
  },
  {
   "cell_type": "code",
   "execution_count": 16,
   "outputs": [
    {
     "data": {
      "text/plain": "'10-08-2022'"
     },
     "execution_count": 16,
     "metadata": {},
     "output_type": "execute_result"
    }
   ],
   "source": [
    "current_date = datetime.now().strftime('%d-%m-%Y')\n",
    "current_date"
   ],
   "metadata": {
    "collapsed": false,
    "pycharm": {
     "name": "#%%\n"
    }
   }
  },
  {
   "cell_type": "code",
   "execution_count": 17,
   "outputs": [],
   "source": [
    "snapshot.to_csv(f'../data/tinkoff/{current_date}.csv')\n",
    "snapshot.to_excel(f'../data/tinkoff/{current_date}.xlsx', engine='xlsxwriter')"
   ],
   "metadata": {
    "collapsed": false,
    "pycharm": {
     "name": "#%%\n"
    }
   }
  },
  {
   "cell_type": "code",
   "execution_count": null,
   "outputs": [],
   "source": [],
   "metadata": {
    "collapsed": false,
    "pycharm": {
     "name": "#%%\n"
    }
   }
  },
  {
   "cell_type": "code",
   "execution_count": null,
   "outputs": [],
   "source": [],
   "metadata": {
    "collapsed": false,
    "pycharm": {
     "name": "#%%\n"
    }
   }
  },
  {
   "cell_type": "code",
   "execution_count": 135,
   "outputs": [
    {
     "data": {
      "text/plain": "{'id': '789e6068-504b-4278-baab-477a156fd814',\n 'status': 'published',\n 'title': 'PL/SQL разработчик',\n 'specialty': 'Backend',\n 'specialtyInfo': {'createdAt': '2018-03-27T09:04:23.643Z',\n  'deletedAt': None,\n  'id': '4c5c5e87-d961-4c74-a385-d0b25e36cdc5',\n  'name': 'Backend',\n  'order': 1,\n  'urlSlug': 'back-end-razrabotka'},\n 'city': 'Любой город',\n 'experience': 'Middle',\n 'tasks': '<p>Тинькофф — это огромная экосистема. Нашими клиентами уже стали 13 млн человек по всей России. Мы активно развиваемся, появляются новые продукты и сервисы, за которыми стоят разработчики и инженеры. Наши сервисы должны соответствовать высочайшим стандартам надежности и быстродействия. Поэтому сейчас мы ищем разработчика PL/SQL для усиления команд.</p>',\n 'requirements': '<ul><li>Отличное знаешь PL/SQL (Oracle 10g и выше)</li><li>Понимаешь архитектуру oracle, основные структуры данных (индексы, таблицы), алгоритмы доступа к данным (index range/full/skip scan) и их соединения</li><li>Знаешь SQL и имеешь опыт программирования на PL/SQL, умеешь писать оптимальный код и тестировать его, умеешь анализировать чужой код</li><li>Имеешь опыт использования секционирования, работы с большими таблицами, oltp процессами, модификацией данных и структур на высоконагруженной БД</li><li>Имеешь опыт проектирования высоконагруженных приложений, работающих 24/7</li></ul><p><strong>Будет плюсом</strong></p><ul><li>Опыт работы с банковскими АБС (Инверсия XXI и подобные)</li><li>Опыт работы в процессинге</li><li>Опыт программирования на Java или желание изучить Java</li></ul>',\n 'responsibilities': '<ul><li>Участвовать в разработке интеграционных решений в рамках глобальной информационной инфраструктуры со смежными IT-системами (CRM-система, АБС, DWH, Портал)</li><li>Участвовать в разработке внутри программного комплекса Процессингового центра: бэк-офис (выпуск, выдача и обслуживание всей продуктовой линейки банка, включая комиссионную составляющую и периодические процессы) и фронтальная часть (обработка авторизаций согласно логике работы продуктов)</li><li>Участвовать в согласовании требований к разрабатываемому функционалу и самостоятельная проработка архитектурных решений</li><li>Поддерживать разработанный функционала в качестве 3й линии</li><li>Документировать собственные разработки</li></ul>',\n 'offer': '<ul><li style=\"text-align:left;\">Работу в офисе или удаленно — по договоренности</li><li style=\"text-align:left;\">Профессиональное развитие. Вы получите доступ к библиотеке с технической литературой, тренингами и мастер-классами для сотрудников</li><li style=\"text-align:left;\">Заботу о здоровье. Оформим полис ДМС со стоматологией и страховку от несчастных случаев. Предложим льготное страхование вашим близким</li><li style=\"text-align:left;\">Бесплатный фитнес-зал или компенсацию затрат на спортивные занятия</li><li style=\"text-align:left;\">Достойную зарплату — обсудим ее на собеседовании</li></ul>',\n 'urlSlug': 'oracle-developer',\n 'externalId': 'cf4caec9-ce25-49a5-acaa-f547adf2e9ca',\n 'category': {'createdAt': '2018-03-22T13:30:28.179Z',\n  'deletedAt': None,\n  'id': '5ea37b04-16b9-42a3-a3a9-87816e84e381',\n  'name': 'Работа в IT',\n  'order': 3,\n  'urlSlug': 'it'},\n 'cities': ['Любой город']}"
     },
     "execution_count": 135,
     "metadata": {},
     "output_type": "execute_result"
    }
   ],
   "source": [
    "requests.get(total_jobs[10][1]).json()['response']"
   ],
   "metadata": {
    "collapsed": false,
    "pycharm": {
     "name": "#%%\n"
    }
   }
  },
  {
   "cell_type": "code",
   "execution_count": null,
   "outputs": [],
   "source": [],
   "metadata": {
    "collapsed": false,
    "pycharm": {
     "name": "#%%\n"
    }
   }
  },
  {
   "cell_type": "code",
   "execution_count": null,
   "outputs": [],
   "source": [],
   "metadata": {
    "collapsed": false,
    "pycharm": {
     "name": "#%%\n"
    }
   }
  },
  {
   "cell_type": "code",
   "execution_count": null,
   "outputs": [],
   "source": [],
   "metadata": {
    "collapsed": false,
    "pycharm": {
     "name": "#%%\n"
    }
   }
  },
  {
   "cell_type": "code",
   "execution_count": null,
   "outputs": [],
   "source": [],
   "metadata": {
    "collapsed": false,
    "pycharm": {
     "name": "#%%\n"
    }
   }
  }
 ]
}