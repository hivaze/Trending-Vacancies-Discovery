{
 "cells": [
  {
   "cell_type": "code",
   "execution_count": 1,
   "outputs": [],
   "source": [
    "import requests\n",
    "import json\n",
    "import time\n",
    "import pandas as pd"
   ],
   "metadata": {
    "collapsed": false,
    "pycharm": {
     "name": "#%%\n"
    }
   }
  },
  {
   "cell_type": "code",
   "execution_count": 7,
   "outputs": [],
   "source": [
    "MAIN_API_URL = 'http://api.hh.ru/'"
   ],
   "metadata": {
    "collapsed": false,
    "pycharm": {
     "name": "#%%\n"
    }
   }
  },
  {
   "cell_type": "markdown",
   "source": [
    "### Справочник регионов\n",
    "https://github.com/hhru/api/blob/master/docs/areas.md"
   ],
   "metadata": {
    "collapsed": false,
    "pycharm": {
     "name": "#%% md\n"
    }
   }
  },
  {
   "cell_type": "code",
   "execution_count": 9,
   "outputs": [
    {
     "data": {
      "text/plain": "[('113', 'Россия', 84),\n ('5', 'Украина', 25),\n ('40', 'Казахстан', 156),\n ('9', 'Азербайджан', 53),\n ('16', 'Беларусь', 12),\n ('28', 'Грузия', 26),\n ('1001', 'Другие регионы', 153),\n ('48', 'Кыргызстан', 25),\n ('97', 'Узбекистан', 116)]"
     },
     "execution_count": 9,
     "metadata": {},
     "output_type": "execute_result"
    }
   ],
   "source": [
    "result = requests.get(MAIN_API_URL + 'areas')\n",
    "[(z['id'], z['name'], len(z['areas'])) for z in result.json()]"
   ],
   "metadata": {
    "collapsed": false,
    "pycharm": {
     "name": "#%%\n"
    }
   }
  },
  {
   "cell_type": "markdown",
   "source": [
    "### Справочник отраслей\n",
    "https://github.com/hhru/api/blob/master/docs/areas.md"
   ],
   "metadata": {
    "collapsed": false,
    "pycharm": {
     "name": "#%% md\n"
    }
   }
  },
  {
   "cell_type": "code",
   "execution_count": 15,
   "outputs": [
    {
     "data": {
      "text/plain": "[('5', 'Перевозки, логистика, склад, ВЭД', 8),\n ('7', 'Информационные технологии, системная интеграция, интернет', 4),\n ('8',\n  'Электроника, приборостроение, бытовая техника, компьютеры и оргтехника',\n  9),\n ('9', 'Телекоммуникации, связь', 4),\n ('11', 'СМИ, маркетинг, реклама, BTL, PR, дизайн, продюсирование', 10),\n ('13', 'Строительство, недвижимость, эксплуатация, проектирование', 13),\n ('15', 'Автомобильный бизнес', 8),\n ('19', 'Лесная промышленность, деревообработка', 6),\n ('24', 'Металлургия, металлообработка', 8),\n ('27', 'Продукты питания', 39),\n ('29', 'Сельское хозяйство', 3),\n ('33', 'Тяжелое машиностроение', 13),\n ('34', 'Химическое производство, удобрения', 12),\n ('36', 'Государственные организации', 1),\n ('37', 'Общественная деятельность, партии, благотворительность, НКО', 7),\n ('39', 'Образовательные учреждения', 11),\n ('41', 'Розничная торговля', 16),\n ('42', 'Товары народного потребления (непищевые)', 22),\n ('43', 'Финансовый сектор', 10),\n ('44', 'Услуги для бизнеса', 9),\n ('45', 'Добывающая отрасль', 4),\n ('46', 'Энергетика', 9),\n ('47', 'Нефть и газ', 9),\n ('48', 'Медицина, фармацевтика, аптеки', 9),\n ('49', 'Услуги для населения', 12),\n ('50', 'Гостиницы, рестораны, общепит, кейтеринг', 3),\n ('51', 'ЖКХ', 9),\n ('52', 'Искусство, культура', 3),\n ('388', 'Промышленное оборудование, техника, станки и комплектующие', 24),\n ('389', 'Управление многопрофильными активами', 1)]"
     },
     "execution_count": 15,
     "metadata": {},
     "output_type": "execute_result"
    }
   ],
   "source": [
    "result = requests.get(MAIN_API_URL + 'industries')\n",
    "[(x['id'], x['name'], len(x['industries'])) for x in result.json()]"
   ],
   "metadata": {
    "collapsed": false,
    "pycharm": {
     "name": "#%%\n"
    }
   }
  },
  {
   "cell_type": "markdown",
   "source": [
    "### Справочник специализаций\n",
    "https://github.com/hhru/api/blob/master/docs/specializations.md"
   ],
   "metadata": {
    "collapsed": false,
    "pycharm": {
     "name": "#%% md\n"
    }
   }
  },
  {
   "cell_type": "code",
   "execution_count": 20,
   "outputs": [
    {
     "data": {
      "text/plain": "[('1', 'Информационные технологии, интернет, телеком', 37),\n ('20', 'Строительство, недвижимость', 22),\n ('17', 'Продажи', 46),\n ('13', 'Медицина, фармацевтика', 23),\n ('5', 'Банки, инвестиции, лизинг', 56),\n ('21', 'Транспорт, логистика', 21),\n ('18', 'Производство, сельское хозяйство', 45),\n ('26', 'Закупки', 19),\n ('19', 'Страхование', 18),\n ('23', 'Юристы', 28),\n ('3', 'Маркетинг, реклама, PR', 32),\n ('2', 'Бухгалтерия, управленческий учет, финансы предприятия', 29),\n ('4', 'Административный персонал', 19),\n ('16', 'Государственная служба, некоммерческие организации', 11),\n ('11', 'Искусство, развлечения, масс-медиа', 15),\n ('9', 'Высший менеджмент', 24),\n ('7', 'Автомобильный бизнес', 12),\n ('8', 'Безопасность', 10),\n ('10', 'Добыча сырья', 11),\n ('22', 'Туризм, гостиницы, рестораны', 23),\n ('24', 'Спортивные клубы, фитнес, салоны красоты', 8),\n ('29', 'Рабочий персонал', 36),\n ('27', 'Домашний персонал', 9),\n ('15', 'Начало карьеры, студенты', 22),\n ('25', 'Инсталляция и сервис', 7),\n ('12', 'Консультирование', 16),\n ('14', 'Наука, образование', 14),\n ('6', 'Управление персоналом, тренинги', 8)]"
     },
     "execution_count": 20,
     "metadata": {},
     "output_type": "execute_result"
    }
   ],
   "source": [
    "result = requests.get(MAIN_API_URL + 'specializations')\n",
    "[(x['id'], x['name'], len(x['specializations'])) for x in result.json()]"
   ],
   "metadata": {
    "collapsed": false,
    "pycharm": {
     "name": "#%%\n"
    }
   }
  },
  {
   "cell_type": "markdown",
   "source": [
    "### Работадатели\n",
    "https://github.com/hhru/api/blob/master/docs/employers.md#search\\\n",
    "Максимум резульаттов выдачи: 5000"
   ],
   "metadata": {
    "collapsed": false,
    "pycharm": {
     "name": "#%% md\n"
    }
   }
  },
  {
   "cell_type": "code",
   "execution_count": 11,
   "outputs": [
    {
     "data": {
      "text/plain": "{'items': [{'id': '5775464',\n   'name': '000 Mediva',\n   'url': 'https://api.hh.ru/employers/5775464',\n   'alternate_url': 'https://hh.ru/employer/5775464',\n   'logo_urls': None,\n   'vacancies_url': 'https://api.hh.ru/vacancies?employer_id=5775464',\n   'open_vacancies': 0},\n  {'id': '4748227',\n   'name': '000БАТ',\n   'url': 'https://api.hh.ru/employers/4748227',\n   'alternate_url': 'https://hh.ru/employer/4748227',\n   'logo_urls': None,\n   'vacancies_url': 'https://api.hh.ru/vacancies?employer_id=4748227',\n   'open_vacancies': 0},\n  {'id': '36227',\n   'name': '000 МАГАЗИН МАГАЗИНОВ - Эксперт по торговой недвижимости',\n   'url': 'https://api.hh.ru/employers/36227',\n   'alternate_url': 'https://hh.ru/employer/36227',\n   'logo_urls': {'original': 'https://hhcdn.ru/employer-logo-original/494504.png',\n    '240': 'https://hhcdn.ru/employer-logo/2419770.png',\n    '90': 'https://hhcdn.ru/employer-logo/2419769.png'},\n   'vacancies_url': 'https://api.hh.ru/vacancies?employer_id=36227',\n   'open_vacancies': 0},\n  {'id': '3172102',\n   'name': '+++000Нур-Сар-А',\n   'url': 'https://api.hh.ru/employers/3172102',\n   'alternate_url': 'https://hh.ru/employer/3172102',\n   'logo_urls': None,\n   'vacancies_url': 'https://api.hh.ru/vacancies?employer_id=3172102',\n   'open_vacancies': 0},\n  {'id': '2757443',\n   'name': '000 ремонт',\n   'url': 'https://api.hh.ru/employers/2757443',\n   'alternate_url': 'https://hh.ru/employer/2757443',\n   'logo_urls': None,\n   'vacancies_url': 'https://api.hh.ru/vacancies?employer_id=2757443',\n   'open_vacancies': 0},\n  {'id': '3643187',\n   'name': '001KZ (001КЗ)',\n   'url': 'https://api.hh.ru/employers/3643187',\n   'alternate_url': 'https://hh.ru/employer/3643187',\n   'logo_urls': {'original': 'https://hhcdn.ru/employer-logo-original/619773.jpg',\n    '240': 'https://hhcdn.ru/employer-logo/2920245.jpeg',\n    '90': 'https://hhcdn.ru/employer-logo/2920244.jpeg'},\n   'vacancies_url': 'https://api.hh.ru/vacancies?employer_id=3643187',\n   'open_vacancies': 6},\n  {'id': '988247',\n   'name': '007',\n   'url': 'https://api.hh.ru/employers/988247',\n   'alternate_url': 'https://hh.ru/employer/988247',\n   'logo_urls': {'original': 'https://hhcdn.ru/employer-logo-original/305500.jpg',\n    '240': 'https://hhcdn.ru/employer-logo/1664371.jpeg',\n    '90': 'https://hhcdn.ru/employer-logo/1664370.jpeg'},\n   'vacancies_url': 'https://api.hh.ru/vacancies?employer_id=988247',\n   'open_vacancies': 0},\n  {'id': '1585311',\n   'name': '007',\n   'url': 'https://api.hh.ru/employers/1585311',\n   'alternate_url': 'https://hh.ru/employer/1585311',\n   'logo_urls': None,\n   'vacancies_url': 'https://api.hh.ru/vacancies?employer_id=1585311',\n   'open_vacancies': 0},\n  {'id': '5402159',\n   'name': '007 Lounge',\n   'url': 'https://api.hh.ru/employers/5402159',\n   'alternate_url': 'https://hh.ru/employer/5402159',\n   'logo_urls': None,\n   'vacancies_url': 'https://api.hh.ru/vacancies?employer_id=5402159',\n   'open_vacancies': 0},\n  {'id': '5912899',\n   'name': '007nails',\n   'url': 'https://api.hh.ru/employers/5912899',\n   'alternate_url': 'https://hh.ru/employer/5912899',\n   'logo_urls': {'original': 'https://hhcdn.ru/employer-logo-original/952897.jpg',\n    '240': 'https://hhcdn.ru/employer-logo/4252121.jpeg',\n    '90': 'https://hhcdn.ru/employer-logo/4252120.jpeg'},\n   'vacancies_url': 'https://api.hh.ru/vacancies?employer_id=5912899',\n   'open_vacancies': 0},\n  {'id': '2392442',\n   'name': '007 project',\n   'url': 'https://api.hh.ru/employers/2392442',\n   'alternate_url': 'https://hh.ru/employer/2392442',\n   'logo_urls': None,\n   'vacancies_url': 'https://api.hh.ru/vacancies?employer_id=2392442',\n   'open_vacancies': 0},\n  {'id': '1272187',\n   'name': '007 Ваш Успех',\n   'url': 'https://api.hh.ru/employers/1272187',\n   'alternate_url': 'https://hh.ru/employer/1272187',\n   'logo_urls': None,\n   'vacancies_url': 'https://api.hh.ru/vacancies?employer_id=1272187',\n   'open_vacancies': 0},\n  {'id': '3357506',\n   'name': '007 Проджект Групп',\n   'url': 'https://api.hh.ru/employers/3357506',\n   'alternate_url': 'https://hh.ru/employer/3357506',\n   'logo_urls': None,\n   'vacancies_url': 'https://api.hh.ru/vacancies?employer_id=3357506',\n   'open_vacancies': 0},\n  {'id': '605490',\n   'name': '007, центр услуг',\n   'url': 'https://api.hh.ru/employers/605490',\n   'alternate_url': 'https://hh.ru/employer/605490',\n   'logo_urls': {'original': 'https://hhcdn.ru/employer-logo-original/356320.PNG',\n    '240': 'https://hhcdn.ru/employer-logo/1867543.png',\n    '90': 'https://hhcdn.ru/employer-logo/1867542.png'},\n   'vacancies_url': 'https://api.hh.ru/vacancies?employer_id=605490',\n   'open_vacancies': 0},\n  {'id': '4244677',\n   'name': '01',\n   'url': 'https://api.hh.ru/employers/4244677',\n   'alternate_url': 'https://hh.ru/employer/4244677',\n   'logo_urls': None,\n   'vacancies_url': 'https://api.hh.ru/vacancies?employer_id=4244677',\n   'open_vacancies': 0},\n  {'id': '4492703',\n   'name': '01',\n   'url': 'https://api.hh.ru/employers/4492703',\n   'alternate_url': 'https://hh.ru/employer/4492703',\n   'logo_urls': None,\n   'vacancies_url': 'https://api.hh.ru/vacancies?employer_id=4492703',\n   'open_vacancies': 0},\n  {'id': '5892972',\n   'name': '0112 GROUP',\n   'url': 'https://api.hh.ru/employers/5892972',\n   'alternate_url': 'https://hh.ru/employer/5892972',\n   'logo_urls': {'original': 'https://hhcdn.ru/employer-logo-original/917093.png',\n    '240': 'https://hhcdn.ru/employer-logo/4109052.png',\n    '90': 'https://hhcdn.ru/employer-logo/4109051.png'},\n   'vacancies_url': 'https://api.hh.ru/vacancies?employer_id=5892972',\n   'open_vacancies': 0},\n  {'id': '6105570',\n   'name': '01_coffee, кофейня',\n   'url': 'https://api.hh.ru/employers/6105570',\n   'alternate_url': 'https://hh.ru/employer/6105570',\n   'logo_urls': None,\n   'vacancies_url': 'https://api.hh.ru/vacancies?employer_id=6105570',\n   'open_vacancies': 0},\n  {'id': '5296076',\n   'name': '01ourdoor',\n   'url': 'https://api.hh.ru/employers/5296076',\n   'alternate_url': 'https://hh.ru/employer/5296076',\n   'logo_urls': None,\n   'vacancies_url': 'https://api.hh.ru/vacancies?employer_id=5296076',\n   'open_vacancies': 0},\n  {'id': '576501',\n   'name': '01PROMO',\n   'url': 'https://api.hh.ru/employers/576501',\n   'alternate_url': 'https://hh.ru/employer/576501',\n   'logo_urls': {'original': 'https://hhcdn.ru/employer-logo-original/171898.jpg',\n    '240': 'https://hhcdn.ru/employer-logo/440356.jpeg',\n    '90': 'https://hhcdn.ru/employer-logo/367499.jpeg'},\n   'vacancies_url': 'https://api.hh.ru/vacancies?employer_id=576501',\n   'open_vacancies': 0}],\n 'found': 1788552,\n 'pages': 89428,\n 'per_page': 20,\n 'page': 0}"
     },
     "execution_count": 11,
     "metadata": {},
     "output_type": "execute_result"
    }
   ],
   "source": [
    "params = {\n",
    "    'per_page' : 100,\n",
    "    'page': 0\n",
    "}\n",
    "result = requests.get(MAIN_API_URL + 'employers')\n",
    "result.json()"
   ],
   "metadata": {
    "collapsed": false,
    "pycharm": {
     "name": "#%%\n"
    }
   }
  },
  {
   "cell_type": "markdown",
   "source": [
    "## Для доступа к вакансиям требуется авторизация приложения\n",
    "Методы описаны здесь: https://github.com/hhru/api/blob/master/docs/vacancies.md"
   ],
   "metadata": {
    "collapsed": false,
    "pycharm": {
     "name": "#%% md\n"
    }
   }
  },
  {
   "cell_type": "code",
   "execution_count": null,
   "outputs": [],
   "source": [
    "CLIENT_ID = \"N9N75GOTCRKJAIKK8TVM5UNPI38GC0B39BT0K2Q1AUM3P35LMCPJHQLDC952PH2A\"\n",
    "CLIENT_SECRET = \"O2VFGTA91FPTUHDLSUVBOVU3JETH3RE2VBUERKRGP8SK0GGCQ5LCJSIKA5FGAIRB\""
   ],
   "metadata": {
    "collapsed": false,
    "pycharm": {
     "name": "#%%\n"
    }
   }
  }
 ],
 "metadata": {
  "kernelspec": {
   "display_name": "Python 3",
   "language": "python",
   "name": "python3"
  },
  "language_info": {
   "codemirror_mode": {
    "name": "ipython",
    "version": 2
   },
   "file_extension": ".py",
   "mimetype": "text/x-python",
   "name": "python",
   "nbconvert_exporter": "python",
   "pygments_lexer": "ipython2",
   "version": "2.7.6"
  }
 },
 "nbformat": 4,
 "nbformat_minor": 0
}