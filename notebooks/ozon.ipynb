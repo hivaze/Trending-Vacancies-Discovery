{
 "cells": [
  {
   "cell_type": "code",
   "execution_count": 1,
   "outputs": [],
   "source": [
    "import time\n",
    "import requests\n",
    "from bs4 import BeautifulSoup\n",
    "import json\n",
    "import re\n",
    "import time\n",
    "import faker\n",
    "import pandas as pd\n",
    "from tqdm import tqdm\n",
    "from datetime import datetime\n",
    "from dateutil import parser"
   ],
   "metadata": {
    "collapsed": false,
    "pycharm": {
     "name": "#%%\n"
    }
   }
  },
  {
   "cell_type": "code",
   "execution_count": 2,
   "outputs": [],
   "source": [
    "fake = faker.Faker(locale='ru')"
   ],
   "metadata": {
    "collapsed": false,
    "pycharm": {
     "name": "#%%\n"
    }
   }
  },
  {
   "cell_type": "code",
   "execution_count": 93,
   "outputs": [],
   "source": [
    "clear_string = lambda x: re.sub(' +', ' ', re.sub('<.*?>', ' ', x).replace('\\n', '\\n ')).strip()"
   ],
   "metadata": {
    "collapsed": false,
    "pycharm": {
     "name": "#%%\n"
    }
   }
  },
  {
   "cell_type": "code",
   "execution_count": 3,
   "outputs": [],
   "source": [
    "ozon_headers = {\n",
    "    'User-Agent': 'Mozilla/5.0 (X11; Linux x86_64) AppleWebKit/537.36 (KHTML, like Gecko) Chrome/102.0.5005.115 Safari/537.36 OPR/88.0.4412.40',\n",
    "    'accept-language': 'en-US,en;q=0.9',\n",
    "    'pragma': 'np-cache',\n",
    "    'sec-fetch-mode': 'cors',\n",
    "    'sec-fetch-site': 'same-origin',\n",
    "    'referer': 'http://job.ozon.ru/vacancy/?query='\n",
    "}"
   ],
   "metadata": {
    "collapsed": false,
    "pycharm": {
     "name": "#%%\n"
    }
   }
  },
  {
   "cell_type": "code",
   "execution_count": 4,
   "outputs": [],
   "source": [
    "MAIN_URL = \"https://job.ozon.ru/vacancy/?query=\"\n",
    "API_URL = \"https://job.ozon.ru/api/vacancy?query=&limit=10&page=1\""
   ],
   "metadata": {
    "collapsed": false,
    "pycharm": {
     "name": "#%%\n"
    }
   }
  },
  {
   "cell_type": "code",
   "execution_count": 5,
   "outputs": [],
   "source": [
    "session = requests.Session()\n",
    "session.headers = ozon_headers"
   ],
   "metadata": {
    "collapsed": false,
    "pycharm": {
     "name": "#%%\n"
    }
   }
  },
  {
   "cell_type": "code",
   "execution_count": 6,
   "outputs": [
    {
     "data": {
      "text/plain": "<Response [403]>"
     },
     "execution_count": 6,
     "metadata": {},
     "output_type": "execute_result"
    }
   ],
   "source": [
    "result = requests.get(MAIN_URL)\n",
    "result"
   ],
   "metadata": {
    "collapsed": false,
    "pycharm": {
     "name": "#%%\n"
    }
   }
  },
  {
   "cell_type": "code",
   "execution_count": 8,
   "outputs": [
    {
     "name": "stdout",
     "output_type": "stream",
     "text": [
      "<!DOCTYPE html>\n",
      "<!--[if lt IE 7]> <html class=\"no-js ie6 oldie\" lang=\"en-US\"> <![endif]-->\n",
      "<!--[if IE 7]>    <html class=\"no-js ie7 oldie\" lang=\"en-US\"> <![endif]-->\n",
      "<!--[if IE 8]>    <html class=\"no-js ie8 oldie\" lang=\"en-US\"> <![endif]-->\n",
      "<!--[if gt IE 8]><!--> <html class=\"no-js\" lang=\"en-US\"> <!--<![endif]-->\n",
      "<head>\n",
      "\n",
      "<title>Please Wait... | Cloudflare</title>\n",
      "  \n",
      "<meta charset=\"UTF-8\" />\n",
      "<meta http-equiv=\"Content-Type\" content=\"text/html; charset=UTF-8\" />\n",
      "<meta http-equiv=\"X-UA-Compatible\" content=\"IE=Edge\" />\n",
      "<meta name=\"robots\" content=\"noindex, nofollow\" />\n",
      "<meta name=\"viewport\" content=\"width=device-width,initial-scale=1\" />\n",
      "<link rel=\"stylesheet\" id=\"cf_styles-css\" href=\"/cdn-cgi/styles/cf.errors.css\" />\n",
      "<!--[if lt IE 9]><link rel=\"stylesheet\" id='cf_styles-ie-css' href=\"/cdn-cgi/styles/cf.errors.ie.css\" /><![endif]-->\n",
      "<style>body{margin:0;padding:0}</style>\n",
      "\n",
      "\n",
      "<!--[if gte IE 10]><!-->\n",
      "<script>\n",
      "  if (!navigator.cookieEnabled) {\n",
      "    window.addEventListener('DOMContentLoaded', function () {\n",
      "      var cookieEl = document.getElementById('cookie-alert');\n",
      "      cookieEl.style.display = 'block';\n",
      "    })\n",
      "  }\n",
      "</script>\n",
      "<!--<![endif]-->\n",
      "\n",
      "\n",
      "    <script>\n",
      "    //<![CDATA[\n",
      "    (function(){\n",
      "      window._cf_chl_opt={\n",
      "        cvId: \"2\",\n",
      "        cType: \"managed\",\n",
      "        cNounce: \"46394\",\n",
      "        cRay: \"731dd9326f4c9db0\",\n",
      "        cHash: \"34a5b460a743a1b\",\n",
      "        cUPMDTk: \"\\/vacancy\\/?query=&__cf_chl_tk=DneD8Oa939MHEd2rkeUt9UwQOI19bkLu03pE7J3dDVs-1659013757-0-gaNycGzNBz0\",\n",
      "        cFPWv: \"b\",\n",
      "        cTTimeMs: \"1000\",\n",
      "        cLt: \"n\",\n",
      "        cRq: {\n",
      "          ru: \"aHR0cHM6Ly9qb2Iub3pvbi5ydS92YWNhbmN5Lz9xdWVyeT0=\",\n",
      "          ra: \"cHl0aG9uLXJlcXVlc3RzLzIuMjYuMA==\",\n",
      "          rm: \"R0VU\",\n",
      "          d: \"c5BiakTFIOaj/mj3fcgVRYvu6GQ4k9v+LD/KpPhU8tZOeBUhwfQLZDDkiLeIp1UVTp+9oRp2aAns6Mszn4/K8VLj3P+xlSydBSXdeeuDo5q6l5euZRd6KSV7LxTP6p35NUKvmd7m/cFIOfUrfNsTfYRVbBqQPpHFLBewOQsiXDlO3QqiGrbMeZqZS5ob9KJ0a+j8VlHe9/O7qFpEbI0MYDDEGubuWEkz2JNgz9GpCFxXA5j/XDMZ63QYSkM489ZjCXYCuiIwq217vxys2fCN9u71cN20fYpj20ppcysKydjeIVkM9+vMQ04NkRLyl4kmLPwVcg51ri3Xv0KSgmnXgdnabU2LbJwaXu9eWMl/O3hJMqJF4ZHnX3rmAGqqVOx/A1FvEzy/yvIfukewYbgLXXX4Xoz9Z7voaLNimZ9+pGKfn266E/s76b7BfnlRfPtUpxtek/KAgg7stSr3g7O2x5ITWY++O8p1gmTOSnzgOias3m1zcKzX1e4VQPMwbN5EIsRUqQJ/Ov58Pvi83FQ/v9q0ibqhGipHLhNS8UbznoS5wkvChluJfjwfzP4seI0Nx5MXNuCOMS1EH048WlyOvx7NgkL6my7W4L/5sEy179Z0ifK2mSucg0J7556/eyqG1ChJ9vJusX6qS5Z042YSsA==\",\n",
      "          t: \"MTY1OTAxMzc1Ny44MjYwMDA=\",\n",
      "          m: \"t9NjFOoZhJQfDzK7cT8Lg8kfP/h5XRK9eyD9KHQbSxk=\",\n",
      "          i1: \"4g2U7aKnaHaDxEN6C+5N/Q==\",\n",
      "          i2: \"k+EjKiHDbkkINisECGi2JQ==\",\n",
      "          zh: \"BeG1Y6okiAexwvHls5N2EZU105or2Splnt04RFuP4eg=\",\n",
      "          uh: \"xaa5dII6Z3KyYGzGAu/zTXOfAYzLW3WlpO4dxW/Wc8c=\",\n",
      "          hh: \"kamJnZuCM8n4AcJtaGP8+TomlD2btH4q8Rkr6qU6U2o=\",\n",
      "        }\n",
      "      };\n",
      "    }());\n",
      "    //]]>\n",
      "    </script>\n",
      "\n",
      "<style>\n",
      "  #cf-wrapper #spinner {width:69px; margin:  auto;}\n",
      "  #cf-wrapper #cf-please-wait{text-align:center}\n",
      "  .attribution {margin-top: 32px;}\n",
      "  .bubbles { background-color: #f58220; width:20px; height: 20px; margin:2px; border-radius:100%; display:inline-block; }\n",
      "  #cf-wrapper #challenge-form { padding-top:25px; padding-bottom:25px; }\n",
      "  #cf-hcaptcha-container { text-align:center;}\n",
      "  #cf-hcaptcha-container iframe { display: inline-block;}\n",
      "  @keyframes fader     { 0% {opacity: 0.2;} 50% {opacity: 1.0;} 100% {opacity: 0.2;} }\n",
      "  #cf-wrapper #cf-bubbles { width:69px; }\n",
      "  @-webkit-keyframes fader { 0% {opacity: 0.2;} 50% {opacity: 1.0;} 100% {opacity: 0.2;} }\n",
      "  #cf-bubbles > .bubbles { animation: fader 1.6s infinite;}\n",
      "  #cf-bubbles > .bubbles:nth-child(2) { animation-delay: .2s;}\n",
      "  #cf-bubbles > .bubbles:nth-child(3) { animation-delay: .4s;}\n",
      "</style>\n",
      "</head>\n",
      "<body>\n",
      "  <div id=\"cf-wrapper\">\n",
      "    <div class=\"cf-alert cf-alert-error cf-cookie-error\" id=\"cookie-alert\" data-translate=\"enable_cookies\">Please enable cookies.</div>\n",
      "    <div id=\"cf-error-details\" class=\"cf-error-details-wrapper\">\n",
      "      <div class=\"cf-wrapper cf-header cf-error-overview\">\n",
      "      \n",
      "        <h1 data-translate=\"managed_challenge_headline\">Please wait...</h1>\n",
      "        <h2 class=\"cf-subheadline\"><span data-translate=\"managed_checking_msg\">We are checking your browser...</span> job.ozon.ru</h2>\n",
      "      \n",
      "      </div>\n",
      "      \n",
      "      <div class=\"cf-section cf-highlight cf-captcha-container\">\n",
      "        <div class=\"cf-wrapper\">\n",
      "          <div class=\"cf-columns two\">\n",
      "            <div class=\"cf-column\">\n",
      "            \n",
      "              <div class=\"cf-highlight-inverse cf-form-stacked\">\n",
      "                <form id=\"challenge-form\" class=\"challenge-form managed-form\" action=\"/vacancy/?query=&amp;__cf_chl_f_tk=DneD8Oa939MHEd2rkeUt9UwQOI19bkLu03pE7J3dDVs-1659013757-0-gaNycGzNBz0\" method=\"POST\" enctype=\"application/x-www-form-urlencoded\">\n",
      "    <div id='cf-please-wait'>\n",
      "      <div id='spinner'>\n",
      "        <div id=\"cf-bubbles\">\n",
      "            <div class=\"bubbles\"></div>\n",
      "            <div class=\"bubbles\"></div>\n",
      "            <div class=\"bubbles\"></div>\n",
      "        </div>\n",
      "      </div>\n",
      "      <p data-translate=\"please_wait\" id=\"cf-spinner-please-wait\">Please stand by, while we are checking your browser...</p>\n",
      "      <p data-translate=\"redirecting\" id=\"cf-spinner-redirecting\" style=\"display:none\">Redirecting...</p>\n",
      "      </div>\n",
      "  <input type=\"hidden\" name=\"md\" value=\"Kf_ZjGGUbk8xJNAE_hd1NKLL2MZWKXaaZttxdiWr86Y-1659013757-0-AZxMh4zglJStL17U7lQ4gnNRUGquHy2uTCBN_laUdor99dBErPLXYeT1yUMUdPQ672ztvqd9rSdoLJqW6qY2r1YhZsrdXirmgjFYvKsfwNg7xsV7vpcC_R37Q-M30nnP0J1dIRTd7WDTx-p7cBPBt6FF1A1NsewqAirTLBpqeBHbmv13yPr2o8lCWEJY2FNyOmAhlOc6KbTGDRZJl6a_UrXzdmg1DdUimkX-tod0vTZHdcXDc0IMsrfLwgljM47xY0CWuDsi0hVio4v8T_NZr7x2_YQtEjtIuQWCcxVJ-8LbnrInQELWZMBLgBdNwPq7CtGjI6r0B2xNHDQ29VuCfrCBKq1ltgy1u4jJ6kzyt63gt0OXYhRP_j0zyLl75sOI13K-8gxH2hW90RFdIpGccpV-aHm3YN0ZTRB4tmawJ_HbI-2zvEmT6FqVax_7AGelKdq0AdQEMro-AIeWN_KUTxqIQ8fNiCPPzvKi1e2XtJ0beECvkgmrlt94fbt5--ClZTrRl_AU1JMo2gzaYATfUoVPp0GrCb5bL6NzqCx4zlsmwxrezkW71u68WdERNcw6RX6Q2GjYsTMFPDejJ9P-yp5sR7D-3lpB-goyCy31U9XJDO71y5Eq74xGmmktKPTfSrgWnBdCeJm7jFhYlnQDWlMQBAyOYR8JddkbaGMrOj7MKveu7DzGOOAvZM93nj4FQ2CKDChD-P25WB1qOwAbkBU\" />\n",
      "  <input type=\"hidden\" name=\"r\" value=\"sVv96NTe7yzpD962_mtk_p8oQtm4NKASDj8w6LcvEiw-1659013757-0-AadgUFWnx00x2TwoalRZUNsNni1hTFWO+218+5TrRKXl1oHieYZ8c5eopwX4PhIj5mHFZkJqYkgXF+1ZLV6BNflgnfg4ufH2b70nFmwPUkXzQSFdFqGT7c2aAvwwp3fqBF+cLrN/9im/1Ina07+mMevSoTBihsdvPZQLDsivX7zV0Pk62+eJNTbIu/rAukx2aXToQMYiNMK2ehIejsqRx3S0s7AfqaemuQHMYGqi3MbruPqXKpo48eAoZTV1yfA6nJpwmKgQvBQqd5NZcU/v1qoekScIXyxF7M5KaUvqxvTE2u10KDnydJfOKsixTqCuBpY6kyDUe9SgtyDTxmEFu2DnTgTdZGyJr9g+HljjNhIhkj1rONk6Gdl4zRqrtgNKpO1pkF37Vg5+Nl8qsr6I3CaEgWn9RTz9fAPtfLo+vZrxwiV7nER7GSJzEJ0fv85gvx0hNg845/SXnsKTQRg+kLIwPkAu+S+DAWqKJy2OFTnIwxrgfEHibF++C7C+J1sfK8S6OEGq03ZkxGFi5vnp2asbYX659891lPB1Lei89l5S3W8KYyj4f5CVWvJDPeBI+9y17Gw/ULY6HK9xIklk45gXKoZhL92RSKAZaNPgc0UJ5vhBClmw8cN0/4jBhOEkN9UmHAI7WRBhCWBA8nYRhq8We48PGaafUfR/gqqy2z7Rk6eCXqrVKNNPYEYDVn5IRKbCjhCbp+Tp999Tg/1vCLJGWMmFj6D5YprZQNiyJmd9S+ILW6jwLesnuf7yuFyIO6jsFADtEEDkThBtCnlgCbTWYtGGYReOBSpRtH+rmEpO3UENObSE1peisc/zWwTRYZdPxb7eJO1NbQkzxqQYKWM26Gt/cf+bL3USpqqdtyyX8X9tRG1J+jYFUbX9WESovC5MhewbTvn6+4EwpA18nczDLMyfrNRnTGTACprVu4HKskSCzOvpSbwR+rgNJe6KcklWe2IQPD5ScYQy1V+bMwlr/tgDxladrd8MtNw4q9thWPmTEXK8woj+jCm7ePdfpshEJzM2HvFOVLtELzJ5Ayg839Xc1PT7/nsMgb+cnN79HodssZOTpREjVtahwUtQIRON4/5DwqjAzP56ejfAkpQySL4ACieyKwS6oIO4MqYywG4nRzDEgMLtJkVUqU+beNG5cV109eYDvpbCFIcACVucXgwvyNMIXvCRPnIj3dRXu0YFC1LTmiEBVirqbgBzVjfNWHinXdtiOAJJxAUR+ei5z6+xpLfRguBuPAM8eZZmXCXwhuGSeQVV/7yUQQGq+N4hiiVPyycoBnS5KQAvMh3DDCCW1+fKLTTaRaNNNggGGOVMY4LoAhrJGzqF4p/rNS8wOsJ0MBEafqiuxY7J0vuSilBa31R89bDQzcH98ShrOaRhMsz7opN0fpjswui8O6WmRc6OAiKcMkfL5S/NAlDupHJCyxjFLr++DBnoO2wGdNCwkBuraBYQNsvrV1TsbR3AYBZ9ouukijSpUYv0Zvh/Dr0XFCQIBMDaFElXmenCUuVMo5w3Ulxe3fFAhwIvCWTV4BYzdMxkT2bzL1k2NIzOTTb241wwXLHGVIu+pUePmAmiYgbJAAyufcC2Wgv8rY6G3DzljJEMbl/EsBcJ48Wt+pqETEojazLb48/DYgHKf9PEsdib1JRG6HxAiAZjEehuC7Poe+F1PRz/na+QNUM899wpSso6MDUT7C4QuwJwyqgYfXjuwn34E5T0D01+C4UlJTjsk7K+PzSsWGXfwa/G7jlKgrO/GNKS4uPQJbjfBa+81UK1W94OxeLNk8O+nQ==\">\n",
      "  <noscript id=\"cf-captcha-bookmark\" class=\"cf-captcha-info\">\n",
      "  <h1 data-translate=\"turn_on_js\" style=\"color:#bd2426;\">Please turn JavaScript on and reload the page.</h1>\n",
      "  </noscript>\n",
      "    <div id=\"no-cookie-warning\" class=\"cookie-warning\" data-translate=\"turn_on_cookies\" style=\"display:none\">\n",
      "      <p data-translate=\"turn_on_cookies\" style=\"color:#bd2426;\">Please enable Cookies and reload the page.</p>\n",
      "    </div>\n",
      "  <script>\n",
      "  //<![CDATA[\n",
      "    var a = function() {try{return !!window.addEventListener} catch(e) {return !1} },\n",
      "      b = function(b, c) {a() ? document.addEventListener(\"DOMContentLoaded\", b, c) : document.attachEvent(\"onreadystatechange\", b)};\n",
      "      b(function(){\n",
      "        var cookiesEnabled=(navigator.cookieEnabled)? true : false;\n",
      "        if(!cookiesEnabled){\n",
      "          var q = document.getElementById('no-cookie-warning');q.style.display = 'block';\n",
      "        }\n",
      "      });\n",
      "  //]]>\n",
      "  </script>\n",
      "  <div id=\"trk_captcha_js\" style=\"background-image:url('/cdn-cgi/images/trace/captcha/nojs/transparent.gif?ray=731dd9326f4c9db0')\"></div>\n",
      "</form>\n",
      "  <script>\n",
      "    //<![CDATA[\n",
      "    (function(){\n",
      "        var isIE = /(MSIE|Trident\\/|Edge\\/)/i.test(window.navigator.userAgent);\n",
      "        var trkjs = isIE ? new Image() : document.createElement('img');\n",
      "        trkjs.setAttribute(\"src\", \"/cdn-cgi/images/trace/managed/js/transparent.gif?ray=731dd9326f4c9db0\");\n",
      "        trkjs.id = \"trk_managed_js\";\n",
      "        trkjs.setAttribute(\"alt\", \"\");\n",
      "        document.body.appendChild(trkjs);\n",
      "        var cpo=document.createElement('script');\n",
      "        cpo.type='text/javascript';\n",
      "        cpo.src = '/cdn-cgi/challenge-platform/h/b/orchestrate/managed/v1?ray=731dd9326f4c9db0';\n",
      "        \n",
      "        window._cf_chl_opt.cOgUHash = location.hash === '' && location.href.indexOf('#') !== -1 ? '#' : location.hash;\n",
      "        window._cf_chl_opt.cOgUQuery = location.search === '' && location.href.slice(0, -window._cf_chl_opt.cOgUHash.length).indexOf('?') !== -1 ? '?' : location.search;\n",
      "        if (window._cf_chl_opt.cUPMDTk && window.history && window.history.replaceState) {\n",
      "          var ogU = location.pathname + window._cf_chl_opt.cOgUQuery + window._cf_chl_opt.cOgUHash;\n",
      "          history.replaceState(null, null, \"\\/vacancy\\/?query=&__cf_chl_rt_tk=DneD8Oa939MHEd2rkeUt9UwQOI19bkLu03pE7J3dDVs-1659013757-0-gaNycGzNBz0\" + window._cf_chl_opt.cOgUHash);\n",
      "          cpo.onload = function() {\n",
      "            history.replaceState(null, null, ogU);\n",
      "          };\n",
      "        }\n",
      "        \n",
      "        document.getElementsByTagName('head')[0].appendChild(cpo);\n",
      "    }());\n",
      "    //]]>\n",
      "    </script>\n",
      "\n",
      "\n",
      "              </div>\n",
      "            </div>\n",
      "\n",
      "            <div class=\"cf-column\">\n",
      "              <div class=\"cf-screenshot-container\">\n",
      "              \n",
      "                <span class=\"cf-no-screenshot\"></span>\n",
      "              \n",
      "              </div>\n",
      "            </div>\n",
      "          </div>\n",
      "        </div>\n",
      "      </div>\n",
      "\n",
      "      <div class=\"cf-section cf-wrapper\">\n",
      "        <div class=\"cf-columns two\">\n",
      "          <div class=\"cf-column\">\n",
      "            <h2 data-translate=\"why_captcha_headline\">Why do I have to complete a CAPTCHA?</h2>\n",
      "            \n",
      "            <p data-translate=\"why_captcha_detail\">Completing the CAPTCHA proves you are a human and gives you temporary access to the web property.</p>\n",
      "          </div>\n",
      "\n",
      "          <div class=\"cf-column\">\n",
      "            <h2 data-translate=\"resolve_captcha_headline\">What can I do to prevent this in the future?</h2>\n",
      "            \n",
      "\n",
      "            <p data-translate=\"resolve_captcha_antivirus\">If you are on a personal connection, like at home, you can run an anti-virus scan on your device to make sure it is not infected with malware.</p>\n",
      "\n",
      "            <p data-translate=\"resolve_captcha_network\">If you are at an office or shared network, you can ask the network administrator to run a scan across the network looking for misconfigured or infected devices.</p>\n",
      "            \n",
      "              \n",
      "            \n",
      "          </div>\n",
      "        </div>\n",
      "      </div>\n",
      "      \n",
      "\n",
      "      <div class=\"cf-error-footer cf-wrapper w-240 lg:w-full py-10 sm:py-4 sm:px-8 mx-auto text-center sm:text-left border-solid border-0 border-t border-gray-300\">\n",
      "  <p class=\"text-13\">\n",
      "    <span class=\"cf-footer-item sm:block sm:mb-1\">Cloudflare Ray ID: <strong class=\"font-semibold\">731dd9326f4c9db0</strong></span>\n",
      "    <span class=\"cf-footer-separator sm:hidden\">&bull;</span>\n",
      "    <span id=\"cf-footer-item-ip\" class=\"cf-footer-item hidden sm:block sm:mb-1\">\n",
      "      Your IP:\n",
      "      <button type=\"button\" id=\"cf-footer-ip-reveal\" class=\"cf-footer-ip-reveal-btn\">Click to reveal</button>\n",
      "      <span class=\"hidden\" id=\"cf-footer-ip\">178.66.131.51</span>\n",
      "      <span class=\"cf-footer-separator sm:hidden\">&bull;</span>\n",
      "    </span>\n",
      "    <span class=\"cf-footer-item sm:block sm:mb-1\"><span>Performance &amp; security by</span> <a rel=\"noopener noreferrer\" href=\"https://www.cloudflare.com/5xx-error-landing\" id=\"brand_link\" target=\"_blank\">Cloudflare</a></span>\n",
      "    \n",
      "  </p>\n",
      "  <script>(function(){function d(){var b=a.getElementById(\"cf-footer-item-ip\"),c=a.getElementById(\"cf-footer-ip-reveal\");b&&\"classList\"in b&&(b.classList.remove(\"hidden\"),c.addEventListener(\"click\",function(){c.classList.add(\"hidden\");a.getElementById(\"cf-footer-ip\").classList.remove(\"hidden\")}))}var a=document;document.addEventListener&&a.addEventListener(\"DOMContentLoaded\",d)})();</script>\n",
      "</div><!-- /.error-footer -->\n",
      "\n",
      "\n",
      "    </div>\n",
      "  </div>\n",
      "\n",
      "  <script>\n",
      "  window._cf_translation = {};\n",
      "  \n",
      "  \n",
      "</script>\n",
      "\n",
      "\n",
      "</body>\n",
      "</html>\n",
      "\n"
     ]
    }
   ],
   "source": [
    "print(result.text)"
   ],
   "metadata": {
    "collapsed": false,
    "pycharm": {
     "name": "#%%\n"
    }
   }
  },
  {
   "cell_type": "markdown",
   "source": [
    "### Ошибка Cloudflare, т.е. защита от парсинга запросами\n",
    "Можно попробовать Selenium или другие варианты вроде undetected_chromedriver"
   ],
   "metadata": {
    "collapsed": false,
    "pycharm": {
     "name": "#%% md\n"
    }
   }
  },
  {
   "cell_type": "markdown",
   "source": [
    "## Использование HeadHunter API"
   ],
   "metadata": {
    "collapsed": false,
    "pycharm": {
     "name": "#%% md\n"
    }
   }
  },
  {
   "cell_type": "code",
   "execution_count": 46,
   "outputs": [],
   "source": [
    "HH_API_URL = 'http://api.hh.ru/'\n",
    "HH_TOKEN_URL = \"https://hh.ru/oauth/token\""
   ],
   "metadata": {
    "collapsed": false,
    "pycharm": {
     "name": "#%%\n"
    }
   }
  },
  {
   "cell_type": "code",
   "execution_count": 8,
   "outputs": [],
   "source": [
    "CLIENT_ID = \"N9N75GOTCRKJAIKK8TVM5UNPI38GC0B39BT0K2Q1AUM3P35LMCPJHQLDC952PH2A\"\n",
    "CLIENT_SECRET = \"O2VFGTA91FPTUHDLSUVBOVU3JETH3RE2VBUERKRGP8SK0GGCQ5LCJSIKA5FGAIRB\""
   ],
   "metadata": {
    "collapsed": false,
    "pycharm": {
     "name": "#%%\n"
    }
   }
  },
  {
   "cell_type": "code",
   "execution_count": 41,
   "outputs": [],
   "source": [
    "token_result = requests.post(HH_TOKEN_URL, data={\n",
    "    'grant_type': 'client_credentials',\n",
    "    'client_id': CLIENT_ID,\n",
    "    'client_secret': CLIENT_SECRET\n",
    "})"
   ],
   "metadata": {
    "collapsed": false,
    "pycharm": {
     "name": "#%%\n"
    }
   }
  },
  {
   "cell_type": "code",
   "execution_count": 44,
   "outputs": [
    {
     "data": {
      "text/plain": "'IQEK1G2E07TRN3QIMNGM5IB7US6I6NQ4OBJBUML2UI4EIU7VDR1NL32OM2O020LI'"
     },
     "execution_count": 44,
     "metadata": {},
     "output_type": "execute_result"
    }
   ],
   "source": [
    "token = token_result.json()['access_token']\n",
    "token"
   ],
   "metadata": {
    "collapsed": false,
    "pycharm": {
     "name": "#%%\n"
    }
   }
  },
  {
   "cell_type": "code",
   "execution_count": 45,
   "outputs": [],
   "source": [
    "hh_headers = {\n",
    "    'Authorization': f'Bearer {token}'\n",
    "}"
   ],
   "metadata": {
    "collapsed": false,
    "pycharm": {
     "name": "#%%\n"
    }
   }
  },
  {
   "cell_type": "code",
   "execution_count": 54,
   "outputs": [
    {
     "data": {
      "text/plain": "([{'id': 'publication_time', 'name': 'по дате'},\n  {'id': 'salary_desc', 'name': 'по убыванию дохода'},\n  {'id': 'salary_asc', 'name': 'по возрастанию дохода'},\n  {'id': 'relevance', 'name': 'по соответствию'},\n  {'id': 'distance', 'name': 'по удалённости'}],\n [{'id': 'publication_time', 'name': 'по дате'},\n  {'id': 'salary_desc', 'name': 'по убыванию дохода'},\n  {'id': 'salary_asc', 'name': 'по возрастанию дохода'},\n  {'id': 'relevance', 'name': 'по соответствию'},\n  {'id': 'distance', 'name': 'по удалённости'}])"
     },
     "execution_count": 54,
     "metadata": {},
     "output_type": "execute_result"
    }
   ],
   "source": [
    "hh_dictionaries = requests.get(HH_API_URL + 'dictionaries').json()\n",
    "hh_dictionaries['vacancy_search_order'], hh_dictionaries['vacancy_search_order']"
   ],
   "metadata": {
    "collapsed": false,
    "pycharm": {
     "name": "#%%\n"
    }
   }
  },
  {
   "cell_type": "code",
   "execution_count": 71,
   "outputs": [],
   "source": [
    "query_params = {\n",
    "    'text': 'Ozon',\n",
    "    'per_page': 50,\n",
    "    'page': 0,\n",
    "    'specialization': 1, # IT\n",
    "    'order_by': 'publication_time',\n",
    "    'search_field': 'company_name'\n",
    "}"
   ],
   "metadata": {
    "collapsed": false,
    "pycharm": {
     "name": "#%%\n"
    }
   }
  },
  {
   "cell_type": "code",
   "execution_count": 86,
   "outputs": [
    {
     "data": {
      "text/plain": "(9, 414)"
     },
     "execution_count": 86,
     "metadata": {},
     "output_type": "execute_result"
    }
   ],
   "source": [
    "test_request = requests.get(HH_API_URL + 'vacancies', headers=hh_headers, params=query_params).json()\n",
    "test_request['pages'], test_request['found']"
   ],
   "metadata": {
    "collapsed": false,
    "pycharm": {
     "name": "#%%\n"
    }
   }
  },
  {
   "cell_type": "code",
   "execution_count": 79,
   "outputs": [
    {
     "data": {
      "text/plain": "dict_keys(['id', 'premium', 'name', 'department', 'has_test', 'response_letter_required', 'area', 'salary', 'type', 'address', 'response_url', 'sort_point_distance', 'published_at', 'created_at', 'archived', 'apply_alternate_url', 'insider_interview', 'url', 'adv_response_url', 'alternate_url', 'relations', 'employer', 'snippet', 'contacts', 'schedule', 'working_days', 'working_time_intervals', 'working_time_modes', 'accept_temporary'])"
     },
     "execution_count": 79,
     "metadata": {},
     "output_type": "execute_result"
    }
   ],
   "source": [
    "test_vacancy = requests.get(HH_API_URL + 'vacancies', headers=hh_headers, params=query_params).json()['items'][0]\n",
    "test_vacancy.keys()"
   ],
   "metadata": {
    "collapsed": false,
    "pycharm": {
     "name": "#%%\n"
    }
   }
  },
  {
   "cell_type": "code",
   "execution_count": 92,
   "outputs": [
    {
     "data": {
      "text/plain": "{'city': 'Москва',\n 'street': 'Центральный административный округ, Пресненский район, Московский международный деловой центр Москва-Сити',\n 'building': None,\n 'description': None,\n 'lat': 55.749451,\n 'lng': 37.542824,\n 'raw': 'Москва, Центральный административный округ, Пресненский район, Московский международный деловой центр Москва-Сити',\n 'metro': None,\n 'metro_stations': []}"
     },
     "execution_count": 92,
     "metadata": {},
     "output_type": "execute_result"
    }
   ],
   "source": [
    "test_result = requests.get(HH_API_URL + f'vacancies/{test_vacancy[\"id\"]}', headers=hh_headers)\n",
    "test_result.json()['address']"
   ],
   "metadata": {
    "collapsed": false,
    "pycharm": {
     "name": "#%%\n"
    }
   }
  },
  {
   "cell_type": "code",
   "execution_count": 97,
   "outputs": [
    {
     "name": "stderr",
     "output_type": "stream",
     "text": [
      "100%|██████████| 9/9 [01:52<00:00, 12.45s/it]\n"
     ]
    },
    {
     "data": {
      "text/plain": "411"
     },
     "execution_count": 97,
     "metadata": {},
     "output_type": "execute_result"
    }
   ],
   "source": [
    "job_dicts = []\n",
    "for page in tqdm(range(test_request['pages'])):\n",
    "    query_params.update({'page': page})\n",
    "    items = requests.get(HH_API_URL + 'vacancies', headers=hh_headers, params=query_params).json()['items']\n",
    "\n",
    "    for item in items:\n",
    "        job_info = requests.get(HH_API_URL + f'vacancies/{item[\"id\"]}', headers=hh_headers).json()\n",
    "        job_dict = {\n",
    "            'title': clear_string(job_info['name']),\n",
    "            'internal_id' : job_info['id'],\n",
    "            'url': job_info['alternate_url'],\n",
    "            'description': clear_string(job_info['description']),\n",
    "            'responsibilities': None,\n",
    "            'qualifications': None,\n",
    "            'company': 'Ozon',\n",
    "            'location': job_info['address']['raw'] if job_info['address'] else None,\n",
    "            'department': job_info['department']['name'] if job_info['department'] else None,\n",
    "            'publish_date': parser.parse(job_info['created_at'])\n",
    "        }\n",
    "        job_dicts.append(job_dict)\n",
    "\n",
    "    time.sleep(0.2) # 200 ms sleep\n",
    "len(job_dicts)"
   ],
   "metadata": {
    "collapsed": false,
    "pycharm": {
     "name": "#%%\n"
    }
   }
  },
  {
   "cell_type": "code",
   "execution_count": 98,
   "outputs": [
    {
     "data": {
      "text/plain": "                                                 title internal_id  \\\n213                                     Электромеханик    68210224   \n391  Руководитель группы разработки C# / Логистика,...    67716237   \n81   Инженер по автоматизации тестирования Go/Types...    67544619   \n13       Руководитель группы Data Engineer, Ozon Fresh    68596702   \n116            Разработчик JavaScript, Поиск и Каталог    68441360   \n\n                                url  \\\n213  https://hh.ru/vacancy/68210224   \n391  https://hh.ru/vacancy/67716237   \n81   https://hh.ru/vacancy/67544619   \n13   https://hh.ru/vacancy/68596702   \n116  https://hh.ru/vacancy/68441360   \n\n                                           description responsibilities  \\\n213  Вам предстоит: · Проведение мероприятий по вып...             None   \n391  Ozon имеет разветвленную систему собственных с...             None   \n81   Команда личного кабинета покупателя и избранно...             None   \n13   ЧТО ВАМ ПРЕДСТОИТ: Проектировать и разрабатыва...             None   \n116  Ozon Performance – &quot;martech-стартап&quot;...             None   \n\n    qualifications company                            location  \\\n213           None    Ozon                                None   \n391           None    Ozon  Москва, Пресненская набережная, 10   \n81            None    Ozon                                None   \n13            None    Ozon                                None   \n116           None    Ozon  Москва, Пресненская набережная, 10   \n\n                         department              publish_date  \n213               Ozon Производство 2022-07-27 15:31:47+03:00  \n391  Ozon Информационные технологии 2022-07-12 18:53:46+03:00  \n81   Ozon Информационные технологии 2022-08-05 15:34:51+03:00  \n13                       Ozon fresh 2022-08-10 10:09:10+03:00  \n116  Ozon Информационные технологии 2022-08-03 14:33:47+03:00  ",
      "text/html": "<div>\n<style scoped>\n    .dataframe tbody tr th:only-of-type {\n        vertical-align: middle;\n    }\n\n    .dataframe tbody tr th {\n        vertical-align: top;\n    }\n\n    .dataframe thead th {\n        text-align: right;\n    }\n</style>\n<table border=\"1\" class=\"dataframe\">\n  <thead>\n    <tr style=\"text-align: right;\">\n      <th></th>\n      <th>title</th>\n      <th>internal_id</th>\n      <th>url</th>\n      <th>description</th>\n      <th>responsibilities</th>\n      <th>qualifications</th>\n      <th>company</th>\n      <th>location</th>\n      <th>department</th>\n      <th>publish_date</th>\n    </tr>\n  </thead>\n  <tbody>\n    <tr>\n      <th>213</th>\n      <td>Электромеханик</td>\n      <td>68210224</td>\n      <td>https://hh.ru/vacancy/68210224</td>\n      <td>Вам предстоит: · Проведение мероприятий по вып...</td>\n      <td>None</td>\n      <td>None</td>\n      <td>Ozon</td>\n      <td>None</td>\n      <td>Ozon Производство</td>\n      <td>2022-07-27 15:31:47+03:00</td>\n    </tr>\n    <tr>\n      <th>391</th>\n      <td>Руководитель группы разработки C# / Логистика,...</td>\n      <td>67716237</td>\n      <td>https://hh.ru/vacancy/67716237</td>\n      <td>Ozon имеет разветвленную систему собственных с...</td>\n      <td>None</td>\n      <td>None</td>\n      <td>Ozon</td>\n      <td>Москва, Пресненская набережная, 10</td>\n      <td>Ozon Информационные технологии</td>\n      <td>2022-07-12 18:53:46+03:00</td>\n    </tr>\n    <tr>\n      <th>81</th>\n      <td>Инженер по автоматизации тестирования Go/Types...</td>\n      <td>67544619</td>\n      <td>https://hh.ru/vacancy/67544619</td>\n      <td>Команда личного кабинета покупателя и избранно...</td>\n      <td>None</td>\n      <td>None</td>\n      <td>Ozon</td>\n      <td>None</td>\n      <td>Ozon Информационные технологии</td>\n      <td>2022-08-05 15:34:51+03:00</td>\n    </tr>\n    <tr>\n      <th>13</th>\n      <td>Руководитель группы Data Engineer, Ozon Fresh</td>\n      <td>68596702</td>\n      <td>https://hh.ru/vacancy/68596702</td>\n      <td>ЧТО ВАМ ПРЕДСТОИТ: Проектировать и разрабатыва...</td>\n      <td>None</td>\n      <td>None</td>\n      <td>Ozon</td>\n      <td>None</td>\n      <td>Ozon fresh</td>\n      <td>2022-08-10 10:09:10+03:00</td>\n    </tr>\n    <tr>\n      <th>116</th>\n      <td>Разработчик JavaScript, Поиск и Каталог</td>\n      <td>68441360</td>\n      <td>https://hh.ru/vacancy/68441360</td>\n      <td>Ozon Performance – &amp;quot;martech-стартап&amp;quot;...</td>\n      <td>None</td>\n      <td>None</td>\n      <td>Ozon</td>\n      <td>Москва, Пресненская набережная, 10</td>\n      <td>Ozon Информационные технологии</td>\n      <td>2022-08-03 14:33:47+03:00</td>\n    </tr>\n  </tbody>\n</table>\n</div>"
     },
     "execution_count": 98,
     "metadata": {},
     "output_type": "execute_result"
    }
   ],
   "source": [
    "snapshot = pd.DataFrame(filter(lambda x: x is not None, job_dicts))\n",
    "snapshot.sample(5)"
   ],
   "metadata": {
    "collapsed": false,
    "pycharm": {
     "name": "#%%\n"
    }
   }
  },
  {
   "cell_type": "code",
   "execution_count": 99,
   "outputs": [
    {
     "name": "stdout",
     "output_type": "stream",
     "text": [
      "<class 'pandas.core.frame.DataFrame'>\n",
      "RangeIndex: 411 entries, 0 to 410\n",
      "Data columns (total 10 columns):\n",
      " #   Column            Non-Null Count  Dtype                                \n",
      "---  ------            --------------  -----                                \n",
      " 0   title             411 non-null    object                               \n",
      " 1   internal_id       411 non-null    object                               \n",
      " 2   url               411 non-null    object                               \n",
      " 3   description       411 non-null    object                               \n",
      " 4   responsibilities  0 non-null      object                               \n",
      " 5   qualifications    0 non-null      object                               \n",
      " 6   company           411 non-null    object                               \n",
      " 7   location          214 non-null    object                               \n",
      " 8   department        411 non-null    object                               \n",
      " 9   publish_date      411 non-null    datetime64[ns, tzoffset(None, 10800)]\n",
      "dtypes: datetime64[ns, tzoffset(None, 10800)](1), object(9)\n",
      "memory usage: 32.2+ KB\n"
     ]
    }
   ],
   "source": [
    "snapshot.info()"
   ],
   "metadata": {
    "collapsed": false,
    "pycharm": {
     "name": "#%%\n"
    }
   }
  },
  {
   "cell_type": "code",
   "execution_count": 100,
   "outputs": [
    {
     "name": "stdout",
     "output_type": "stream",
     "text": [
      "<class 'pandas.core.series.Series'>\n",
      "RangeIndex: 411 entries, 0 to 410\n",
      "Series name: publish_date\n",
      "Non-Null Count  Dtype         \n",
      "--------------  -----         \n",
      "411 non-null    datetime64[ns]\n",
      "dtypes: datetime64[ns](1)\n",
      "memory usage: 3.3 KB\n"
     ]
    }
   ],
   "source": [
    "snapshot['publish_date'] = snapshot['publish_date'].apply(lambda x: x.replace(tzinfo=None))\n",
    "snapshot['publish_date'].info()"
   ],
   "metadata": {
    "collapsed": false,
    "pycharm": {
     "name": "#%%\n"
    }
   }
  },
  {
   "cell_type": "code",
   "execution_count": 101,
   "outputs": [
    {
     "data": {
      "text/plain": "'10-08-2022'"
     },
     "execution_count": 101,
     "metadata": {},
     "output_type": "execute_result"
    }
   ],
   "source": [
    "current_date = datetime.now().strftime('%d-%m-%Y')\n",
    "current_date"
   ],
   "metadata": {
    "collapsed": false,
    "pycharm": {
     "name": "#%%\n"
    }
   }
  },
  {
   "cell_type": "code",
   "execution_count": 102,
   "outputs": [],
   "source": [
    "snapshot.to_csv(f'../data/ozon/{current_date}.csv')\n",
    "snapshot.to_excel(f'../data/ozon/{current_date}.xlsx', engine='xlsxwriter')"
   ],
   "metadata": {
    "collapsed": false,
    "pycharm": {
     "name": "#%%\n"
    }
   }
  },
  {
   "cell_type": "code",
   "execution_count": null,
   "outputs": [],
   "source": [],
   "metadata": {
    "collapsed": false,
    "pycharm": {
     "name": "#%%\n"
    }
   }
  },
  {
   "cell_type": "code",
   "execution_count": null,
   "outputs": [],
   "source": [],
   "metadata": {
    "collapsed": false,
    "pycharm": {
     "name": "#%%\n"
    }
   }
  }
 ],
 "metadata": {
  "kernelspec": {
   "display_name": "Python 3",
   "language": "python",
   "name": "python3"
  },
  "language_info": {
   "codemirror_mode": {
    "name": "ipython",
    "version": 2
   },
   "file_extension": ".py",
   "mimetype": "text/x-python",
   "name": "python",
   "nbconvert_exporter": "python",
   "pygments_lexer": "ipython2",
   "version": "2.7.6"
  }
 },
 "nbformat": 4,
 "nbformat_minor": 0
}