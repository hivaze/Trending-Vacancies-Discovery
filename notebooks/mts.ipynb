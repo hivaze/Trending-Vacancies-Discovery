{
 "cells": [
  {
   "cell_type": "code",
   "execution_count": 1,
   "outputs": [],
   "source": [
    "import time\n",
    "import requests\n",
    "from bs4 import BeautifulSoup\n",
    "import json\n",
    "import re\n",
    "import time\n",
    "import faker\n",
    "import pandas as pd\n",
    "from tqdm import tqdm\n",
    "from datetime import datetime\n",
    "from dateutil import parser"
   ],
   "metadata": {
    "collapsed": false,
    "pycharm": {
     "name": "#%%\n"
    }
   }
  },
  {
   "cell_type": "code",
   "execution_count": 2,
   "outputs": [],
   "source": [
    "fake = faker.Faker(locale='ru')"
   ],
   "metadata": {
    "collapsed": false,
    "pycharm": {
     "name": "#%%\n"
    }
   }
  },
  {
   "cell_type": "code",
   "execution_count": 3,
   "outputs": [],
   "source": [
    "clear_string = lambda x: re.sub(' +', ' ', re.sub('<.*?>', ' ', x).replace('\\n', '\\n ')).strip()"
   ],
   "metadata": {
    "collapsed": false,
    "pycharm": {
     "name": "#%%\n"
    }
   }
  },
  {
   "cell_type": "code",
   "execution_count": 4,
   "outputs": [],
   "source": [
    "HH_API_URL = 'http://api.hh.ru/'\n",
    "HH_TOKEN_URL = \"https://hh.ru/oauth/token\""
   ],
   "metadata": {
    "collapsed": false,
    "pycharm": {
     "name": "#%%\n"
    }
   }
  },
  {
   "cell_type": "code",
   "execution_count": 5,
   "outputs": [],
   "source": [
    "CLIENT_ID = \"N9N75GOTCRKJAIKK8TVM5UNPI38GC0B39BT0K2Q1AUM3P35LMCPJHQLDC952PH2A\"\n",
    "CLIENT_SECRET = \"O2VFGTA91FPTUHDLSUVBOVU3JETH3RE2VBUERKRGP8SK0GGCQ5LCJSIKA5FGAIRB\""
   ],
   "metadata": {
    "collapsed": false,
    "pycharm": {
     "name": "#%%\n"
    }
   }
  },
  {
   "cell_type": "code",
   "execution_count": 6,
   "outputs": [],
   "source": [
    "token_result = requests.post(HH_TOKEN_URL, data={\n",
    "    'grant_type': 'client_credentials',\n",
    "    'client_id': CLIENT_ID,\n",
    "    'client_secret': CLIENT_SECRET\n",
    "})"
   ],
   "metadata": {
    "collapsed": false,
    "pycharm": {
     "name": "#%%\n"
    }
   }
  },
  {
   "cell_type": "code",
   "execution_count": 7,
   "outputs": [
    {
     "data": {
      "text/plain": "'HSPF996J781VSGN0SR2PQ1TOSOO485H5TGS4HVV6N1D7PB9GEI0E46HRM70780VF'"
     },
     "execution_count": 7,
     "metadata": {},
     "output_type": "execute_result"
    }
   ],
   "source": [
    "token = token_result.json()['access_token']\n",
    "token"
   ],
   "metadata": {
    "collapsed": false,
    "pycharm": {
     "name": "#%%\n"
    }
   }
  },
  {
   "cell_type": "code",
   "execution_count": 8,
   "outputs": [],
   "source": [
    "hh_headers = {\n",
    "    'Authorization': f'Bearer {token}'\n",
    "}"
   ],
   "metadata": {
    "collapsed": false,
    "pycharm": {
     "name": "#%%\n"
    }
   }
  },
  {
   "cell_type": "code",
   "execution_count": 9,
   "outputs": [
    {
     "data": {
      "text/plain": "([{'id': 'publication_time', 'name': 'по дате'},\n  {'id': 'salary_desc', 'name': 'по убыванию дохода'},\n  {'id': 'salary_asc', 'name': 'по возрастанию дохода'},\n  {'id': 'relevance', 'name': 'по соответствию'},\n  {'id': 'distance', 'name': 'по удалённости'}],\n [{'id': 'publication_time', 'name': 'по дате'},\n  {'id': 'salary_desc', 'name': 'по убыванию дохода'},\n  {'id': 'salary_asc', 'name': 'по возрастанию дохода'},\n  {'id': 'relevance', 'name': 'по соответствию'},\n  {'id': 'distance', 'name': 'по удалённости'}])"
     },
     "execution_count": 9,
     "metadata": {},
     "output_type": "execute_result"
    }
   ],
   "source": [
    "hh_dictionaries = requests.get(HH_API_URL + 'dictionaries').json()\n",
    "hh_dictionaries['vacancy_search_order'], hh_dictionaries['vacancy_search_order']"
   ],
   "metadata": {
    "collapsed": false,
    "pycharm": {
     "name": "#%%\n"
    }
   }
  },
  {
   "cell_type": "code",
   "execution_count": 12,
   "outputs": [],
   "source": [
    "query_params = {\n",
    "    'text': 'МТС',\n",
    "    'per_page': 50, # max 100\n",
    "    'page': 0,\n",
    "    'specialization': 1, # IT\n",
    "    'order_by': 'publication_time',\n",
    "    'search_field': 'company_name'\n",
    "}"
   ],
   "metadata": {
    "collapsed": false,
    "pycharm": {
     "name": "#%%\n"
    }
   }
  },
  {
   "cell_type": "code",
   "execution_count": 13,
   "outputs": [
    {
     "data": {
      "text/plain": "(14, 678)"
     },
     "execution_count": 13,
     "metadata": {},
     "output_type": "execute_result"
    }
   ],
   "source": [
    "test_request = requests.get(HH_API_URL + 'vacancies', headers=hh_headers, params=query_params).json()\n",
    "test_request['pages'], test_request['found']"
   ],
   "metadata": {
    "collapsed": false,
    "pycharm": {
     "name": "#%%\n"
    }
   }
  },
  {
   "cell_type": "code",
   "execution_count": 19,
   "outputs": [
    {
     "name": "stderr",
     "output_type": "stream",
     "text": [
      "100%|██████████| 14/14 [02:53<00:00, 12.37s/it]\n"
     ]
    },
    {
     "data": {
      "text/plain": "678"
     },
     "execution_count": 19,
     "metadata": {},
     "output_type": "execute_result"
    }
   ],
   "source": [
    "job_dicts = []\n",
    "for page in tqdm(range(test_request['pages'])):\n",
    "    query_params.update({'page': page})\n",
    "    items = requests.get(HH_API_URL + 'vacancies', headers=hh_headers, params=query_params).json()['items']\n",
    "\n",
    "    for item in items:\n",
    "        job_info = requests.get(HH_API_URL + f'vacancies/{item[\"id\"]}', headers=hh_headers).json()\n",
    "        job_dict = {\n",
    "            'title': clear_string(job_info['name']),\n",
    "            'internal_id' : job_info['id'],\n",
    "            'url': job_info['alternate_url'],\n",
    "            'description': clear_string(job_info['description']),\n",
    "            'responsibilities': None,\n",
    "            'qualifications': None,\n",
    "            'company': 'MTS',\n",
    "            'location': job_info['address']['raw'] if job_info['address'] else None,\n",
    "            'department': job_info['department']['name'] if job_info['department'] else None,\n",
    "            'publish_date': parser.parse(job_info['created_at'])\n",
    "        }\n",
    "        job_dicts.append(job_dict)\n",
    "\n",
    "    time.sleep(0.2) # 200 ms sleep\n",
    "len(job_dicts)"
   ],
   "metadata": {
    "collapsed": false,
    "pycharm": {
     "name": "#%%\n"
    }
   }
  },
  {
   "cell_type": "code",
   "execution_count": 20,
   "outputs": [
    {
     "data": {
      "text/plain": "                                                 title internal_id  \\\n174  Ведущий бизнес-аналитик в центр развития фикси...    67698984   \n299                                        QA Engineer    68393548   \n606                        Go developer middle (Ocean)    54642361   \n601                             Старший инженер DevOps    67039779   \n583                Ведущий инженер опорной и ЦОД сетей    66571106   \n\n                                url  \\\n174  https://hh.ru/vacancy/67698984   \n299  https://hh.ru/vacancy/68393548   \n606  https://hh.ru/vacancy/54642361   \n601  https://hh.ru/vacancy/67039779   \n583  https://hh.ru/vacancy/66571106   \n\n                                           description responsibilities  \\\n174  МТС – это мультисервисная цифровая экосистема....             None   \n299  Обязанности: Организация процесса тестирования...             None   \n606  MTS Digital – дочерняя компания ПАО МТС, задач...             None   \n601  В Стрим МТС Инвестиции ищем Старшего инженера ...             None   \n583  МТС – это мультисервисная цифровая экосистема....             None   \n\n    qualifications company                                       location  \\\n174           None     MTS                                           None   \n299           None     MTS                                           None   \n606           None     MTS                                           None   \n601           None     MTS               Москва, проспект Андропова, 18к1   \n583           None     MTS  Новосибирск, улица Богдана Хмельницкого, 90/1   \n\n       department              publish_date  \n174        «МТС»  2022-08-08 09:08:53+03:00  \n299     «МТС», IT 2022-08-02 13:25:01+03:00  \n606     «МТС», IT 2022-07-18 09:36:39+03:00  \n601  МТС Банк. IT 2022-07-18 10:52:12+03:00  \n583        «МТС»  2022-07-19 04:47:40+03:00  ",
      "text/html": "<div>\n<style scoped>\n    .dataframe tbody tr th:only-of-type {\n        vertical-align: middle;\n    }\n\n    .dataframe tbody tr th {\n        vertical-align: top;\n    }\n\n    .dataframe thead th {\n        text-align: right;\n    }\n</style>\n<table border=\"1\" class=\"dataframe\">\n  <thead>\n    <tr style=\"text-align: right;\">\n      <th></th>\n      <th>title</th>\n      <th>internal_id</th>\n      <th>url</th>\n      <th>description</th>\n      <th>responsibilities</th>\n      <th>qualifications</th>\n      <th>company</th>\n      <th>location</th>\n      <th>department</th>\n      <th>publish_date</th>\n    </tr>\n  </thead>\n  <tbody>\n    <tr>\n      <th>174</th>\n      <td>Ведущий бизнес-аналитик в центр развития фикси...</td>\n      <td>67698984</td>\n      <td>https://hh.ru/vacancy/67698984</td>\n      <td>МТС – это мультисервисная цифровая экосистема....</td>\n      <td>None</td>\n      <td>None</td>\n      <td>MTS</td>\n      <td>None</td>\n      <td>«МТС»</td>\n      <td>2022-08-08 09:08:53+03:00</td>\n    </tr>\n    <tr>\n      <th>299</th>\n      <td>QA Engineer</td>\n      <td>68393548</td>\n      <td>https://hh.ru/vacancy/68393548</td>\n      <td>Обязанности: Организация процесса тестирования...</td>\n      <td>None</td>\n      <td>None</td>\n      <td>MTS</td>\n      <td>None</td>\n      <td>«МТС», IT</td>\n      <td>2022-08-02 13:25:01+03:00</td>\n    </tr>\n    <tr>\n      <th>606</th>\n      <td>Go developer middle (Ocean)</td>\n      <td>54642361</td>\n      <td>https://hh.ru/vacancy/54642361</td>\n      <td>MTS Digital – дочерняя компания ПАО МТС, задач...</td>\n      <td>None</td>\n      <td>None</td>\n      <td>MTS</td>\n      <td>None</td>\n      <td>«МТС», IT</td>\n      <td>2022-07-18 09:36:39+03:00</td>\n    </tr>\n    <tr>\n      <th>601</th>\n      <td>Старший инженер DevOps</td>\n      <td>67039779</td>\n      <td>https://hh.ru/vacancy/67039779</td>\n      <td>В Стрим МТС Инвестиции ищем Старшего инженера ...</td>\n      <td>None</td>\n      <td>None</td>\n      <td>MTS</td>\n      <td>Москва, проспект Андропова, 18к1</td>\n      <td>МТС Банк. IT</td>\n      <td>2022-07-18 10:52:12+03:00</td>\n    </tr>\n    <tr>\n      <th>583</th>\n      <td>Ведущий инженер опорной и ЦОД сетей</td>\n      <td>66571106</td>\n      <td>https://hh.ru/vacancy/66571106</td>\n      <td>МТС – это мультисервисная цифровая экосистема....</td>\n      <td>None</td>\n      <td>None</td>\n      <td>MTS</td>\n      <td>Новосибирск, улица Богдана Хмельницкого, 90/1</td>\n      <td>«МТС»</td>\n      <td>2022-07-19 04:47:40+03:00</td>\n    </tr>\n  </tbody>\n</table>\n</div>"
     },
     "execution_count": 20,
     "metadata": {},
     "output_type": "execute_result"
    }
   ],
   "source": [
    "snapshot = pd.DataFrame(filter(lambda x: x is not None, job_dicts))\n",
    "snapshot.sample(5)"
   ],
   "metadata": {
    "collapsed": false,
    "pycharm": {
     "name": "#%%\n"
    }
   }
  },
  {
   "cell_type": "code",
   "execution_count": 21,
   "outputs": [
    {
     "name": "stdout",
     "output_type": "stream",
     "text": [
      "<class 'pandas.core.frame.DataFrame'>\n",
      "RangeIndex: 678 entries, 0 to 677\n",
      "Data columns (total 10 columns):\n",
      " #   Column            Non-Null Count  Dtype                                \n",
      "---  ------            --------------  -----                                \n",
      " 0   title             678 non-null    object                               \n",
      " 1   internal_id       678 non-null    object                               \n",
      " 2   url               678 non-null    object                               \n",
      " 3   description       678 non-null    object                               \n",
      " 4   responsibilities  0 non-null      object                               \n",
      " 5   qualifications    0 non-null      object                               \n",
      " 6   company           678 non-null    object                               \n",
      " 7   location          342 non-null    object                               \n",
      " 8   department        671 non-null    object                               \n",
      " 9   publish_date      678 non-null    datetime64[ns, tzoffset(None, 10800)]\n",
      "dtypes: datetime64[ns, tzoffset(None, 10800)](1), object(9)\n",
      "memory usage: 53.1+ KB\n"
     ]
    }
   ],
   "source": [
    "snapshot.info()"
   ],
   "metadata": {
    "collapsed": false,
    "pycharm": {
     "name": "#%%\n"
    }
   }
  },
  {
   "cell_type": "code",
   "execution_count": 22,
   "outputs": [
    {
     "name": "stdout",
     "output_type": "stream",
     "text": [
      "<class 'pandas.core.series.Series'>\n",
      "RangeIndex: 678 entries, 0 to 677\n",
      "Series name: publish_date\n",
      "Non-Null Count  Dtype         \n",
      "--------------  -----         \n",
      "678 non-null    datetime64[ns]\n",
      "dtypes: datetime64[ns](1)\n",
      "memory usage: 5.4 KB\n"
     ]
    }
   ],
   "source": [
    "snapshot['publish_date'] = snapshot['publish_date'].apply(lambda x: x.replace(tzinfo=None))\n",
    "snapshot['publish_date'].info()"
   ],
   "metadata": {
    "collapsed": false,
    "pycharm": {
     "name": "#%%\n"
    }
   }
  },
  {
   "cell_type": "code",
   "execution_count": 23,
   "outputs": [
    {
     "data": {
      "text/plain": "'10-08-2022'"
     },
     "execution_count": 23,
     "metadata": {},
     "output_type": "execute_result"
    }
   ],
   "source": [
    "current_date = datetime.now().strftime('%d-%m-%Y')\n",
    "current_date"
   ],
   "metadata": {
    "collapsed": false,
    "pycharm": {
     "name": "#%%\n"
    }
   }
  },
  {
   "cell_type": "code",
   "execution_count": 24,
   "outputs": [],
   "source": [
    "snapshot.to_csv(f'../data/mts/{current_date}.csv')\n",
    "snapshot.to_excel(f'../data/mts/{current_date}.xlsx', engine='xlsxwriter')"
   ],
   "metadata": {
    "collapsed": false,
    "pycharm": {
     "name": "#%%\n"
    }
   }
  },
  {
   "cell_type": "code",
   "execution_count": null,
   "outputs": [],
   "source": [],
   "metadata": {
    "collapsed": false,
    "pycharm": {
     "name": "#%%\n"
    }
   }
  }
 ],
 "metadata": {
  "kernelspec": {
   "display_name": "Python 3",
   "language": "python",
   "name": "python3"
  },
  "language_info": {
   "codemirror_mode": {
    "name": "ipython",
    "version": 2
   },
   "file_extension": ".py",
   "mimetype": "text/x-python",
   "name": "python",
   "nbconvert_exporter": "python",
   "pygments_lexer": "ipython2",
   "version": "2.7.6"
  }
 },
 "nbformat": 4,
 "nbformat_minor": 0
}