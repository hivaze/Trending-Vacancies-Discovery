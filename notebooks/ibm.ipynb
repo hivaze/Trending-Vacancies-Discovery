{
 "cells": [
  {
   "cell_type": "code",
   "execution_count": 1,
   "metadata": {
    "collapsed": true,
    "pycharm": {
     "name": "#%%\n"
    }
   },
   "outputs": [],
   "source": [
    "import time\n",
    "import requests\n",
    "from bs4 import BeautifulSoup\n",
    "import json\n",
    "import re\n",
    "import time\n",
    "import faker\n",
    "import pandas as pd\n",
    "from tqdm import tqdm\n",
    "from datetime import datetime\n",
    "from dateutil import parser"
   ]
  },
  {
   "cell_type": "code",
   "execution_count": 2,
   "outputs": [],
   "source": [
    "from collections import Counter"
   ],
   "metadata": {
    "collapsed": false,
    "pycharm": {
     "name": "#%%\n"
    }
   }
  },
  {
   "cell_type": "code",
   "execution_count": 3,
   "outputs": [],
   "source": [
    "fake = faker.Faker(locale='en')"
   ],
   "metadata": {
    "collapsed": false,
    "pycharm": {
     "name": "#%%\n"
    }
   }
  },
  {
   "cell_type": "code",
   "execution_count": 4,
   "outputs": [],
   "source": [
    "ibm_headers = {\n",
    "    'User-Agent': fake.chrome(),\n",
    "    'accept-language': 'en-US,en;q=0.9',\n",
    "    'pragma': 'np-cache',\n",
    "    'origin': 'https://www.ibm.com',\n",
    "    'referer': 'https://www.ibm.com/'\n",
    "}"
   ],
   "metadata": {
    "collapsed": false,
    "pycharm": {
     "name": "#%%\n"
    }
   }
  },
  {
   "cell_type": "code",
   "execution_count": 5,
   "outputs": [],
   "source": [
    "API_URL = \"http://jobsapi-internal.m-cloud.io/api/stjobbulk\""
   ],
   "metadata": {
    "collapsed": false,
    "pycharm": {
     "name": "#%%\n"
    }
   }
  },
  {
   "cell_type": "code",
   "execution_count": 6,
   "outputs": [],
   "source": [
    "search_payload = {\n",
    "    'organization': 2242,\n",
    "    'limitkey': '4A8B5EF8-AA98-4A8B-907D-C21723FE4C6B',\n",
    "    'facet': 'publish_to_cws:true',\n",
    "    'fields': 'title,id,update_date,primary_country,description,primary_category,level,url,brand'\n",
    "}"
   ],
   "metadata": {
    "collapsed": false,
    "pycharm": {
     "name": "#%%\n"
    }
   }
  },
  {
   "cell_type": "code",
   "execution_count": 7,
   "outputs": [
    {
     "data": {
      "text/plain": "<Response [200]>"
     },
     "execution_count": 7,
     "metadata": {},
     "output_type": "execute_result"
    }
   ],
   "source": [
    "result = requests.get(API_URL, headers=ibm_headers, params=search_payload)\n",
    "result"
   ],
   "metadata": {
    "collapsed": false,
    "pycharm": {
     "name": "#%%\n"
    }
   }
  },
  {
   "cell_type": "code",
   "execution_count": 8,
   "outputs": [
    {
     "data": {
      "text/plain": "(9137, 9137)"
     },
     "execution_count": 8,
     "metadata": {},
     "output_type": "execute_result"
    }
   ],
   "source": [
    "result.json()['totalHits'], len(result.json()['queryResult'])"
   ],
   "metadata": {
    "collapsed": false,
    "pycharm": {
     "name": "#%%\n"
    }
   }
  },
  {
   "cell_type": "code",
   "execution_count": 9,
   "outputs": [
    {
     "data": {
      "text/plain": "dict_keys(['id', 'title', 'primary_country', 'description', 'primary_category', 'level', 'brand', 'url', 'update_date'])"
     },
     "execution_count": 9,
     "metadata": {},
     "output_type": "execute_result"
    }
   ],
   "source": [
    "result.json()['queryResult'][0].keys()"
   ],
   "metadata": {
    "collapsed": false,
    "pycharm": {
     "name": "#%%\n"
    }
   }
  },
  {
   "cell_type": "code",
   "execution_count": 10,
   "outputs": [
    {
     "data": {
      "text/plain": "[('Technical Specialist', 3601),\n ('Consultant', 2045),\n ('Finance', 1075),\n ('Architect', 499),\n ('Sales', 490),\n ('Software Development & Support', 329),\n ('Project Management', 300),\n ('Human Resources', 172),\n ('Other', 145),\n ('Enterprise Operations', 111)]"
     },
     "execution_count": 10,
     "metadata": {},
     "output_type": "execute_result"
    }
   ],
   "source": [
    "Counter([j['primary_category'] for j in result.json()['queryResult']]).most_common(10)"
   ],
   "metadata": {
    "collapsed": false,
    "pycharm": {
     "name": "#%%\n"
    }
   }
  },
  {
   "cell_type": "code",
   "execution_count": 11,
   "outputs": [],
   "source": [
    "clear_string = lambda x: re.sub(' +', ' ', re.sub('<.*?>', ' ', x)).strip()"
   ],
   "metadata": {
    "collapsed": false,
    "pycharm": {
     "name": "#%%\n"
    }
   }
  },
  {
   "cell_type": "code",
   "execution_count": 17,
   "outputs": [],
   "source": [
    "about_pattern = re.compile(r\"Introduction(.+?)Your Role and Responsibilities\", flags=re.DOTALL|re.IGNORECASE)\n",
    "responsibilities_pattern = re.compile(r\"Your Role and Responsibilities(.+?)Required Technical and Professional Expertise\", flags=re.DOTALL|re.IGNORECASE)\n",
    "qualifications_pattern = re.compile(r\"Required Technical and Professional Expertise(.+?)Preferred Technical and Professional Expertise\", flags=re.DOTALL|re.IGNORECASE)"
   ],
   "metadata": {
    "collapsed": false,
    "pycharm": {
     "name": "#%%\n"
    }
   }
  },
  {
   "cell_type": "code",
   "execution_count": 30,
   "outputs": [
    {
     "name": "stderr",
     "output_type": "stream",
     "text": [
      "  5%|▍         | 432/9137 [00:00<00:04, 2118.84it/s]"
     ]
    },
    {
     "name": "stdout",
     "output_type": "stream",
     "text": [
      "Skipping vacancy https://careers.ibm.com/job/15232232/-ibm-pm-it-it-tokyo-jp/\n",
      "Skipping vacancy https://careers.ibm.com/job/15232235/-ibm-pm-it-it-tokyo-jp/\n",
      "Skipping vacancy https://careers.ibm.com/job/15232237/-ibm-pm-it-it-tokyo-jp/\n",
      "Skipping vacancy https://careers.ibm.com/job/15270425/-ibm-japan-tax-manager-tokyo-jp/\n",
      "Skipping vacancy https://careers.ibm.com/job/15280931/-ibm-japan-ibm-cloud-solution-architect-tokyo-jp/\n",
      "Skipping vacancy https://careers.ibm.com/job/15072653/fullstack-java-per-lima-pe/\n",
      "Skipping vacancy https://careers.ibm.com/job/15017893/-pm-tokyo-jp/\n",
      "Skipping vacancy https://careers.ibm.com/job/15037807/l-der-de-integraci-n-bogota-co/\n",
      "Skipping vacancy https://careers.ibm.com/job/14742685/-ibm-seller-business-development-executive-ibm-research-tokyo-jp/\n",
      "Skipping vacancy https://careers.ibm.com/job/14326157/-hybrid-cloud-t-research-tokyo-student-intern-intern-trl-ibm-japan-kawasaki-jp/\n",
      "Skipping vacancy https://careers.ibm.com/job/14969281/-data-ai-expert-lab-tokyo-jp/\n",
      "Skipping vacancy https://careers.ibm.com/job/15043438/supply-chain-and-procurement-consultant-tokyo-jp/\n",
      "Skipping vacancy https://careers.ibm.com/job/15547302/-iot-maas-tokyo-jp/\n",
      "Skipping vacancy https://careers.ibm.com/job/15547303/strategic-procurement-consultant-tokyo-jp/\n",
      "Skipping vacancy https://careers.ibm.com/job/15549222/technical-leader-strategic-sales-tokyo-jp/\n",
      "Skipping vacancy https://careers.ibm.com/job/15549227/technical-leader-strategic-sales-tokyo-jp/\n",
      "Skipping vacancy https://careers.ibm.com/job/15549228/technical-leader-strategic-sales-tokyo-jp/\n",
      "Skipping vacancy https://careers.ibm.com/job/15549221/technical-leader-strategic-sales-tokyo-jp/\n",
      "Skipping vacancy https://careers.ibm.com/job/15549223/technical-leader-strategic-sales-tokyo-jp/\n",
      "Skipping vacancy https://careers.ibm.com/job/15549220/technical-leader-strategic-sales-tokyo-jp/\n",
      "Skipping vacancy https://careers.ibm.com/job/15289913/profesional-de-compras-bogota-co/\n",
      "Skipping vacancy https://careers.ibm.com/job/15017889/-pm-tokyo-jp/\n",
      "Skipping vacancy https://careers.ibm.com/job/15017891/-it-tokyo-jp/\n",
      "Skipping vacancy https://careers.ibm.com/job/15342112/-ibm-digital-business-strategy-consultant-tokyo-jp/\n",
      "Skipping vacancy https://careers.ibm.com/job/15031766/-ibm-turbonomic-npm-tokyo-jp/\n",
      "Skipping vacancy https://careers.ibm.com/job/15031772/-ibm-turbonomic-tokyo-jp/\n",
      "Skipping vacancy https://careers.ibm.com/job/15221657/analista-de-cuentas-por-pagar-bogota-co/\n",
      "Skipping vacancy https://careers.ibm.com/job/15144155/-hybrid-cloud-s-research-tokyo-student-intern-intern-trl-ibm-japan-tokyo-jp/\n",
      "Skipping vacancy https://careers.ibm.com/job/15132487/-data-ai-expert-lab-bi-tokyo-jp/\n",
      "Skipping vacancy https://careers.ibm.com/job/15165343/-ibm-mobile-developer-tokyo-jp/\n",
      "Skipping vacancy https://careers.ibm.com/job/15421919/comprado-operacional-portugu-s-90-bogota-co/\n",
      "Skipping vacancy https://careers.ibm.com/job/13339383/-ise-application-architect-chiba-jp/\n",
      "Skipping vacancy https://careers.ibm.com/job/14996475/-ibm-deal-maker-and-software-licensing-tokyo-jp/\n",
      "Skipping vacancy https://careers.ibm.com/job/15053412/-ibm-data-ai-automation-tokyo-jp/\n",
      "Skipping vacancy https://careers.ibm.com/job/15066958/-ibm-technology-tokyo-jp/\n",
      "Skipping vacancy https://careers.ibm.com/job/15293252/-ise-chiba-jp/\n",
      "Skipping vacancy https://careers.ibm.com/job/15293253/-ise-chiba-jp/\n",
      "Skipping vacancy https://careers.ibm.com/job/15293254/-ise-chiba-jp/\n",
      "Skipping vacancy https://careers.ibm.com/job/15538300/-ise-chiba-jp/\n",
      "Skipping vacancy https://careers.ibm.com/job/14296501/-ibm-japan-tsdl-systems-chiba-jp/\n",
      "Skipping vacancy https://careers.ibm.com/job/15232236/-ibm-pm-it-it-tokyo-jp/\n",
      "Skipping vacancy https://careers.ibm.com/job/15365510/-ibm-mobile-developer-tokyo-jp/\n",
      "Skipping vacancy https://careers.ibm.com/job/14183070/-ai-research-tokyo-student-intern-intern-trl-ibm-japan-tokyo-jp/\n",
      "Skipping vacancy https://careers.ibm.com/job/15549225/technical-leader-strategic-sales-tokyo-jp/\n",
      "Skipping vacancy https://careers.ibm.com/job/15549224/technical-leader-strategic-sales-tokyo-jp/\n",
      "Skipping vacancy https://careers.ibm.com/job/15549226/technical-leader-strategic-sales-tokyo-jp/\n",
      "Skipping vacancy https://careers.ibm.com/job/15549219/technical-leader-strategic-sales-tokyo-jp/\n",
      "Skipping vacancy https://careers.ibm.com/job/15055993/sap-associate-partner-tokyo-jp/\n",
      "Skipping vacancy https://careers.ibm.com/job/15055995/-ibm-dx-tokyo-jp/\n",
      "Skipping vacancy https://careers.ibm.com/job/15837611/-ibm-dx-tokyo-jp/\n",
      "Skipping vacancy https://careers.ibm.com/job/15918299/-ise-chiba-jp/\n",
      "Skipping vacancy https://careers.ibm.com/job/15782960/-ise-chiba-jp/\n",
      "Skipping vacancy https://careers.ibm.com/job/15900422/desarrollador-java-fullstack-lima-pe/\n",
      "Skipping vacancy https://careers.ibm.com/job/15905723/-ibm-tokyo-jp/\n",
      "Skipping vacancy https://careers.ibm.com/job/15915719/-ise-ichikawa-jp/\n",
      "Skipping vacancy https://careers.ibm.com/job/15915720/-ise-chiba-jp/\n",
      "Skipping vacancy https://careers.ibm.com/job/15915721/-ise-chiba-jp/\n",
      "Skipping vacancy https://careers.ibm.com/job/15915724/-ise-chiba-jp/\n",
      "Skipping vacancy https://careers.ibm.com/job/15915726/-ise-chiba-jp/\n",
      "Skipping vacancy https://careers.ibm.com/job/15055991/d-veloppeur-exp-riment-business-intelligence-h-f-remote-ibm-cic-remote/\n",
      "Skipping vacancy https://careers.ibm.com/job/15031767/-ibm-tokyo-jp/\n",
      "Skipping vacancy https://careers.ibm.com/job/15948617/-ibm-dx-tokyo-jp/\n",
      "Skipping vacancy https://careers.ibm.com/job/15940704/-ibm-i-o-center-operator-chiba-jp/\n",
      "Skipping vacancy https://careers.ibm.com/job/15568923/-ibm-security-mdr-threat-responder-tokyo-jp/\n",
      "Skipping vacancy https://careers.ibm.com/job/15390296/desarrollador-devops-remote/\n",
      "Skipping vacancy https://careers.ibm.com/job/15924809/scrum-master-remote/\n",
      "Skipping vacancy https://careers.ibm.com/job/14657341/java-integration-lead-remote/\n",
      "Skipping vacancy https://careers.ibm.com/job/16019848/-ise-servicenow-chiba-jp/\n",
      "Skipping vacancy https://careers.ibm.com/job/16023492/tester-funcional-remote/\n",
      "Skipping vacancy https://careers.ibm.com/job/16023494/tester-funcional-remote/\n",
      "Skipping vacancy https://careers.ibm.com/job/16039232/-ibm-client-engineering-tokyo-jp/\n",
      "Skipping vacancy https://careers.ibm.com/job/16039233/-ibm-client-engineering-tokyo-jp/\n",
      "Skipping vacancy https://careers.ibm.com/job/15591957/consultora-or-sap-abap-buenos-aires-ar/\n",
      "Skipping vacancy https://careers.ibm.com/job/14958176/-ibm-client-engineering-tokyo-jp/\n",
      "Skipping vacancy https://careers.ibm.com/job/15660207/project-management-office-bogota-co/\n",
      "Skipping vacancy https://careers.ibm.com/job/15660208/consultor-niif-bogota-co/\n",
      "Skipping vacancy https://careers.ibm.com/job/15053410/-ibm-instana-tokyo-jp/\n",
      "Skipping vacancy https://careers.ibm.com/job/15568924/-ibm-security-mdr-threat-responder-tokyo-jp/\n",
      "Skipping vacancy https://careers.ibm.com/job/15119522/arquitecta-bogota-co/\n",
      "Skipping vacancy https://careers.ibm.com/job/15447970/especialista-as400-bogota-co/\n",
      "Skipping vacancy https://careers.ibm.com/job/13339382/-ise-application-architect-chiba-jp/\n",
      "Skipping vacancy https://careers.ibm.com/job/14983966/-ibm-japan-solution-architect-tokyo-jp/\n",
      "Skipping vacancy https://careers.ibm.com/job/15067982/-ibm-technology-tokyo-jp/\n",
      "Skipping vacancy https://careers.ibm.com/job/15067983/-ibm-technology-tokyo-jp/\n",
      "Skipping vacancy https://careers.ibm.com/job/15303541/-ise-chiba-jp/\n"
     ]
    },
    {
     "name": "stderr",
     "output_type": "stream",
     "text": [
      "  9%|▉         | 850/9137 [00:00<00:04, 1974.38it/s]"
     ]
    },
    {
     "name": "stdout",
     "output_type": "stream",
     "text": [
      "Skipping vacancy https://careers.ibm.com/job/15826502/desarrollador-net-buenos-aires-ar/\n",
      "Skipping vacancy https://careers.ibm.com/job/15900419/desarrollador-java-fullstack-lima-pe/\n",
      "Skipping vacancy https://careers.ibm.com/job/15900420/desarrollador-java-fullstack-lima-pe/\n",
      "Skipping vacancy https://careers.ibm.com/job/15900421/desarrollador-java-fullstack-lima-pe/\n",
      "Skipping vacancy https://careers.ibm.com/job/15901438/desarrollador-java-fullstack-lima-pe/\n",
      "Skipping vacancy https://careers.ibm.com/job/15901439/desarrollador-android-lima-pe/\n",
      "Skipping vacancy https://careers.ibm.com/job/13339387/-ise-storage-engineer-chiba-jp/\n",
      "Skipping vacancy https://careers.ibm.com/job/15915718/-ise-chiba-jp/\n",
      "Skipping vacancy https://careers.ibm.com/job/15915722/-ise-chiba-jp/\n",
      "Skipping vacancy https://careers.ibm.com/job/15915723/-ise-chiba-jp/\n",
      "Skipping vacancy https://careers.ibm.com/job/16086167/consultora-or-sap-sd-remote/\n",
      "Skipping vacancy https://careers.ibm.com/job/16116390/desarrollador-full-stack-netcore-angular-buenos-aires-ar/\n",
      "Skipping vacancy https://careers.ibm.com/job/15788071/desarrollador-mobile-web-remote/\n",
      "Skipping vacancy https://careers.ibm.com/job/16140838/administrador-web-application-server-remote/\n",
      "Skipping vacancy https://careers.ibm.com/job/14571205/-ibm-cloud-value-transformation-consultant-tokyo-jp/\n",
      "Skipping vacancy https://careers.ibm.com/job/14581299/-ibm-it-strategy-consultant-tokyo-jp/\n",
      "Skipping vacancy https://careers.ibm.com/job/16147159/-ise-chiba-jp/\n",
      "Skipping vacancy https://careers.ibm.com/job/16169406/consultor-a-sr-sap-fi-remote/\n",
      "Skipping vacancy https://careers.ibm.com/job/16155767/-talent-acquisition-sourcer-tokyo-jp/\n",
      "Skipping vacancy https://careers.ibm.com/job/14648741/team-lead-java-h-f-remote-ibm-cic-remote/\n",
      "Skipping vacancy https://careers.ibm.com/job/16074579/tech-re-entry-mulheres-em-tech-remote/\n",
      "Skipping vacancy https://careers.ibm.com/job/16175733/consultor-solman-remote/\n",
      "Skipping vacancy https://careers.ibm.com/job/16176082/-ijds-it-connected-hiroshima-jp/\n",
      "Skipping vacancy https://careers.ibm.com/job/15292244/-ibm-ibm-consulting-chiba-jp/\n",
      "Skipping vacancy https://careers.ibm.com/job/15922112/desarrollador-de-aplicaciones-java-web-technologies-remote/\n",
      "Skipping vacancy https://careers.ibm.com/job/16194034/-ibm-subscription-annuity-sales-tokyo-jp/\n",
      "Skipping vacancy https://careers.ibm.com/job/14214108/-ad-research-tokyo-student-intern-intern-trl-ibm-japan-kawasaki-jp/\n",
      "Skipping vacancy https://careers.ibm.com/job/16190829/consultor-sap-hana-fi-real-state-remote/\n",
      "Skipping vacancy https://careers.ibm.com/job/16190835/representante-de-servicio-al-cliente-buenos-aires-ar/\n",
      "Skipping vacancy https://careers.ibm.com/job/16193175/-ibm-tokyo-jp/\n",
      "Skipping vacancy https://careers.ibm.com/job/16193176/-ibm-tokyo-jp/\n",
      "Skipping vacancy https://careers.ibm.com/job/16193178/-ibm-client-engineering-tokyo-jp/\n",
      "Skipping vacancy https://careers.ibm.com/job/16193179/-ibm-client-engineering-tokyo-jp/\n",
      "Skipping vacancy https://careers.ibm.com/job/16198224/desarrollador-java-soa-api-bogota-co/\n",
      "Skipping vacancy https://careers.ibm.com/job/16035415/-ibm-cloud-expert-labs-ui-ux-tokyo-jp/\n"
     ]
    },
    {
     "name": "stderr",
     "output_type": "stream",
     "text": [
      " 14%|█▍        | 1260/9137 [00:00<00:03, 1996.48it/s]"
     ]
    },
    {
     "name": "stdout",
     "output_type": "stream",
     "text": [
      "Skipping vacancy https://careers.ibm.com/job/16240589/desarrollador-devops-bogota-co/\n",
      "Skipping vacancy https://careers.ibm.com/job/16238821/test-specialist-performance-capacity-management-remote/\n",
      "Skipping vacancy https://careers.ibm.com/job/16238822/test-specialist-performance-capacity-management-remote/\n",
      "Skipping vacancy https://careers.ibm.com/job/16245964/consultor-sd-tr-sr-remote/\n",
      "Skipping vacancy https://careers.ibm.com/job/16245967/full-stack-developer-remote/\n",
      "Skipping vacancy https://careers.ibm.com/job/15977363/architecte-cloud-h-f-remote-ibm-cic-remote/\n",
      "Skipping vacancy https://careers.ibm.com/job/15636351/desenvolverdor-a-de-aplica-es-mobile-remote/\n",
      "Skipping vacancy https://careers.ibm.com/job/15636353/desenvolvedor-a-de-aplica-es-front-end-remote/\n",
      "Skipping vacancy https://careers.ibm.com/job/15636355/desenvolvedor-a-de-aplica-es-microsservi-os-remote/\n",
      "Skipping vacancy https://careers.ibm.com/job/15636359/desenvolvedor-a-de-aplica-es-microsoft-net-hortol-ndia-br/\n",
      "Skipping vacancy https://careers.ibm.com/job/15636360/desenvolvedor-a-de-aplica-es-java-hortol-ndia-br/\n",
      "Skipping vacancy https://careers.ibm.com/job/15647851/consultor-a-sap-remote/\n",
      "Skipping vacancy https://careers.ibm.com/job/15655068/application-consultant-servicenow-hortol-ndia-br/\n",
      "Skipping vacancy https://careers.ibm.com/job/15657878/application-architect-cloud-applications-remote/\n",
      "Skipping vacancy https://careers.ibm.com/job/15688604/application-developer-data-application-security-hortol-ndia-br/\n",
      "Skipping vacancy https://careers.ibm.com/job/15741822/desenvolvedor-de-aplica-es-aws-cloud-remote/\n"
     ]
    },
    {
     "name": "stderr",
     "output_type": "stream",
     "text": [
      " 18%|█▊        | 1658/9137 [00:00<00:03, 1962.45it/s]"
     ]
    },
    {
     "name": "stdout",
     "output_type": "stream",
     "text": [
      "Skipping vacancy https://careers.ibm.com/job/15390295/desarrollador-devops-remote/\n",
      "Skipping vacancy https://careers.ibm.com/job/15907934/desarrollador-web-mobile-remote/\n",
      "Skipping vacancy https://careers.ibm.com/job/15922113/desarrollador-de-aplicaciones-java-web-technologies-remote/\n",
      "Skipping vacancy https://careers.ibm.com/job/15695897/gerente-de-projetos-hortol-ndia-br/\n",
      "Skipping vacancy https://careers.ibm.com/job/16023493/tester-funcional-remote/\n",
      "Skipping vacancy https://careers.ibm.com/job/16023495/tester-funcional-remote/\n",
      "Skipping vacancy https://careers.ibm.com/job/16032910/-ibm-ibm-power-chiba-jp/\n",
      "Skipping vacancy https://careers.ibm.com/job/16039234/-ibm-client-engineering-tokyo-jp/\n",
      "Skipping vacancy https://careers.ibm.com/job/16039929/-ibm-labservices-tokyo-jp/\n"
     ]
    },
    {
     "name": "stderr",
     "output_type": "stream",
     "text": [
      " 25%|██▍       | 2266/9137 [00:01<00:03, 1968.77it/s]"
     ]
    },
    {
     "name": "stdout",
     "output_type": "stream",
     "text": [
      "Skipping vacancy https://careers.ibm.com/job/15922114/desarrollador-de-aplicaciones-java-web-technologies-remote/\n",
      "Skipping vacancy https://careers.ibm.com/job/16291825/pesquisador-cientista-senior-rio-de-janeiro-br/\n",
      "Skipping vacancy https://careers.ibm.com/job/15483833/l-der-t-cnico-bogota-co/\n",
      "Skipping vacancy https://careers.ibm.com/job/15227304/-ibm-tokyo-jp/\n",
      "Skipping vacancy https://careers.ibm.com/job/15741825/application-consultant-bogota-co/\n",
      "Skipping vacancy https://careers.ibm.com/job/16070109/-ijds-ux-tokyo-jp/\n",
      "Skipping vacancy https://careers.ibm.com/job/15900418/agile-coach-devsecops-sr-remote/\n",
      "Skipping vacancy https://careers.ibm.com/job/16098351/consultora-or-sap-scm-sd-remote/\n",
      "Skipping vacancy https://careers.ibm.com/job/14571204/-ibm-it-strategy-consultant-tokyo-jp/\n",
      "Skipping vacancy https://careers.ibm.com/job/16084549/tester-funcional-remote/\n",
      "Skipping vacancy https://careers.ibm.com/job/16254415/research-est-gio-em-pesquisa-mestrado-doutorado-hortol-ndia-br/\n",
      "Skipping vacancy https://careers.ibm.com/job/16158645/l-der-t-cnico-remote/\n",
      "Skipping vacancy https://careers.ibm.com/job/13641669/-ibm-security-soc-shift-tokyo-jp/\n",
      "Skipping vacancy https://careers.ibm.com/job/13677107/-ibm-tokyo-jp/\n",
      "Skipping vacancy https://careers.ibm.com/job/14598354/-ibm-ibm-partner-success-engineer-tokyo-jp/\n",
      "Skipping vacancy https://careers.ibm.com/job/14598355/-ibm-ibm-partner-success-engineer-tokyo-jp/\n",
      "Skipping vacancy https://careers.ibm.com/job/15977366/agile-coach-devsecops-sr-remote/\n",
      "Skipping vacancy https://careers.ibm.com/job/16173577/public-sector-consultant-tokyo-jp/\n",
      "Skipping vacancy https://careers.ibm.com/job/16176081/-ijds-it-connected-hiroshima-jp/\n",
      "Skipping vacancy https://careers.ibm.com/job/16175732/consultor-solman-remote/\n",
      "Skipping vacancy https://careers.ibm.com/job/16175736/consultor-sap-hana-bw-consultor-de-analytics-remote/\n",
      "Skipping vacancy https://careers.ibm.com/job/16184912/-ise-chiba-jp/\n",
      "Skipping vacancy https://careers.ibm.com/job/15905741/desarrollador-web-mobile-remote/\n",
      "Skipping vacancy https://careers.ibm.com/job/15790818/sap-associate-partner-tokyo-jp/\n",
      "Skipping vacancy https://careers.ibm.com/job/16190836/representante-de-servicio-al-cliente-buenos-aires-ar/\n",
      "Skipping vacancy https://careers.ibm.com/job/16193174/-ibm-tokyo-jp/\n",
      "Skipping vacancy https://careers.ibm.com/job/16193177/-ibm-client-engineering-tokyo-jp/\n",
      "Skipping vacancy https://careers.ibm.com/job/16198223/sap-master-data-consultant-remote/\n",
      "Skipping vacancy https://careers.ibm.com/job/16198225/desarrollador-java-soa-api-ii-bogota-co/\n",
      "Skipping vacancy https://careers.ibm.com/job/16206781/d-veloppeur-react-native-h-f-remote-ibm-cic-remote/\n",
      "Skipping vacancy https://careers.ibm.com/job/16206782/lead-developer-angular-h-f-remote-ibm-cic-remote/\n"
     ]
    },
    {
     "name": "stderr",
     "output_type": "stream",
     "text": [
      " 29%|██▉       | 2688/9137 [00:01<00:03, 2035.27it/s]"
     ]
    },
    {
     "name": "stdout",
     "output_type": "stream",
     "text": [
      "Skipping vacancy https://careers.ibm.com/job/16215893/-ibm-deal-maker-tokyo-jp/\n",
      "Skipping vacancy https://careers.ibm.com/job/15375840/-ibm-tokyo-jp/\n",
      "Skipping vacancy https://careers.ibm.com/job/15398737/-ibm-security-device-management-escalation-engineer-tokyo-jp/\n",
      "Skipping vacancy https://careers.ibm.com/job/15421918/-automation-expert-lab-tokyo-jp/\n",
      "Skipping vacancy https://careers.ibm.com/job/15439495/-gbs21-it-it-tokyo-jp/\n",
      "Skipping vacancy https://careers.ibm.com/job/15464071/-ijds-it-tokyo-jp/\n",
      "Skipping vacancy https://careers.ibm.com/job/15464072/-ijds-it-tokyo-jp/\n",
      "Skipping vacancy https://careers.ibm.com/job/15464074/-ijds-it-osaka-jp/\n",
      "Skipping vacancy https://careers.ibm.com/job/15464075/-ijds-it-osaka-jp/\n",
      "Skipping vacancy https://careers.ibm.com/job/15464078/-ijds-it-tokyo-jp/\n",
      "Skipping vacancy https://careers.ibm.com/job/15464082/-ijds-it-sapporo-jp/\n",
      "Skipping vacancy https://careers.ibm.com/job/15464083/-ijds-it-sapporo-jp/\n",
      "Skipping vacancy https://careers.ibm.com/job/15464086/-ijds-it-sendai-jp/\n",
      "Skipping vacancy https://careers.ibm.com/job/15464087/-ijds-it-sendai-jp/\n",
      "Skipping vacancy https://careers.ibm.com/job/15464089/-ijds-it-naha-jp/\n",
      "Skipping vacancy https://careers.ibm.com/job/15464090/-ijds-it-naha-jp/\n",
      "Skipping vacancy https://careers.ibm.com/job/15464099/-ijds-tokyo-jp/\n",
      "Skipping vacancy https://careers.ibm.com/job/15465548/-ibm-ui-ux-designer-design-consultant-tokyo-jp/\n",
      "Skipping vacancy https://careers.ibm.com/job/15489519/-ibm-pm-it-it-tokyo-jp/\n",
      "Skipping vacancy https://careers.ibm.com/job/15547295/sap-associate-partner-tokyo-jp/\n",
      "Skipping vacancy https://careers.ibm.com/job/15547301/-scm-tokyo-jp/\n",
      "Skipping vacancy https://careers.ibm.com/job/15558789/-ibm-dx-tokyo-jp/\n",
      "Skipping vacancy https://careers.ibm.com/job/15600073/-ibm-microsoft-dynamics-crm-consultant-microsoft-solution-pm-tokyo-jp/\n",
      "Skipping vacancy https://careers.ibm.com/job/15652114/sap-associate-partner-tokyo-jp/\n",
      "Skipping vacancy https://careers.ibm.com/job/15757131/-iot-maas-tokyo-jp/\n",
      "Skipping vacancy https://careers.ibm.com/job/16031258/-ibm-it-tokyo-jp/\n",
      "Skipping vacancy https://careers.ibm.com/job/16031261/-ibm-pm-it-it-tokyo-jp/\n",
      "Skipping vacancy https://careers.ibm.com/job/16126907/-ibm-it-tokyo-jp/\n",
      "Skipping vacancy https://careers.ibm.com/job/16126908/-ibm-it-tokyo-jp/\n",
      "Skipping vacancy https://careers.ibm.com/job/16126910/-ibm-it-tokyo-jp/\n",
      "Skipping vacancy https://careers.ibm.com/job/16173487/-tokyo-jp/\n",
      "Skipping vacancy https://careers.ibm.com/job/16200985/principal-talent-acquisition-partner-tokyo-jp/\n",
      "Skipping vacancy https://careers.ibm.com/job/16215892/-ibm-adobe-solution-consultant-tokyo-jp/\n",
      "Skipping vacancy https://careers.ibm.com/job/16215895/dx-smart-factory-transformation-consultat-tokyo-jp/\n",
      "Skipping vacancy https://careers.ibm.com/job/16231458/talent-acquisition-partner-tokyo-jp/\n",
      "Skipping vacancy https://careers.ibm.com/job/15741824/analista-de-negocios-e2e-remote/\n",
      "Skipping vacancy https://careers.ibm.com/job/16225519/-ibm-cio-mainframe-application-developer-chiba-jp/\n",
      "Skipping vacancy https://careers.ibm.com/job/16227356/consultor-sap-hana-pp-qm-remote/\n",
      "Skipping vacancy https://careers.ibm.com/job/16227357/consultor-senior-sap-hana-pp-qm-remote/\n",
      "Skipping vacancy https://careers.ibm.com/job/16324341/consultora-or-sap-hana-fi-remote/\n",
      "Skipping vacancy https://careers.ibm.com/job/13751545/arquitecto-de-aplicaciones-mobile-buenos-aires-ar/\n",
      "Skipping vacancy https://careers.ibm.com/job/16039231/-ibm-compute-storage-virtualization-tokyo-jp/\n",
      "Skipping vacancy https://careers.ibm.com/job/15282438/desarrollador-java-remote/\n",
      "Skipping vacancy https://careers.ibm.com/job/16190833/consultor-sap-pp-qm-remote/\n",
      "Skipping vacancy https://careers.ibm.com/job/16287856/-ibm-salesforce-solution-consultant-tokyo-jp/\n",
      "Skipping vacancy https://careers.ibm.com/job/16245968/full-stack-developer-remote/\n",
      "Skipping vacancy https://careers.ibm.com/job/15282434/desarrollador-devops-buenos-aires-ar/\n"
     ]
    },
    {
     "name": "stderr",
     "output_type": "stream",
     "text": [
      " 39%|███▊      | 3525/9137 [00:01<00:02, 2043.28it/s]"
     ]
    },
    {
     "name": "stdout",
     "output_type": "stream",
     "text": [
      "Skipping vacancy https://careers.ibm.com/job/16264976/ios-developer-per-lima-pe/\n",
      "Skipping vacancy https://careers.ibm.com/job/16264978/desarrollador-de-aplicaciones-java-web-technologies-remote/\n",
      "Skipping vacancy https://careers.ibm.com/job/16173485/business-transformation-consultant-tokyo-jp/\n",
      "Skipping vacancy https://careers.ibm.com/job/16084530/-ibm-japan-technical-support-professional-chiba-jp/\n",
      "Skipping vacancy https://careers.ibm.com/job/15636352/desenvolvedor-a-de-aplicac-es-fullstack-remote/\n",
      "Skipping vacancy https://careers.ibm.com/job/15636354/desenvolvedor-a-de-aplica-es-devops-remote/\n",
      "Skipping vacancy https://careers.ibm.com/job/15636361/desenvolvedor-a-de-aplica-es-back-end-hortol-ndia-br/\n",
      "Skipping vacancy https://careers.ibm.com/job/15655069/ux-designer-remote/\n",
      "Skipping vacancy https://careers.ibm.com/job/15688605/application-developer-mainframe-modernization-hortol-ndia-br/\n",
      "Skipping vacancy https://careers.ibm.com/job/15688606/infrastructure-specialist-system-administration-remote/\n",
      "Skipping vacancy https://careers.ibm.com/job/15695899/salesforce-desenvolvedor-a-e-consultor-a-home-office-salvador-remote/\n",
      "Skipping vacancy https://careers.ibm.com/job/15796926/application-database-administrator-dbms-remote/\n",
      "Skipping vacancy https://careers.ibm.com/job/14366322/-ibm-pm-it-it-tokyo-jp/\n",
      "Skipping vacancy https://careers.ibm.com/job/16359480/-ibm-it-tokyo-jp/\n",
      "Skipping vacancy https://careers.ibm.com/job/16361886/desarrollador-backend-bogota-co/\n"
     ]
    },
    {
     "name": "stderr",
     "output_type": "stream",
     "text": [
      " 45%|████▌     | 4136/9137 [00:02<00:02, 2007.85it/s]"
     ]
    },
    {
     "name": "stdout",
     "output_type": "stream",
     "text": [
      "Skipping vacancy https://careers.ibm.com/job/14922665/-ibm-pm-it-it-tokyo-jp/\n",
      "Skipping vacancy https://careers.ibm.com/job/16381145/-tokyo-jp/\n",
      "Skipping vacancy https://careers.ibm.com/job/15600076/-tokyo-jp/\n",
      "Skipping vacancy https://careers.ibm.com/job/16039235/-ibm-client-engineering-tokyo-jp/\n",
      "Skipping vacancy https://careers.ibm.com/job/14789176/-ibm-pm-it-it-tokyo-jp/\n",
      "Skipping vacancy https://careers.ibm.com/job/15847586/-ibm-tokyo-jp/\n",
      "Skipping vacancy https://careers.ibm.com/job/16303333/ios-developer-per-lima-pe/\n",
      "Skipping vacancy https://careers.ibm.com/job/16218144/process-delivery-specialist-bogota-co/\n",
      "Skipping vacancy https://careers.ibm.com/job/16299859/desarrollador-java-remote/\n",
      "Skipping vacancy https://careers.ibm.com/job/15971331/desarrollador-pl-sql-remote/\n",
      "Skipping vacancy https://careers.ibm.com/job/16227343/consultor-sd-sr-remote/\n",
      "Skipping vacancy https://careers.ibm.com/job/16349545/-ibm-tokyo-jp/\n",
      "Skipping vacancy https://careers.ibm.com/job/16227353/consultor-precios-sr-remote/\n",
      "Skipping vacancy https://careers.ibm.com/job/16227354/consultor-formularios-sr-remote/\n",
      "Skipping vacancy https://careers.ibm.com/job/16227363/consultor-sd-jr-remote/\n",
      "Skipping vacancy https://careers.ibm.com/job/14789156/-ibm-it-tokyo-jp/\n",
      "Skipping vacancy https://careers.ibm.com/job/14789161/-ibm-pm-it-it-tokyo-jp/\n",
      "Skipping vacancy https://careers.ibm.com/job/14789165/-ibm-pm-it-it-tokyo-jp/\n",
      "Skipping vacancy https://careers.ibm.com/job/14922664/-ibm-pm-it-it-tokyo-jp/\n"
     ]
    },
    {
     "name": "stderr",
     "output_type": "stream",
     "text": [
      " 50%|████▉     | 4557/9137 [00:02<00:02, 2050.09it/s]"
     ]
    },
    {
     "name": "stdout",
     "output_type": "stream",
     "text": [
      "Skipping vacancy https://careers.ibm.com/job/15364383/-ibm-pm-it-it-tokyo-jp/\n",
      "Skipping vacancy https://careers.ibm.com/job/15364384/-ibm-pm-it-it-tokyo-jp/\n",
      "Skipping vacancy https://careers.ibm.com/job/15397760/-ibm-pm-it-it-tokyo-jp/\n",
      "Skipping vacancy https://careers.ibm.com/job/15441026/-ibm-japan-cloud-solution-architect-developer-tokyo-jp/\n",
      "Skipping vacancy https://careers.ibm.com/job/15464068/-ijds-salesforce-tokyo-jp/\n",
      "Skipping vacancy https://careers.ibm.com/job/15464069/-ijds-tokyo-jp/\n",
      "Skipping vacancy https://careers.ibm.com/job/15464070/-ijds-tokyo-jp/\n",
      "Skipping vacancy https://careers.ibm.com/job/15464073/-ijds-it-tokyo-jp/\n",
      "Skipping vacancy https://careers.ibm.com/job/15464076/-ijds-it-tokyo-jp/\n",
      "Skipping vacancy https://careers.ibm.com/job/15464079/-ijds-it-sapporo-jp/\n",
      "Skipping vacancy https://careers.ibm.com/job/15464080/-ijds-it-sapporo-jp/\n",
      "Skipping vacancy https://careers.ibm.com/job/15464081/-ijds-it-sapporo-jp/\n",
      "Skipping vacancy https://careers.ibm.com/job/15464084/-ijds-it-sapporo-jp/\n",
      "Skipping vacancy https://careers.ibm.com/job/15464085/-ijds-it-sapporo-jp/\n",
      "Skipping vacancy https://careers.ibm.com/job/15464092/-ijds-it-kitakyushu-jp/\n",
      "Skipping vacancy https://careers.ibm.com/job/15465542/-ijds-sap-oracle-tokyo-jp/\n",
      "Skipping vacancy https://careers.ibm.com/job/15465543/-ijds-sap-oracle-tokyo-jp/\n",
      "Skipping vacancy https://careers.ibm.com/job/15465544/-ijds-sap-oracle-tokyo-jp/\n",
      "Skipping vacancy https://careers.ibm.com/job/15465545/-ibm-tokyo-jp/\n",
      "Skipping vacancy https://careers.ibm.com/job/15485672/-ibm-salesforce-solution-consultant-tokyo-jp/\n",
      "Skipping vacancy https://careers.ibm.com/job/15489521/-ibm-pm-it-it-tokyo-jp/\n",
      "Skipping vacancy https://careers.ibm.com/job/15489522/-ibm-pm-it-it-tokyo-jp/\n",
      "Skipping vacancy https://careers.ibm.com/job/15489525/-ibm-it-tokyo-jp/\n",
      "Skipping vacancy https://careers.ibm.com/job/15538302/-ibm-mobile-developer-ios-android-tokyo-jp/\n",
      "Skipping vacancy https://careers.ibm.com/job/15547298/-ibm-salesforce-solution-consultant-tokyo-jp/\n",
      "Skipping vacancy https://careers.ibm.com/job/15547300/-tokyo-jp/\n",
      "Skipping vacancy https://careers.ibm.com/job/15550311/-iot-maas-tokyo-jp/\n",
      "Skipping vacancy https://careers.ibm.com/job/15558790/-cx-digital-commerce-cx-pm-tokyo-jp/\n",
      "Skipping vacancy https://careers.ibm.com/job/15600075/-ibm-tokyo-jp/\n",
      "Skipping vacancy https://careers.ibm.com/job/15782961/sap-associate-partner-tokyo-jp/\n",
      "Skipping vacancy https://careers.ibm.com/job/15915730/-ibm-pm-it-it-tokyo-jp/\n",
      "Skipping vacancy https://careers.ibm.com/job/15986740/bpo-project-leader-pe-tokyo-jp/\n",
      "Skipping vacancy https://careers.ibm.com/job/16031262/-ibm-pm-it-it-tokyo-jp/\n",
      "Skipping vacancy https://careers.ibm.com/job/16031263/-ibm-it-tokyo-jp/\n",
      "Skipping vacancy https://careers.ibm.com/job/16031264/-ibm-it-tokyo-jp/\n",
      "Skipping vacancy https://careers.ibm.com/job/16031265/-ibm-it-tokyo-jp/\n",
      "Skipping vacancy https://careers.ibm.com/job/16049196/-ibm-oracle-gtm-tokyo-jp/\n",
      "Skipping vacancy https://careers.ibm.com/job/16049922/-ibm-it-tokyo-jp/\n",
      "Skipping vacancy https://careers.ibm.com/job/16049923/-ibm-it-tokyo-jp/\n",
      "Skipping vacancy https://careers.ibm.com/job/16126912/-ibm-it-tokyo-jp/\n",
      "Skipping vacancy https://careers.ibm.com/job/16126913/-ibm-it-tokyo-jp/\n",
      "Skipping vacancy https://careers.ibm.com/job/16143817/-ibm-it-tokyo-jp/\n",
      "Skipping vacancy https://careers.ibm.com/job/16173486/-tokyo-jp/\n",
      "Skipping vacancy https://careers.ibm.com/job/16184913/-ibm-salesforce-solution-consultant-tokyo-jp/\n",
      "Skipping vacancy https://careers.ibm.com/job/16215894/-ibm-software-licensing-tokyo-jp/\n",
      "Skipping vacancy https://careers.ibm.com/job/16230974/-ibm-tokyo-jp/\n",
      "Skipping vacancy https://careers.ibm.com/job/16227352/consultor-sd-sr-remote/\n",
      "Skipping vacancy https://careers.ibm.com/job/16375470/consultor-sap-fin-fi-colombia-bogota-co/\n",
      "Skipping vacancy https://careers.ibm.com/job/16391774/consultor-sap-fin-fi-colombia-bogota-co/\n",
      "Skipping vacancy https://careers.ibm.com/job/16315391/scrum-master-lima-pe/\n",
      "Skipping vacancy https://careers.ibm.com/job/16315392/scrum-master-lima-pe/\n",
      "Skipping vacancy https://careers.ibm.com/job/16402844/desarrollador-salesforce-remote/\n",
      "Skipping vacancy https://careers.ibm.com/job/16412104/architecte-solution-cloud-h-f-ibm-cic-remote/\n",
      "Skipping vacancy https://careers.ibm.com/job/16412106/consultor-sap-scm-pm-colombia-bogota-co/\n",
      "Skipping vacancy https://careers.ibm.com/job/14778010/-hybrid-cloud-l-research-tokyo-student-intern-intern-trl-ibm-japan-tokyo-jp/\n",
      "Skipping vacancy https://careers.ibm.com/job/16169408/consultor-sap-co-remote/\n",
      "Skipping vacancy https://careers.ibm.com/job/15337355/-ibm-dx-tokyo-jp/\n",
      "Skipping vacancy https://careers.ibm.com/job/15365512/network-sme-tech-lead-cio-network-engineering-deploy-japan-chiba-jp/\n",
      "Skipping vacancy https://careers.ibm.com/job/15940705/-ibm-zos-mvs-specialist-chiba-jp/\n",
      "Skipping vacancy https://careers.ibm.com/job/16256154/research-software-engineer-hortol-ndia-br/\n",
      "Skipping vacancy https://careers.ibm.com/job/16419216/-ibm-digital-center-red-hat-digital-technical-sales-chiba-jp/\n",
      "Skipping vacancy https://careers.ibm.com/job/16140837/consultor-sap-mm-sr-remote/\n"
     ]
    },
    {
     "name": "stderr",
     "output_type": "stream",
     "text": [
      " 57%|█████▋    | 5167/9137 [00:02<00:01, 2006.48it/s]"
     ]
    },
    {
     "name": "stdout",
     "output_type": "stream",
     "text": [
      "Skipping vacancy https://careers.ibm.com/job/16303332/-ijds-it-sapporo-jp/\n",
      "Skipping vacancy https://careers.ibm.com/job/16309616/-ijds-it-tokyo-jp/\n",
      "Skipping vacancy https://careers.ibm.com/job/16126911/-ibm-it-tokyo-jp/\n",
      "Skipping vacancy https://careers.ibm.com/job/16271925/promontory-emea-senior-principal-ict-risk-cloud-ibm-france-h-f-remote/\n",
      "Skipping vacancy https://careers.ibm.com/job/16335992/desarrollador-salesforce-remote/\n",
      "Skipping vacancy https://careers.ibm.com/job/16344237/desarrollador-java-senior-remote/\n",
      "Skipping vacancy https://careers.ibm.com/job/16275229/qa-tester-buenos-aires-ar/\n",
      "Skipping vacancy https://careers.ibm.com/job/16435951/analista-de-negocios-financieros-sr-remote/\n",
      "Skipping vacancy https://careers.ibm.com/job/16435953/desarrollador-java-buenos-aires-ar/\n",
      "Skipping vacancy https://careers.ibm.com/job/15577914/-iot-maas-tokyo-jp/\n",
      "Skipping vacancy https://careers.ibm.com/job/16439365/sap-associate-partner-tokyo-jp/\n",
      "Skipping vacancy https://careers.ibm.com/job/16439366/sap-associate-partner-tokyo-jp/\n",
      "Skipping vacancy https://careers.ibm.com/job/15445236/auxiliar-contable-jr-bogota-co/\n",
      "Skipping vacancy https://careers.ibm.com/job/13337138/-ibm-labservices-tokyo-jp/\n",
      "Skipping vacancy https://careers.ibm.com/job/15500549/-ibm-pm-it-it-tokyo-jp/\n",
      "Skipping vacancy https://careers.ibm.com/job/16444631/desarrollador-java-fullstack-lima-pe/\n",
      "Skipping vacancy https://careers.ibm.com/job/16444632/arquitecto-de-soluciones-remote/\n",
      "Skipping vacancy https://careers.ibm.com/job/16356033/desarrollador-java-senior-remote/\n",
      "Skipping vacancy https://careers.ibm.com/job/16356034/desarrollador-java-senior-remote/\n",
      "Skipping vacancy https://careers.ibm.com/job/14185130/blue-journey-programa-de-estudiantes-en-pr-ctica-uruguay-montevideo-uy/\n",
      "Skipping vacancy https://careers.ibm.com/job/14631846/blue-journey-programa-de-estudiantes-en-pr-ctica-per-2022-lima-pe/\n",
      "Skipping vacancy https://careers.ibm.com/job/16162260/desarrollador-net-buenos-aires-ar/\n"
     ]
    },
    {
     "name": "stderr",
     "output_type": "stream",
     "text": [
      " 61%|██████    | 5567/9137 [00:02<00:01, 1973.03it/s]"
     ]
    },
    {
     "name": "stdout",
     "output_type": "stream",
     "text": [
      "Skipping vacancy https://careers.ibm.com/job/15293256/-ise-chiba-jp/\n",
      "Skipping vacancy https://careers.ibm.com/job/15538301/-ise-chiba-jp/\n",
      "Skipping vacancy https://careers.ibm.com/job/16275230/qa-tester-buenos-aires-ar/\n",
      "Skipping vacancy https://careers.ibm.com/job/16206808/brand-sales-specialist-remote/\n",
      "Skipping vacancy https://careers.ibm.com/job/16218127/instana-channel-sales-specialist-latam-remote/\n",
      "Skipping vacancy https://careers.ibm.com/job/14789159/-ibm-it-tokyo-jp/\n",
      "Skipping vacancy https://careers.ibm.com/job/16371916/executive-researcher-tokyo-jp/\n",
      "Skipping vacancy https://careers.ibm.com/job/16324343/project-manager-sap-buenos-aires-ar/\n",
      "Skipping vacancy https://careers.ibm.com/job/15017892/public-sector-consultant-tokyo-jp/\n",
      "Skipping vacancy https://careers.ibm.com/job/15973702/-ibm-tokyo-jp/\n",
      "Skipping vacancy https://careers.ibm.com/job/16254416/arquiteto-de-solu-es-t-cnicas-pleno-rio-de-janeiro-br/\n",
      "Skipping vacancy https://careers.ibm.com/job/16140835/arquitecto-de-aplicaciones-buenos-aires-ar/\n",
      "Skipping vacancy https://careers.ibm.com/job/16335993/desarrollador-salesforce-remote/\n",
      "Skipping vacancy https://careers.ibm.com/job/16169407/consultora-or-sap-hana-fi-remote/\n",
      "Skipping vacancy https://careers.ibm.com/job/16264975/consultor-sap-hana-mm-sr-remote/\n",
      "Skipping vacancy https://careers.ibm.com/job/14789153/-ibm-it-tokyo-jp/\n",
      "Skipping vacancy https://careers.ibm.com/job/14789157/-ibm-it-tokyo-jp/\n",
      "Skipping vacancy https://careers.ibm.com/job/14789158/-ibm-it-tokyo-jp/\n",
      "Skipping vacancy https://careers.ibm.com/job/14789160/-ibm-pm-it-it-tokyo-jp/\n",
      "Skipping vacancy https://careers.ibm.com/job/14789162/-ibm-pm-it-it-tokyo-jp/\n",
      "Skipping vacancy https://careers.ibm.com/job/14789163/-ibm-pm-it-it-tokyo-jp/\n",
      "Skipping vacancy https://careers.ibm.com/job/14789164/-ibm-pm-it-it-tokyo-jp/\n",
      "Skipping vacancy https://careers.ibm.com/job/14789152/-ibm-it-tokyo-jp/\n"
     ]
    },
    {
     "name": "stderr",
     "output_type": "stream",
     "text": [
      " 68%|██████▊   | 6189/9137 [00:03<00:01, 2033.96it/s]"
     ]
    },
    {
     "name": "stdout",
     "output_type": "stream",
     "text": [
      "Skipping vacancy https://careers.ibm.com/job/16375467/consultor-sap-scm-pp-colombia-bogota-co/\n",
      "Skipping vacancy https://careers.ibm.com/job/16375468/consultor-sap-scm-pp-colombia-bogota-co/\n",
      "Skipping vacancy https://careers.ibm.com/job/16375469/consultor-sap-fin-fi-colombia-bogota-co/\n",
      "Skipping vacancy https://careers.ibm.com/job/16391775/data-lead-sap-hana-colombia-bogota-co/\n",
      "Skipping vacancy https://careers.ibm.com/job/16391776/data-lead-sap-hana-colombia-bogota-co/\n",
      "Skipping vacancy https://careers.ibm.com/job/16245969/qa-automation-buenos-aires-ar/\n",
      "Skipping vacancy https://careers.ibm.com/job/16227360/consultor-sap-hana-security-roles-and-profile-remote/\n",
      "Skipping vacancy https://careers.ibm.com/job/16435952/analista-de-cuentas-a-pagar-jr-buenos-aires-ar/\n",
      "Skipping vacancy https://careers.ibm.com/job/15108085/-ibm-deal-maker-tokyo-jp/\n",
      "Skipping vacancy https://careers.ibm.com/job/12388017/programa-est-gio-inclusivo-2022-vaga-exclusiva-para-pcd-hortol-ndia-br/\n",
      "Skipping vacancy https://careers.ibm.com/job/16190828/consultor-sap-hana-fi-ps-remote/\n",
      "Skipping vacancy https://careers.ibm.com/job/15840644/desarrollador-de-aplicaciones-rpa-buenos-aires-ar/\n",
      "Skipping vacancy https://careers.ibm.com/job/14685886/tech-re-entry-program-remote/\n",
      "Skipping vacancy https://careers.ibm.com/job/15464097/-ijds-it-naha-jp/\n",
      "Skipping vacancy https://careers.ibm.com/job/15383313/desenvolvedor-de-aplicativos-back-end-s-o-paulo-br/\n",
      "Skipping vacancy https://careers.ibm.com/job/15503179/desenvolvedor-de-aplicativos-back-end-s-o-paulo-br/\n",
      "Skipping vacancy https://careers.ibm.com/job/15636357/especialista-de-dados-remoto-remote/\n",
      "Skipping vacancy https://careers.ibm.com/job/15657879/desenvolvedor-a-java-remoto-recife-remote/\n",
      "Skipping vacancy https://careers.ibm.com/job/15666427/desenvolvedor-de-aplica-es-pleno-s-o-paulo-br/\n",
      "Skipping vacancy https://careers.ibm.com/job/15695898/consultant-sap-home-office-salvador-remote/\n",
      "Skipping vacancy https://careers.ibm.com/job/15695900/application-developer-java-home-office-joinville-remote/\n",
      "Skipping vacancy https://careers.ibm.com/job/16245962/especialista-t-cnico-de-marca-storage-portfolio-s-o-paulo-br/\n",
      "Skipping vacancy https://careers.ibm.com/job/14295426/blue-journey-programa-de-estudiantes-en-pr-ctica-chile-2022-santiago-cl/\n",
      "Skipping vacancy https://careers.ibm.com/job/15040469/consultor-mantenimiento-de-planta-pm-medell-n-co/\n",
      "Skipping vacancy https://careers.ibm.com/job/15040471/consultor-seguridad-medell-n-co/\n",
      "Skipping vacancy https://careers.ibm.com/job/15094405/desarrollador-a-java-remote/\n",
      "Skipping vacancy https://careers.ibm.com/job/15094406/desarrollador-a-message-broker-integration-bus-remote/\n",
      "Skipping vacancy https://careers.ibm.com/job/15103168/desarrollador-a-de-backend-remote/\n",
      "Skipping vacancy https://careers.ibm.com/job/15257594/desarrollador-java-remote/\n",
      "Skipping vacancy https://careers.ibm.com/job/15260413/consultor-a-sap-remote/\n",
      "Skipping vacancy https://careers.ibm.com/job/15282436/desarrollador-java-remote/\n",
      "Skipping vacancy https://careers.ibm.com/job/15303542/desarrollador-java-remote/\n",
      "Skipping vacancy https://careers.ibm.com/job/15828699/arquitecto-aws-remote/\n",
      "Skipping vacancy https://careers.ibm.com/job/15832350/desarrollador-pl-sql-buenos-aires-ar/\n",
      "Skipping vacancy https://careers.ibm.com/job/15898487/desarrollador-a-net-core-openshift-buenos-aires-ar/\n",
      "Skipping vacancy https://careers.ibm.com/job/15907936/cloud-architecture-builder-remote/\n",
      "Skipping vacancy https://careers.ibm.com/job/15909714/fullstack-cloud-developer-remote/\n",
      "Skipping vacancy https://careers.ibm.com/job/15909715/site-reliability-engineer-sre-remote/\n",
      "Skipping vacancy https://careers.ibm.com/job/15958092/desarrollador-java-remote/\n",
      "Skipping vacancy https://careers.ibm.com/job/16023496/desarrollador-java-fullstack-buenos-aires-ar/\n",
      "Skipping vacancy https://careers.ibm.com/job/16167949/desarrollador-bpm-buenos-aires-ar/\n",
      "Skipping vacancy https://careers.ibm.com/job/16175411/consultora-or-sap-hana-fi-co-remote/\n",
      "Skipping vacancy https://careers.ibm.com/job/16175738/sap-pm-mantenimiento-de-planta-remote/\n",
      "Skipping vacancy https://careers.ibm.com/job/16180523/consultora-or-sap-fiori-buenos-aires-ar/\n",
      "Skipping vacancy https://careers.ibm.com/job/16264977/programa-de-pasant-as-talent-acquisition-student-buenos-aires-ar/\n",
      "Skipping vacancy https://careers.ibm.com/job/16301623/arquitecto-de-soluciones-remote/\n",
      "Skipping vacancy https://careers.ibm.com/job/16328973/qa-team-lead-buenos-aires-ar/\n",
      "Skipping vacancy https://careers.ibm.com/job/16354521/scrum-master-remote/\n",
      "Skipping vacancy https://careers.ibm.com/job/16380287/consultor-sap-mm-scrum-master-santiago-cl/\n",
      "Skipping vacancy https://careers.ibm.com/job/16389602/analista-de-gesti-n-de-activos-buenos-aires-ar/\n",
      "Skipping vacancy https://careers.ibm.com/job/16435954/consultor-sap-fi-buenos-aires-ar/\n"
     ]
    },
    {
     "name": "stderr",
     "output_type": "stream",
     "text": [
      " 79%|███████▉  | 7245/9137 [00:03<00:00, 2079.51it/s]"
     ]
    },
    {
     "name": "stdout",
     "output_type": "stream",
     "text": [
      "Skipping vacancy https://careers.ibm.com/job/16375471/desarrollador-fullstack-bogota-co/\n",
      "Skipping vacancy https://careers.ibm.com/job/16419215/-ibm-digital-center-red-hat-sales-development-representative-chiba-jp/\n",
      "Skipping vacancy https://careers.ibm.com/job/16419217/-ijds-it-kitakyushu-jp/\n",
      "Skipping vacancy https://careers.ibm.com/job/16319804/d-veloppeur-junior-net-h-f-ibm-cic-lille-fr/\n"
     ]
    },
    {
     "name": "stderr",
     "output_type": "stream",
     "text": [
      " 84%|████████▎ | 7650/9137 [00:03<00:00, 1943.32it/s]"
     ]
    },
    {
     "name": "stdout",
     "output_type": "stream",
     "text": [
      "Skipping vacancy https://careers.ibm.com/job/15181750/associ-adjoint-sap-services-publics-ottawa-ca/\n",
      "Skipping vacancy https://careers.ibm.com/job/15579013/d-veloppeur-sp-cialiste-de-la-s-curit-bilingue-montreal-ca/\n",
      "Skipping vacancy https://careers.ibm.com/job/15615373/chef-de-projet-consultant-en-chef-ottawa-ca/\n",
      "Skipping vacancy https://careers.ibm.com/job/15771973/responsable-technique-de-client-montreal-ca/\n",
      "Skipping vacancy https://careers.ibm.com/job/15774416/expert-sap-successfactors-ec-payroll-partout-au-canada-ottawa-ca/\n",
      "Skipping vacancy https://careers.ibm.com/job/15796925/d-veloppeur-mulesoft-ottawa-ca/\n",
      "Skipping vacancy https://careers.ibm.com/job/15818907/concepteur-d-architecture-de-cybers-curit-les-solutions-pr-vente-ottawa-ca/\n",
      "Skipping vacancy https://careers.ibm.com/job/15821737/concepteur-technique-darchitecture-solutions-salesforce-ottawa-ca/\n",
      "Skipping vacancy https://careers.ibm.com/job/15872500/config-oracle-field-service-cloud-ottawa-ca/\n",
      "Skipping vacancy https://careers.ibm.com/job/15900415/expert-des-avantages-des-changements-techniques-dans-successfactors-ottawa-ca/\n",
      "Skipping vacancy https://careers.ibm.com/job/15900416/consultant-senior-sap-hana-scm-ibp-ottawa-ca/\n",
      "Skipping vacancy https://careers.ibm.com/job/15917691/concepteur-darchitecture-dapplication-maximo-ottawa-ca/\n",
      "Skipping vacancy https://careers.ibm.com/job/15933007/conseiller-en-transformation-organisationnelle-maximo-ottawa-ca/\n",
      "Skipping vacancy https://careers.ibm.com/job/15990740/directeur-du-d-veloppement-commercial-sap-successfactors-ottawa-ca/\n",
      "Skipping vacancy https://careers.ibm.com/job/15990741/expert-en-migration-successfactors-ec-hcm-ottawa-ca/\n",
      "Skipping vacancy https://careers.ibm.com/job/16010788/associ-adjoint-sap-secteur-public-ottawa-ca/\n",
      "Skipping vacancy https://careers.ibm.com/job/16010790/d-veloppeur-full-stack-montr-al-montreal-ca/\n",
      "Skipping vacancy https://careers.ibm.com/job/16086104/responsable-fonctionnel-senior-manager-workforce-software-ottawa-ca/\n",
      "Skipping vacancy https://careers.ibm.com/job/16088200/consultant-technique-s-nior-manager-workforce-software-ottawa-ca/\n",
      "Skipping vacancy https://careers.ibm.com/job/16098313/d-veloppeur-angular-s-nior-ibm-ix-services-conseils-ibm-ottawa-ca/\n",
      "Skipping vacancy https://careers.ibm.com/job/16098314/conseiller-principal-en-gestion-de-produits-ibm-ix-ibm-conseil-ottawa-ca/\n",
      "Skipping vacancy https://careers.ibm.com/job/16130706/concepteur-technique-darchitecture-solutions-salesforce-ottawa-ca/\n",
      "Skipping vacancy https://careers.ibm.com/job/16137933/directeur-ex-cutif-du-d-veloppement-commercial-services-de-s-curit-ottawa-ca/\n",
      "Skipping vacancy https://careers.ibm.com/job/16151369/d-veloppeur-senior-full-stack-ottawa-ca/\n",
      "Skipping vacancy https://careers.ibm.com/job/16210922/analyste-des-syst-mes-op-rationnels-ottawa-ca/\n",
      "Skipping vacancy https://careers.ibm.com/job/16322277/conseillers-fonctionnels-en-syst-mes-de-gestion-du-temps-partout-au-ottawa-ca/\n",
      "Skipping vacancy https://careers.ibm.com/job/16400842/sp-cialiste-des-ventes-services-de-s-curit-ibm-ottawa-ca/\n",
      "Skipping vacancy https://careers.ibm.com/job/16421461/concepteur-darchitecture-de-solutions-successfactors-ottawa-ca/\n",
      "Skipping vacancy https://careers.ibm.com/job/14581623/chercheur-chercheuse-en-ia-cdi-ibm-research-lab-de-paris-saclay-orsay-fr/\n",
      "Skipping vacancy https://careers.ibm.com/job/14581625/lead-developer-angular-h-f-ibm-cic-lille-fr/\n",
      "Skipping vacancy https://careers.ibm.com/job/15466654/team-lead-net-h-f-ibm-cic-remote/\n",
      "Skipping vacancy https://careers.ibm.com/job/15872506/alternance-consultant-fonctionnel-erp-h-f-ibm-cic-lille-fr/\n",
      "Skipping vacancy https://careers.ibm.com/job/15916194/leader-technique-java-h-f-ibm-cic-lille-fr/\n",
      "Skipping vacancy https://careers.ibm.com/job/16145317/leader-technique-net-h-f-ibm-cic-lille-fr/\n",
      "Skipping vacancy https://careers.ibm.com/job/16145318/d-veloppeur-exp-riment-en-business-intelligence-h-f-ibm-cic-remote/\n",
      "Skipping vacancy https://careers.ibm.com/job/16165748/consultant-fonctionnel-infor-m3-h-f-ibm-cic-lille-fr/\n",
      "Skipping vacancy https://careers.ibm.com/job/16270873/d-veloppeur-cobol-junior-h-f-ibm-cic-lille-fr/\n",
      "Skipping vacancy https://careers.ibm.com/job/16227351/consultor-sd-sr-remote/\n",
      "Skipping vacancy https://careers.ibm.com/job/14987930/-ibm-tokyo-jp/\n",
      "Skipping vacancy https://careers.ibm.com/job/15464091/-ijds-it-kitakyushu-jp/\n",
      "Skipping vacancy https://careers.ibm.com/job/15558791/-ibm-consulting-garage-team-tokyo-jp/\n",
      "Skipping vacancy https://careers.ibm.com/job/16227362/consultor-datos-maestros-hana-sr-remote/\n",
      "Skipping vacancy https://careers.ibm.com/job/15445234/auxiliar-de-servicio-al-cliente-horario-nocturno-bogota-co/\n",
      "Skipping vacancy https://careers.ibm.com/job/15445237/analista-contable-bogota-co/\n",
      "Skipping vacancy https://careers.ibm.com/job/16444633/scrum-master-lima-pe/\n",
      "Skipping vacancy https://careers.ibm.com/job/14657342/blue-journey-programa-de-pasant-as-2022-argentina-buenos-aires-ar/\n",
      "Skipping vacancy https://careers.ibm.com/job/16019849/-ise-chiba-jp/\n"
     ]
    },
    {
     "name": "stderr",
     "output_type": "stream",
     "text": [
      " 88%|████████▊ | 8070/9137 [00:03<00:00, 2021.16it/s]"
     ]
    },
    {
     "name": "stdout",
     "output_type": "stream",
     "text": [
      "Skipping vacancy https://careers.ibm.com/job/15636356/desenvolvedor-a-ou-consultor-a-salesforce-remoto-remote/\n"
     ]
    },
    {
     "name": "stderr",
     "output_type": "stream",
     "text": [
      " 97%|█████████▋| 8898/9137 [00:04<00:00, 1959.19it/s]"
     ]
    },
    {
     "name": "stdout",
     "output_type": "stream",
     "text": [
      "Skipping vacancy https://careers.ibm.com/job/15405032/desenvolvedor-de-aplicativos-back-end-s-o-paulo-br/\n",
      "Skipping vacancy https://careers.ibm.com/job/16216505/application-developer-java-web-technologies-s-o-paulo-br/\n",
      "Skipping vacancy https://careers.ibm.com/job/16322279/est-gio-em-vendas-s-o-paulo-br/\n",
      "Skipping vacancy https://careers.ibm.com/job/16435949/assistente-financeiro-junior-hortol-ndia-br/\n",
      "Skipping vacancy https://careers.ibm.com/job/16435950/assistente-financeiro-junior-hortol-ndia-br/\n",
      "Skipping vacancy https://careers.ibm.com/job/15094404/java-portal-developer-remote/\n",
      "Skipping vacancy https://careers.ibm.com/job/15094407/tech-lead-remote/\n",
      "Skipping vacancy https://careers.ibm.com/job/15100725/ingeniero-a-devops-remote/\n",
      "Skipping vacancy https://careers.ibm.com/job/15100726/desarrollador-a-frontend-remote/\n",
      "Skipping vacancy https://careers.ibm.com/job/15605717/especialista-senior-en-pruebas-de-control-de-calidad-remote/\n",
      "Skipping vacancy https://careers.ibm.com/job/15828697/data-engineer-google-cloud-platforms-remote/\n",
      "Skipping vacancy https://careers.ibm.com/job/15828698/data-engineer-aws-remote/\n",
      "Skipping vacancy https://careers.ibm.com/job/15909712/arquitecto-cloud-remote/\n",
      "Skipping vacancy https://careers.ibm.com/job/15909713/fullstack-cloud-developer-remote/\n",
      "Skipping vacancy https://careers.ibm.com/job/16084550/desarrollador-java-fullstack-buenos-aires-ar/\n",
      "Skipping vacancy https://careers.ibm.com/job/16147183/l-der-t-cnico-remote/\n",
      "Skipping vacancy https://careers.ibm.com/job/16160929/experto-en-seguridad-remote/\n",
      "Skipping vacancy https://careers.ibm.com/job/16175412/lider-sap-sd-remote/\n",
      "Skipping vacancy https://careers.ibm.com/job/16175739/sap-ariba-buenos-aires-ar/\n",
      "Skipping vacancy https://careers.ibm.com/job/16180521/sap-pi-po-remote/\n",
      "Skipping vacancy https://careers.ibm.com/job/16220285/tech-lead-remote/\n",
      "Skipping vacancy https://careers.ibm.com/job/16227347/consultor-sd-ssr-remote/\n",
      "Skipping vacancy https://careers.ibm.com/job/16227348/consultor-sd-ssr-remote/\n",
      "Skipping vacancy https://careers.ibm.com/job/16227349/consultor-sd-ssr-remote/\n",
      "Skipping vacancy https://careers.ibm.com/job/16227350/consultor-sd-sr-remote/\n",
      "Skipping vacancy https://careers.ibm.com/job/16291837/desarrollador-pl-sql-buenos-aires-ar/\n",
      "Skipping vacancy https://careers.ibm.com/job/16291838/desarrollador-pl-sql-buenos-aires-ar/\n",
      "Skipping vacancy https://careers.ibm.com/job/16301622/desarrollador-java-remote/\n",
      "Skipping vacancy https://careers.ibm.com/job/16328972/desarrollador-pl-sql-buenos-aires-ar/\n",
      "Skipping vacancy https://careers.ibm.com/job/16375472/arquitecto-de-aplicaciones-santiago-cl/\n",
      "Skipping vacancy https://careers.ibm.com/job/16402845/desarrollador-bpm-buenos-aires-ar/\n",
      "Skipping vacancy https://careers.ibm.com/job/16440638/pmo-remote/\n",
      "Skipping vacancy https://careers.ibm.com/job/16319803/stage-d-veloppeur-net-h-f-ibm-cic-lille-fr/\n",
      "Skipping vacancy https://careers.ibm.com/job/15405025/repr-sentant-des-pr-ventes-de-stockage-flashsystem-montreal-ca/\n",
      "Skipping vacancy https://careers.ibm.com/job/15405026/repr-sentant-des-ventes-de-stockage-flashsystem-montreal-ca/\n",
      "Skipping vacancy https://careers.ibm.com/job/15425388/partenaire-associ-donn-es-et-ia-montreal-ca/\n",
      "Skipping vacancy https://careers.ibm.com/job/15644124/concepteur-darchitecture-mulesoft-ottawa-ca/\n",
      "Skipping vacancy https://careers.ibm.com/job/15678779/architecte-dapplication-sap-senior-ottawa-ca/\n",
      "Skipping vacancy https://careers.ibm.com/job/15711650/conseiller-re-principal-e-en-transformation-des-talents-ottawa-ca/\n",
      "Skipping vacancy https://careers.ibm.com/job/15774417/conseiller-principal-ou-directeur-recrutement-et-accueil-successfact-ottawa-ca/\n",
      "Skipping vacancy https://careers.ibm.com/job/15872501/oracle-utilities-conseiller-sp-cialis-ottawa-ca/\n",
      "Skipping vacancy https://careers.ibm.com/job/15872502/d-veloppeur-dinterfaces-ottawa-ca/\n",
      "Skipping vacancy https://careers.ibm.com/job/15886208/d-veloppeur-full-stack-ottawa-ca/\n",
      "Skipping vacancy https://careers.ibm.com/job/15917325/directeur-de-lint-gration-successfactors-nimporte-o-au-canada-ottawa-ca/\n",
      "Skipping vacancy https://careers.ibm.com/job/15942720/concepteur-darchitecture-de-solutions-centre-de-paiements-ibm-ottawa-ca/\n",
      "Skipping vacancy https://careers.ibm.com/job/15971285/chef-de-projet-consultant-en-chef-ottawa-ca/\n",
      "Skipping vacancy https://careers.ibm.com/job/15979674/principal-concepteur-darchitecture-de-solutions-num-riques-ottawa-ca/\n",
      "Skipping vacancy https://careers.ibm.com/job/15979675/gestionnaire-de-projets-facteurs-de-succ-s-n-importe-o-au-canada-ottawa-ca/\n",
      "Skipping vacancy https://careers.ibm.com/job/16023303/conseiller-en-solutions-salesforce-ottawa-ca/\n",
      "Skipping vacancy https://careers.ibm.com/job/16180489/conseiller-oracle-cloud-financials-ottawa-ca/\n",
      "Skipping vacancy https://careers.ibm.com/job/16198131/consultant-principal-oracle-hcm-cloud-ottawa-ca/\n",
      "Skipping vacancy https://careers.ibm.com/job/16218124/sp-cialiste-des-ventes-de-la-plateforme-infonuagique-quebec-city-ca/\n",
      "Skipping vacancy https://careers.ibm.com/job/16238818/technicien-en-lectronique-industrielle-bromont-ca/\n",
      "Skipping vacancy https://careers.ibm.com/job/16254406/consultant-en-strat-gie-dentreprise-ottawa-ca/\n",
      "Skipping vacancy https://careers.ibm.com/job/16275191/concepteur-darchitecture-de-solutions-sap-ottawa-ca/\n",
      "Skipping vacancy https://careers.ibm.com/job/16299815/conseiller-rh-et-chef-de-bureau-montreal-ca/\n",
      "Skipping vacancy https://careers.ibm.com/job/16322278/conseillers-techniques-en-syst-mes-de-gestion-du-temps-partout-au-ca-ottawa-ca/\n",
      "Skipping vacancy https://careers.ibm.com/job/16332319/microsoft-dynamics-365-finance-operations-ax-concepteur-darchitectu-ottawa-ca/\n",
      "Skipping vacancy https://careers.ibm.com/job/16455994/sp-cialiste-principal-des-ventes-en-d-veloppement-de-durabilit-montreal-ca/\n",
      "Skipping vacancy https://careers.ibm.com/job/15400940/d-veloppeur-cloud-devops-h-f-ibm-cic-remote/\n",
      "Skipping vacancy https://careers.ibm.com/job/15466655/team-lead-java-h-f-ibm-cic-remote/\n",
      "Skipping vacancy https://careers.ibm.com/job/15748694/alternance-d-veloppeur-cobol-h-f-ibm-cic-lille-fr/\n",
      "Skipping vacancy https://careers.ibm.com/job/15872504/consultant-fonctionnel-infor-m3-h-f-ibm-cic-remote/\n",
      "Skipping vacancy https://careers.ibm.com/job/15886228/d-veloppeur-fullstack-h-f-ibm-cic-remote/\n",
      "Skipping vacancy https://careers.ibm.com/job/15917330/d-veloppeur-cobol-exp-riment-h-f-ibm-cic-lille-fr/\n",
      "Skipping vacancy https://careers.ibm.com/job/16167928/d-veloppeur-junior-react-node-js-h-f-ibm-cic-lille-fr/\n",
      "Skipping vacancy https://careers.ibm.com/job/16176590/d-veloppeur-react-native-h-f-ibm-cic-lille-fr/\n",
      "Skipping vacancy https://careers.ibm.com/job/16188261/consultant-fonctionnel-infor-m3-h-f-ibm-cic-lille-fr/\n",
      "Skipping vacancy https://careers.ibm.com/job/16215880/d-veloppeur-python-h-f-ibm-cic-lille-fr/\n",
      "Skipping vacancy https://careers.ibm.com/job/16271926/d-veloppeur-spark-sql-scala-exp-riment-e-h-f-ibm-cic-lille-fr/\n",
      "Skipping vacancy https://careers.ibm.com/job/16271927/stage-d-veloppeur-cobol-h-f-ibm-cic-lille-fr/\n",
      "Skipping vacancy https://careers.ibm.com/job/16299838/alternance-assistant-e-ressources-humaines-h-f-ibm-cic-lille-fr/\n"
     ]
    },
    {
     "name": "stderr",
     "output_type": "stream",
     "text": [
      "100%|██████████| 9137/9137 [00:04<00:00, 2019.30it/s]\n"
     ]
    },
    {
     "data": {
      "text/plain": "9137"
     },
     "execution_count": 30,
     "metadata": {},
     "output_type": "execute_result"
    }
   ],
   "source": [
    "job_dicts = []\n",
    "for job_info in tqdm(result.json()['queryResult']):\n",
    "    full_description = clear_string(job_info['description'])\n",
    "\n",
    "    about = re.search(about_pattern, full_description)\n",
    "    if about:\n",
    "        about = about.group(1)\n",
    "\n",
    "    responsibilities = re.search(responsibilities_pattern, full_description)\n",
    "    if responsibilities:\n",
    "        responsibilities = responsibilities.group(1)\n",
    "\n",
    "    qualifications = re.search(qualifications_pattern, full_description)\n",
    "    if qualifications:\n",
    "        qualifications = qualifications.group(1)\n",
    "\n",
    "    if not qualifications and not responsibilities and not about:\n",
    "        print(f\"Skipping vacancy {job_info['url']}\")\n",
    "\n",
    "    job_dict = {\n",
    "        'title': job_info['title'],\n",
    "        'internal_id' : job_info['id'],\n",
    "        'url': job_info['url'],\n",
    "        'description': about,\n",
    "        'responsibilities': responsibilities,\n",
    "        'qualifications': qualifications,\n",
    "        'company': 'IBM',\n",
    "        'grade': job_info['level'],\n",
    "        'category': job_info['primary_category'],\n",
    "        'publish_date': parser.parse(job_info['update_date'])\n",
    "    }\n",
    "    job_dicts.append(job_dict)\n",
    "len(job_dicts)"
   ],
   "metadata": {
    "collapsed": false,
    "pycharm": {
     "name": "#%%\n"
    }
   }
  },
  {
   "cell_type": "code",
   "execution_count": 31,
   "outputs": [
    {
     "data": {
      "text/plain": "                                                  title  internal_id  \\\n6154                     Service Associate - Onboarding     16371781   \n2799                             Application Consultant     16052767   \n1522                               Full Stack Developer     15886156   \n6949  Associate Partner - Identity and Access Manage...     16289768   \n4678                    Open Source Toolchain Developer     16421430   \n\n                                                    url  \\\n6154  https://careers.ibm.com/job/16371781/service-a...   \n2799  https://careers.ibm.com/job/16052767/applicati...   \n1522  https://careers.ibm.com/job/15886156/full-stac...   \n6949  https://careers.ibm.com/job/16289768/associate...   \n4678  https://careers.ibm.com/job/16421430/open-sour...   \n\n                                            description  \\\n6154   At IBM, work is more than a job - it's a call...   \n2799   IBM Application Consultants work directly wit...   \n1522   As a Full Stack Python/AWS Developer, you wil...   \n6949   Informationen und Daten zählen zu den wichtig...   \n4678   Software Developers at IBM are the backbone o...   \n\n                                       responsibilities  \\\n6154   As Service Associate -Onboarding, you are res...   \n2799   1. Identify and analyze user requirements 2. ...   \n1522   Expertus, an IBM Company, is looking for Full...   \n6949   Als Associate Partner für Identity and Access...   \n4678   IBM Power Systems Enterprise Servers are base...   \n\n                                         qualifications company         grade  \\\n6154   Graduate / Post Graduate in any stream Excell...     IBM   Entry Level   \n2799   1. Above 8 years’ work experience as a Applic...     IBM  Professional   \n1522   Programming language : Python, Java, HTLM, CS...     IBM  Professional   \n6949   Sie haben mindestens 8 Jahre Projekterfahrung...     IBM  Professional   \n4678   6+ years of overall IT experience 1+ years of...     IBM  Professional   \n\n                            category              publish_date  \n6154                 Human Resources 2022-08-05 14:48:31+00:00  \n2799                      Consultant 2022-07-14 05:34:37+00:00  \n1522            Technical Specialist 2022-07-19 05:29:21+00:00  \n6949                      Consultant 2022-08-11 02:40:40+00:00  \n4678  Software Development & Support 2022-08-05 18:46:21+00:00  ",
      "text/html": "<div>\n<style scoped>\n    .dataframe tbody tr th:only-of-type {\n        vertical-align: middle;\n    }\n\n    .dataframe tbody tr th {\n        vertical-align: top;\n    }\n\n    .dataframe thead th {\n        text-align: right;\n    }\n</style>\n<table border=\"1\" class=\"dataframe\">\n  <thead>\n    <tr style=\"text-align: right;\">\n      <th></th>\n      <th>title</th>\n      <th>internal_id</th>\n      <th>url</th>\n      <th>description</th>\n      <th>responsibilities</th>\n      <th>qualifications</th>\n      <th>company</th>\n      <th>grade</th>\n      <th>category</th>\n      <th>publish_date</th>\n    </tr>\n  </thead>\n  <tbody>\n    <tr>\n      <th>6154</th>\n      <td>Service Associate - Onboarding</td>\n      <td>16371781</td>\n      <td>https://careers.ibm.com/job/16371781/service-a...</td>\n      <td>At IBM, work is more than a job - it's a call...</td>\n      <td>As Service Associate -Onboarding, you are res...</td>\n      <td>Graduate / Post Graduate in any stream Excell...</td>\n      <td>IBM</td>\n      <td>Entry Level</td>\n      <td>Human Resources</td>\n      <td>2022-08-05 14:48:31+00:00</td>\n    </tr>\n    <tr>\n      <th>2799</th>\n      <td>Application Consultant</td>\n      <td>16052767</td>\n      <td>https://careers.ibm.com/job/16052767/applicati...</td>\n      <td>IBM Application Consultants work directly wit...</td>\n      <td>1. Identify and analyze user requirements 2. ...</td>\n      <td>1. Above 8 years’ work experience as a Applic...</td>\n      <td>IBM</td>\n      <td>Professional</td>\n      <td>Consultant</td>\n      <td>2022-07-14 05:34:37+00:00</td>\n    </tr>\n    <tr>\n      <th>1522</th>\n      <td>Full Stack Developer</td>\n      <td>15886156</td>\n      <td>https://careers.ibm.com/job/15886156/full-stac...</td>\n      <td>As a Full Stack Python/AWS Developer, you wil...</td>\n      <td>Expertus, an IBM Company, is looking for Full...</td>\n      <td>Programming language : Python, Java, HTLM, CS...</td>\n      <td>IBM</td>\n      <td>Professional</td>\n      <td>Technical Specialist</td>\n      <td>2022-07-19 05:29:21+00:00</td>\n    </tr>\n    <tr>\n      <th>6949</th>\n      <td>Associate Partner - Identity and Access Manage...</td>\n      <td>16289768</td>\n      <td>https://careers.ibm.com/job/16289768/associate...</td>\n      <td>Informationen und Daten zählen zu den wichtig...</td>\n      <td>Als Associate Partner für Identity and Access...</td>\n      <td>Sie haben mindestens 8 Jahre Projekterfahrung...</td>\n      <td>IBM</td>\n      <td>Professional</td>\n      <td>Consultant</td>\n      <td>2022-08-11 02:40:40+00:00</td>\n    </tr>\n    <tr>\n      <th>4678</th>\n      <td>Open Source Toolchain Developer</td>\n      <td>16421430</td>\n      <td>https://careers.ibm.com/job/16421430/open-sour...</td>\n      <td>Software Developers at IBM are the backbone o...</td>\n      <td>IBM Power Systems Enterprise Servers are base...</td>\n      <td>6+ years of overall IT experience 1+ years of...</td>\n      <td>IBM</td>\n      <td>Professional</td>\n      <td>Software Development &amp; Support</td>\n      <td>2022-08-05 18:46:21+00:00</td>\n    </tr>\n  </tbody>\n</table>\n</div>"
     },
     "execution_count": 31,
     "metadata": {},
     "output_type": "execute_result"
    }
   ],
   "source": [
    "snapshot = pd.DataFrame(job_dicts)\n",
    "snapshot.sample(5)"
   ],
   "metadata": {
    "collapsed": false,
    "pycharm": {
     "name": "#%%\n"
    }
   }
  },
  {
   "cell_type": "code",
   "execution_count": 32,
   "outputs": [
    {
     "name": "stdout",
     "output_type": "stream",
     "text": [
      "<class 'pandas.core.frame.DataFrame'>\n",
      "RangeIndex: 9137 entries, 0 to 9136\n",
      "Data columns (total 10 columns):\n",
      " #   Column            Non-Null Count  Dtype                  \n",
      "---  ------            --------------  -----                  \n",
      " 0   title             9137 non-null   object                 \n",
      " 1   internal_id       9137 non-null   int64                  \n",
      " 2   url               9137 non-null   object                 \n",
      " 3   description       8598 non-null   object                 \n",
      " 4   responsibilities  8598 non-null   object                 \n",
      " 5   qualifications    8598 non-null   object                 \n",
      " 6   company           9137 non-null   object                 \n",
      " 7   grade             9137 non-null   object                 \n",
      " 8   category          9137 non-null   object                 \n",
      " 9   publish_date      9137 non-null   datetime64[ns, tzutc()]\n",
      "dtypes: datetime64[ns, tzutc()](1), int64(1), object(8)\n",
      "memory usage: 714.0+ KB\n"
     ]
    }
   ],
   "source": [
    "snapshot.info()"
   ],
   "metadata": {
    "collapsed": false,
    "pycharm": {
     "name": "#%%\n"
    }
   }
  },
  {
   "cell_type": "code",
   "execution_count": 33,
   "outputs": [
    {
     "name": "stdout",
     "output_type": "stream",
     "text": [
      "<class 'pandas.core.series.Series'>\n",
      "RangeIndex: 9137 entries, 0 to 9136\n",
      "Series name: publish_date\n",
      "Non-Null Count  Dtype         \n",
      "--------------  -----         \n",
      "9137 non-null   datetime64[ns]\n",
      "dtypes: datetime64[ns](1)\n",
      "memory usage: 71.5 KB\n"
     ]
    }
   ],
   "source": [
    "snapshot['publish_date'] = snapshot['publish_date'].apply(lambda x: x.replace(tzinfo=None))\n",
    "snapshot['publish_date'].info()"
   ],
   "metadata": {
    "collapsed": false,
    "pycharm": {
     "name": "#%%\n"
    }
   }
  },
  {
   "cell_type": "code",
   "execution_count": 34,
   "outputs": [
    {
     "data": {
      "text/plain": "'11-08-2022'"
     },
     "execution_count": 34,
     "metadata": {},
     "output_type": "execute_result"
    }
   ],
   "source": [
    "current_date = datetime.now().strftime('%d-%m-%Y')\n",
    "current_date"
   ],
   "metadata": {
    "collapsed": false,
    "pycharm": {
     "name": "#%%\n"
    }
   }
  },
  {
   "cell_type": "code",
   "execution_count": 35,
   "outputs": [],
   "source": [
    "snapshot.to_csv(f'../data/ibm/{current_date}.csv')\n",
    "snapshot.to_excel(f'../data/ibm/{current_date}.xlsx', engine='xlsxwriter')"
   ],
   "metadata": {
    "collapsed": false,
    "pycharm": {
     "name": "#%%\n"
    }
   }
  },
  {
   "cell_type": "markdown",
   "source": [
    "#### Проверка на единичной вакансии"
   ],
   "metadata": {
    "collapsed": false,
    "pycharm": {
     "name": "#%% md\n"
    }
   }
  },
  {
   "cell_type": "code",
   "execution_count": 26,
   "outputs": [
    {
     "data": {
      "text/plain": "\"Introduction At IBM, we know that transformation drives change, and it is in our DNA to continuously transform. Our Business Transformation Consultants help drive large scale change that spans IBM business units and geographies. As a part of this team, you will have the unique opportunity to be a part of driving IBM’s ongoing transformation as a company that continuously innovates and leads the market. Your Role and Responsibilities Your day in the role will include... Managing and developing applications using BluePrism. You will come with... Experience on BluePrism. How we’ll help you grow... You’ll have access to all the technical and management training courses to grow your expertise. You’ll learn directly from expert developers in the field; our team leads love to mentor. You have the opportunity to work in many different areas to determine what really excites you. Required Technical and Professional Expertise RPA Product Specialist with Technical Deployment Experience in one or more leading RPA technologies (e.g. Blue Prism, Automation Anywhere, UIPath etc). Prior client consulting experience in RPA technologies would be an added advantage Preferred Technical and Professional Expertise Work experience in below Architecture process would be an added advantage Network Architecture. Infrastructure Architecture. Technology Architecture. About Business Unit IBM Services is a team of business, strategy and technology consultants that design, build, and run foundational systems and services that is the backbone of the world's economy. IBM Services partners with the world's leading companies in over 170 countries to build smarter businesses by reimagining and reinventing through technology, with its outcome-focused methodologies, industry-leading portfolio and world class research and operations expertise leading to results-driven innovation and enduring excellence. This job requires you to be fully COVID-19 vaccinated prior to your start date and proof of vaccination status will be required before your start date. During the Onboarding process you will be asked to confirm your vaccination status, in case you are unable to get vaccinated for any reason, you can let us know at that stage. Please let us know if you are unable to be vaccinated due to medical or religious reasons. IBM will consider such requests on a case by case basis subject to submission of required proof by the candidate before a stipulated date. Your Life @ IBM Are you craving to learn more? Prepared to solve some of the world's most unique challenges? And ready to shape the future for millions of people? If so, then it's time to join us, express your individuality, unleash your curiosity and discover new possibilities. Every IBMer, and potential ones like yourself, has a voice, carves their own path, and uses their expertise to help co-create and add to our story. Together, we have the power to make meaningful change – to alter the fabric of our clients, of society and IBM itself, to create a truly positive impact and make the world work better for everyone. It's time to define your career. About IBM IBM’s greatest invention is the IBMer. We believe that through the application of intelligence, reason and science, we can improve business, society and the human condition, bringing the power of an open hybrid cloud and AI strategy to life for our clients and partners around the world. Restlessly reinventing since 1911, we are not only one of the largest corporate organizations in the world, we’re also one of the biggest technology and consulting employers, with many of the Fortune 50 companies relying on the IBM Cloud to run their business. At IBM, we pride ourselves on being an early adopter of artificial intelligence, quantum computing and blockchain. Now it’s time for you to join us on our journey to being a responsible technology innovator and a force for good in the world. Location Statement When applying to jobs of your interest, we recommend that you do so for those that match your experience and expertise. Our recruiters advise that you apply to not more than 3 roles in a year for the best candidate experience. For additional information about location requirements, please discuss with the recruiter following submission of your application. Being You @ IBM IBM is committed to creating a diverse environment and is proud to be an equal opportunity employer. All qualified applicants will receive consideration for employment without regard to race, color, religion, gender, gender identity or expression, sexual orientation, national origin, genetics, pregnancy, disability, age, veteran status, or other characteristics. IBM is also committed to compliance with all fair employment practices regarding citizenship and immigration status.\""
     },
     "execution_count": 26,
     "metadata": {},
     "output_type": "execute_result"
    }
   ],
   "source": [
    "full_description = clear_string(result.json()['queryResult'][200]['description'])\n",
    "full_description"
   ],
   "metadata": {
    "collapsed": false,
    "pycharm": {
     "name": "#%%\n"
    }
   }
  },
  {
   "cell_type": "code",
   "execution_count": 27,
   "outputs": [
    {
     "data": {
      "text/plain": "' At IBM, we know that transformation drives change, and it is in our DNA to continuously transform. Our Business Transformation Consultants help drive large scale change that spans IBM business units and geographies. As a part of this team, you will have the unique opportunity to be a part of driving IBM’s ongoing transformation as a company that continuously innovates and leads the market. '"
     },
     "execution_count": 27,
     "metadata": {},
     "output_type": "execute_result"
    }
   ],
   "source": [
    "re.search(about_pattern, full_description).group(1)"
   ],
   "metadata": {
    "collapsed": false,
    "pycharm": {
     "name": "#%%\n"
    }
   }
  },
  {
   "cell_type": "code",
   "execution_count": 28,
   "outputs": [
    {
     "data": {
      "text/plain": "' Your day in the role will include... Managing and developing applications using BluePrism. You will come with... Experience on BluePrism. How we’ll help you grow... You’ll have access to all the technical and management training courses to grow your expertise. You’ll learn directly from expert developers in the field; our team leads love to mentor. You have the opportunity to work in many different areas to determine what really excites you. '"
     },
     "execution_count": 28,
     "metadata": {},
     "output_type": "execute_result"
    }
   ],
   "source": [
    "re.search(responsibilities_pattern, full_description).group(1)"
   ],
   "metadata": {
    "collapsed": false,
    "pycharm": {
     "name": "#%%\n"
    }
   }
  },
  {
   "cell_type": "code",
   "execution_count": 29,
   "outputs": [
    {
     "data": {
      "text/plain": "' RPA Product Specialist with Technical Deployment Experience in one or more leading RPA technologies (e.g. Blue Prism, Automation Anywhere, UIPath etc). Prior client consulting experience in RPA technologies would be an added advantage '"
     },
     "execution_count": 29,
     "metadata": {},
     "output_type": "execute_result"
    }
   ],
   "source": [
    "re.search(qualifications_pattern, full_description).group(1)"
   ],
   "metadata": {
    "collapsed": false,
    "pycharm": {
     "name": "#%%\n"
    }
   }
  },
  {
   "cell_type": "code",
   "execution_count": null,
   "outputs": [],
   "source": [],
   "metadata": {
    "collapsed": false,
    "pycharm": {
     "name": "#%%\n"
    }
   }
  }
 ],
 "metadata": {
  "kernelspec": {
   "display_name": "Python 3",
   "language": "python",
   "name": "python3"
  },
  "language_info": {
   "codemirror_mode": {
    "name": "ipython",
    "version": 2
   },
   "file_extension": ".py",
   "mimetype": "text/x-python",
   "name": "python",
   "nbconvert_exporter": "python",
   "pygments_lexer": "ipython2",
   "version": "2.7.6"
  }
 },
 "nbformat": 4,
 "nbformat_minor": 0
}