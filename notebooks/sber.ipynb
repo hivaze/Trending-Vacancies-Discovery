{
 "cells": [
  {
   "cell_type": "code",
   "execution_count": 1,
   "outputs": [],
   "source": [
    "import time\n",
    "import requests\n",
    "from bs4 import BeautifulSoup\n",
    "import json\n",
    "import re\n",
    "import time\n",
    "import faker\n",
    "import pandas as pd\n",
    "from tqdm import tqdm\n",
    "from datetime import datetime\n",
    "from dateutil import parser"
   ],
   "metadata": {
    "collapsed": false,
    "pycharm": {
     "name": "#%%\n"
    }
   }
  },
  {
   "cell_type": "code",
   "execution_count": 2,
   "outputs": [],
   "source": [
    "import warnings\n",
    "warnings.filterwarnings('ignore')"
   ],
   "metadata": {
    "collapsed": false,
    "pycharm": {
     "name": "#%%\n"
    }
   }
  },
  {
   "cell_type": "code",
   "execution_count": 24,
   "outputs": [],
   "source": [
    "mouths_dict = {\n",
    "    'января': 'january',\n",
    "    'февраля': 'february',\n",
    "    'декабря': 'december',\n",
    "    'ноября': 'november',\n",
    "    'октября': 'october',\n",
    "    'сентября': 'september',\n",
    "    'мая': 'may',\n",
    "    'июня': 'june',\n",
    "    'июля': 'july',\n",
    "    'августа': 'august',\n",
    "    'апреля': 'april',\n",
    "    'марта': 'march'\n",
    "}\n",
    "def fix_date(date: str):\n",
    "    if date:\n",
    "        date = date.lower()\n",
    "        for key, value in mouths_dict.items():\n",
    "            date = date.replace(key, value)\n",
    "        return date\n",
    "    return None"
   ],
   "metadata": {
    "collapsed": false,
    "pycharm": {
     "name": "#%%\n"
    }
   }
  },
  {
   "cell_type": "code",
   "execution_count": 3,
   "outputs": [],
   "source": [
    "fake = faker.Faker(locale='en')"
   ],
   "metadata": {
    "collapsed": false,
    "pycharm": {
     "name": "#%%\n"
    }
   }
  },
  {
   "cell_type": "code",
   "execution_count": 4,
   "outputs": [],
   "source": [
    "sber_headers = {\n",
    "    'User-Agent': fake.chrome(),\n",
    "    'accept-language': 'en-US,en;q=0.9',\n",
    "    'pragma': 'np-cache',\n",
    "    'Host': 'rabota.sber.ru',\n",
    "    'sec-fetch-mode': 'cors',\n",
    "    'sec-fetch-site': 'same-origin',\n",
    "    'referer': 'https://rabota.sber.ru/search?keyword='\n",
    "}"
   ],
   "metadata": {
    "collapsed": false,
    "pycharm": {
     "name": "#%%\n"
    }
   }
  },
  {
   "cell_type": "code",
   "execution_count": 5,
   "outputs": [],
   "source": [
    "API_URL = \"https://rabota.sber.ru/v2/gateway/api/pulseservice/v1/search/get?\"\n",
    "VACANCY_API_URL = \"https://rabota.sber.ru/v2/gateway/api/pulseservice/v1/search/get/\""
   ],
   "metadata": {
    "collapsed": false,
    "pycharm": {
     "name": "#%%\n"
    }
   }
  },
  {
   "cell_type": "code",
   "execution_count": 13,
   "outputs": [],
   "source": [
    "clear_string = lambda x: re.sub(' +', ' ', re.sub('<.*?>', ' ', x).replace('\\n', '\\n ')).strip() if x else None"
   ],
   "metadata": {
    "collapsed": false,
    "pycharm": {
     "name": "#%%\n"
    }
   }
  },
  {
   "cell_type": "code",
   "execution_count": 6,
   "outputs": [],
   "source": [
    "search_params = {\n",
    "    'page': 12,\n",
    "    'size': 100\n",
    "}"
   ],
   "metadata": {
    "collapsed": false,
    "pycharm": {
     "name": "#%%\n"
    }
   }
  },
  {
   "cell_type": "code",
   "execution_count": 7,
   "outputs": [
    {
     "name": "stdout",
     "output_type": "stream",
     "text": [
      "13 1201\n"
     ]
    }
   ],
   "source": [
    "first_request = requests.get(API_URL, headers=sber_headers, params=search_params, verify=False)\n",
    "total_pages = first_request.json()['totalPages']\n",
    "print(total_pages, first_request.json()['totalCount'])"
   ],
   "metadata": {
    "collapsed": false,
    "pycharm": {
     "name": "#%%\n"
    }
   }
  },
  {
   "cell_type": "markdown",
   "source": [
    "### Получаем списки айдишников со всех страниц"
   ],
   "metadata": {
    "collapsed": false,
    "pycharm": {
     "name": "#%% md\n"
    }
   }
  },
  {
   "cell_type": "code",
   "execution_count": 36,
   "outputs": [
    {
     "name": "stderr",
     "output_type": "stream",
     "text": [
      " 15%|█▌        | 2/13 [00:08<00:40,  3.70s/it]"
     ]
    },
    {
     "name": "stdout",
     "output_type": "stream",
     "text": [
      "Skipping page 1, response code 500\n"
     ]
    },
    {
     "name": "stderr",
     "output_type": "stream",
     "text": [
      " 46%|████▌     | 6/13 [00:28<00:30,  4.36s/it]"
     ]
    },
    {
     "name": "stdout",
     "output_type": "stream",
     "text": [
      "Skipping page 5, response code 500\n"
     ]
    },
    {
     "name": "stderr",
     "output_type": "stream",
     "text": [
      " 54%|█████▍    | 7/13 [00:30<00:20,  3.47s/it]"
     ]
    },
    {
     "name": "stdout",
     "output_type": "stream",
     "text": [
      "Skipping page 6, response code 500\n"
     ]
    },
    {
     "name": "stderr",
     "output_type": "stream",
     "text": [
      " 77%|███████▋  | 10/13 [00:43<00:11,  3.90s/it]"
     ]
    },
    {
     "name": "stdout",
     "output_type": "stream",
     "text": [
      "Skipping page 9, response code 500\n"
     ]
    },
    {
     "name": "stderr",
     "output_type": "stream",
     "text": [
      "100%|██████████| 13/13 [01:04<00:00,  4.99s/it]\n"
     ]
    }
   ],
   "source": [
    "jobs_infos = []\n",
    "for page in tqdm(range(total_pages)):\n",
    "\n",
    "    search_params = {\n",
    "        'page': page,\n",
    "        'size': 100\n",
    "    }\n",
    "\n",
    "    result = requests.get(API_URL, params=search_params, headers=sber_headers, verify=False)\n",
    "    if result.status_code != 200:\n",
    "        print(f\"Skipping page {page}, response code {result.status_code}\")\n",
    "        continue\n",
    "\n",
    "    for vacancy in result.json()['vacancies']:\n",
    "        internal_id = vacancy['internalId']\n",
    "        jobs_infos.append(internal_id)\n",
    "\n",
    "    time.sleep(4.0) #sleep for 00 ms"
   ],
   "metadata": {
    "collapsed": false,
    "pycharm": {
     "name": "#%%\n"
    }
   }
  },
  {
   "cell_type": "code",
   "execution_count": 37,
   "outputs": [
    {
     "data": {
      "text/plain": "802"
     },
     "execution_count": 37,
     "metadata": {},
     "output_type": "execute_result"
    }
   ],
   "source": [
    "len(jobs_infos)"
   ],
   "metadata": {
    "collapsed": false,
    "pycharm": {
     "name": "#%%\n"
    }
   }
  },
  {
   "cell_type": "code",
   "execution_count": 28,
   "outputs": [
    {
     "name": "stderr",
     "output_type": "stream",
     "text": [
      " 21%|██        | 170/801 [07:12<28:12,  2.68s/it]"
     ]
    },
    {
     "name": "stdout",
     "output_type": "stream",
     "text": [
      "error 500\n"
     ]
    },
    {
     "name": "stderr",
     "output_type": "stream",
     "text": [
      " 39%|███▉      | 314/801 [13:41<20:47,  2.56s/it]"
     ]
    },
    {
     "name": "stdout",
     "output_type": "stream",
     "text": [
      "error 500\n"
     ]
    },
    {
     "name": "stderr",
     "output_type": "stream",
     "text": [
      "100%|██████████| 801/801 [37:09<00:00,  2.78s/it]  \n"
     ]
    }
   ],
   "source": [
    "jobs_dicts = []\n",
    "for id in tqdm(jobs_infos):\n",
    "    result = requests.get(VACANCY_API_URL + str(id), headers=sber_headers, verify=False)\n",
    "    if result.status_code != 200:\n",
    "        print(f'error {result.status_code}')\n",
    "    else:\n",
    "        try:\n",
    "            job = result.json()\n",
    "            job_dict = {\n",
    "                'title': job['title'],\n",
    "                'internal_id' : id,\n",
    "                'url': VACANCY_API_URL + str(id),\n",
    "                'description': clear_string(job['introduction']),\n",
    "                'responsibilities': clear_string(job['duties']),\n",
    "                'qualifications': clear_string(job['requirements']),\n",
    "                'location': job['location'],\n",
    "                'company': 'Sber',\n",
    "                'publish_date': parser.parse(fix_date(job['activeFrom']))\n",
    "            }\n",
    "            jobs_dicts.append(job_dict)\n",
    "        except Exception as e:\n",
    "            print(f'Error during parsing vacancy {id}: {e}')\n",
    "\n",
    "    time.sleep(0.5) # 500 ms sleep"
   ],
   "metadata": {
    "collapsed": false,
    "pycharm": {
     "name": "#%%\n"
    }
   }
  },
  {
   "cell_type": "code",
   "execution_count": 32,
   "outputs": [
    {
     "data": {
      "text/plain": "                                                 title  internal_id  \\\n160  Старший специалист Отдела проверочно-розыскных...      4082971   \n723            Менеджер по продаже зарплатных проектов      4083701   \n632  Специалист банковского сопровождения долевого ...      4081253   \n411    Водитель-инкассатор, г. Киров Калужской области      4083980   \n295                   Java-разработчик (преподаватель)      4064061   \n\n                                                   url  \\\n160  https://rabota.sber.ru/v2/gateway/api/pulseser...   \n723  https://rabota.sber.ru/v2/gateway/api/pulseser...   \n632  https://rabota.sber.ru/v2/gateway/api/pulseser...   \n411  https://rabota.sber.ru/v2/gateway/api/pulseser...   \n295  https://rabota.sber.ru/v2/gateway/api/pulseser...   \n\n                                           description  \\\n160                                               None   \n723                                               None   \n632                                               None   \n411  Сбер — лучший работодатель России. У нас более...   \n295  В Сбере развивается большой проект – IT Bootca...   \n\n                                      responsibilities  \\\n160  Обязанности: \\n \\n выезды на место происшестви...   \n723  Устанавливать первоначальный контакт с партнер...   \n632  Обязанности: \\n \\n Экспертиза документов при п...   \n411  Тебе предстоит: \\n \\n перевозить денежные сред...   \n295  Разработка учебных примеров; \\n Пилот, ревью, ...   \n\n                                        qualifications  \\\n160  Требования: \\n \\n образование высшее юридическ...   \n723  Высшее образование; \\n Опыт успешных продаж от...   \n632  Требования: \\n \\n Высшее образование: экономич...   \n411  Мы ждем от тебя: \\n \\n образование не ниже сре...   \n295  Знание Java/JavaScript от 2-х лет и более; \\n ...   \n\n                                              location company  \\\n160                              Город Санкт-Петербург    Sber   \n723  Город Нефтеюганск, Ханты-Мансийский Автономный...    Sber   \n632           Город Екатеринбург, Свердловская Область    Sber   \n411    Город Киров, Кировский Район, Калужская Область    Sber   \n295                                       Город Москва    Sber   \n\n           publish_date  \n160 2022-06-29 05:23:01  \n723 2022-07-04 05:06:43  \n632 2022-06-27 10:30:23  \n411 2022-06-30 12:17:30  \n295 2022-03-10 00:00:00  ",
      "text/html": "<div>\n<style scoped>\n    .dataframe tbody tr th:only-of-type {\n        vertical-align: middle;\n    }\n\n    .dataframe tbody tr th {\n        vertical-align: top;\n    }\n\n    .dataframe thead th {\n        text-align: right;\n    }\n</style>\n<table border=\"1\" class=\"dataframe\">\n  <thead>\n    <tr style=\"text-align: right;\">\n      <th></th>\n      <th>title</th>\n      <th>internal_id</th>\n      <th>url</th>\n      <th>description</th>\n      <th>responsibilities</th>\n      <th>qualifications</th>\n      <th>location</th>\n      <th>company</th>\n      <th>publish_date</th>\n    </tr>\n  </thead>\n  <tbody>\n    <tr>\n      <th>160</th>\n      <td>Старший специалист Отдела проверочно-розыскных...</td>\n      <td>4082971</td>\n      <td>https://rabota.sber.ru/v2/gateway/api/pulseser...</td>\n      <td>None</td>\n      <td>Обязанности: \\n \\n выезды на место происшестви...</td>\n      <td>Требования: \\n \\n образование высшее юридическ...</td>\n      <td>Город Санкт-Петербург</td>\n      <td>Sber</td>\n      <td>2022-06-29 05:23:01</td>\n    </tr>\n    <tr>\n      <th>723</th>\n      <td>Менеджер по продаже зарплатных проектов</td>\n      <td>4083701</td>\n      <td>https://rabota.sber.ru/v2/gateway/api/pulseser...</td>\n      <td>None</td>\n      <td>Устанавливать первоначальный контакт с партнер...</td>\n      <td>Высшее образование; \\n Опыт успешных продаж от...</td>\n      <td>Город Нефтеюганск, Ханты-Мансийский Автономный...</td>\n      <td>Sber</td>\n      <td>2022-07-04 05:06:43</td>\n    </tr>\n    <tr>\n      <th>632</th>\n      <td>Специалист банковского сопровождения долевого ...</td>\n      <td>4081253</td>\n      <td>https://rabota.sber.ru/v2/gateway/api/pulseser...</td>\n      <td>None</td>\n      <td>Обязанности: \\n \\n Экспертиза документов при п...</td>\n      <td>Требования: \\n \\n Высшее образование: экономич...</td>\n      <td>Город Екатеринбург, Свердловская Область</td>\n      <td>Sber</td>\n      <td>2022-06-27 10:30:23</td>\n    </tr>\n    <tr>\n      <th>411</th>\n      <td>Водитель-инкассатор, г. Киров Калужской области</td>\n      <td>4083980</td>\n      <td>https://rabota.sber.ru/v2/gateway/api/pulseser...</td>\n      <td>Сбер — лучший работодатель России. У нас более...</td>\n      <td>Тебе предстоит: \\n \\n перевозить денежные сред...</td>\n      <td>Мы ждем от тебя: \\n \\n образование не ниже сре...</td>\n      <td>Город Киров, Кировский Район, Калужская Область</td>\n      <td>Sber</td>\n      <td>2022-06-30 12:17:30</td>\n    </tr>\n    <tr>\n      <th>295</th>\n      <td>Java-разработчик (преподаватель)</td>\n      <td>4064061</td>\n      <td>https://rabota.sber.ru/v2/gateway/api/pulseser...</td>\n      <td>В Сбере развивается большой проект – IT Bootca...</td>\n      <td>Разработка учебных примеров; \\n Пилот, ревью, ...</td>\n      <td>Знание Java/JavaScript от 2-х лет и более; \\n ...</td>\n      <td>Город Москва</td>\n      <td>Sber</td>\n      <td>2022-03-10 00:00:00</td>\n    </tr>\n  </tbody>\n</table>\n</div>"
     },
     "execution_count": 32,
     "metadata": {},
     "output_type": "execute_result"
    }
   ],
   "source": [
    "snapshot = pd.DataFrame(jobs_dicts)\n",
    "snapshot.sample(5)"
   ],
   "metadata": {
    "collapsed": false,
    "pycharm": {
     "name": "#%%\n"
    }
   }
  },
  {
   "cell_type": "code",
   "execution_count": 33,
   "outputs": [
    {
     "name": "stdout",
     "output_type": "stream",
     "text": [
      "<class 'pandas.core.frame.DataFrame'>\n",
      "RangeIndex: 799 entries, 0 to 798\n",
      "Data columns (total 9 columns):\n",
      " #   Column            Non-Null Count  Dtype         \n",
      "---  ------            --------------  -----         \n",
      " 0   title             799 non-null    object        \n",
      " 1   internal_id       799 non-null    int64         \n",
      " 2   url               799 non-null    object        \n",
      " 3   description       495 non-null    object        \n",
      " 4   responsibilities  799 non-null    object        \n",
      " 5   qualifications    799 non-null    object        \n",
      " 6   location          799 non-null    object        \n",
      " 7   company           799 non-null    object        \n",
      " 8   publish_date      799 non-null    datetime64[ns]\n",
      "dtypes: datetime64[ns](1), int64(1), object(7)\n",
      "memory usage: 56.3+ KB\n"
     ]
    }
   ],
   "source": [
    "snapshot.info()"
   ],
   "metadata": {
    "collapsed": false,
    "pycharm": {
     "name": "#%%\n"
    }
   }
  },
  {
   "cell_type": "code",
   "execution_count": 34,
   "outputs": [
    {
     "data": {
      "text/plain": "'06-07-2022'"
     },
     "execution_count": 34,
     "metadata": {},
     "output_type": "execute_result"
    }
   ],
   "source": [
    "current_date = datetime.now().strftime('%d-%m-%Y')\n",
    "current_date"
   ],
   "metadata": {
    "collapsed": false,
    "pycharm": {
     "name": "#%%\n"
    }
   }
  },
  {
   "cell_type": "code",
   "execution_count": 35,
   "outputs": [],
   "source": [
    "snapshot.to_csv(f'../data/sber/{current_date}.csv')"
   ],
   "metadata": {
    "collapsed": false,
    "pycharm": {
     "name": "#%%\n"
    }
   }
  },
  {
   "cell_type": "code",
   "execution_count": null,
   "outputs": [],
   "source": [],
   "metadata": {
    "collapsed": false,
    "pycharm": {
     "name": "#%%\n"
    }
   }
  },
  {
   "cell_type": "code",
   "execution_count": null,
   "outputs": [],
   "source": [],
   "metadata": {
    "collapsed": false,
    "pycharm": {
     "name": "#%%\n"
    }
   }
  },
  {
   "cell_type": "code",
   "execution_count": null,
   "outputs": [],
   "source": [],
   "metadata": {
    "collapsed": false,
    "pycharm": {
     "name": "#%%\n"
    }
   }
  },
  {
   "cell_type": "code",
   "execution_count": 67,
   "outputs": [
    {
     "data": {
      "text/plain": "{'timestamp': '2022-07-05T06:23:43.116+00:00',\n 'status': 400,\n 'error': 'Bad Request',\n 'message': '',\n 'path': '/v1/search/get/1848690'}"
     },
     "execution_count": 67,
     "metadata": {},
     "output_type": "execute_result"
    }
   ],
   "source": [
    "requests.get(VACANCY_API_URL + str(jobs_infos[2]), headers=sber_headers, verify=False).json()"
   ],
   "metadata": {
    "collapsed": false,
    "pycharm": {
     "name": "#%%\n"
    }
   }
  }
 ],
 "metadata": {
  "kernelspec": {
   "display_name": "Python 3",
   "language": "python",
   "name": "python3"
  },
  "language_info": {
   "codemirror_mode": {
    "name": "ipython",
    "version": 2
   },
   "file_extension": ".py",
   "mimetype": "text/x-python",
   "name": "python",
   "nbconvert_exporter": "python",
   "pygments_lexer": "ipython2",
   "version": "2.7.6"
  }
 },
 "nbformat": 4,
 "nbformat_minor": 0
}