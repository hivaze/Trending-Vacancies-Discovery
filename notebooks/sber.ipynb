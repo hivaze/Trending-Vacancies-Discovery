{
 "cells": [
  {
   "cell_type": "code",
   "execution_count": 1,
   "outputs": [],
   "source": [
    "import time\n",
    "import requests\n",
    "from bs4 import BeautifulSoup\n",
    "import json\n",
    "import re\n",
    "import time\n",
    "import faker\n",
    "import pandas as pd\n",
    "from tqdm import tqdm\n",
    "from datetime import datetime\n",
    "from dateutil import parser"
   ],
   "metadata": {
    "collapsed": false,
    "pycharm": {
     "name": "#%%\n"
    }
   }
  },
  {
   "cell_type": "code",
   "execution_count": 2,
   "outputs": [],
   "source": [
    "import warnings\n",
    "warnings.filterwarnings('ignore')"
   ],
   "metadata": {
    "collapsed": false,
    "pycharm": {
     "name": "#%%\n"
    }
   }
  },
  {
   "cell_type": "code",
   "execution_count": 3,
   "outputs": [],
   "source": [
    "mouths_dict = {\n",
    "    'января': 'january',\n",
    "    'февраля': 'february',\n",
    "    'декабря': 'december',\n",
    "    'ноября': 'november',\n",
    "    'октября': 'october',\n",
    "    'сентября': 'september',\n",
    "    'мая': 'may',\n",
    "    'июня': 'june',\n",
    "    'июля': 'july',\n",
    "    'августа': 'august',\n",
    "    'апреля': 'april',\n",
    "    'марта': 'march'\n",
    "}\n",
    "def fix_date(date: str):\n",
    "    if date:\n",
    "        date = date.lower()\n",
    "        for key, value in mouths_dict.items():\n",
    "            date = date.replace(key, value)\n",
    "        return date\n",
    "    return None"
   ],
   "metadata": {
    "collapsed": false,
    "pycharm": {
     "name": "#%%\n"
    }
   }
  },
  {
   "cell_type": "code",
   "execution_count": 4,
   "outputs": [],
   "source": [
    "fake = faker.Faker(locale='en')"
   ],
   "metadata": {
    "collapsed": false,
    "pycharm": {
     "name": "#%%\n"
    }
   }
  },
  {
   "cell_type": "code",
   "execution_count": 5,
   "outputs": [],
   "source": [
    "sber_headers = {\n",
    "    'User-Agent': fake.chrome(),\n",
    "    'accept-language': 'en-US,en;q=0.9',\n",
    "    'pragma': 'np-cache',\n",
    "    'Host': 'rabota.sber.ru',\n",
    "    'sec-fetch-mode': 'cors',\n",
    "    'sec-fetch-site': 'same-origin',\n",
    "    'referer': 'https://rabota.sber.ru/search?keyword='\n",
    "}"
   ],
   "metadata": {
    "collapsed": false,
    "pycharm": {
     "name": "#%%\n"
    }
   }
  },
  {
   "cell_type": "code",
   "execution_count": 6,
   "outputs": [],
   "source": [
    "API_URL = \"https://rabota.sber.ru/v2/gateway/api/pulseservice/v1/search/get?\"\n",
    "VACANCY_API_URL = \"https://rabota.sber.ru/v2/gateway/api/pulseservice/v1/search/get/\""
   ],
   "metadata": {
    "collapsed": false,
    "pycharm": {
     "name": "#%%\n"
    }
   }
  },
  {
   "cell_type": "code",
   "execution_count": 7,
   "outputs": [],
   "source": [
    "clear_string = lambda x: re.sub(' +', ' ', re.sub('<.*?>', ' ', x).replace('\\n', '\\n ')).strip() if x else None"
   ],
   "metadata": {
    "collapsed": false,
    "pycharm": {
     "name": "#%%\n"
    }
   }
  },
  {
   "cell_type": "code",
   "execution_count": 8,
   "outputs": [],
   "source": [
    "search_params = {\n",
    "    'page': 12,\n",
    "    'size': 100\n",
    "}"
   ],
   "metadata": {
    "collapsed": false,
    "pycharm": {
     "name": "#%%\n"
    }
   }
  },
  {
   "cell_type": "code",
   "execution_count": 9,
   "outputs": [
    {
     "name": "stdout",
     "output_type": "stream",
     "text": [
      "13 1292\n"
     ]
    }
   ],
   "source": [
    "first_request = requests.get(API_URL, headers=sber_headers, params=search_params, verify=False)\n",
    "total_pages = first_request.json()['totalPages']\n",
    "print(total_pages, first_request.json()['totalCount'])"
   ],
   "metadata": {
    "collapsed": false,
    "pycharm": {
     "name": "#%%\n"
    }
   }
  },
  {
   "cell_type": "markdown",
   "source": [
    "### Получаем списки айдишников со всех страниц"
   ],
   "metadata": {
    "collapsed": false,
    "pycharm": {
     "name": "#%% md\n"
    }
   }
  },
  {
   "cell_type": "code",
   "execution_count": 10,
   "outputs": [
    {
     "name": "stderr",
     "output_type": "stream",
     "text": [
      "100%|██████████| 13/13 [01:18<00:00,  6.06s/it]\n"
     ]
    }
   ],
   "source": [
    "jobs_infos = []\n",
    "for page in tqdm(range(total_pages)):\n",
    "\n",
    "    search_params = {\n",
    "        'page': page,\n",
    "        'size': 100\n",
    "    }\n",
    "\n",
    "    result = requests.get(API_URL, params=search_params, headers=sber_headers, verify=False)\n",
    "    if result.status_code != 200:\n",
    "        print(f\"Skipping page {page}, response code {result.status_code}\")\n",
    "        continue\n",
    "\n",
    "    for vacancy in result.json()['vacancies']:\n",
    "        internal_id = vacancy['internalId']\n",
    "        jobs_infos.append(internal_id)\n",
    "\n",
    "    time.sleep(4.0) #sleep for 00 ms"
   ],
   "metadata": {
    "collapsed": false,
    "pycharm": {
     "name": "#%%\n"
    }
   }
  },
  {
   "cell_type": "code",
   "execution_count": 11,
   "outputs": [
    {
     "data": {
      "text/plain": "1292"
     },
     "execution_count": 11,
     "metadata": {},
     "output_type": "execute_result"
    }
   ],
   "source": [
    "len(jobs_infos)"
   ],
   "metadata": {
    "collapsed": false,
    "pycharm": {
     "name": "#%%\n"
    }
   }
  },
  {
   "cell_type": "code",
   "execution_count": 13,
   "outputs": [
    {
     "name": "stderr",
     "output_type": "stream",
     "text": [
      "  4%|▎         | 47/1292 [01:52<43:38,  2.10s/it]  "
     ]
    },
    {
     "name": "stdout",
     "output_type": "stream",
     "text": [
      "error 500\n"
     ]
    },
    {
     "name": "stderr",
     "output_type": "stream",
     "text": [
      " 28%|██▊       | 368/1292 [16:46<35:42,  2.32s/it]  "
     ]
    },
    {
     "name": "stdout",
     "output_type": "stream",
     "text": [
      "error 500\n"
     ]
    },
    {
     "name": "stderr",
     "output_type": "stream",
     "text": [
      " 89%|████████▉ | 1154/1292 [50:32<04:29,  1.96s/it] "
     ]
    },
    {
     "name": "stdout",
     "output_type": "stream",
     "text": [
      "error 500\n"
     ]
    },
    {
     "name": "stderr",
     "output_type": "stream",
     "text": [
      " 90%|████████▉ | 1157/1292 [50:39<05:20,  2.37s/it]"
     ]
    },
    {
     "name": "stdout",
     "output_type": "stream",
     "text": [
      "error 500\n"
     ]
    },
    {
     "name": "stderr",
     "output_type": "stream",
     "text": [
      " 91%|█████████ | 1170/1292 [51:10<05:42,  2.81s/it]"
     ]
    },
    {
     "name": "stdout",
     "output_type": "stream",
     "text": [
      "error 500\n"
     ]
    },
    {
     "name": "stderr",
     "output_type": "stream",
     "text": [
      "100%|██████████| 1292/1292 [56:23<00:00,  2.62s/it]\n"
     ]
    }
   ],
   "source": [
    "jobs_dicts = []\n",
    "for id in tqdm(jobs_infos):\n",
    "    result = requests.get(VACANCY_API_URL + str(id), headers=sber_headers, verify=False)\n",
    "    if result.status_code != 200:\n",
    "        print(f'error {result.status_code}')\n",
    "    else:\n",
    "        try:\n",
    "            job = result.json()\n",
    "            job_dict = {\n",
    "                'title': job['title'],\n",
    "                'internal_id' : id,\n",
    "                'url': VACANCY_API_URL + str(id),\n",
    "                'description': clear_string(job['introduction']),\n",
    "                'responsibilities': clear_string(job['duties']),\n",
    "                'qualifications': clear_string(job['requirements']),\n",
    "                'location': job['location'],\n",
    "                'company': 'Sber',\n",
    "                'publish_date': parser.parse(fix_date(job['activeFrom']))\n",
    "            }\n",
    "            jobs_dicts.append(job_dict)\n",
    "        except Exception as e:\n",
    "            print(f'Error during parsing vacancy {id}: {e}')\n",
    "\n",
    "    time.sleep(0.3) # 500 ms sleep"
   ],
   "metadata": {
    "collapsed": false,
    "pycharm": {
     "name": "#%%\n"
    }
   }
  },
  {
   "cell_type": "code",
   "execution_count": 14,
   "outputs": [
    {
     "data": {
      "text/plain": "                                                  title  internal_id  \\\n441                                          Специалист      4093106   \n930   Ведущий специалист судебного и исполнительного...      4080021   \n959   Backend (Java) разработчик (команда Applicatio...      4016929   \n29                      Machine Learning DevOps инженер      4071760   \n1251                                 Python разработчик      4093660   \n\n                                                    url  \\\n441   https://rabota.sber.ru/v2/gateway/api/pulseser...   \n930   https://rabota.sber.ru/v2/gateway/api/pulseser...   \n959   https://rabota.sber.ru/v2/gateway/api/pulseser...   \n29    https://rabota.sber.ru/v2/gateway/api/pulseser...   \n1251  https://rabota.sber.ru/v2/gateway/api/pulseser...   \n\n                                            description  \\\n441                                                None   \n930                                                None   \n959   Мы занимаемся Application Security во всем Сбе...   \n29    О проекте \\n Мы команда экспертов в области по...   \n1251  В SberData мы создаем централизованное хранили...   \n\n                                       responsibilities  \\\n441   расчет NPV-сценариев использования/реализации ...   \n930   Взыскание просроченной задолженности с физичес...   \n959   Участие в проектировании и разработке продукто...   \n29    Наша команда занимается инфраструктурой для ра...   \n1251  ·      Прототипирование сервисов; \\n ·      Ра...   \n\n                                         qualifications  \\\n441   высшее образование (в области экономики и фина...   \n930   Специалист со средним специальным, неоконченны...   \n959   Hard skills \\n \\n Фреймворки: Spring (Boot, MV...   \n29    Что для нас важно: \\n \\n Знание и опыт работы ...   \n1251  Опыт разработки Backend (Python) приложений от...   \n\n                                               location company  \\\n441                Город Челябинск, Челябинская Область    Sber   \n930   Город Тихорецк, Тихорецкий Район, Краснодарски...    Sber   \n959                                        Город Москва    Sber   \n29         Город Нижний Новгород, Нижегородская Область    Sber   \n1251                                       Город Москва    Sber   \n\n            publish_date  \n441  2022-08-09 08:56:51  \n930  2022-07-14 07:38:22  \n959  2022-07-18 11:36:43  \n29   2022-07-11 15:04:59  \n1251 2022-08-08 14:41:38  ",
      "text/html": "<div>\n<style scoped>\n    .dataframe tbody tr th:only-of-type {\n        vertical-align: middle;\n    }\n\n    .dataframe tbody tr th {\n        vertical-align: top;\n    }\n\n    .dataframe thead th {\n        text-align: right;\n    }\n</style>\n<table border=\"1\" class=\"dataframe\">\n  <thead>\n    <tr style=\"text-align: right;\">\n      <th></th>\n      <th>title</th>\n      <th>internal_id</th>\n      <th>url</th>\n      <th>description</th>\n      <th>responsibilities</th>\n      <th>qualifications</th>\n      <th>location</th>\n      <th>company</th>\n      <th>publish_date</th>\n    </tr>\n  </thead>\n  <tbody>\n    <tr>\n      <th>441</th>\n      <td>Специалист</td>\n      <td>4093106</td>\n      <td>https://rabota.sber.ru/v2/gateway/api/pulseser...</td>\n      <td>None</td>\n      <td>расчет NPV-сценариев использования/реализации ...</td>\n      <td>высшее образование (в области экономики и фина...</td>\n      <td>Город Челябинск, Челябинская Область</td>\n      <td>Sber</td>\n      <td>2022-08-09 08:56:51</td>\n    </tr>\n    <tr>\n      <th>930</th>\n      <td>Ведущий специалист судебного и исполнительного...</td>\n      <td>4080021</td>\n      <td>https://rabota.sber.ru/v2/gateway/api/pulseser...</td>\n      <td>None</td>\n      <td>Взыскание просроченной задолженности с физичес...</td>\n      <td>Специалист со средним специальным, неоконченны...</td>\n      <td>Город Тихорецк, Тихорецкий Район, Краснодарски...</td>\n      <td>Sber</td>\n      <td>2022-07-14 07:38:22</td>\n    </tr>\n    <tr>\n      <th>959</th>\n      <td>Backend (Java) разработчик (команда Applicatio...</td>\n      <td>4016929</td>\n      <td>https://rabota.sber.ru/v2/gateway/api/pulseser...</td>\n      <td>Мы занимаемся Application Security во всем Сбе...</td>\n      <td>Участие в проектировании и разработке продукто...</td>\n      <td>Hard skills \\n \\n Фреймворки: Spring (Boot, MV...</td>\n      <td>Город Москва</td>\n      <td>Sber</td>\n      <td>2022-07-18 11:36:43</td>\n    </tr>\n    <tr>\n      <th>29</th>\n      <td>Machine Learning DevOps инженер</td>\n      <td>4071760</td>\n      <td>https://rabota.sber.ru/v2/gateway/api/pulseser...</td>\n      <td>О проекте \\n Мы команда экспертов в области по...</td>\n      <td>Наша команда занимается инфраструктурой для ра...</td>\n      <td>Что для нас важно: \\n \\n Знание и опыт работы ...</td>\n      <td>Город Нижний Новгород, Нижегородская Область</td>\n      <td>Sber</td>\n      <td>2022-07-11 15:04:59</td>\n    </tr>\n    <tr>\n      <th>1251</th>\n      <td>Python разработчик</td>\n      <td>4093660</td>\n      <td>https://rabota.sber.ru/v2/gateway/api/pulseser...</td>\n      <td>В SberData мы создаем централизованное хранили...</td>\n      <td>·      Прототипирование сервисов; \\n ·      Ра...</td>\n      <td>Опыт разработки Backend (Python) приложений от...</td>\n      <td>Город Москва</td>\n      <td>Sber</td>\n      <td>2022-08-08 14:41:38</td>\n    </tr>\n  </tbody>\n</table>\n</div>"
     },
     "execution_count": 14,
     "metadata": {},
     "output_type": "execute_result"
    }
   ],
   "source": [
    "snapshot = pd.DataFrame(jobs_dicts)\n",
    "snapshot.sample(5)"
   ],
   "metadata": {
    "collapsed": false,
    "pycharm": {
     "name": "#%%\n"
    }
   }
  },
  {
   "cell_type": "code",
   "execution_count": 15,
   "outputs": [
    {
     "name": "stdout",
     "output_type": "stream",
     "text": [
      "<class 'pandas.core.frame.DataFrame'>\n",
      "RangeIndex: 1287 entries, 0 to 1286\n",
      "Data columns (total 9 columns):\n",
      " #   Column            Non-Null Count  Dtype         \n",
      "---  ------            --------------  -----         \n",
      " 0   title             1287 non-null   object        \n",
      " 1   internal_id       1287 non-null   int64         \n",
      " 2   url               1287 non-null   object        \n",
      " 3   description       785 non-null    object        \n",
      " 4   responsibilities  1287 non-null   object        \n",
      " 5   qualifications    1287 non-null   object        \n",
      " 6   location          1287 non-null   object        \n",
      " 7   company           1287 non-null   object        \n",
      " 8   publish_date      1287 non-null   datetime64[ns]\n",
      "dtypes: datetime64[ns](1), int64(1), object(7)\n",
      "memory usage: 90.6+ KB\n"
     ]
    }
   ],
   "source": [
    "snapshot.info()"
   ],
   "metadata": {
    "collapsed": false,
    "pycharm": {
     "name": "#%%\n"
    }
   }
  },
  {
   "cell_type": "code",
   "execution_count": 16,
   "outputs": [
    {
     "data": {
      "text/plain": "'10-08-2022'"
     },
     "execution_count": 16,
     "metadata": {},
     "output_type": "execute_result"
    }
   ],
   "source": [
    "current_date = datetime.now().strftime('%d-%m-%Y')\n",
    "current_date"
   ],
   "metadata": {
    "collapsed": false,
    "pycharm": {
     "name": "#%%\n"
    }
   }
  },
  {
   "cell_type": "code",
   "execution_count": 17,
   "outputs": [],
   "source": [
    "snapshot.to_csv(f'../data/sber/{current_date}.csv')\n",
    "snapshot.to_excel(f'../data/sber/{current_date}.xlsx', engine='xlsxwriter')"
   ],
   "metadata": {
    "collapsed": false,
    "pycharm": {
     "name": "#%%\n"
    }
   }
  },
  {
   "cell_type": "code",
   "execution_count": null,
   "outputs": [],
   "source": [],
   "metadata": {
    "collapsed": false,
    "pycharm": {
     "name": "#%%\n"
    }
   }
  },
  {
   "cell_type": "code",
   "execution_count": null,
   "outputs": [],
   "source": [],
   "metadata": {
    "collapsed": false,
    "pycharm": {
     "name": "#%%\n"
    }
   }
  },
  {
   "cell_type": "code",
   "execution_count": null,
   "outputs": [],
   "source": [],
   "metadata": {
    "collapsed": false,
    "pycharm": {
     "name": "#%%\n"
    }
   }
  },
  {
   "cell_type": "code",
   "execution_count": 67,
   "outputs": [
    {
     "data": {
      "text/plain": "{'timestamp': '2022-07-05T06:23:43.116+00:00',\n 'status': 400,\n 'error': 'Bad Request',\n 'message': '',\n 'path': '/v1/search/get/1848690'}"
     },
     "execution_count": 67,
     "metadata": {},
     "output_type": "execute_result"
    }
   ],
   "source": [
    "requests.get(VACANCY_API_URL + str(jobs_infos[2]), headers=sber_headers, verify=False).json()"
   ],
   "metadata": {
    "collapsed": false,
    "pycharm": {
     "name": "#%%\n"
    }
   }
  }
 ],
 "metadata": {
  "kernelspec": {
   "display_name": "Python 3",
   "language": "python",
   "name": "python3"
  },
  "language_info": {
   "codemirror_mode": {
    "name": "ipython",
    "version": 2
   },
   "file_extension": ".py",
   "mimetype": "text/x-python",
   "name": "python",
   "nbconvert_exporter": "python",
   "pygments_lexer": "ipython2",
   "version": "2.7.6"
  }
 },
 "nbformat": 4,
 "nbformat_minor": 0
}