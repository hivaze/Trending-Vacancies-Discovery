{
 "nbformat": 4,
 "nbformat_minor": 0,
 "metadata": {
  "colab": {
   "name": "Untitled13.ipynb",
   "provenance": [],
   "collapsed_sections": []
  },
  "kernelspec": {
   "name": "python3",
   "display_name": "Python 3"
  },
  "language_info": {
   "name": "python"
  }
 },
 "cells": [
  {
   "cell_type": "code",
   "source": [
    "import time\n",
    "import requests\n",
    "from bs4 import BeautifulSoup\n",
    "import json\n",
    "import re\n",
    "import time\n",
    "import faker\n",
    "import pandas as pd\n",
    "from tqdm import tqdm\n",
    "from datetime import datetime\n",
    "from dateutil import parser\n",
    "from concurrent.futures import ThreadPoolExecutor"
   ],
   "metadata": {
    "id": "6eLVK9vcoqmu",
    "pycharm": {
     "name": "#%%\n"
    }
   },
   "execution_count": 1,
   "outputs": []
  },
  {
   "cell_type": "code",
   "source": [
    "fake = faker.Faker(locale='en')"
   ],
   "metadata": {
    "id": "_-0lGk9boxhC",
    "pycharm": {
     "name": "#%%\n"
    }
   },
   "execution_count": 2,
   "outputs": []
  },
  {
   "cell_type": "code",
   "source": [
    "tencent_headers = {\n",
    "    'User-Agent': fake.chrome(),\n",
    "    'accept-language': 'en-US,en;q=0.9',\n",
    "    'pragma': 'np-cache',\n",
    "    'content-type': 'application/json',\n",
    "    'referer': 'https://careers.tencent.com/en-us/search.html'\n",
    "}"
   ],
   "metadata": {
    "id": "OmidJ_yqox-S",
    "pycharm": {
     "name": "#%%\n"
    }
   },
   "execution_count": 3,
   "outputs": []
  },
  {
   "cell_type": "code",
   "execution_count": 4,
   "outputs": [],
   "source": [
    "clear_string = lambda x: re.sub(' +', ' ', re.sub('<.*?>', ' ', x).replace('\\n', '\\n ')).strip()"
   ],
   "metadata": {
    "collapsed": false,
    "pycharm": {
     "name": "#%%\n"
    }
   }
  },
  {
   "cell_type": "code",
   "execution_count": 5,
   "outputs": [],
   "source": [
    "API_URL = \"http://careers.tencent.com/tencentcareer/api/post/Query?countryId=&cityId=&bgIds=&productId=&categoryId=&parentCategoryId=&attrId=&keyword=&language=en-us&area=us\"\n",
    "VACANCY_API_URL = \"http://careers.tencent.com/tencentcareer/api/post/ByPostId?language=en-us\""
   ],
   "metadata": {
    "collapsed": false,
    "pycharm": {
     "name": "#%%\n"
    }
   }
  },
  {
   "cell_type": "code",
   "execution_count": 6,
   "outputs": [],
   "source": [
    "search_params = {\n",
    "  'pageSize': 5000,\n",
    "  'pageIndex': 1,\n",
    "  'timestamp': int(time.time() * 1000)\n",
    "}"
   ],
   "metadata": {
    "collapsed": false,
    "pycharm": {
     "name": "#%%\n"
    }
   }
  },
  {
   "cell_type": "code",
   "execution_count": 7,
   "outputs": [
    {
     "data": {
      "text/plain": "1933"
     },
     "execution_count": 7,
     "metadata": {},
     "output_type": "execute_result"
    }
   ],
   "source": [
    "jobs_infos = requests.get(API_URL, headers=tencent_headers, params=search_params).json()['Data']['Posts']\n",
    "len(jobs_infos)"
   ],
   "metadata": {
    "collapsed": false,
    "pycharm": {
     "name": "#%%\n"
    }
   }
  },
  {
   "cell_type": "code",
   "execution_count": 8,
   "outputs": [],
   "source": [
    "def get_vacancy_dict(job_info: dict):\n",
    "    vacancy_info_params = {\n",
    "        'postId': job_info['PostId'],\n",
    "        'timestamp': int(time.time() * 1000)\n",
    "    }\n",
    "    try:\n",
    "        detailed_info = requests.get(VACANCY_API_URL, headers=tencent_headers, params=vacancy_info_params).json()['Data']\n",
    "        job_dict = {\n",
    "            'title': detailed_info['RecruitPostName'],\n",
    "            'internal_id' : detailed_info['RecruitPostId'],\n",
    "            'url': detailed_info['PostURL'],\n",
    "            'description': None,\n",
    "            'responsibilities': clear_string(detailed_info['Responsibility']),\n",
    "            'qualifications': clear_string(detailed_info['Requirement']),\n",
    "            'location': detailed_info['LocationName'],\n",
    "            'category': detailed_info['CategoryName'],\n",
    "            'company': 'Tencent',\n",
    "            'publish_date': parser.parse(detailed_info['LastUpdateTime'])\n",
    "        }\n",
    "        return job_dict\n",
    "    except:\n",
    "        print(f'Error while parsing {job_info[\"PostURL\"]}')\n",
    "        return None"
   ],
   "metadata": {
    "collapsed": false,
    "pycharm": {
     "name": "#%%\n"
    }
   }
  },
  {
   "cell_type": "code",
   "execution_count": 9,
   "outputs": [
    {
     "name": "stderr",
     "output_type": "stream",
     "text": [
      " 99%|█████████▉| 1921/1933 [07:39<00:02,  5.17it/s]"
     ]
    },
    {
     "name": "stdout",
     "output_type": "stream",
     "text": [
      "Error while parsing http://careers.tencent.com/jobdesc.html?postId=1372556351879782400\n",
      "Error while parsing http://careers.tencent.com/jobdesc.html?postId=1407545929359171584\n",
      "Error while parsing http://careers.tencent.com/jobdesc.html?postId=1341365418496892928\n"
     ]
    },
    {
     "name": "stderr",
     "output_type": "stream",
     "text": [
      " 99%|█████████▉| 1923/1933 [07:40<00:02,  4.26it/s]"
     ]
    },
    {
     "name": "stdout",
     "output_type": "stream",
     "text": [
      "Error while parsing http://careers.tencent.com/jobdesc.html?postId=1349959821117366272\n",
      "Error while parsing http://careers.tencent.com/jobdesc.html?postId=1407612467235790848\n",
      "Error while parsing http://careers.tencent.com/jobdesc.html?postId=0\n",
      "Error while parsing http://careers.tencent.com/jobdesc.html?postId=1379980118021120000\n"
     ]
    },
    {
     "name": "stderr",
     "output_type": "stream",
     "text": [
      "100%|█████████▉| 1924/1933 [07:41<00:02,  3.04it/s]"
     ]
    },
    {
     "name": "stdout",
     "output_type": "stream",
     "text": [
      "Error while parsing http://careers.tencent.com/jobdesc.html?postId=1379980116385341440\n",
      "Error while parsing http://careers.tencent.com/jobdesc.html?postId=1123175324201259008\n"
     ]
    },
    {
     "name": "stderr",
     "output_type": "stream",
     "text": [
      "100%|██████████| 1933/1933 [07:42<00:00,  4.18it/s]"
     ]
    },
    {
     "name": "stdout",
     "output_type": "stream",
     "text": [
      "Error while parsing http://careers.tencent.com/jobdesc.html?postId=0\n"
     ]
    },
    {
     "name": "stderr",
     "output_type": "stream",
     "text": [
      "\n"
     ]
    }
   ],
   "source": [
    "with ThreadPoolExecutor(max_workers=10) as executor:\n",
    "    job_dicts = list(tqdm(executor.map(get_vacancy_dict, jobs_infos), total=len(jobs_infos)))"
   ],
   "metadata": {
    "collapsed": false,
    "pycharm": {
     "name": "#%%\n"
    }
   }
  },
  {
   "cell_type": "code",
   "execution_count": 10,
   "outputs": [
    {
     "data": {
      "text/plain": "                                                  title  internal_id  \\\n68    Senior Optical System Engineer / Engineering Lead   5296954002   \n1434                             52644-教育云KA销售（北上深）（上海）        90177   \n1823                                    43452-游戏研发项目管理         76046   \n1592                       40931-自动驾驶前端开发工程师（CSIG全资子公司）        91338   \n1080                                    48547-腾讯游戏数据科学家        86872   \n\n                                                    url description  \\\n68    https://boards.greenhouse.io/tencent/jobs/6196...        None   \n1434  http://careers.tencent.com/jobdesc.html?postId...        None   \n1823  http://careers.tencent.com/jobdesc.html?postId...        None   \n1592  http://careers.tencent.com/jobdesc.html?postId...        None   \n1080  http://careers.tencent.com/jobdesc.html?postId...        None   \n\n                                       responsibilities  \\\n68    Responsibility: \\n 1.\\tResearch and developmen...   \n1434  1、负责面向教育企业行业，腾讯云计算服务等相关产品的商务工作，包括大客户的关系维护，深度挖掘...   \n1823  与投资公司核心团队保持紧密沟通，充分评估了解其研发项目，及时发现并跟踪解决游戏项目问题，有效...   \n1592  1.负责仿真孪生产品前端需求分析、新功能开发、问题修复、性能优化等\\n 2.参与仿真孪生编辑...   \n1080  1. 立足于腾讯游戏海量数据，利用数据统计分析、数据挖掘、建模、实验测试等方式，构建服务于大...   \n\n                                         qualifications   location  \\\n68    Minimum Qualifications: \\n •\\tBachelor or abov...  Palo Alto   \n1434  1、本科以上学历，通信和计算机等工科专业，5年以上工作经验，具备服务 TO B客户的大客户销...   Shanghai   \n1823  五年以上游戏行业工作经验，至少三年游戏研发项目管理经验，完整参与从产品立项之初到游戏发布的全...   Shanghai   \n1592  1.熟练掌握HTML、CSS、JavaScript语言以及ES6规范等;\\n 2.熟练使用V...      Wuhan   \n1080  1. 计算机科学、数据科学、机器学习、统计学、应用数学等领域硕士及以上学历优先；\\n 2. ...   Shenzhen   \n\n                     category  company publish_date  \n68                 Technology  Tencent   2022-06-24  \n1434  Sales,Service & Support  Tencent   2022-06-29  \n1823                  Product  Tencent   2022-05-27  \n1592               Technology  Tencent   2022-06-21  \n1080               Technology  Tencent   2022-07-14  ",
      "text/html": "<div>\n<style scoped>\n    .dataframe tbody tr th:only-of-type {\n        vertical-align: middle;\n    }\n\n    .dataframe tbody tr th {\n        vertical-align: top;\n    }\n\n    .dataframe thead th {\n        text-align: right;\n    }\n</style>\n<table border=\"1\" class=\"dataframe\">\n  <thead>\n    <tr style=\"text-align: right;\">\n      <th></th>\n      <th>title</th>\n      <th>internal_id</th>\n      <th>url</th>\n      <th>description</th>\n      <th>responsibilities</th>\n      <th>qualifications</th>\n      <th>location</th>\n      <th>category</th>\n      <th>company</th>\n      <th>publish_date</th>\n    </tr>\n  </thead>\n  <tbody>\n    <tr>\n      <th>68</th>\n      <td>Senior Optical System Engineer / Engineering Lead</td>\n      <td>5296954002</td>\n      <td>https://boards.greenhouse.io/tencent/jobs/6196...</td>\n      <td>None</td>\n      <td>Responsibility: \\n 1.\\tResearch and developmen...</td>\n      <td>Minimum Qualifications: \\n •\\tBachelor or abov...</td>\n      <td>Palo Alto</td>\n      <td>Technology</td>\n      <td>Tencent</td>\n      <td>2022-06-24</td>\n    </tr>\n    <tr>\n      <th>1434</th>\n      <td>52644-教育云KA销售（北上深）（上海）</td>\n      <td>90177</td>\n      <td>http://careers.tencent.com/jobdesc.html?postId...</td>\n      <td>None</td>\n      <td>1、负责面向教育企业行业，腾讯云计算服务等相关产品的商务工作，包括大客户的关系维护，深度挖掘...</td>\n      <td>1、本科以上学历，通信和计算机等工科专业，5年以上工作经验，具备服务 TO B客户的大客户销...</td>\n      <td>Shanghai</td>\n      <td>Sales,Service &amp; Support</td>\n      <td>Tencent</td>\n      <td>2022-06-29</td>\n    </tr>\n    <tr>\n      <th>1823</th>\n      <td>43452-游戏研发项目管理</td>\n      <td>76046</td>\n      <td>http://careers.tencent.com/jobdesc.html?postId...</td>\n      <td>None</td>\n      <td>与投资公司核心团队保持紧密沟通，充分评估了解其研发项目，及时发现并跟踪解决游戏项目问题，有效...</td>\n      <td>五年以上游戏行业工作经验，至少三年游戏研发项目管理经验，完整参与从产品立项之初到游戏发布的全...</td>\n      <td>Shanghai</td>\n      <td>Product</td>\n      <td>Tencent</td>\n      <td>2022-05-27</td>\n    </tr>\n    <tr>\n      <th>1592</th>\n      <td>40931-自动驾驶前端开发工程师（CSIG全资子公司）</td>\n      <td>91338</td>\n      <td>http://careers.tencent.com/jobdesc.html?postId...</td>\n      <td>None</td>\n      <td>1.负责仿真孪生产品前端需求分析、新功能开发、问题修复、性能优化等\\n 2.参与仿真孪生编辑...</td>\n      <td>1.熟练掌握HTML、CSS、JavaScript语言以及ES6规范等;\\n 2.熟练使用V...</td>\n      <td>Wuhan</td>\n      <td>Technology</td>\n      <td>Tencent</td>\n      <td>2022-06-21</td>\n    </tr>\n    <tr>\n      <th>1080</th>\n      <td>48547-腾讯游戏数据科学家</td>\n      <td>86872</td>\n      <td>http://careers.tencent.com/jobdesc.html?postId...</td>\n      <td>None</td>\n      <td>1. 立足于腾讯游戏海量数据，利用数据统计分析、数据挖掘、建模、实验测试等方式，构建服务于大...</td>\n      <td>1. 计算机科学、数据科学、机器学习、统计学、应用数学等领域硕士及以上学历优先；\\n 2. ...</td>\n      <td>Shenzhen</td>\n      <td>Technology</td>\n      <td>Tencent</td>\n      <td>2022-07-14</td>\n    </tr>\n  </tbody>\n</table>\n</div>"
     },
     "execution_count": 10,
     "metadata": {},
     "output_type": "execute_result"
    }
   ],
   "source": [
    "snapshot = pd.DataFrame(filter(lambda x: x is not None, job_dicts))\n",
    "snapshot.sample(5)"
   ],
   "metadata": {
    "collapsed": false,
    "pycharm": {
     "name": "#%%\n"
    }
   }
  },
  {
   "cell_type": "code",
   "execution_count": 11,
   "outputs": [
    {
     "name": "stdout",
     "output_type": "stream",
     "text": [
      "<class 'pandas.core.frame.DataFrame'>\n",
      "RangeIndex: 1923 entries, 0 to 1922\n",
      "Data columns (total 10 columns):\n",
      " #   Column            Non-Null Count  Dtype         \n",
      "---  ------            --------------  -----         \n",
      " 0   title             1923 non-null   object        \n",
      " 1   internal_id       1923 non-null   int64         \n",
      " 2   url               1923 non-null   object        \n",
      " 3   description       0 non-null      object        \n",
      " 4   responsibilities  1923 non-null   object        \n",
      " 5   qualifications    1923 non-null   object        \n",
      " 6   location          1923 non-null   object        \n",
      " 7   category          1923 non-null   object        \n",
      " 8   company           1923 non-null   object        \n",
      " 9   publish_date      1923 non-null   datetime64[ns]\n",
      "dtypes: datetime64[ns](1), int64(1), object(8)\n",
      "memory usage: 150.4+ KB\n"
     ]
    }
   ],
   "source": [
    "snapshot.info()"
   ],
   "metadata": {
    "collapsed": false,
    "pycharm": {
     "name": "#%%\n"
    }
   }
  },
  {
   "cell_type": "code",
   "execution_count": 12,
   "outputs": [
    {
     "data": {
      "text/plain": "'10-08-2022'"
     },
     "execution_count": 12,
     "metadata": {},
     "output_type": "execute_result"
    }
   ],
   "source": [
    "current_date = datetime.now().strftime('%d-%m-%Y')\n",
    "current_date"
   ],
   "metadata": {
    "collapsed": false,
    "pycharm": {
     "name": "#%%\n"
    }
   }
  },
  {
   "cell_type": "code",
   "execution_count": 13,
   "outputs": [],
   "source": [
    "snapshot.to_csv(f'../data/tencent/{current_date}.csv')\n",
    "snapshot.to_excel(f'../data/tencent/{current_date}.xlsx', engine='xlsxwriter')"
   ],
   "metadata": {
    "collapsed": false,
    "pycharm": {
     "name": "#%%\n"
    }
   }
  },
  {
   "cell_type": "code",
   "source": [],
   "metadata": {
    "id": "Lb7Nkjr7rAv6",
    "pycharm": {
     "name": "#%%\n"
    }
   },
   "execution_count": null,
   "outputs": []
  },
  {
   "cell_type": "code",
   "execution_count": null,
   "outputs": [],
   "source": [],
   "metadata": {
    "collapsed": false,
    "pycharm": {
     "name": "#%%\n"
    }
   }
  },
  {
   "cell_type": "code",
   "execution_count": null,
   "outputs": [],
   "source": [],
   "metadata": {
    "collapsed": false,
    "pycharm": {
     "name": "#%%\n"
    }
   }
  }
 ]
}