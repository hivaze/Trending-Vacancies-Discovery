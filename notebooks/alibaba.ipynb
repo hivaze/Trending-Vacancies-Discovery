{
 "cells": [
  {
   "cell_type": "markdown",
   "id": "002ff11e",
   "metadata": {
    "pycharm": {
     "name": "#%% md\n"
    }
   },
   "source": [
    "## PARSING ALIBABA VACANCY"
   ]
  },
  {
   "cell_type": "code",
   "execution_count": 1,
   "id": "ef7b795a",
   "metadata": {
    "pycharm": {
     "name": "#%%\n"
    }
   },
   "outputs": [],
   "source": [
    "############################################\n",
    "###     Research Trending Vacancies      ###\n",
    "###     Sber Dep. Research&Innovation    ### \n",
    "###   Ivanov Arseny, Sergey Bratchikov   ###\n",
    "###       A. Efimov, D. Asonov           ###\n",
    "############################################"
   ]
  },
  {
   "cell_type": "code",
   "execution_count": 2,
   "id": "298594ad",
   "metadata": {
    "pycharm": {
     "name": "#%%\n"
    }
   },
   "outputs": [
    {
     "name": "stdout",
     "output_type": "stream",
     "text": [
      "Collecting faker\n",
      "  Using cached Faker-13.14.0-py3-none-any.whl (1.6 MB)\n",
      "Requirement already satisfied: python-dateutil>=2.4 in /home/user/conda/lib/python3.7/site-packages (from faker) (2.8.2)\n",
      "Requirement already satisfied: typing-extensions>=3.10.0.2 in /home/user/conda/lib/python3.7/site-packages (from faker) (4.0.1)\n",
      "Requirement already satisfied: six>=1.5 in /home/user/conda/lib/python3.7/site-packages (from python-dateutil>=2.4->faker) (1.16.0)\n",
      "Installing collected packages: faker\n",
      "Successfully installed faker-13.14.0\n"
     ]
    }
   ],
   "source": [
    "!pip install faker ## installing faker lib"
   ]
  },
  {
   "cell_type": "code",
   "execution_count": 3,
   "id": "617286a7",
   "metadata": {
    "pycharm": {
     "name": "#%%\n"
    }
   },
   "outputs": [],
   "source": [
    "import time\n",
    "import requests\n",
    "from bs4 import BeautifulSoup\n",
    "import json\n",
    "import re\n",
    "import time\n",
    "import faker\n",
    "import pandas as pd\n",
    "from tqdm import tqdm\n",
    "from datetime import datetime"
   ]
  },
  {
   "cell_type": "code",
   "execution_count": 4,
   "id": "9eda9fdd",
   "metadata": {
    "pycharm": {
     "name": "#%%\n"
    }
   },
   "outputs": [],
   "source": [
    "fake = faker.Faker(locale='en')"
   ]
  },
  {
   "cell_type": "code",
   "execution_count": 5,
   "id": "a6d717a1",
   "metadata": {
    "pycharm": {
     "name": "#%%\n"
    }
   },
   "outputs": [],
   "source": [
    "alibaba_headers = {\n",
    "    'User-Agent': \"Mozilla/5.0 (Linux; Android 8.0; Pixel 2 Build/OPD3.170816.012) AppleWebKit/537.36 (KHTML, like Gecko) Chrome/102.0.0.0 Mobile Safari/537.36\",\n",
    "    'accept-language': 'en-US,en;q=0.9',\n",
    "    'pragma': 'np-cache',\n",
    "    'content-type': 'application/json',\n",
    "    'referer': 'https://careers.alibaba.com/positionList.htm?keyword=&location='\n",
    "}"
   ]
  },
  {
   "cell_type": "code",
   "execution_count": 17,
   "id": "c6b4f5e0",
   "metadata": {
    "pycharm": {
     "name": "#%%\n"
    }
   },
   "outputs": [
    {
     "name": "stderr",
     "output_type": "stream",
     "text": [
      "\r",
      "  0%|          | 0/27 [00:00<?, ?it/s]"
     ]
    },
    {
     "name": "stdout",
     "output_type": "stream",
     "text": [
      "<Response [200]>\n",
      "10\n",
      " \n"
     ]
    },
    {
     "name": "stderr",
     "output_type": "stream",
     "text": [
      "\r",
      "  4%|▎         | 1/27 [00:02<01:08,  2.63s/it]"
     ]
    },
    {
     "name": "stdout",
     "output_type": "stream",
     "text": [
      "<Response [200]>\n",
      "10\n",
      " \n"
     ]
    },
    {
     "name": "stderr",
     "output_type": "stream",
     "text": [
      "\r",
      "  7%|▋         | 2/27 [00:04<00:52,  2.12s/it]"
     ]
    },
    {
     "name": "stdout",
     "output_type": "stream",
     "text": [
      "<Response [200]>\n",
      "10\n",
      " \n"
     ]
    },
    {
     "name": "stderr",
     "output_type": "stream",
     "text": [
      "\r",
      " 11%|█         | 3/27 [00:05<00:39,  1.63s/it]"
     ]
    },
    {
     "name": "stdout",
     "output_type": "stream",
     "text": [
      "<Response [200]>\n",
      "10\n",
      " \n"
     ]
    },
    {
     "name": "stderr",
     "output_type": "stream",
     "text": [
      "\r",
      " 15%|█▍        | 4/27 [00:07<00:39,  1.70s/it]"
     ]
    },
    {
     "name": "stdout",
     "output_type": "stream",
     "text": [
      "<Response [200]>\n",
      "10\n",
      " \n"
     ]
    },
    {
     "name": "stderr",
     "output_type": "stream",
     "text": [
      "\r",
      " 19%|█▊        | 5/27 [00:08<00:32,  1.47s/it]"
     ]
    },
    {
     "name": "stdout",
     "output_type": "stream",
     "text": [
      "<Response [200]>\n",
      "10\n",
      " \n"
     ]
    },
    {
     "name": "stderr",
     "output_type": "stream",
     "text": [
      "\r",
      " 22%|██▏       | 6/27 [00:09<00:32,  1.53s/it]"
     ]
    },
    {
     "name": "stdout",
     "output_type": "stream",
     "text": [
      "<Response [200]>\n",
      "10\n",
      " \n"
     ]
    },
    {
     "name": "stderr",
     "output_type": "stream",
     "text": [
      "\r",
      " 26%|██▌       | 7/27 [00:11<00:32,  1.62s/it]"
     ]
    },
    {
     "name": "stdout",
     "output_type": "stream",
     "text": [
      "<Response [200]>\n",
      "10\n",
      " \n"
     ]
    },
    {
     "name": "stderr",
     "output_type": "stream",
     "text": [
      "\r",
      " 30%|██▉       | 8/27 [00:13<00:31,  1.67s/it]"
     ]
    },
    {
     "name": "stdout",
     "output_type": "stream",
     "text": [
      "<Response [200]>\n",
      "10\n",
      " \n"
     ]
    },
    {
     "name": "stderr",
     "output_type": "stream",
     "text": [
      "\r",
      " 33%|███▎      | 9/27 [00:15<00:30,  1.71s/it]"
     ]
    },
    {
     "name": "stdout",
     "output_type": "stream",
     "text": [
      "<Response [200]>\n",
      "10\n",
      " \n"
     ]
    },
    {
     "name": "stderr",
     "output_type": "stream",
     "text": [
      "\r",
      " 37%|███▋      | 10/27 [00:17<00:29,  1.73s/it]"
     ]
    },
    {
     "name": "stdout",
     "output_type": "stream",
     "text": [
      "<Response [200]>\n",
      "10\n",
      " \n"
     ]
    },
    {
     "name": "stderr",
     "output_type": "stream",
     "text": [
      "\r",
      " 41%|████      | 11/27 [00:18<00:27,  1.74s/it]"
     ]
    },
    {
     "name": "stdout",
     "output_type": "stream",
     "text": [
      "<Response [200]>\n",
      "10\n",
      " \n"
     ]
    },
    {
     "name": "stderr",
     "output_type": "stream",
     "text": [
      "\r",
      " 44%|████▍     | 12/27 [00:20<00:23,  1.56s/it]"
     ]
    },
    {
     "name": "stdout",
     "output_type": "stream",
     "text": [
      "<Response [200]>\n",
      "10\n",
      " \n"
     ]
    },
    {
     "name": "stderr",
     "output_type": "stream",
     "text": [
      "\r",
      " 48%|████▊     | 13/27 [00:21<00:22,  1.63s/it]"
     ]
    },
    {
     "name": "stdout",
     "output_type": "stream",
     "text": [
      "<Response [200]>\n",
      "10\n",
      " \n"
     ]
    },
    {
     "name": "stderr",
     "output_type": "stream",
     "text": [
      "\r",
      " 52%|█████▏    | 14/27 [00:23<00:21,  1.66s/it]"
     ]
    },
    {
     "name": "stdout",
     "output_type": "stream",
     "text": [
      "<Response [200]>\n",
      "10\n",
      " \n"
     ]
    },
    {
     "name": "stderr",
     "output_type": "stream",
     "text": [
      "\r",
      " 56%|█████▌    | 15/27 [00:24<00:17,  1.50s/it]"
     ]
    },
    {
     "name": "stdout",
     "output_type": "stream",
     "text": [
      "<Response [200]>\n",
      "10\n",
      " \n"
     ]
    },
    {
     "name": "stderr",
     "output_type": "stream",
     "text": [
      "\r",
      " 59%|█████▉    | 16/27 [00:25<00:15,  1.38s/it]"
     ]
    },
    {
     "name": "stdout",
     "output_type": "stream",
     "text": [
      "<Response [200]>\n",
      "10\n",
      " \n"
     ]
    },
    {
     "name": "stderr",
     "output_type": "stream",
     "text": [
      "\r",
      " 63%|██████▎   | 17/27 [00:26<00:12,  1.29s/it]"
     ]
    },
    {
     "name": "stdout",
     "output_type": "stream",
     "text": [
      "<Response [200]>\n",
      "10\n",
      " \n"
     ]
    },
    {
     "name": "stderr",
     "output_type": "stream",
     "text": [
      "\r",
      " 67%|██████▋   | 18/27 [00:27<00:11,  1.24s/it]"
     ]
    },
    {
     "name": "stdout",
     "output_type": "stream",
     "text": [
      "<Response [200]>\n",
      "10\n",
      " \n"
     ]
    },
    {
     "name": "stderr",
     "output_type": "stream",
     "text": [
      "\r",
      " 70%|███████   | 19/27 [00:29<00:11,  1.40s/it]"
     ]
    },
    {
     "name": "stdout",
     "output_type": "stream",
     "text": [
      "<Response [200]>\n",
      "10\n",
      " \n"
     ]
    },
    {
     "name": "stderr",
     "output_type": "stream",
     "text": [
      "\r",
      " 74%|███████▍  | 20/27 [00:31<00:10,  1.51s/it]"
     ]
    },
    {
     "name": "stdout",
     "output_type": "stream",
     "text": [
      "<Response [200]>\n",
      "10\n",
      " \n"
     ]
    },
    {
     "name": "stderr",
     "output_type": "stream",
     "text": [
      "\r",
      " 78%|███████▊  | 21/27 [00:33<00:09,  1.61s/it]"
     ]
    },
    {
     "name": "stdout",
     "output_type": "stream",
     "text": [
      "<Response [200]>\n",
      "10\n",
      " \n"
     ]
    },
    {
     "name": "stderr",
     "output_type": "stream",
     "text": [
      "\r",
      " 81%|████████▏ | 22/27 [00:34<00:07,  1.47s/it]"
     ]
    },
    {
     "name": "stdout",
     "output_type": "stream",
     "text": [
      "<Response [200]>\n",
      "10\n",
      " \n"
     ]
    },
    {
     "name": "stderr",
     "output_type": "stream",
     "text": [
      "\r",
      " 85%|████████▌ | 23/27 [00:35<00:05,  1.37s/it]"
     ]
    },
    {
     "name": "stdout",
     "output_type": "stream",
     "text": [
      "<Response [200]>\n",
      "10\n",
      " \n"
     ]
    },
    {
     "name": "stderr",
     "output_type": "stream",
     "text": [
      "\r",
      " 89%|████████▉ | 24/27 [00:37<00:04,  1.47s/it]"
     ]
    },
    {
     "name": "stdout",
     "output_type": "stream",
     "text": [
      "<Response [200]>\n",
      "10\n",
      " \n"
     ]
    },
    {
     "name": "stderr",
     "output_type": "stream",
     "text": [
      "\r",
      " 93%|█████████▎| 25/27 [00:38<00:02,  1.37s/it]"
     ]
    },
    {
     "name": "stdout",
     "output_type": "stream",
     "text": [
      "<Response [200]>\n",
      "10\n",
      " \n"
     ]
    },
    {
     "name": "stderr",
     "output_type": "stream",
     "text": [
      "\r",
      " 96%|█████████▋| 26/27 [00:39<00:01,  1.30s/it]"
     ]
    },
    {
     "name": "stdout",
     "output_type": "stream",
     "text": [
      "<Response [200]>\n",
      "7\n",
      " \n"
     ]
    },
    {
     "name": "stderr",
     "output_type": "stream",
     "text": [
      "100%|██████████| 27/27 [00:42<00:00,  1.56s/it]\n"
     ]
    }
   ],
   "source": [
    "import pandas as pd\n",
    "\n",
    "final = []\n",
    "count = 1\n",
    "\n",
    "for i in tqdm(range(27)):\n",
    "  URL = f\"https://careers.alibaba.com/socialPositionList.json?_api=getPositionList&_mock=false&categorys=&keyword=&location=&pageIndex={count}&pageSize=10&_stamp=1656719439198\"\n",
    "  VACANCY_INFO_URL = \"https://careers.alibaba.com/positionList.htm?keyword=&location=\"\n",
    "#   print(URL)\n",
    "  count = count + 1\n",
    "  result = requests.get(URL, headers=alibaba_headers)\n",
    "  print(result)\n",
    "\n",
    "  all_jobs = result.json()['content']['datas']\n",
    "  print(len(all_jobs))\n",
    "  print(\" \")\n",
    "\n",
    "  for j in range(10):\n",
    "    try:\n",
    "      record = {}\n",
    "      record['title'] = all_jobs[j]['name']\n",
    "      record['internal_id'] = all_jobs[j]['id']\n",
    "      job_path = all_jobs[j]['id']\n",
    "      record['url'] = f'https://careers.alibaba.com/positionDetail.htm?positionId={job_path}'\n",
    "      record['description'] = re.sub(r'<.*?>', '', all_jobs[j]['description'])\n",
    "      record['responsibilities'] = 'Nan' \n",
    "      record['qualifications'] = re.sub(r'<.*?>', '', all_jobs[j]['requirement'])\n",
    "      record['direction'] = all_jobs[j]['categoryEnName']\n",
    "      record['company'] = \"Alibaba\"\n",
    "      record['depart_company'] = all_jobs[j]['departmentName']\n",
    "      record['LocationName'] = all_jobs[j]['workLocation']\n",
    "      record['publish_date'] = 'Nan'\n",
    "      final.append(record)\n",
    "    except:\n",
    "      continue\n",
    "  time.sleep(0.25)\n",
    "\n",
    "df = pd.DataFrame(final, columns = [\"title\", \"internal_id\", \"url\", \"description\", \"responsibilities\", \"qualifications\", \"direction\", \"company\", \"depart_company\", \"LocationName\", \"publish_date\"])"
   ]
  },
  {
   "cell_type": "markdown",
   "id": "94a9c45e",
   "metadata": {
    "pycharm": {
     "name": "#%% md\n"
    }
   },
   "source": [
    "## Generate csv and tsv files"
   ]
  },
  {
   "cell_type": "code",
   "execution_count": 19,
   "id": "7636ccf2",
   "metadata": {
    "pycharm": {
     "name": "#%%\n"
    }
   },
   "outputs": [],
   "source": [
    "df.to_csv(r'alibaba_02072022.csv', encoding='utf-8')"
   ]
  },
  {
   "cell_type": "markdown",
   "id": "2ae66f02",
   "metadata": {
    "pycharm": {
     "name": "#%% md\n"
    }
   },
   "source": [
    "## After this code generated DataFrame with info about all Alibaba's vacancy"
   ]
  },
  {
   "cell_type": "code",
   "execution_count": 20,
   "id": "da899321",
   "metadata": {
    "pycharm": {
     "name": "#%%\n"
    }
   },
   "outputs": [],
   "source": [
    "data = pd.read_csv('alibaba_02072022.csv', index_col = 0)"
   ]
  },
  {
   "cell_type": "code",
   "execution_count": 21,
   "id": "42460836",
   "metadata": {
    "pycharm": {
     "name": "#%%\n"
    }
   },
   "outputs": [
    {
     "data": {
      "text/html": [
       "<div>\n",
       "<style scoped>\n",
       "    .dataframe tbody tr th:only-of-type {\n",
       "        vertical-align: middle;\n",
       "    }\n",
       "\n",
       "    .dataframe tbody tr th {\n",
       "        vertical-align: top;\n",
       "    }\n",
       "\n",
       "    .dataframe thead th {\n",
       "        text-align: right;\n",
       "    }\n",
       "</style>\n",
       "<table border=\"1\" class=\"dataframe\">\n",
       "  <thead>\n",
       "    <tr style=\"text-align: right;\">\n",
       "      <th></th>\n",
       "      <th>title</th>\n",
       "      <th>internal_id</th>\n",
       "      <th>url</th>\n",
       "      <th>description</th>\n",
       "      <th>responsibilities</th>\n",
       "      <th>qualifications</th>\n",
       "      <th>direction</th>\n",
       "      <th>company</th>\n",
       "      <th>depart_company</th>\n",
       "      <th>LocationName</th>\n",
       "      <th>publish_date</th>\n",
       "    </tr>\n",
       "  </thead>\n",
       "  <tbody>\n",
       "    <tr>\n",
       "      <th>0</th>\n",
       "      <td>银泰商业 品控专家 杭州</td>\n",
       "      <td>fPrFnpjW1kpAz3Z9h9Lmqg%3D%3D</td>\n",
       "      <td>https://careers.alibaba.com/positionDetail.htm...</td>\n",
       "      <td>喵街新商场是赋能传统百货的新商场数字化场景，为银泰会员提供全域卖货产品解决方案的全新平台，实...</td>\n",
       "      <td>Nan</td>\n",
       "      <td>1.3年以上品控风控管理经验，熟悉商品质量控制和规则的管理链路；\\n2.具有比较扎实的业务能...</td>\n",
       "      <td>Operation-Merchant &amp; Commodity Management</td>\n",
       "      <td>Alibaba</td>\n",
       "      <td>喵街</td>\n",
       "      <td>Hangzhou,Zhejiang,China</td>\n",
       "      <td>Nan</td>\n",
       "    </tr>\n",
       "    <tr>\n",
       "      <th>1</th>\n",
       "      <td>Alibaba Group Senior  Business Development Man...</td>\n",
       "      <td>FOCtJwbYRUOOQvxyErwGNg%3D%3D</td>\n",
       "      <td>https://careers.alibaba.com/positionDetail.htm...</td>\n",
       "      <td>Please submit your CV in English.\\n\\n1. Priori...</td>\n",
       "      <td>Nan</td>\n",
       "      <td>This is how you can impress us!\\n1. 5+ years e...</td>\n",
       "      <td>BD-Business/Region BD</td>\n",
       "      <td>Alibaba</td>\n",
       "      <td>欧洲</td>\n",
       "      <td>Milano,Italy</td>\n",
       "      <td>Nan</td>\n",
       "    </tr>\n",
       "    <tr>\n",
       "      <th>2</th>\n",
       "      <td>银泰商业 直播策划专家 杭州</td>\n",
       "      <td>51rELapnwd1HvoDmXVF9bw%3D%3D</td>\n",
       "      <td>https://careers.alibaba.com/positionDetail.htm...</td>\n",
       "      <td>1、熟悉银泰商场类业务的调性，根据银泰/主播形象定位定制人设定位，输出相关内容创意；\\n  ...</td>\n",
       "      <td>Nan</td>\n",
       "      <td>1、 2-3年营销策划或内容运营工作经验，熟悉抖音、快手短视频及直播运营；\\n2、熟悉各类线...</td>\n",
       "      <td>Operations - Integrated management</td>\n",
       "      <td>Alibaba</td>\n",
       "      <td>喵街</td>\n",
       "      <td>Hangzhou,Zhejiang,China</td>\n",
       "      <td>Nan</td>\n",
       "    </tr>\n",
       "    <tr>\n",
       "      <th>3</th>\n",
       "      <td>银泰商业 门店工程物业专家 温州</td>\n",
       "      <td>lcSNPflYpKFs%2FFmYuVoSxw%3D%3D</td>\n",
       "      <td>https://careers.alibaba.com/positionDetail.htm...</td>\n",
       "      <td>全面负责门店所有设备的保养、维修、更新改造等工作的组织、指导和管理工作，确保大厦工程设备的正...</td>\n",
       "      <td>Nan</td>\n",
       "      <td>— 教育背景：相关专业；\\n— 职业资格：有物业管理经理上岗证，并同时具备强弱电、空调、水暖...</td>\n",
       "      <td>Integration - Integrated management</td>\n",
       "      <td>Alibaba</td>\n",
       "      <td>第六战区</td>\n",
       "      <td>Wenzhou,Zhejiang,China</td>\n",
       "      <td>Nan</td>\n",
       "    </tr>\n",
       "    <tr>\n",
       "      <th>4</th>\n",
       "      <td>银泰商业 Java开发工程师 杭州</td>\n",
       "      <td>L9NJpEQBIxCmVwQXyDpagg%3D%3D</td>\n",
       "      <td>https://careers.alibaba.com/positionDetail.htm...</td>\n",
       "      <td>1）负责银泰相关技术系统的设计和开发工作；\\n2）独立完成中小型项目的系统分析、设计，并主导...</td>\n",
       "      <td>Nan</td>\n",
       "      <td>1）计算机软件或相关专业，3年以上Java开发经验；\\n2）熟悉Java/J2EE， 基础扎...</td>\n",
       "      <td>Technology - Operations and maintenance</td>\n",
       "      <td>Alibaba</td>\n",
       "      <td>研发部</td>\n",
       "      <td>Hangzhou,Zhejiang,China</td>\n",
       "      <td>Nan</td>\n",
       "    </tr>\n",
       "    <tr>\n",
       "      <th>...</th>\n",
       "      <td>...</td>\n",
       "      <td>...</td>\n",
       "      <td>...</td>\n",
       "      <td>...</td>\n",
       "      <td>...</td>\n",
       "      <td>...</td>\n",
       "      <td>...</td>\n",
       "      <td>...</td>\n",
       "      <td>...</td>\n",
       "      <td>...</td>\n",
       "      <td>...</td>\n",
       "    </tr>\n",
       "    <tr>\n",
       "      <th>262</th>\n",
       "      <td>蚂蚁集团  Operations Manager（北美业务） 国际事业群</td>\n",
       "      <td>Sq6gT_07NwmOmyX498ZyaQ%3D%3D</td>\n",
       "      <td>https://careers.alibaba.com/positionDetail.htm...</td>\n",
       "      <td>• 负责北美区域重点商户的日常运营/大促/市场的规划以及实施；重点商户的市场关系维护；北美区...</td>\n",
       "      <td>Nan</td>\n",
       "      <td>关键能力 \\n1. 熟悉互联网行业运营，有相关互联网公司线上运营经验或者北美地区的digit...</td>\n",
       "      <td>Operation-User Operation</td>\n",
       "      <td>Alibaba</td>\n",
       "      <td>北美业务</td>\n",
       "      <td>Sunnyvale,California,United States</td>\n",
       "      <td>Nan</td>\n",
       "    </tr>\n",
       "    <tr>\n",
       "      <th>263</th>\n",
       "      <td>Ant Group Test and Development Expert OceanBase</td>\n",
       "      <td>nRkNUokcesOhZfxTW1y4Lg%3D%3D</td>\n",
       "      <td>https://careers.alibaba.com/positionDetail.htm...</td>\n",
       "      <td>1. Ensure the OceanBase kernel and platform qu...</td>\n",
       "      <td>Nan</td>\n",
       "      <td>1. Be proficient in at least the Python, Java,...</td>\n",
       "      <td>Technology - Quality assurance</td>\n",
       "      <td>Alibaba</td>\n",
       "      <td>技术部</td>\n",
       "      <td>Hangzhou,Zhejiang,China</td>\n",
       "      <td>Nan</td>\n",
       "    </tr>\n",
       "    <tr>\n",
       "      <th>264</th>\n",
       "      <td>Ant Group Relationship Manager (SME Dealing) –...</td>\n",
       "      <td>z3m5flLI8nQMLATaCbkyhg%3D%3D</td>\n",
       "      <td>https://careers.alibaba.com/positionDetail.htm...</td>\n",
       "      <td>Responsible for managing the day-to-day relati...</td>\n",
       "      <td>Nan</td>\n",
       "      <td>Skills and experience required:\\n\\nFluent in G...</td>\n",
       "      <td>Sales - Direct sales</td>\n",
       "      <td>Alibaba</td>\n",
       "      <td>Relationship Management</td>\n",
       "      <td>Amsterdam,Netherlands</td>\n",
       "      <td>Nan</td>\n",
       "    </tr>\n",
       "    <tr>\n",
       "      <th>265</th>\n",
       "      <td>Cainiao Network Oversea Benefits Senior Specia...</td>\n",
       "      <td>6T1wtCStYBebEbfA5efUMw%3D%3D</td>\n",
       "      <td>https://careers.alibaba.com/positionDetail.htm...</td>\n",
       "      <td>This role will take responsibility for oversea...</td>\n",
       "      <td>Nan</td>\n",
       "      <td>· 5+ years of experience working within employ...</td>\n",
       "      <td>Integration - Human resources</td>\n",
       "      <td>Alibaba</td>\n",
       "      <td>薪酬福利中心</td>\n",
       "      <td>Hangzhou,Zhejiang,China</td>\n",
       "      <td>Nan</td>\n",
       "    </tr>\n",
       "    <tr>\n",
       "      <th>266</th>\n",
       "      <td>Ant Bank (Hong Kong) Limited  Treasurer Intern...</td>\n",
       "      <td>nP30IS8tDSoIBB18B82WgA%3D%3D</td>\n",
       "      <td>https://careers.alibaba.com/positionDetail.htm...</td>\n",
       "      <td>1、定期與其他相關部門交流預先瞭解資金需求；\\n2、負責銀行資金管理和投资工作，負責資金池相...</td>\n",
       "      <td>Nan</td>\n",
       "      <td>1、學歷要求：本科及以上\\n2、有關工作經驗：10年以上\\n3、專業要求：金融專業\\n4、專...</td>\n",
       "      <td>Finance - Fund management</td>\n",
       "      <td>Alibaba</td>\n",
       "      <td>财务及资金管理部</td>\n",
       "      <td>Hong Kong</td>\n",
       "      <td>Nan</td>\n",
       "    </tr>\n",
       "  </tbody>\n",
       "</table>\n",
       "<p>267 rows × 11 columns</p>\n",
       "</div>"
      ],
      "text/plain": [
       "                                                 title  \\\n",
       "0                                         银泰商业 品控专家 杭州   \n",
       "1    Alibaba Group Senior  Business Development Man...   \n",
       "2                                       银泰商业 直播策划专家 杭州   \n",
       "3                                     银泰商业 门店工程物业专家 温州   \n",
       "4                                    银泰商业 Java开发工程师 杭州   \n",
       "..                                                 ...   \n",
       "262               蚂蚁集团  Operations Manager（北美业务） 国际事业群   \n",
       "263    Ant Group Test and Development Expert OceanBase   \n",
       "264  Ant Group Relationship Manager (SME Dealing) –...   \n",
       "265  Cainiao Network Oversea Benefits Senior Specia...   \n",
       "266  Ant Bank (Hong Kong) Limited  Treasurer Intern...   \n",
       "\n",
       "                        internal_id  \\\n",
       "0      fPrFnpjW1kpAz3Z9h9Lmqg%3D%3D   \n",
       "1      FOCtJwbYRUOOQvxyErwGNg%3D%3D   \n",
       "2      51rELapnwd1HvoDmXVF9bw%3D%3D   \n",
       "3    lcSNPflYpKFs%2FFmYuVoSxw%3D%3D   \n",
       "4      L9NJpEQBIxCmVwQXyDpagg%3D%3D   \n",
       "..                              ...   \n",
       "262    Sq6gT_07NwmOmyX498ZyaQ%3D%3D   \n",
       "263    nRkNUokcesOhZfxTW1y4Lg%3D%3D   \n",
       "264    z3m5flLI8nQMLATaCbkyhg%3D%3D   \n",
       "265    6T1wtCStYBebEbfA5efUMw%3D%3D   \n",
       "266    nP30IS8tDSoIBB18B82WgA%3D%3D   \n",
       "\n",
       "                                                   url  \\\n",
       "0    https://careers.alibaba.com/positionDetail.htm...   \n",
       "1    https://careers.alibaba.com/positionDetail.htm...   \n",
       "2    https://careers.alibaba.com/positionDetail.htm...   \n",
       "3    https://careers.alibaba.com/positionDetail.htm...   \n",
       "4    https://careers.alibaba.com/positionDetail.htm...   \n",
       "..                                                 ...   \n",
       "262  https://careers.alibaba.com/positionDetail.htm...   \n",
       "263  https://careers.alibaba.com/positionDetail.htm...   \n",
       "264  https://careers.alibaba.com/positionDetail.htm...   \n",
       "265  https://careers.alibaba.com/positionDetail.htm...   \n",
       "266  https://careers.alibaba.com/positionDetail.htm...   \n",
       "\n",
       "                                           description responsibilities  \\\n",
       "0    喵街新商场是赋能传统百货的新商场数字化场景，为银泰会员提供全域卖货产品解决方案的全新平台，实...              Nan   \n",
       "1    Please submit your CV in English.\\n\\n1. Priori...              Nan   \n",
       "2    1、熟悉银泰商场类业务的调性，根据银泰/主播形象定位定制人设定位，输出相关内容创意；\\n  ...              Nan   \n",
       "3    全面负责门店所有设备的保养、维修、更新改造等工作的组织、指导和管理工作，确保大厦工程设备的正...              Nan   \n",
       "4    1）负责银泰相关技术系统的设计和开发工作；\\n2）独立完成中小型项目的系统分析、设计，并主导...              Nan   \n",
       "..                                                 ...              ...   \n",
       "262  • 负责北美区域重点商户的日常运营/大促/市场的规划以及实施；重点商户的市场关系维护；北美区...              Nan   \n",
       "263  1. Ensure the OceanBase kernel and platform qu...              Nan   \n",
       "264  Responsible for managing the day-to-day relati...              Nan   \n",
       "265  This role will take responsibility for oversea...              Nan   \n",
       "266  1、定期與其他相關部門交流預先瞭解資金需求；\\n2、負責銀行資金管理和投资工作，負責資金池相...              Nan   \n",
       "\n",
       "                                        qualifications  \\\n",
       "0    1.3年以上品控风控管理经验，熟悉商品质量控制和规则的管理链路；\\n2.具有比较扎实的业务能...   \n",
       "1    This is how you can impress us!\\n1. 5+ years e...   \n",
       "2    1、 2-3年营销策划或内容运营工作经验，熟悉抖音、快手短视频及直播运营；\\n2、熟悉各类线...   \n",
       "3    — 教育背景：相关专业；\\n— 职业资格：有物业管理经理上岗证，并同时具备强弱电、空调、水暖...   \n",
       "4    1）计算机软件或相关专业，3年以上Java开发经验；\\n2）熟悉Java/J2EE， 基础扎...   \n",
       "..                                                 ...   \n",
       "262  关键能力 \\n1. 熟悉互联网行业运营，有相关互联网公司线上运营经验或者北美地区的digit...   \n",
       "263  1. Be proficient in at least the Python, Java,...   \n",
       "264  Skills and experience required:\\n\\nFluent in G...   \n",
       "265  · 5+ years of experience working within employ...   \n",
       "266  1、學歷要求：本科及以上\\n2、有關工作經驗：10年以上\\n3、專業要求：金融專業\\n4、專...   \n",
       "\n",
       "                                     direction  company  \\\n",
       "0    Operation-Merchant & Commodity Management  Alibaba   \n",
       "1                        BD-Business/Region BD  Alibaba   \n",
       "2           Operations - Integrated management  Alibaba   \n",
       "3          Integration - Integrated management  Alibaba   \n",
       "4      Technology - Operations and maintenance  Alibaba   \n",
       "..                                         ...      ...   \n",
       "262                   Operation-User Operation  Alibaba   \n",
       "263             Technology - Quality assurance  Alibaba   \n",
       "264                       Sales - Direct sales  Alibaba   \n",
       "265              Integration - Human resources  Alibaba   \n",
       "266                  Finance - Fund management  Alibaba   \n",
       "\n",
       "              depart_company                        LocationName publish_date  \n",
       "0                         喵街             Hangzhou,Zhejiang,China          Nan  \n",
       "1                         欧洲                        Milano,Italy          Nan  \n",
       "2                         喵街             Hangzhou,Zhejiang,China          Nan  \n",
       "3                       第六战区              Wenzhou,Zhejiang,China          Nan  \n",
       "4                        研发部             Hangzhou,Zhejiang,China          Nan  \n",
       "..                       ...                                 ...          ...  \n",
       "262                     北美业务  Sunnyvale,California,United States          Nan  \n",
       "263                      技术部             Hangzhou,Zhejiang,China          Nan  \n",
       "264  Relationship Management               Amsterdam,Netherlands          Nan  \n",
       "265                   薪酬福利中心             Hangzhou,Zhejiang,China          Nan  \n",
       "266                 财务及资金管理部                           Hong Kong          Nan  \n",
       "\n",
       "[267 rows x 11 columns]"
      ]
     },
     "execution_count": 21,
     "metadata": {},
     "output_type": "execute_result"
    }
   ],
   "source": [
    "data"
   ]
  },
  {
   "cell_type": "code",
   "execution_count": null,
   "id": "8e6f7edb",
   "metadata": {
    "pycharm": {
     "name": "#%%\n"
    }
   },
   "outputs": [],
   "source": []
  },
  {
   "cell_type": "code",
   "execution_count": null,
   "id": "f565f7ae",
   "metadata": {
    "pycharm": {
     "name": "#%%\n"
    }
   },
   "outputs": [],
   "source": []
  },
  {
   "cell_type": "code",
   "execution_count": null,
   "id": "f06f1ced",
   "metadata": {
    "pycharm": {
     "name": "#%%\n"
    }
   },
   "outputs": [],
   "source": []
  },
  {
   "cell_type": "code",
   "execution_count": null,
   "id": "24738cb2",
   "metadata": {
    "pycharm": {
     "name": "#%%\n"
    }
   },
   "outputs": [],
   "source": []
  },
  {
   "cell_type": "code",
   "execution_count": null,
   "id": "f3197aea",
   "metadata": {
    "pycharm": {
     "name": "#%%\n"
    }
   },
   "outputs": [],
   "source": []
  }
 ],
 "metadata": {
  "kernelspec": {
   "display_name": "Python 3 (ipykernel)",
   "language": "python",
   "name": "python3"
  },
  "language_info": {
   "codemirror_mode": {
    "name": "ipython",
    "version": 3
   },
   "file_extension": ".py",
   "mimetype": "text/x-python",
   "name": "python",
   "nbconvert_exporter": "python",
   "pygments_lexer": "ipython3",
   "version": "3.7.12"
  }
 },
 "nbformat": 4,
 "nbformat_minor": 5
}