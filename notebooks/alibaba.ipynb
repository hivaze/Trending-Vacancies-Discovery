{
 "cells": [
  {
   "cell_type": "code",
   "execution_count": 54,
   "id": "617286a7",
   "metadata": {
    "pycharm": {
     "name": "#%%\n"
    }
   },
   "outputs": [],
   "source": [
    "import time\n",
    "import requests\n",
    "import json\n",
    "import re\n",
    "import time\n",
    "import faker\n",
    "import pandas as pd\n",
    "from tqdm import tqdm\n",
    "from dateutil import parser\n",
    "from datetime import datetime"
   ]
  },
  {
   "cell_type": "code",
   "execution_count": 2,
   "id": "9eda9fdd",
   "metadata": {
    "pycharm": {
     "name": "#%%\n"
    }
   },
   "outputs": [],
   "source": [
    "fake = faker.Faker(locale='en')"
   ]
  },
  {
   "cell_type": "code",
   "execution_count": 73,
   "outputs": [],
   "source": [
    "clear_string = lambda x: re.sub(' +', ' ', re.sub('<.*?>', ' ', x).replace('\\n', '\\n ')).replace('\\t', ' ').strip()"
   ],
   "metadata": {
    "collapsed": false,
    "pycharm": {
     "name": "#%%\n"
    }
   }
  },
  {
   "cell_type": "code",
   "execution_count": 74,
   "id": "a6d717a1",
   "metadata": {
    "pycharm": {
     "name": "#%%\n"
    }
   },
   "outputs": [],
   "source": [
    "alibaba_headers = {\n",
    "    'User-Agent': \"Mozilla/5.0 (Linux; Android 8.0; Pixel 2 Build/OPD3.170816.012) AppleWebKit/537.36 (KHTML, like Gecko) Chrome/102.0.0.0 Mobile Safari/537.36\",\n",
    "    'accept-language': 'en-US,en;q=0.9',\n",
    "    'pragma': 'np-cache',\n",
    "    'content-type': 'application/json',\n",
    "    'referer': 'https://careers.alibaba.com/positionList.htm?keyword=&location='\n",
    "}"
   ]
  },
  {
   "cell_type": "code",
   "execution_count": 75,
   "outputs": [],
   "source": [
    "VAC_LIST_URL = \"https://careers.alibaba.com/socialPositionList.json?_api=getPositionList&_mock=false&categorys=&keyword=&location=\"\n",
    "VAC_DETAIL_URL = \"https://careers.alibaba.com/positionDetail.json?_api=getPositionDetail&_mock=false&positionId=\""
   ],
   "metadata": {
    "collapsed": false,
    "pycharm": {
     "name": "#%%\n"
    }
   }
  },
  {
   "cell_type": "code",
   "execution_count": 76,
   "outputs": [],
   "source": [
    "search_params = {\n",
    "  'pageSize': 1000,\n",
    "  'pageIndex': 1,\n",
    "  'stamp': int(time.time() * 1000)\n",
    "}"
   ],
   "metadata": {
    "collapsed": false,
    "pycharm": {
     "name": "#%%\n"
    }
   }
  },
  {
   "cell_type": "code",
   "execution_count": 77,
   "outputs": [
    {
     "data": {
      "text/plain": "dict_keys(['datas', 'empty', 'pageIndex', 'pageSize', 'totalPage', 'totalRecord'])"
     },
     "execution_count": 77,
     "metadata": {},
     "output_type": "execute_result"
    }
   ],
   "source": [
    "list_result = requests.get(VAC_LIST_URL, headers=alibaba_headers, params=search_params).json()['content']\n",
    "list_result.keys()"
   ],
   "metadata": {
    "collapsed": false,
    "pycharm": {
     "name": "#%%\n"
    }
   }
  },
  {
   "cell_type": "code",
   "execution_count": 78,
   "outputs": [
    {
     "data": {
      "text/plain": "dict_keys(['canReferral', 'canShare', 'canTransfer', 'categoryEnName', 'categoryId', 'categoryName', 'code', 'degree', 'departmentId', 'departmentName', 'description', 'effectiveDate', 'gmtCreate', 'gmtModified', 'id', 'isOpen', 'isSocial', 'isUrgent', 'name', 'offerRecruitsNumber', 'recruitNumber', 'recruitmentArea', 'requirement', 'status', 'uneffectualDate', 'workExperience', 'workLocation'])"
     },
     "execution_count": 78,
     "metadata": {},
     "output_type": "execute_result"
    }
   ],
   "source": [
    "list_result['datas'][0].keys()"
   ],
   "metadata": {
    "collapsed": false,
    "pycharm": {
     "name": "#%%\n"
    }
   }
  },
  {
   "cell_type": "code",
   "execution_count": 79,
   "outputs": [
    {
     "name": "stderr",
     "output_type": "stream",
     "text": [
      "100%|██████████| 310/310 [00:00<00:00, 11104.10it/s]\n"
     ]
    }
   ],
   "source": [
    "job_dicts = []\n",
    "for job_info in tqdm(list_result['datas']):\n",
    "  if job_info['isOpen'] == 'Y':\n",
    "    job_dict = {\n",
    "      'title': clear_string(job_info['name']),\n",
    "      'internal_id': job_info['id'],\n",
    "      'url': VAC_DETAIL_URL + job_info['id'],\n",
    "      'description': clear_string(job_info['description']),\n",
    "      'responsibilities': clear_string(job_info['requirement']),\n",
    "      'qualifications': None,\n",
    "      'company': 'Alibaba',\n",
    "      'location': clear_string(job_info['workLocation']) if job_info['workLocation'] else None,\n",
    "      'department': clear_string(job_info['departmentName']) if job_info['departmentName'] else None,\n",
    "      'publish_date': datetime.fromtimestamp(float(job_info[\"gmtCreate\"]) / 1000)\n",
    "    }\n",
    "    job_dicts.append(job_dict)\n",
    "  else:\n",
    "    print(f'Skipping vac with id {job_info[\"id\"]} because it is closed')"
   ],
   "metadata": {
    "collapsed": false,
    "pycharm": {
     "name": "#%%\n"
    }
   }
  },
  {
   "cell_type": "code",
   "execution_count": 80,
   "outputs": [
    {
     "data": {
      "text/plain": "                                                 title  \\\n186                 蚂蚁集团 NLP算法专家 Team Leader 认知计算和知识图谱   \n128     Alibaba Group Sales-Account Executive New York   \n133  Ant Group Senior Sales Manager (China-Desk) FT...   \n109                                 蚂蚁集团 FIBD HK 国际事业群   \n34     Ant Group Developer Community Manager OceanBase   \n\n                        internal_id  \\\n186    MbBtcq1JQpov8sZNYPM2Cg%3D%3D   \n128  tPy7R4_I1PIfw12B%2FWl4Pw%3D%3D   \n133  Rb4jbbQ2qiJU1AnK%2FcrZ0w%3D%3D   \n109    dgpcOCiaFpr7ILs7Be3mhw%3D%3D   \n34     U7WajyrEx40i5ASxOz1FDA%3D%3D   \n\n                                                   url  \\\n186  https://careers.alibaba.com/positionDetail.jso...   \n128  https://careers.alibaba.com/positionDetail.jso...   \n133  https://careers.alibaba.com/positionDetail.jso...   \n109  https://careers.alibaba.com/positionDetail.jso...   \n34   https://careers.alibaba.com/positionDetail.jso...   \n\n                                           description  \\\n186  1. 领导和建立世界一流的NLP算法研发团队（10人+）\\n 2. 支持公司内的各类NLP应...   \n128  What you'd be selling\\n \\n This is an opportun...   \n133  WorldFirst is shaking up the financial service...   \n109  1. Bank cooperation： Business cooperation with...   \n34   1.Build and execute evangelism programs that s...   \n\n                                      responsibilities qualifications  \\\n186  1. 自然语言理解、机器学习相关领域学位，曾在顶级会议发表论文（主要集中在 ACL，EMNL...           None   \n128  - Identify and source new partners through inb...           None   \n133  You are fluent in Mandarin and English, with a...           None   \n109  1. Prior work experience with banks, card sche...           None   \n34   1.5+ years of experience in technical evangeli...           None   \n\n     company                         location   department        publish_date  \n186  Alibaba            Beijing,Beijing,China  知识图谱与自然语言处理 2022-02-15 08:23:16  \n128  Alibaba  New York,New York,United States      GGS 销售部 2022-05-13 06:51:09  \n133  Alibaba            Amsterdam,Netherlands        Sales 2022-07-14 14:43:09  \n109  Alibaba                        Hong Kong    金融机构支持及管理 2022-04-06 12:53:20  \n34   Alibaba              Singapore,Singapore        国际业务部 2022-08-08 09:43:01  ",
      "text/html": "<div>\n<style scoped>\n    .dataframe tbody tr th:only-of-type {\n        vertical-align: middle;\n    }\n\n    .dataframe tbody tr th {\n        vertical-align: top;\n    }\n\n    .dataframe thead th {\n        text-align: right;\n    }\n</style>\n<table border=\"1\" class=\"dataframe\">\n  <thead>\n    <tr style=\"text-align: right;\">\n      <th></th>\n      <th>title</th>\n      <th>internal_id</th>\n      <th>url</th>\n      <th>description</th>\n      <th>responsibilities</th>\n      <th>qualifications</th>\n      <th>company</th>\n      <th>location</th>\n      <th>department</th>\n      <th>publish_date</th>\n    </tr>\n  </thead>\n  <tbody>\n    <tr>\n      <th>186</th>\n      <td>蚂蚁集团 NLP算法专家 Team Leader 认知计算和知识图谱</td>\n      <td>MbBtcq1JQpov8sZNYPM2Cg%3D%3D</td>\n      <td>https://careers.alibaba.com/positionDetail.jso...</td>\n      <td>1. 领导和建立世界一流的NLP算法研发团队（10人+）\\n 2. 支持公司内的各类NLP应...</td>\n      <td>1. 自然语言理解、机器学习相关领域学位，曾在顶级会议发表论文（主要集中在 ACL，EMNL...</td>\n      <td>None</td>\n      <td>Alibaba</td>\n      <td>Beijing,Beijing,China</td>\n      <td>知识图谱与自然语言处理</td>\n      <td>2022-02-15 08:23:16</td>\n    </tr>\n    <tr>\n      <th>128</th>\n      <td>Alibaba Group Sales-Account Executive New York</td>\n      <td>tPy7R4_I1PIfw12B%2FWl4Pw%3D%3D</td>\n      <td>https://careers.alibaba.com/positionDetail.jso...</td>\n      <td>What you'd be selling\\n \\n This is an opportun...</td>\n      <td>- Identify and source new partners through inb...</td>\n      <td>None</td>\n      <td>Alibaba</td>\n      <td>New York,New York,United States</td>\n      <td>GGS 销售部</td>\n      <td>2022-05-13 06:51:09</td>\n    </tr>\n    <tr>\n      <th>133</th>\n      <td>Ant Group Senior Sales Manager (China-Desk) FT...</td>\n      <td>Rb4jbbQ2qiJU1AnK%2FcrZ0w%3D%3D</td>\n      <td>https://careers.alibaba.com/positionDetail.jso...</td>\n      <td>WorldFirst is shaking up the financial service...</td>\n      <td>You are fluent in Mandarin and English, with a...</td>\n      <td>None</td>\n      <td>Alibaba</td>\n      <td>Amsterdam,Netherlands</td>\n      <td>Sales</td>\n      <td>2022-07-14 14:43:09</td>\n    </tr>\n    <tr>\n      <th>109</th>\n      <td>蚂蚁集团 FIBD HK 国际事业群</td>\n      <td>dgpcOCiaFpr7ILs7Be3mhw%3D%3D</td>\n      <td>https://careers.alibaba.com/positionDetail.jso...</td>\n      <td>1. Bank cooperation： Business cooperation with...</td>\n      <td>1. Prior work experience with banks, card sche...</td>\n      <td>None</td>\n      <td>Alibaba</td>\n      <td>Hong Kong</td>\n      <td>金融机构支持及管理</td>\n      <td>2022-04-06 12:53:20</td>\n    </tr>\n    <tr>\n      <th>34</th>\n      <td>Ant Group Developer Community Manager OceanBase</td>\n      <td>U7WajyrEx40i5ASxOz1FDA%3D%3D</td>\n      <td>https://careers.alibaba.com/positionDetail.jso...</td>\n      <td>1.Build and execute evangelism programs that s...</td>\n      <td>1.5+ years of experience in technical evangeli...</td>\n      <td>None</td>\n      <td>Alibaba</td>\n      <td>Singapore,Singapore</td>\n      <td>国际业务部</td>\n      <td>2022-08-08 09:43:01</td>\n    </tr>\n  </tbody>\n</table>\n</div>"
     },
     "execution_count": 80,
     "metadata": {},
     "output_type": "execute_result"
    }
   ],
   "source": [
    "snapshot = pd.DataFrame(filter(lambda x: x is not None, job_dicts))\n",
    "snapshot.sample(5)"
   ],
   "metadata": {
    "collapsed": false,
    "pycharm": {
     "name": "#%%\n"
    }
   }
  },
  {
   "cell_type": "code",
   "execution_count": 81,
   "id": "8e6f7edb",
   "metadata": {
    "pycharm": {
     "name": "#%%\n"
    }
   },
   "outputs": [
    {
     "name": "stdout",
     "output_type": "stream",
     "text": [
      "<class 'pandas.core.frame.DataFrame'>\n",
      "RangeIndex: 310 entries, 0 to 309\n",
      "Data columns (total 10 columns):\n",
      " #   Column            Non-Null Count  Dtype         \n",
      "---  ------            --------------  -----         \n",
      " 0   title             310 non-null    object        \n",
      " 1   internal_id       310 non-null    object        \n",
      " 2   url               310 non-null    object        \n",
      " 3   description       310 non-null    object        \n",
      " 4   responsibilities  310 non-null    object        \n",
      " 5   qualifications    0 non-null      object        \n",
      " 6   company           310 non-null    object        \n",
      " 7   location          310 non-null    object        \n",
      " 8   department        310 non-null    object        \n",
      " 9   publish_date      310 non-null    datetime64[ns]\n",
      "dtypes: datetime64[ns](1), object(9)\n",
      "memory usage: 24.3+ KB\n"
     ]
    }
   ],
   "source": [
    "snapshot.info()"
   ]
  },
  {
   "cell_type": "code",
   "execution_count": 82,
   "id": "f565f7ae",
   "metadata": {
    "pycharm": {
     "name": "#%%\n"
    }
   },
   "outputs": [
    {
     "data": {
      "text/plain": "'11-08-2022'"
     },
     "execution_count": 82,
     "metadata": {},
     "output_type": "execute_result"
    }
   ],
   "source": [
    "current_date = datetime.now().strftime('%d-%m-%Y')\n",
    "current_date"
   ]
  },
  {
   "cell_type": "code",
   "execution_count": 83,
   "id": "f06f1ced",
   "metadata": {
    "pycharm": {
     "name": "#%%\n"
    }
   },
   "outputs": [],
   "source": [
    "snapshot.to_csv(f'../data/alibaba/{current_date}.csv')\n",
    "snapshot.to_excel(f'../data/alibaba/{current_date}.xlsx', engine='xlsxwriter')"
   ]
  },
  {
   "cell_type": "code",
   "execution_count": null,
   "id": "24738cb2",
   "metadata": {
    "pycharm": {
     "name": "#%%\n"
    }
   },
   "outputs": [],
   "source": []
  },
  {
   "cell_type": "code",
   "execution_count": null,
   "id": "f3197aea",
   "metadata": {
    "pycharm": {
     "name": "#%%\n"
    }
   },
   "outputs": [],
   "source": []
  }
 ],
 "metadata": {
  "kernelspec": {
   "display_name": "Python 3 (ipykernel)",
   "language": "python",
   "name": "python3"
  },
  "language_info": {
   "codemirror_mode": {
    "name": "ipython",
    "version": 3
   },
   "file_extension": ".py",
   "mimetype": "text/x-python",
   "name": "python",
   "nbconvert_exporter": "python",
   "pygments_lexer": "ipython3",
   "version": "3.7.12"
  }
 },
 "nbformat": 4,
 "nbformat_minor": 5
}