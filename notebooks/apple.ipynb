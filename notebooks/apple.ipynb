{
 "cells": [
  {
   "cell_type": "code",
   "execution_count": 1,
   "outputs": [],
   "source": [
    "import time\n",
    "import requests\n",
    "from bs4 import BeautifulSoup\n",
    "import json\n",
    "import re\n",
    "import time\n",
    "import faker\n",
    "import pandas as pd\n",
    "from tqdm import tqdm\n",
    "from datetime import datetime\n",
    "from dateutil import parser"
   ],
   "metadata": {
    "collapsed": false,
    "pycharm": {
     "name": "#%%\n"
    }
   }
  },
  {
   "cell_type": "code",
   "execution_count": 2,
   "outputs": [],
   "source": [
    "from concurrent.futures import ThreadPoolExecutor"
   ],
   "metadata": {
    "collapsed": false,
    "pycharm": {
     "name": "#%%\n"
    }
   }
  },
  {
   "cell_type": "code",
   "execution_count": 3,
   "outputs": [],
   "source": [
    "fake = faker.Faker(locale='en')"
   ],
   "metadata": {
    "collapsed": false,
    "pycharm": {
     "name": "#%%\n"
    }
   }
  },
  {
   "cell_type": "code",
   "execution_count": 4,
   "outputs": [],
   "source": [
    "apple_headers = {\n",
    "    'User-Agent': fake.chrome(),\n",
    "    'accept-language': 'en-US,en;q=0.9',\n",
    "    'pragma': 'np-cache',\n",
    "    'countrycode': 'USA',\n",
    "    'sec-fetch-mode': 'cors',\n",
    "    'sec-fetch-site': 'same-origin',\n",
    "    'origin': 'http://jobs.apple.com',\n",
    "    'Host': 'jobs.apple.com',\n",
    "    'referer': 'http://jobs.apple.com/en-us/search'\n",
    "}"
   ],
   "metadata": {
    "collapsed": false,
    "pycharm": {
     "name": "#%%\n"
    }
   }
  },
  {
   "cell_type": "code",
   "execution_count": 5,
   "outputs": [],
   "source": [
    "MAIN_URL = \"http://jobs.apple.com\"\n",
    "HTML_URL = \"http://jobs.apple.com/en-us/search\"\n",
    "CSRF_TOKEN = \"http://jobs.apple.com/api/csrfToken\"\n",
    "API_URL = \"http://jobs.apple.com/api/role/search\""
   ],
   "metadata": {
    "collapsed": false,
    "pycharm": {
     "name": "#%%\n"
    }
   }
  },
  {
   "cell_type": "markdown",
   "source": [
    "## Через парсинг страниц\n",
    "Сначала собираем ссылки и начальную инфу для детального парсинга каждой ваки"
   ],
   "metadata": {
    "collapsed": false,
    "pycharm": {
     "name": "#%% md\n"
    }
   }
  },
  {
   "cell_type": "code",
   "execution_count": 6,
   "outputs": [],
   "source": [
    "clear_string = lambda x: re.sub(' +', ' ', re.sub('<.*?>', ' ', x).replace('\\n', '\\n ')).strip()"
   ],
   "metadata": {
    "collapsed": false,
    "pycharm": {
     "name": "#%%\n"
    }
   }
  },
  {
   "cell_type": "code",
   "execution_count": 7,
   "outputs": [
    {
     "name": "stderr",
     "output_type": "stream",
     "text": [
      " 41%|████      | 409/1000 [18:51<27:14,  2.77s/it]\n"
     ]
    }
   ],
   "source": [
    "jobs_list = []\n",
    "null_counter = 0\n",
    "for page in tqdm(range(0, 1000)):\n",
    "    search_params = {\n",
    "        'page': page\n",
    "    }\n",
    "    html_result = requests.get(HTML_URL, headers=apple_headers, params=search_params)\n",
    "    soup = BeautifulSoup(html_result.text)\n",
    "\n",
    "    results_table = soup.find('div', attrs={'class': 'results__table'})\n",
    "    if results_table:\n",
    "        null_counter = 0\n",
    "\n",
    "        jobs = results_table.find('table').find_all('tbody')\n",
    "        for job_block in jobs:\n",
    "            job_info = job_block.findNext('td')\n",
    "\n",
    "            name = job_info.find('a').text\n",
    "            url = job_info.find('a')['href']\n",
    "            internal_id = job_info.find('a')['id'].split('-')[-1]\n",
    "            publish_date = parser.parse(job_info.find('span').findNext().text)\n",
    "\n",
    "            jobs_list.append((url, internal_id, name, publish_date))\n",
    "\n",
    "        time.sleep(0.2) # sleep for 200 ms\n",
    "    else:\n",
    "        null_counter += 1\n",
    "        if null_counter == 3:\n",
    "            break\n",
    "        else:\n",
    "            continue"
   ],
   "metadata": {
    "collapsed": false,
    "pycharm": {
     "name": "#%%\n"
    }
   }
  },
  {
   "cell_type": "code",
   "execution_count": 8,
   "outputs": [
    {
     "data": {
      "text/plain": "8126"
     },
     "execution_count": 8,
     "metadata": {},
     "output_type": "execute_result"
    }
   ],
   "source": [
    "len(jobs_list)"
   ],
   "metadata": {
    "collapsed": false,
    "pycharm": {
     "name": "#%%\n"
    }
   }
  },
  {
   "cell_type": "code",
   "execution_count": 9,
   "outputs": [
    {
     "data": {
      "text/plain": "('/en-us/details/200125389/cn-business-pro?team=APPST',\n '200125389',\n 'CN-Business Pro',\n datetime.datetime(2022, 8, 9, 0, 0))"
     },
     "execution_count": 9,
     "metadata": {},
     "output_type": "execute_result"
    }
   ],
   "source": [
    "jobs_list[100]"
   ],
   "metadata": {
    "collapsed": false,
    "pycharm": {
     "name": "#%%\n"
    }
   }
  },
  {
   "cell_type": "markdown",
   "source": [
    "#### Детальный парсинг страниц вакансий"
   ],
   "metadata": {
    "collapsed": false,
    "pycharm": {
     "name": "#%% md\n"
    }
   }
  },
  {
   "cell_type": "code",
   "execution_count": 10,
   "outputs": [],
   "source": [
    "def get_vacancy(params):\n",
    "    url, internal_id, name, publish_date = params\n",
    "\n",
    "    try:\n",
    "        job_website = requests.get(MAIN_URL + url, headers=apple_headers)\n",
    "        soup = BeautifulSoup(job_website.text)\n",
    "    except:\n",
    "        print(f'Error while requesting {MAIN_URL + url}')\n",
    "        return None\n",
    "\n",
    "    try:\n",
    "        description = clear_string(soup.find('div', id='jd-job-summary').span.text)\n",
    "        qualifications = clear_string(soup.find('div', id='jd-key-qualifications').text)\n",
    "        responsibilities = clear_string(soup.find('div', id='jd-description').text)\n",
    "    except:\n",
    "        print(f'Error while parsing {job_website.url}')\n",
    "        return None\n",
    "\n",
    "    job_dict = {\n",
    "        'title': name,\n",
    "        'internal_id' : internal_id,\n",
    "        'url': MAIN_URL + url,\n",
    "        'description': description,\n",
    "        'responsibilities': responsibilities,\n",
    "        'qualifications': qualifications,\n",
    "        'company': 'Apple',\n",
    "        'publish_date': publish_date\n",
    "    }\n",
    "\n",
    "    return job_dict"
   ],
   "metadata": {
    "collapsed": false,
    "pycharm": {
     "name": "#%%\n"
    }
   }
  },
  {
   "cell_type": "code",
   "execution_count": 11,
   "outputs": [
    {
     "name": "stderr",
     "output_type": "stream",
     "text": [
      "  8%|▊         | 687/8126 [03:25<28:45,  4.31it/s]  "
     ]
    },
    {
     "name": "stdout",
     "output_type": "stream",
     "text": [
      "Error while parsing https://jobs-prz.apple.com/en-us/details/200409020/us-manager?team=APPST\n"
     ]
    },
    {
     "name": "stderr",
     "output_type": "stream",
     "text": [
      "  9%|▊         | 692/8126 [03:27<36:52,  3.36it/s]"
     ]
    },
    {
     "name": "stdout",
     "output_type": "stream",
     "text": [
      "Error while parsing https://jobs-prz.apple.com/en-us/details/200409022/us-manager?team=APPST\n",
      "Error while parsing https://jobs-prz.apple.com/en-us/details/200400490/administrative-assistant-ai-ml?team=CORSV\n"
     ]
    },
    {
     "name": "stderr",
     "output_type": "stream",
     "text": [
      " 13%|█▎        | 1046/8126 [05:07<32:31,  3.63it/s] "
     ]
    },
    {
     "name": "stdout",
     "output_type": "stream",
     "text": [
      "Error while parsing https://jobs-prz.apple.com/en-us/details/200400689/administrative-assistant?team=CORSV\n"
     ]
    },
    {
     "name": "stderr",
     "output_type": "stream",
     "text": [
      " 15%|█▌        | 1243/8126 [06:14<43:15,  2.65it/s]  "
     ]
    },
    {
     "name": "stdout",
     "output_type": "stream",
     "text": [
      "Error while parsing https://jobs-prz.apple.com/en-us/details/200402982/administrative-assistant-wireless-technologies-and-ecosystems?team=SFTWR\n"
     ]
    },
    {
     "name": "stderr",
     "output_type": "stream",
     "text": [
      " 16%|█▌        | 1294/8126 [06:27<37:09,  3.06it/s]"
     ]
    },
    {
     "name": "stdout",
     "output_type": "stream",
     "text": [
      "Error while parsing https://jobs-prz.apple.com/en-us/details/200370989/optical-sensing-hw-sensing-system-hw-electrical-engineer?team=NA\n"
     ]
    },
    {
     "name": "stderr",
     "output_type": "stream",
     "text": [
      " 19%|█▉        | 1574/8126 [07:54<41:41,  2.62it/s]  "
     ]
    },
    {
     "name": "stdout",
     "output_type": "stream",
     "text": [
      "Error while parsing https://jobs-prz.apple.com/en-us/details/200401710/au-lead-genius?team=APPST\n"
     ]
    },
    {
     "name": "stderr",
     "output_type": "stream",
     "text": [
      " 27%|██▋       | 2177/8126 [10:56<37:59,  2.61it/s]  "
     ]
    },
    {
     "name": "stdout",
     "output_type": "stream",
     "text": [
      "Error while parsing https://jobs-prz.apple.com/en-us/details/200401812/administrative-assistant-sw-programs?team=CORSV\n",
      "Error while parsing https://jobs-prz.apple.com/en-us/details/200401592/administrative-assistant-wireless-power-and-opaque-touch?team=CORSV\n"
     ]
    },
    {
     "name": "stderr",
     "output_type": "stream",
     "text": [
      " 27%|██▋       | 2182/8126 [10:59<41:32,  2.38it/s]"
     ]
    },
    {
     "name": "stdout",
     "output_type": "stream",
     "text": [
      "Error while parsing https://jobs-prz.apple.com/en-us/details/200400806/administrative-project-manager-site-level?team=CORSV\n"
     ]
    },
    {
     "name": "stderr",
     "output_type": "stream",
     "text": [
      " 31%|███       | 2537/8126 [12:44<16:56,  5.50it/s]  "
     ]
    },
    {
     "name": "stdout",
     "output_type": "stream",
     "text": [
      "Error while parsing https://jobs-prz.apple.com/en-us/details/200399643/administrative-assistant?team=CORSV\n"
     ]
    },
    {
     "name": "stderr",
     "output_type": "stream",
     "text": [
      " 32%|███▏      | 2578/8126 [12:56<28:19,  3.27it/s]"
     ]
    },
    {
     "name": "stdout",
     "output_type": "stream",
     "text": [
      "Error while parsing https://jobs-prz.apple.com/en-us/details/200398560/safety-engineer?team=HRDWR\n"
     ]
    },
    {
     "name": "stderr",
     "output_type": "stream",
     "text": [
      " 34%|███▍      | 2802/8126 [14:00<19:31,  4.54it/s]"
     ]
    },
    {
     "name": "stdout",
     "output_type": "stream",
     "text": [
      "Error while parsing https://jobs-prz.apple.com/en-us/details/200396505/admin-assistant?team=CORSV\n"
     ]
    },
    {
     "name": "stderr",
     "output_type": "stream",
     "text": [
      " 35%|███▍      | 2811/8126 [14:03<17:33,  5.04it/s]"
     ]
    },
    {
     "name": "stdout",
     "output_type": "stream",
     "text": [
      "Error while parsing https://jobs-prz.apple.com/en-us/details/200396220/administrative-assistant?team=SFTWR\n"
     ]
    },
    {
     "name": "stderr",
     "output_type": "stream",
     "text": [
      " 36%|███▋      | 2951/8126 [14:46<38:06,  2.26it/s]"
     ]
    },
    {
     "name": "stdout",
     "output_type": "stream",
     "text": [
      "Error while parsing https://jobs-prz.apple.com/en-us/details/200395855/administration-assistant?team=HRDWR\n"
     ]
    },
    {
     "name": "stderr",
     "output_type": "stream",
     "text": [
      " 40%|███▉      | 3243/8126 [16:16<20:12,  4.03it/s]  "
     ]
    },
    {
     "name": "stdout",
     "output_type": "stream",
     "text": [
      "Error while parsing https://jobs-prz.apple.com/en-us/details/200394781/administrative-assistant-tdg?team=HRDWR\n"
     ]
    },
    {
     "name": "stderr",
     "output_type": "stream",
     "text": [
      " 44%|████▎     | 3552/8126 [17:48<13:21,  5.71it/s]"
     ]
    },
    {
     "name": "stdout",
     "output_type": "stream",
     "text": [
      "Error while parsing https://jobs-prz.apple.com/en-us/details/200326298/administrative-assistant?team=SFTWR\n"
     ]
    },
    {
     "name": "stderr",
     "output_type": "stream",
     "text": [
      " 53%|█████▎    | 4306/8126 [21:50<15:33,  4.09it/s]"
     ]
    },
    {
     "name": "stdout",
     "output_type": "stream",
     "text": [
      "Error while parsing https://jobs-prz.apple.com/en-us/details/200385074/administrative-assistant-apps-program?team=NA\n"
     ]
    },
    {
     "name": "stderr",
     "output_type": "stream",
     "text": [
      " 60%|██████    | 4907/8126 [25:07<09:58,  5.38it/s]  "
     ]
    },
    {
     "name": "stdout",
     "output_type": "stream",
     "text": [
      "Error while parsing https://jobs-prz.apple.com/en-us/details/200377865/administrative-assistant?team=HRDWR\n"
     ]
    },
    {
     "name": "stderr",
     "output_type": "stream",
     "text": [
      " 69%|██████▉   | 5628/8126 [28:52<17:52,  2.33it/s]"
     ]
    },
    {
     "name": "stdout",
     "output_type": "stream",
     "text": [
      "Error while parsing https://jobs-prz.apple.com/en-us/details/200366854/administrative-assistant?team=CORSV\n"
     ]
    },
    {
     "name": "stderr",
     "output_type": "stream",
     "text": [
      " 93%|█████████▎| 7592/8126 [38:41<02:24,  3.71it/s]"
     ]
    },
    {
     "name": "stdout",
     "output_type": "stream",
     "text": [
      "Error while parsing https://jobs-prz.apple.com/en-us/details/200271917/recruiter-internet-software-services-contract?team=CORSV\n"
     ]
    },
    {
     "name": "stderr",
     "output_type": "stream",
     "text": [
      "100%|██████████| 8126/8126 [41:17<00:00,  3.28it/s]\n"
     ]
    }
   ],
   "source": [
    "with ThreadPoolExecutor(max_workers=10) as executor:\n",
    "    job_dicts = list(tqdm(executor.map(get_vacancy, jobs_list), total=len(jobs_list)))"
   ],
   "metadata": {
    "collapsed": false,
    "pycharm": {
     "name": "#%%\n"
    }
   }
  },
  {
   "cell_type": "code",
   "execution_count": 12,
   "outputs": [
    {
     "data": {
      "text/plain": "                                                  title internal_id  \\\n1937  Data Scientist - Wallet, Payments & Commerce -...   200400995   \n2315                           Supply Demand Management   200371437   \n6980                               Performance Engineer   200323237   \n5746        Machine Learning Scientist - Health Sensing   200365146   \n4002                Software Engineer, Trust and Safety   200360404   \n\n                                                    url  \\\n1937  http://jobs.apple.com/en-us/details/200400995/...   \n2315  http://jobs.apple.com/en-us/details/200371437/...   \n6980  http://jobs.apple.com/en-us/details/200323237/...   \n5746  http://jobs.apple.com/en-us/details/200365146/...   \n4002  http://jobs.apple.com/en-us/details/200360404/...   \n\n                                            description  \\\n1937  Apple is a place where extraordinary people ga...   \n2315  COMPANY OVERVIEW: \\n Apple ignited the persona...   \n6980  The Technology Development Group is working on...   \n5746  \"I believe, if you zoom out into the future, a...   \n4002  At Apple, our Trust & Safety team is responsib...   \n\n                                       responsibilities  \\\n1937  Take deep dives in large-scale data to identif...   \n2315  •\\tBe the supply and demand representative in ...   \n6980  The Technology Development Group is looking fo...   \n5746  This is a key position on a team supporting R&...   \n4002  This is a hands-on software development role. ...   \n\n                                         qualifications company publish_date  \n1937  Working knowledge of relational databases, inc...   Apple   2022-07-19  \n2315  BA/BS required; MBA preferred, or equivalent w...   Apple   2022-07-13  \n6980  In-depth knowledge of tools and techniques for...   Apple   2021-12-10  \n5746  5+ years of experience in machine learning alg...   Apple   2022-04-06  \n4002  8 - 10 years experience working on large-scale...   Apple   2022-06-06  ",
      "text/html": "<div>\n<style scoped>\n    .dataframe tbody tr th:only-of-type {\n        vertical-align: middle;\n    }\n\n    .dataframe tbody tr th {\n        vertical-align: top;\n    }\n\n    .dataframe thead th {\n        text-align: right;\n    }\n</style>\n<table border=\"1\" class=\"dataframe\">\n  <thead>\n    <tr style=\"text-align: right;\">\n      <th></th>\n      <th>title</th>\n      <th>internal_id</th>\n      <th>url</th>\n      <th>description</th>\n      <th>responsibilities</th>\n      <th>qualifications</th>\n      <th>company</th>\n      <th>publish_date</th>\n    </tr>\n  </thead>\n  <tbody>\n    <tr>\n      <th>1937</th>\n      <td>Data Scientist - Wallet, Payments &amp; Commerce -...</td>\n      <td>200400995</td>\n      <td>http://jobs.apple.com/en-us/details/200400995/...</td>\n      <td>Apple is a place where extraordinary people ga...</td>\n      <td>Take deep dives in large-scale data to identif...</td>\n      <td>Working knowledge of relational databases, inc...</td>\n      <td>Apple</td>\n      <td>2022-07-19</td>\n    </tr>\n    <tr>\n      <th>2315</th>\n      <td>Supply Demand Management</td>\n      <td>200371437</td>\n      <td>http://jobs.apple.com/en-us/details/200371437/...</td>\n      <td>COMPANY OVERVIEW: \\n Apple ignited the persona...</td>\n      <td>•\\tBe the supply and demand representative in ...</td>\n      <td>BA/BS required; MBA preferred, or equivalent w...</td>\n      <td>Apple</td>\n      <td>2022-07-13</td>\n    </tr>\n    <tr>\n      <th>6980</th>\n      <td>Performance Engineer</td>\n      <td>200323237</td>\n      <td>http://jobs.apple.com/en-us/details/200323237/...</td>\n      <td>The Technology Development Group is working on...</td>\n      <td>The Technology Development Group is looking fo...</td>\n      <td>In-depth knowledge of tools and techniques for...</td>\n      <td>Apple</td>\n      <td>2021-12-10</td>\n    </tr>\n    <tr>\n      <th>5746</th>\n      <td>Machine Learning Scientist - Health Sensing</td>\n      <td>200365146</td>\n      <td>http://jobs.apple.com/en-us/details/200365146/...</td>\n      <td>\"I believe, if you zoom out into the future, a...</td>\n      <td>This is a key position on a team supporting R&amp;...</td>\n      <td>5+ years of experience in machine learning alg...</td>\n      <td>Apple</td>\n      <td>2022-04-06</td>\n    </tr>\n    <tr>\n      <th>4002</th>\n      <td>Software Engineer, Trust and Safety</td>\n      <td>200360404</td>\n      <td>http://jobs.apple.com/en-us/details/200360404/...</td>\n      <td>At Apple, our Trust &amp; Safety team is responsib...</td>\n      <td>This is a hands-on software development role. ...</td>\n      <td>8 - 10 years experience working on large-scale...</td>\n      <td>Apple</td>\n      <td>2022-06-06</td>\n    </tr>\n  </tbody>\n</table>\n</div>"
     },
     "execution_count": 12,
     "metadata": {},
     "output_type": "execute_result"
    }
   ],
   "source": [
    "snapshot = pd.DataFrame(filter(lambda x: x is not None, job_dicts))\n",
    "snapshot.sample(5)"
   ],
   "metadata": {
    "collapsed": false,
    "pycharm": {
     "name": "#%%\n"
    }
   }
  },
  {
   "cell_type": "code",
   "execution_count": 13,
   "outputs": [
    {
     "name": "stdout",
     "output_type": "stream",
     "text": [
      "<class 'pandas.core.frame.DataFrame'>\n",
      "RangeIndex: 8105 entries, 0 to 8104\n",
      "Data columns (total 8 columns):\n",
      " #   Column            Non-Null Count  Dtype         \n",
      "---  ------            --------------  -----         \n",
      " 0   title             8105 non-null   object        \n",
      " 1   internal_id       8105 non-null   object        \n",
      " 2   url               8105 non-null   object        \n",
      " 3   description       8105 non-null   object        \n",
      " 4   responsibilities  8105 non-null   object        \n",
      " 5   qualifications    8105 non-null   object        \n",
      " 6   company           8105 non-null   object        \n",
      " 7   publish_date      8105 non-null   datetime64[ns]\n",
      "dtypes: datetime64[ns](1), object(7)\n",
      "memory usage: 506.7+ KB\n"
     ]
    }
   ],
   "source": [
    "snapshot.info()"
   ],
   "metadata": {
    "collapsed": false,
    "pycharm": {
     "name": "#%%\n"
    }
   }
  },
  {
   "cell_type": "code",
   "execution_count": 14,
   "outputs": [
    {
     "data": {
      "text/plain": "'10-08-2022'"
     },
     "execution_count": 14,
     "metadata": {},
     "output_type": "execute_result"
    }
   ],
   "source": [
    "current_date = datetime.now().strftime('%d-%m-%Y')\n",
    "current_date"
   ],
   "metadata": {
    "collapsed": false,
    "pycharm": {
     "name": "#%%\n"
    }
   }
  },
  {
   "cell_type": "code",
   "execution_count": 16,
   "outputs": [],
   "source": [
    "snapshot.to_csv(f'../data/apple/{current_date}.csv')\n",
    "snapshot.to_excel(f'../data/apple/{current_date}.xlsx', engine='xlsxwriter')"
   ],
   "metadata": {
    "collapsed": false,
    "pycharm": {
     "name": "#%%\n"
    }
   }
  },
  {
   "cell_type": "markdown",
   "source": [
    "#### Проверка на единичной вакансии"
   ],
   "metadata": {
    "collapsed": false,
    "pycharm": {
     "name": "#%% md\n"
    }
   }
  },
  {
   "cell_type": "code",
   "execution_count": 202,
   "outputs": [
    {
     "data": {
      "text/plain": "<Response [200]>"
     },
     "execution_count": 202,
     "metadata": {},
     "output_type": "execute_result"
    }
   ],
   "source": [
    "job_website = requests.get(MAIN_URL + jobs_list[0][0], headers=apple_headers)\n",
    "job_website"
   ],
   "metadata": {
    "collapsed": false,
    "pycharm": {
     "name": "#%%\n"
    }
   }
  },
  {
   "cell_type": "code",
   "execution_count": 204,
   "outputs": [],
   "source": [
    "soup = BeautifulSoup(job_website.text)"
   ],
   "metadata": {
    "collapsed": false,
    "pycharm": {
     "name": "#%%\n"
    }
   }
  },
  {
   "cell_type": "code",
   "execution_count": 214,
   "outputs": [
    {
     "data": {
      "text/plain": "'Do you love how it feels to help others? After customers purchase our products, you’re the one who helps them get more out of their new Apple technology. Your day in the Apple Store is filled with a range of focused support and service tasks. Whether you’re helping customers get started with the Mac or finding answers to their questions about other Apple devices, you’re ready to share knowledge and provide exceptional assistance. You gain satisfaction from bringing resolution and insight to each customer, elevating his or her relationship with Apple to the next level.\\n \\n Both full-time and part-time jobs are available.'"
     },
     "execution_count": 214,
     "metadata": {},
     "output_type": "execute_result"
    }
   ],
   "source": [
    "description = soup.find('div', id='jd-job-summary').span.text\n",
    "clear_string(description)"
   ],
   "metadata": {
    "collapsed": false,
    "pycharm": {
     "name": "#%%\n"
    }
   }
  },
  {
   "cell_type": "code",
   "execution_count": 212,
   "outputs": [
    {
     "data": {
      "text/plain": "'Ability to assess customers’ support needs when they arrive, then provide solutions or refer them to other team membersFlexibility to regularly rotate through different technical specialities and skill setsAbility to thrive on change as products evolve'"
     },
     "execution_count": 212,
     "metadata": {},
     "output_type": "execute_result"
    }
   ],
   "source": [
    "soup.find('div', id='jd-key-qualifications').text"
   ],
   "metadata": {
    "collapsed": false,
    "pycharm": {
     "name": "#%%\n"
    }
   }
  },
  {
   "cell_type": "code",
   "execution_count": 213,
   "outputs": [
    {
     "data": {
      "text/plain": "'As a Technical Specialist, you help new owners get started and current ones get quick, efficient support — developing strong, positive relationships with Apple. When a customer needs assistance, you quickly assess their situation. Sometimes you take care of customers with advice or a solution on the spot, using your knowledge of current Apple technology to help with iPod, iPhone and iPad devices. At other times, you refer customers to support team members who get them up and running again. You even provide personal training for new customers, helping them acquire the basic skills they need to get started on photo, video and music projects. The entire store team benefits from your commitment to providing the best care for customers. By helping Apple maintain strong relationships with customers, you are instrumental to our success.\\n\\nDiscover even more benefits of doing what you love. Apple’s most important resource, our soul, is our people. Apple benefits help further the well-being of our employees and their families in meaningful ways. No matter where you work at Apple, you can take advantage of our health and wellness resources and time-away programmes. We’re proud to provide stock grants to employees at all levels of the company, and we also give employees the option to buy Apple stock at a discount — both offer everyone at Apple the chance to share in the company’s success. You’ll discover many more benefits of working at Apple, such as programmes that match your charitable contributions, reimburse you for continuing your education and give you special employee pricing on Apple products.\\n\\nNote: Apple benefits programmes vary by country and are subject to eligibility requirements.'"
     },
     "execution_count": 213,
     "metadata": {},
     "output_type": "execute_result"
    }
   ],
   "source": [
    "soup.find('div', id='jd-description').text"
   ],
   "metadata": {
    "collapsed": false,
    "pycharm": {
     "name": "#%%\n"
    }
   }
  },
  {
   "cell_type": "markdown",
   "source": [
    "## Через API бэкенда\n",
    "ВОозникают проблемы, поэтому выбран обычный парсинг"
   ],
   "metadata": {
    "collapsed": false,
    "pycharm": {
     "name": "#%% md\n"
    }
   }
  },
  {
   "cell_type": "code",
   "execution_count": 14,
   "outputs": [],
   "source": [
    "session = requests.Session()\n",
    "session.headers = apple_headers"
   ],
   "metadata": {
    "collapsed": false,
    "pycharm": {
     "name": "#%%\n"
    }
   }
  },
  {
   "cell_type": "code",
   "execution_count": 84,
   "outputs": [
    {
     "data": {
      "text/plain": "<Response [200]>"
     },
     "execution_count": 84,
     "metadata": {},
     "output_type": "execute_result"
    }
   ],
   "source": [
    "result = session.get(CSRF_TOKEN)\n",
    "result"
   ],
   "metadata": {
    "collapsed": false,
    "pycharm": {
     "name": "#%%\n"
    }
   }
  },
  {
   "cell_type": "code",
   "execution_count": 85,
   "outputs": [],
   "source": [
    "session.headers['X-Apple-CSRF-Token'] = result.headers['X-Apple-CSRF-Token']"
   ],
   "metadata": {
    "collapsed": false,
    "pycharm": {
     "name": "#%%\n"
    }
   }
  },
  {
   "cell_type": "code",
   "execution_count": 86,
   "outputs": [
    {
     "data": {
      "text/plain": "{'User-Agent': 'Mozilla/5.0 (Macintosh; PPC Mac OS X 10_9_7) AppleWebKit/535.0 (KHTML, like Gecko) Chrome/55.0.854.0 Safari/535.0',\n 'accept-language': 'en-US,en;q=0.9',\n 'pragma': 'np-cache',\n 'countrycode': 'USA',\n 'sec-fetch-mode': 'cors',\n 'sec-fetch-site': 'same-origin',\n 'origin': 'https://jobs.apple.com',\n 'Host': 'jobs.apple.com',\n 'referer': 'https://jobs.apple.com/en-us/search',\n 'X-Apple-CSRF-Token': '2da62a5db304cb69f52f5ca8ddec1f1eb8aff5bca75024853a4959f5ba64c62a'}"
     },
     "execution_count": 86,
     "metadata": {},
     "output_type": "execute_result"
    }
   ],
   "source": [
    "session.headers"
   ],
   "metadata": {
    "collapsed": false,
    "pycharm": {
     "name": "#%%\n"
    }
   }
  },
  {
   "cell_type": "code",
   "execution_count": 89,
   "outputs": [],
   "source": [
    "search_payload = {\n",
    "    'page': 1,\n",
    "    'query': '',\n",
    "    'filters': {\"range\":{\"standardWeeklyHours\":{\"start\":None,\"end\":None}}},\n",
    "    'locals': 'en-us',\n",
    "    'sort': 'relevance',\n",
    "}"
   ],
   "metadata": {
    "collapsed": false,
    "pycharm": {
     "name": "#%%\n"
    }
   }
  },
  {
   "cell_type": "code",
   "execution_count": 90,
   "outputs": [
    {
     "data": {
      "text/plain": "<Response [403]>"
     },
     "execution_count": 90,
     "metadata": {},
     "output_type": "execute_result"
    }
   ],
   "source": [
    "result = session.post(API_URL, data=search_payload, allow_redirects=True)\n",
    "result"
   ],
   "metadata": {
    "collapsed": false,
    "pycharm": {
     "name": "#%%\n"
    }
   }
  },
  {
   "cell_type": "code",
   "execution_count": null,
   "outputs": [],
   "source": [
    "result.text"
   ],
   "metadata": {
    "collapsed": false,
    "pycharm": {
     "name": "#%%\n"
    }
   }
  },
  {
   "cell_type": "code",
   "execution_count": null,
   "outputs": [],
   "source": [
    "print(result.text)"
   ],
   "metadata": {
    "collapsed": false,
    "pycharm": {
     "name": "#%%\n"
    }
   }
  },
  {
   "cell_type": "code",
   "execution_count": null,
   "outputs": [],
   "source": [],
   "metadata": {
    "collapsed": false,
    "pycharm": {
     "name": "#%%\n"
    }
   }
  }
 ],
 "metadata": {
  "kernelspec": {
   "display_name": "Python 3",
   "language": "python",
   "name": "python3"
  },
  "language_info": {
   "codemirror_mode": {
    "name": "ipython",
    "version": 2
   },
   "file_extension": ".py",
   "mimetype": "text/x-python",
   "name": "python",
   "nbconvert_exporter": "python",
   "pygments_lexer": "ipython2",
   "version": "2.7.6"
  }
 },
 "nbformat": 4,
 "nbformat_minor": 0
}