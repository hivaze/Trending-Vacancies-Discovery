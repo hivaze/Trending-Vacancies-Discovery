{
 "cells": [
  {
   "cell_type": "code",
   "execution_count": 1,
   "metadata": {
    "collapsed": true,
    "pycharm": {
     "name": "#%%\n"
    }
   },
   "outputs": [],
   "source": [
    "import time\n",
    "import requests\n",
    "from bs4 import BeautifulSoup\n",
    "import json\n",
    "import re\n",
    "import time\n",
    "import faker\n",
    "import pandas as pd\n",
    "from tqdm import tqdm\n",
    "from datetime import datetime\n",
    "from dateutil import parser"
   ]
  },
  {
   "cell_type": "code",
   "execution_count": 86,
   "outputs": [],
   "source": [
    "from concurrent.futures import ThreadPoolExecutor"
   ],
   "metadata": {
    "collapsed": false,
    "pycharm": {
     "name": "#%%\n"
    }
   }
  },
  {
   "cell_type": "code",
   "execution_count": 6,
   "outputs": [],
   "source": [
    "fake = faker.Faker(locale='en')"
   ],
   "metadata": {
    "collapsed": false,
    "pycharm": {
     "name": "#%%\n"
    }
   }
  },
  {
   "cell_type": "code",
   "execution_count": 13,
   "outputs": [],
   "source": [
    "huawei_headers = {\n",
    "    'User-Agent': fake.chrome(),\n",
    "    'accept-language': 'en-US,en;q=0.9',\n",
    "    'pragma': 'np-cache',\n",
    "    'Host': 'career.huawei.com',\n",
    "    'sec-fetch-mode': 'cors',\n",
    "    'sec-fetch-site': 'same-origin',\n",
    "    'referer': 'https://career.huawei.com/reccampportal/portal5/social-recruitment.html?jobFamilyCode=&countryCode='\n",
    "}"
   ],
   "metadata": {
    "collapsed": false,
    "pycharm": {
     "name": "#%%\n"
    }
   }
  },
  {
   "cell_type": "code",
   "execution_count": 77,
   "outputs": [],
   "source": [
    "API_URL = \"https://career.huawei.com/socRecruitment/services/portal3/portalnew/getJobList/page/1000/1\"\n",
    "VACANCY_API_URL = \"https://career.huawei.com/socRecruitment/services/portal/portalpub/getJobDetail?jobId=\""
   ],
   "metadata": {
    "collapsed": false,
    "pycharm": {
     "name": "#%%\n"
    }
   }
  },
  {
   "cell_type": "code",
   "execution_count": 83,
   "outputs": [],
   "source": [
    "clear_string = lambda x: re.sub(' +', ' ', re.sub('<.*?>', ' ', x).replace('\\n', '\\n ')).strip() if x else None"
   ],
   "metadata": {
    "collapsed": false,
    "pycharm": {
     "name": "#%%\n"
    }
   }
  },
  {
   "cell_type": "code",
   "execution_count": 59,
   "outputs": [],
   "source": [
    "search_params = {\n",
    "    'jobFamilyCode': '',\n",
    "    'deptCode': '',\n",
    "    'keywords': '',\n",
    "    'searchType': 1,\n",
    "    'orderBy': 'P_COUNT_DESC',\n",
    "    'jobType': 1\n",
    "}"
   ],
   "metadata": {
    "collapsed": false,
    "pycharm": {
     "name": "#%%\n"
    }
   }
  },
  {
   "cell_type": "code",
   "execution_count": 65,
   "outputs": [
    {
     "data": {
      "text/plain": "{'startIndex': 1,\n 'endIndex': 1000,\n 'totalRows': 781,\n 'curPage': 1,\n 'pageSize': 1000,\n 'resultMode': 0,\n 'orderBy': None,\n 'filterStr': '781',\n 'totalPages': 1,\n 'mysqlStartIndex': 0,\n 'mysqlEndIndex': 1000}"
     },
     "execution_count": 65,
     "metadata": {},
     "output_type": "execute_result"
    }
   ],
   "source": [
    "jobs_list_result = requests.get(API_URL, params=search_params, headers=huawei_headers).json()\n",
    "jobs_list_result['pageVO']"
   ],
   "metadata": {
    "collapsed": false,
    "pycharm": {
     "name": "#%%\n"
    }
   }
  },
  {
   "cell_type": "code",
   "execution_count": 87,
   "outputs": [],
   "source": [
    "def get_vacancy(job_info: dict):\n",
    "\n",
    "    job = requests.get(VACANCY_API_URL + str(job_info['jobId']), headers=huawei_headers).json()\n",
    "\n",
    "    job_dict = {\n",
    "        'title': job['jobname'],\n",
    "        'internal_id' : job_info['jobId'],\n",
    "        'url': VACANCY_API_URL + str(job_info['jobId']),\n",
    "        'description': clear_string(job['jobDesc']),\n",
    "        'responsibilities': clear_string(job['mainBusiness']),\n",
    "        'qualifications': clear_string(job['jobRequire']),\n",
    "        'location': job['jobArea'],\n",
    "        'type': job['jobFamilyName'],\n",
    "        'company': 'Huawei',\n",
    "        'publish_date': parser.parse(job['creationDate'])\n",
    "    }\n",
    "\n",
    "    return job_dict"
   ],
   "metadata": {
    "collapsed": false,
    "pycharm": {
     "name": "#%%\n"
    }
   }
  },
  {
   "cell_type": "code",
   "execution_count": 90,
   "outputs": [
    {
     "name": "stderr",
     "output_type": "stream",
     "text": [
      "100%|██████████| 781/781 [00:49<00:00, 15.79it/s]\n"
     ]
    }
   ],
   "source": [
    "with ThreadPoolExecutor(max_workers=10) as executor:\n",
    "    jobs_dicts = list(tqdm(executor.map(get_vacancy, jobs_list_result['result']), total=len(jobs_list_result['result'])))"
   ],
   "metadata": {
    "collapsed": false,
    "pycharm": {
     "name": "#%%\n"
    }
   }
  },
  {
   "cell_type": "code",
   "execution_count": 91,
   "outputs": [
    {
     "data": {
      "text/plain": "                         title  internal_id  \\\n240               【专业类】试制验证工程师       237312   \n768                  高级解决方案架构师       137369   \n406                    系统工程研究员       232428   \n377                       工程师A       233700   \n569  General Software Engineer       227923   \n\n                                                   url description  \\\n240  https://career.huawei.com/socRecruitment/servi...        None   \n768  https://career.huawei.com/socRecruitment/servi...        None   \n406  https://career.huawei.com/socRecruitment/servi...        None   \n377  https://career.huawei.com/socRecruitment/servi...        None   \n569  https://career.huawei.com/socRecruitment/servi...        None   \n\n                                      responsibilities  \\\n240  1、基于试制计划，组织试制准备活动，管理产品工程设计、制造工程文件、制造要素等试制资源的齐套...   \n768  \"1、负责行业数字化转型咨询解决方案offering，通过洞察主动发现新机会点，前瞻性地识别...   \n406  1、洞察全球科技与产业发展趋势，形成未来信息领域的战略假设，组织公司内外部科学家/专家进行交...   \n377  标准职责\\n 供应中心面向区域中大型代表处/国家端到端订单履行方案的执行人，为所负责国家/代...   \n569  Responsible for demand analysis, Including of ...   \n\n                                        qualifications          location  \\\n240  知识：\\n 1、\\t了解ICT产品知识、设计原理、工艺路线、制造应用场景等专业知识。\\n 2...             中国/东莞   \n768  业务技能要求：\\n \"1、5+年以上行业数字化转型咨询、规划和实施经验；\\n 2、对企业架构...             中国/北京   \n406  1、系统工程、运筹学、控制论等相关专业硕士以上学历，中英文流利，英文能作为工作语言。\\n 2...             中国/深圳   \n377  业务技能要求：\\n 技能： 1、订单需求管理：备发货条件管理；订单计划制定与变更管理；订单状...  Hungary/Budapest   \n569  Business Skills Requirements:\\n 1) familiar wi...   Turkey/Istanbul   \n\n     type company              publish_date  \n240   制造族  Huawei 2022-06-04 00:00:00+08:00  \n768  云服务族  Huawei 2020-08-03 00:00:00+08:00  \n406   研发族  Huawei 2022-05-06 00:00:00+08:00  \n377  供应链族  Huawei 2022-05-12 00:00:00+08:00  \n569   研发族  Huawei 2022-04-11 00:00:00+08:00  ",
      "text/html": "<div>\n<style scoped>\n    .dataframe tbody tr th:only-of-type {\n        vertical-align: middle;\n    }\n\n    .dataframe tbody tr th {\n        vertical-align: top;\n    }\n\n    .dataframe thead th {\n        text-align: right;\n    }\n</style>\n<table border=\"1\" class=\"dataframe\">\n  <thead>\n    <tr style=\"text-align: right;\">\n      <th></th>\n      <th>title</th>\n      <th>internal_id</th>\n      <th>url</th>\n      <th>description</th>\n      <th>responsibilities</th>\n      <th>qualifications</th>\n      <th>location</th>\n      <th>type</th>\n      <th>company</th>\n      <th>publish_date</th>\n    </tr>\n  </thead>\n  <tbody>\n    <tr>\n      <th>240</th>\n      <td>【专业类】试制验证工程师</td>\n      <td>237312</td>\n      <td>https://career.huawei.com/socRecruitment/servi...</td>\n      <td>None</td>\n      <td>1、基于试制计划，组织试制准备活动，管理产品工程设计、制造工程文件、制造要素等试制资源的齐套...</td>\n      <td>知识：\\n 1、\\t了解ICT产品知识、设计原理、工艺路线、制造应用场景等专业知识。\\n 2...</td>\n      <td>中国/东莞</td>\n      <td>制造族</td>\n      <td>Huawei</td>\n      <td>2022-06-04 00:00:00+08:00</td>\n    </tr>\n    <tr>\n      <th>768</th>\n      <td>高级解决方案架构师</td>\n      <td>137369</td>\n      <td>https://career.huawei.com/socRecruitment/servi...</td>\n      <td>None</td>\n      <td>\"1、负责行业数字化转型咨询解决方案offering，通过洞察主动发现新机会点，前瞻性地识别...</td>\n      <td>业务技能要求：\\n \"1、5+年以上行业数字化转型咨询、规划和实施经验；\\n 2、对企业架构...</td>\n      <td>中国/北京</td>\n      <td>云服务族</td>\n      <td>Huawei</td>\n      <td>2020-08-03 00:00:00+08:00</td>\n    </tr>\n    <tr>\n      <th>406</th>\n      <td>系统工程研究员</td>\n      <td>232428</td>\n      <td>https://career.huawei.com/socRecruitment/servi...</td>\n      <td>None</td>\n      <td>1、洞察全球科技与产业发展趋势，形成未来信息领域的战略假设，组织公司内外部科学家/专家进行交...</td>\n      <td>1、系统工程、运筹学、控制论等相关专业硕士以上学历，中英文流利，英文能作为工作语言。\\n 2...</td>\n      <td>中国/深圳</td>\n      <td>研发族</td>\n      <td>Huawei</td>\n      <td>2022-05-06 00:00:00+08:00</td>\n    </tr>\n    <tr>\n      <th>377</th>\n      <td>工程师A</td>\n      <td>233700</td>\n      <td>https://career.huawei.com/socRecruitment/servi...</td>\n      <td>None</td>\n      <td>标准职责\\n 供应中心面向区域中大型代表处/国家端到端订单履行方案的执行人，为所负责国家/代...</td>\n      <td>业务技能要求：\\n 技能： 1、订单需求管理：备发货条件管理；订单计划制定与变更管理；订单状...</td>\n      <td>Hungary/Budapest</td>\n      <td>供应链族</td>\n      <td>Huawei</td>\n      <td>2022-05-12 00:00:00+08:00</td>\n    </tr>\n    <tr>\n      <th>569</th>\n      <td>General Software Engineer</td>\n      <td>227923</td>\n      <td>https://career.huawei.com/socRecruitment/servi...</td>\n      <td>None</td>\n      <td>Responsible for demand analysis, Including of ...</td>\n      <td>Business Skills Requirements:\\n 1) familiar wi...</td>\n      <td>Turkey/Istanbul</td>\n      <td>研发族</td>\n      <td>Huawei</td>\n      <td>2022-04-11 00:00:00+08:00</td>\n    </tr>\n  </tbody>\n</table>\n</div>"
     },
     "execution_count": 91,
     "metadata": {},
     "output_type": "execute_result"
    }
   ],
   "source": [
    "snapshot = pd.DataFrame(jobs_dicts)\n",
    "snapshot.sample(5)"
   ],
   "metadata": {
    "collapsed": false,
    "pycharm": {
     "name": "#%%\n"
    }
   }
  },
  {
   "cell_type": "code",
   "execution_count": 92,
   "outputs": [
    {
     "name": "stdout",
     "output_type": "stream",
     "text": [
      "<class 'pandas.core.frame.DataFrame'>\n",
      "RangeIndex: 781 entries, 0 to 780\n",
      "Data columns (total 10 columns):\n",
      " #   Column            Non-Null Count  Dtype                                \n",
      "---  ------            --------------  -----                                \n",
      " 0   title             781 non-null    object                               \n",
      " 1   internal_id       781 non-null    int64                                \n",
      " 2   url               781 non-null    object                               \n",
      " 3   description       0 non-null      object                               \n",
      " 4   responsibilities  781 non-null    object                               \n",
      " 5   qualifications    781 non-null    object                               \n",
      " 6   location          781 non-null    object                               \n",
      " 7   type              781 non-null    object                               \n",
      " 8   company           781 non-null    object                               \n",
      " 9   publish_date      781 non-null    datetime64[ns, tzoffset(None, 28800)]\n",
      "dtypes: datetime64[ns, tzoffset(None, 28800)](1), int64(1), object(8)\n",
      "memory usage: 61.1+ KB\n"
     ]
    }
   ],
   "source": [
    "snapshot.info()"
   ],
   "metadata": {
    "collapsed": false,
    "pycharm": {
     "name": "#%%\n"
    }
   }
  },
  {
   "cell_type": "code",
   "execution_count": 93,
   "outputs": [
    {
     "data": {
      "text/plain": "'05-07-2022'"
     },
     "execution_count": 93,
     "metadata": {},
     "output_type": "execute_result"
    }
   ],
   "source": [
    "current_date = datetime.now().strftime('%d-%m-%Y')\n",
    "current_date"
   ],
   "metadata": {
    "collapsed": false,
    "pycharm": {
     "name": "#%%\n"
    }
   }
  },
  {
   "cell_type": "code",
   "execution_count": 94,
   "outputs": [],
   "source": [
    "snapshot.to_csv(f'../data/huawei//{current_date}.csv')"
   ],
   "metadata": {
    "collapsed": false,
    "pycharm": {
     "name": "#%%\n"
    }
   }
  }
 ],
 "metadata": {
  "kernelspec": {
   "display_name": "Python 3",
   "language": "python",
   "name": "python3"
  },
  "language_info": {
   "codemirror_mode": {
    "name": "ipython",
    "version": 2
   },
   "file_extension": ".py",
   "mimetype": "text/x-python",
   "name": "python",
   "nbconvert_exporter": "python",
   "pygments_lexer": "ipython2",
   "version": "2.7.6"
  }
 },
 "nbformat": 4,
 "nbformat_minor": 0
}