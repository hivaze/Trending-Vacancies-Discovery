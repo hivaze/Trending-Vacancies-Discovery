{
 "cells": [
  {
   "cell_type": "code",
   "execution_count": 1,
   "metadata": {
    "collapsed": true,
    "pycharm": {
     "name": "#%%\n"
    }
   },
   "outputs": [],
   "source": [
    "import time\n",
    "import requests\n",
    "from bs4 import BeautifulSoup\n",
    "import json\n",
    "import re\n",
    "import time\n",
    "import faker\n",
    "import pandas as pd\n",
    "from tqdm import tqdm\n",
    "from datetime import datetime\n",
    "from dateutil import parser"
   ]
  },
  {
   "cell_type": "code",
   "execution_count": 2,
   "outputs": [],
   "source": [
    "from concurrent.futures import ThreadPoolExecutor"
   ],
   "metadata": {
    "collapsed": false,
    "pycharm": {
     "name": "#%%\n"
    }
   }
  },
  {
   "cell_type": "code",
   "execution_count": 3,
   "outputs": [],
   "source": [
    "fake = faker.Faker(locale='en')"
   ],
   "metadata": {
    "collapsed": false,
    "pycharm": {
     "name": "#%%\n"
    }
   }
  },
  {
   "cell_type": "code",
   "execution_count": 4,
   "outputs": [],
   "source": [
    "huawei_headers = {\n",
    "    'User-Agent': fake.chrome(),\n",
    "    'accept-language': 'en-US,en;q=0.9',\n",
    "    'pragma': 'np-cache',\n",
    "    'Host': 'career.huawei.com',\n",
    "    'sec-fetch-mode': 'cors',\n",
    "    'sec-fetch-site': 'same-origin',\n",
    "    'referer': 'https://career.huawei.com/reccampportal/portal5/social-recruitment.html?jobFamilyCode=&countryCode='\n",
    "}"
   ],
   "metadata": {
    "collapsed": false,
    "pycharm": {
     "name": "#%%\n"
    }
   }
  },
  {
   "cell_type": "code",
   "execution_count": 5,
   "outputs": [],
   "source": [
    "API_URL = \"https://career.huawei.com/socRecruitment/services/portal3/portalnew/getJobList/page/1000/1\"\n",
    "VACANCY_API_URL = \"https://career.huawei.com/socRecruitment/services/portal/portalpub/getJobDetail?jobId=\""
   ],
   "metadata": {
    "collapsed": false,
    "pycharm": {
     "name": "#%%\n"
    }
   }
  },
  {
   "cell_type": "code",
   "execution_count": 6,
   "outputs": [],
   "source": [
    "clear_string = lambda x: re.sub(' +', ' ', re.sub('<.*?>', ' ', x).replace('\\n', '\\n ')).strip() if x else None"
   ],
   "metadata": {
    "collapsed": false,
    "pycharm": {
     "name": "#%%\n"
    }
   }
  },
  {
   "cell_type": "code",
   "execution_count": 7,
   "outputs": [],
   "source": [
    "search_params = {\n",
    "    'jobFamilyCode': '',\n",
    "    'deptCode': '',\n",
    "    'keywords': '',\n",
    "    'searchType': 1,\n",
    "    'orderBy': 'P_COUNT_DESC',\n",
    "    'jobType': 1\n",
    "}"
   ],
   "metadata": {
    "collapsed": false,
    "pycharm": {
     "name": "#%%\n"
    }
   }
  },
  {
   "cell_type": "code",
   "execution_count": 8,
   "outputs": [
    {
     "data": {
      "text/plain": "{'startIndex': 1,\n 'endIndex': 1000,\n 'totalRows': 773,\n 'curPage': 1,\n 'pageSize': 1000,\n 'resultMode': 0,\n 'orderBy': None,\n 'filterStr': '773',\n 'totalPages': 1,\n 'mysqlStartIndex': 0,\n 'mysqlEndIndex': 1000}"
     },
     "execution_count": 8,
     "metadata": {},
     "output_type": "execute_result"
    }
   ],
   "source": [
    "jobs_list_result = requests.get(API_URL, params=search_params, headers=huawei_headers).json()\n",
    "jobs_list_result['pageVO']"
   ],
   "metadata": {
    "collapsed": false,
    "pycharm": {
     "name": "#%%\n"
    }
   }
  },
  {
   "cell_type": "code",
   "execution_count": 9,
   "outputs": [],
   "source": [
    "def get_vacancy(job_info: dict):\n",
    "\n",
    "    job = requests.get(VACANCY_API_URL + str(job_info['jobId']), headers=huawei_headers).json()\n",
    "\n",
    "    job_dict = {\n",
    "        'title': job['jobname'],\n",
    "        'internal_id' : job_info['jobId'],\n",
    "        'url': VACANCY_API_URL + str(job_info['jobId']),\n",
    "        'description': clear_string(job['jobDesc']),\n",
    "        'responsibilities': clear_string(job['mainBusiness']),\n",
    "        'qualifications': clear_string(job['jobRequire']),\n",
    "        'location': job['jobArea'],\n",
    "        'type': job['jobFamilyName'],\n",
    "        'company': 'Huawei',\n",
    "        'publish_date': parser.parse(job['creationDate'])\n",
    "    }\n",
    "\n",
    "    return job_dict"
   ],
   "metadata": {
    "collapsed": false,
    "pycharm": {
     "name": "#%%\n"
    }
   }
  },
  {
   "cell_type": "code",
   "execution_count": 10,
   "outputs": [
    {
     "name": "stderr",
     "output_type": "stream",
     "text": [
      "100%|██████████| 773/773 [00:43<00:00, 17.57it/s]\n"
     ]
    }
   ],
   "source": [
    "with ThreadPoolExecutor(max_workers=10) as executor:\n",
    "    jobs_dicts = list(tqdm(executor.map(get_vacancy, jobs_list_result['result']), total=len(jobs_list_result['result'])))"
   ],
   "metadata": {
    "collapsed": false,
    "pycharm": {
     "name": "#%%\n"
    }
   }
  },
  {
   "cell_type": "code",
   "execution_count": 11,
   "outputs": [
    {
     "data": {
      "text/plain": "                      title  internal_id  \\\n728               华为公有云产品经理       169454   \n38   Senior Channel Manager       245061   \n766           财经经理（财务数据架构师）       124941   \n262     【专业类岗位】销售与运作计划高级工程师       238974   \n40        Research Engineer       245041   \n\n                                                   url description  \\\n728  https://career.huawei.com/socRecruitment/servi...        None   \n38   https://career.huawei.com/socRecruitment/servi...        None   \n766  https://career.huawei.com/socRecruitment/servi...        None   \n262  https://career.huawei.com/socRecruitment/servi...        None   \n40   https://career.huawei.com/socRecruitment/servi...        None   \n\n                                      responsibilities  \\\n728  1. 公有云产品经理作为华为公有云解决方案和产品定义的Owner，对服务和产品的竞争力、体验...   \n38   Channel Account Manager must engage and influe...   \n766  1、负责提供收入应收各领域的数据需求落地解决方案，以及财经主数据及核心基础数据的管理工作；\\...   \n262  标准职责\\n 根据要货预测、产品供应能力等，制定S&OP建议计划、主计划/物料需求计划/加工...   \n40   •\\tResearch and Develop proof of concept innov...   \n\n                                        qualifications  \\\n728  业务技能要求：\\n 1. 具有优秀的沟通技巧、团队合作经验、敬业精神和学习能力。能实现规划到...   \n38   Business Skills Requirements:\\n · Around 5-10 ...   \n766  1、工作经验要求：\\n 1）至少4年以上IT领域工作经验；\\n 2）有数字化转型或运营经验者...   \n262  业务技能要求：\\n •\\t具备制定产品计划和存货分析的技能\\n 专业知识要求：\\n •\\t熟...   \n40   Business Skills Requirements:\\n •\\tThe followi...   \n\n                          location  type company              publish_date  \n728  中国/西安;中国/成都;中国/杭州;中国/深圳;中国/北京  云服务族  Huawei 2021-05-18 00:00:00+08:00  \n38                Sweden/Stockholm   销售族  Huawei 2022-08-01 00:00:00+08:00  \n766                          中国/深圳   财经族  Huawei 2020-03-26 00:00:00+08:00  \n262                          中国/东莞  供应链族  Huawei 2022-06-14 00:00:00+08:00  \n40                 Turkey/Istanbul   研发族  Huawei 2022-08-01 00:00:00+08:00  ",
      "text/html": "<div>\n<style scoped>\n    .dataframe tbody tr th:only-of-type {\n        vertical-align: middle;\n    }\n\n    .dataframe tbody tr th {\n        vertical-align: top;\n    }\n\n    .dataframe thead th {\n        text-align: right;\n    }\n</style>\n<table border=\"1\" class=\"dataframe\">\n  <thead>\n    <tr style=\"text-align: right;\">\n      <th></th>\n      <th>title</th>\n      <th>internal_id</th>\n      <th>url</th>\n      <th>description</th>\n      <th>responsibilities</th>\n      <th>qualifications</th>\n      <th>location</th>\n      <th>type</th>\n      <th>company</th>\n      <th>publish_date</th>\n    </tr>\n  </thead>\n  <tbody>\n    <tr>\n      <th>728</th>\n      <td>华为公有云产品经理</td>\n      <td>169454</td>\n      <td>https://career.huawei.com/socRecruitment/servi...</td>\n      <td>None</td>\n      <td>1. 公有云产品经理作为华为公有云解决方案和产品定义的Owner，对服务和产品的竞争力、体验...</td>\n      <td>业务技能要求：\\n 1. 具有优秀的沟通技巧、团队合作经验、敬业精神和学习能力。能实现规划到...</td>\n      <td>中国/西安;中国/成都;中国/杭州;中国/深圳;中国/北京</td>\n      <td>云服务族</td>\n      <td>Huawei</td>\n      <td>2021-05-18 00:00:00+08:00</td>\n    </tr>\n    <tr>\n      <th>38</th>\n      <td>Senior Channel Manager</td>\n      <td>245061</td>\n      <td>https://career.huawei.com/socRecruitment/servi...</td>\n      <td>None</td>\n      <td>Channel Account Manager must engage and influe...</td>\n      <td>Business Skills Requirements:\\n · Around 5-10 ...</td>\n      <td>Sweden/Stockholm</td>\n      <td>销售族</td>\n      <td>Huawei</td>\n      <td>2022-08-01 00:00:00+08:00</td>\n    </tr>\n    <tr>\n      <th>766</th>\n      <td>财经经理（财务数据架构师）</td>\n      <td>124941</td>\n      <td>https://career.huawei.com/socRecruitment/servi...</td>\n      <td>None</td>\n      <td>1、负责提供收入应收各领域的数据需求落地解决方案，以及财经主数据及核心基础数据的管理工作；\\...</td>\n      <td>1、工作经验要求：\\n 1）至少4年以上IT领域工作经验；\\n 2）有数字化转型或运营经验者...</td>\n      <td>中国/深圳</td>\n      <td>财经族</td>\n      <td>Huawei</td>\n      <td>2020-03-26 00:00:00+08:00</td>\n    </tr>\n    <tr>\n      <th>262</th>\n      <td>【专业类岗位】销售与运作计划高级工程师</td>\n      <td>238974</td>\n      <td>https://career.huawei.com/socRecruitment/servi...</td>\n      <td>None</td>\n      <td>标准职责\\n 根据要货预测、产品供应能力等，制定S&amp;OP建议计划、主计划/物料需求计划/加工...</td>\n      <td>业务技能要求：\\n •\\t具备制定产品计划和存货分析的技能\\n 专业知识要求：\\n •\\t熟...</td>\n      <td>中国/东莞</td>\n      <td>供应链族</td>\n      <td>Huawei</td>\n      <td>2022-06-14 00:00:00+08:00</td>\n    </tr>\n    <tr>\n      <th>40</th>\n      <td>Research Engineer</td>\n      <td>245041</td>\n      <td>https://career.huawei.com/socRecruitment/servi...</td>\n      <td>None</td>\n      <td>•\\tResearch and Develop proof of concept innov...</td>\n      <td>Business Skills Requirements:\\n •\\tThe followi...</td>\n      <td>Turkey/Istanbul</td>\n      <td>研发族</td>\n      <td>Huawei</td>\n      <td>2022-08-01 00:00:00+08:00</td>\n    </tr>\n  </tbody>\n</table>\n</div>"
     },
     "execution_count": 11,
     "metadata": {},
     "output_type": "execute_result"
    }
   ],
   "source": [
    "snapshot = pd.DataFrame(jobs_dicts)\n",
    "snapshot.sample(5)"
   ],
   "metadata": {
    "collapsed": false,
    "pycharm": {
     "name": "#%%\n"
    }
   }
  },
  {
   "cell_type": "code",
   "execution_count": 12,
   "outputs": [
    {
     "name": "stdout",
     "output_type": "stream",
     "text": [
      "<class 'pandas.core.frame.DataFrame'>\n",
      "RangeIndex: 773 entries, 0 to 772\n",
      "Data columns (total 10 columns):\n",
      " #   Column            Non-Null Count  Dtype                                \n",
      "---  ------            --------------  -----                                \n",
      " 0   title             773 non-null    object                               \n",
      " 1   internal_id       773 non-null    int64                                \n",
      " 2   url               773 non-null    object                               \n",
      " 3   description       0 non-null      object                               \n",
      " 4   responsibilities  773 non-null    object                               \n",
      " 5   qualifications    773 non-null    object                               \n",
      " 6   location          773 non-null    object                               \n",
      " 7   type              773 non-null    object                               \n",
      " 8   company           773 non-null    object                               \n",
      " 9   publish_date      773 non-null    datetime64[ns, tzoffset(None, 28800)]\n",
      "dtypes: datetime64[ns, tzoffset(None, 28800)](1), int64(1), object(8)\n",
      "memory usage: 60.5+ KB\n"
     ]
    }
   ],
   "source": [
    "snapshot.info()"
   ],
   "metadata": {
    "collapsed": false,
    "pycharm": {
     "name": "#%%\n"
    }
   }
  },
  {
   "cell_type": "code",
   "execution_count": 13,
   "outputs": [
    {
     "name": "stdout",
     "output_type": "stream",
     "text": [
      "<class 'pandas.core.series.Series'>\n",
      "RangeIndex: 773 entries, 0 to 772\n",
      "Series name: publish_date\n",
      "Non-Null Count  Dtype         \n",
      "--------------  -----         \n",
      "773 non-null    datetime64[ns]\n",
      "dtypes: datetime64[ns](1)\n",
      "memory usage: 6.2 KB\n"
     ]
    }
   ],
   "source": [
    "snapshot['publish_date'] = snapshot['publish_date'].apply(lambda x: x.replace(tzinfo=None))\n",
    "snapshot['publish_date'].info()"
   ],
   "metadata": {
    "collapsed": false,
    "pycharm": {
     "name": "#%%\n"
    }
   }
  },
  {
   "cell_type": "code",
   "execution_count": 14,
   "outputs": [
    {
     "data": {
      "text/plain": "'10-08-2022'"
     },
     "execution_count": 14,
     "metadata": {},
     "output_type": "execute_result"
    }
   ],
   "source": [
    "current_date = datetime.now().strftime('%d-%m-%Y')\n",
    "current_date"
   ],
   "metadata": {
    "collapsed": false,
    "pycharm": {
     "name": "#%%\n"
    }
   }
  },
  {
   "cell_type": "code",
   "execution_count": 15,
   "outputs": [],
   "source": [
    "snapshot.to_csv(f'../data/huawei//{current_date}.csv')\n",
    "snapshot.to_excel(f'../data/huawei/{current_date}.xlsx', engine='xlsxwriter')"
   ],
   "metadata": {
    "collapsed": false,
    "pycharm": {
     "name": "#%%\n"
    }
   }
  }
 ],
 "metadata": {
  "kernelspec": {
   "display_name": "Python 3",
   "language": "python",
   "name": "python3"
  },
  "language_info": {
   "codemirror_mode": {
    "name": "ipython",
    "version": 2
   },
   "file_extension": ".py",
   "mimetype": "text/x-python",
   "name": "python",
   "nbconvert_exporter": "python",
   "pygments_lexer": "ipython2",
   "version": "2.7.6"
  }
 },
 "nbformat": 4,
 "nbformat_minor": 0
}